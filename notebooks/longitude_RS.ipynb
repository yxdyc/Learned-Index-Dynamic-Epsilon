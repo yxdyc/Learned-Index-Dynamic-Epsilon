{
 "cells": [
  {
   "cell_type": "code",
   "execution_count": 1,
   "metadata": {},
   "outputs": [],
   "source": [
    "import numpy as np\n",
    "import pandas as pd\n",
    "import matplotlib.pyplot as plt\n",
    "from tqdm import tqdm\n",
    "import struct\n",
    "import sys\n",
    "import time\n",
    "from model.RadixSpline import *\n",
    "from model.RS_Meta import *"
   ]
  },
  {
   "cell_type": "code",
   "execution_count": 2,
   "metadata": {},
   "outputs": [
    {
     "name": "stderr",
     "output_type": "stream",
     "text": [
      "100%|██████████| 1783525/1783525 [00:01<00:00, 1290610.57it/s]\n"
     ]
    }
   ],
   "source": [
    "# Real World Data\n",
    "# 'd' for double, 'l' for uint\n",
    "datafile = open('./data/longtitude_china.double','rb')\n",
    "data = datafile.read(8)\n",
    "data_len, = struct.unpack('d', data)\n",
    "data_len = int(data_len)\n",
    "data=[]\n",
    "for i in tqdm(range(data_len)):\n",
    "    data_bin = datafile.read(8)\n",
    "    data_unix, = struct.unpack('d',data_bin)\n",
    "    data.append(data_unix)"
   ]
  },
  {
   "cell_type": "code",
   "execution_count": 5,
   "metadata": {
    "scrolled": true
   },
   "outputs": [
    {
     "name": "stderr",
     "output_type": "stream",
     "text": [
      "100%|██████████| 1783525/1783525 [00:04<00:00, 361024.38it/s]\n",
      "  2%|▏         | 28646/1783525 [00:00<00:06, 286454.81it/s]"
     ]
    },
    {
     "name": "stdout",
     "output_type": "stream",
     "text": [
      "25 6070 10.680933544525589\n"
     ]
    },
    {
     "name": "stderr",
     "output_type": "stream",
     "text": [
      "100%|██████████| 1783525/1783525 [00:04<00:00, 371552.89it/s]\n",
      "  2%|▏         | 34275/1783525 [00:00<00:05, 342744.61it/s]"
     ]
    },
    {
     "name": "stdout",
     "output_type": "stream",
     "text": [
      "50 3129 22.655009601771773\n"
     ]
    },
    {
     "name": "stderr",
     "output_type": "stream",
     "text": [
      "100%|██████████| 1783525/1783525 [00:04<00:00, 376378.78it/s]\n",
      "  2%|▏         | 34365/1783525 [00:00<00:05, 343645.41it/s]"
     ]
    },
    {
     "name": "stdout",
     "output_type": "stream",
     "text": [
      "75 2179 34.901807375842786\n"
     ]
    },
    {
     "name": "stderr",
     "output_type": "stream",
     "text": [
      "100%|██████████| 1783525/1783525 [00:04<00:00, 370255.40it/s]\n",
      "  2%|▏         | 34647/1783525 [00:00<00:05, 346469.50it/s]"
     ]
    },
    {
     "name": "stdout",
     "output_type": "stream",
     "text": [
      "100 1691 47.65439677044056\n"
     ]
    },
    {
     "name": "stderr",
     "output_type": "stream",
     "text": [
      "100%|██████████| 1783525/1783525 [00:04<00:00, 377495.31it/s]\n",
      "  2%|▏         | 35114/1783525 [00:00<00:04, 351134.47it/s]"
     ]
    },
    {
     "name": "stdout",
     "output_type": "stream",
     "text": [
      "125 1399 59.96135293870285\n"
     ]
    },
    {
     "name": "stderr",
     "output_type": "stream",
     "text": [
      "100%|██████████| 1783525/1783525 [00:04<00:00, 374485.45it/s]\n",
      "  2%|▏         | 34624/1783525 [00:00<00:05, 346233.73it/s]"
     ]
    },
    {
     "name": "stdout",
     "output_type": "stream",
     "text": [
      "150 1191 72.47697957696136\n"
     ]
    },
    {
     "name": "stderr",
     "output_type": "stream",
     "text": [
      "100%|██████████| 1783525/1783525 [00:04<00:00, 378666.19it/s]\n",
      "  2%|▏         | 35233/1783525 [00:00<00:04, 351731.58it/s]"
     ]
    },
    {
     "name": "stdout",
     "output_type": "stream",
     "text": [
      "175 1056 85.19315961368638\n"
     ]
    },
    {
     "name": "stderr",
     "output_type": "stream",
     "text": [
      "100%|██████████| 1783525/1783525 [00:04<00:00, 378556.12it/s]\n",
      "  2%|▏         | 35344/1783525 [00:00<00:04, 353433.60it/s]"
     ]
    },
    {
     "name": "stdout",
     "output_type": "stream",
     "text": [
      "200 948 97.80350990314125\n"
     ]
    },
    {
     "name": "stderr",
     "output_type": "stream",
     "text": [
      "100%|██████████| 1783525/1783525 [00:04<00:00, 379422.72it/s]\n",
      "  2%|▏         | 35373/1783525 [00:00<00:04, 353723.59it/s]"
     ]
    },
    {
     "name": "stdout",
     "output_type": "stream",
     "text": [
      "225 857 111.68887792433523\n"
     ]
    },
    {
     "name": "stderr",
     "output_type": "stream",
     "text": [
      "100%|██████████| 1783525/1783525 [00:04<00:00, 377773.14it/s]\n",
      "  2%|▏         | 35385/1783525 [00:00<00:04, 353846.96it/s]"
     ]
    },
    {
     "name": "stdout",
     "output_type": "stream",
     "text": [
      "250 778 122.39706480144658\n"
     ]
    },
    {
     "name": "stderr",
     "output_type": "stream",
     "text": [
      "100%|██████████| 1783525/1783525 [00:04<00:00, 374337.76it/s]\n",
      "  2%|▏         | 35331/1783525 [00:00<00:04, 353306.97it/s]"
     ]
    },
    {
     "name": "stdout",
     "output_type": "stream",
     "text": [
      "275 713 135.4227644692393\n"
     ]
    },
    {
     "name": "stderr",
     "output_type": "stream",
     "text": [
      "100%|██████████| 1783525/1783525 [00:04<00:00, 378065.85it/s]\n",
      "  2%|▏         | 35551/1783525 [00:00<00:04, 355506.95it/s]"
     ]
    },
    {
     "name": "stdout",
     "output_type": "stream",
     "text": [
      "300 662 147.15770510646053\n"
     ]
    },
    {
     "name": "stderr",
     "output_type": "stream",
     "text": [
      "100%|██████████| 1783525/1783525 [00:04<00:00, 377302.21it/s]\n",
      "  2%|▏         | 35023/1783525 [00:00<00:05, 349510.36it/s]"
     ]
    },
    {
     "name": "stdout",
     "output_type": "stream",
     "text": [
      "325 622 159.87863528686168\n"
     ]
    },
    {
     "name": "stderr",
     "output_type": "stream",
     "text": [
      "100%|██████████| 1783525/1783525 [00:04<00:00, 374239.50it/s]\n",
      "  2%|▏         | 35561/1783525 [00:00<00:04, 355600.17it/s]"
     ]
    },
    {
     "name": "stdout",
     "output_type": "stream",
     "text": [
      "350 593 172.4278566322311\n"
     ]
    },
    {
     "name": "stderr",
     "output_type": "stream",
     "text": [
      "100%|██████████| 1783525/1783525 [00:04<00:00, 376571.92it/s]"
     ]
    },
    {
     "name": "stdout",
     "output_type": "stream",
     "text": [
      "375 564 208.05730561668605\n"
     ]
    },
    {
     "name": "stderr",
     "output_type": "stream",
     "text": [
      "\n"
     ]
    },
    {
     "data": {
      "text/plain": [
       "4.813776370386282"
      ]
     },
     "execution_count": 5,
     "metadata": {},
     "output_type": "execute_result"
    }
   ],
   "source": [
    "epsilon_list = list(range(25,300,25))\n",
    "RS_Index_seg_num = []\n",
    "RS_Index_mae = []\n",
    "starttime = time.perf_counter()\n",
    "for i in range(len(epsilon_list)):\n",
    "    epsilon = epsilon_list[i]\n",
    "    RS_Index = RadixSpline(epsilon)\n",
    "    RS_Index.learn_index(data)\n",
    "    RS_Index_seg_num.append(RS_Index.seg_num)\n",
    "    RS_Index_mae.append(RS_Index.mae)\n",
    "endtime = time.perf_counter()\n",
    "avg_time = (endtime - starttime) / len(epsilon_list)\n",
    "avg_time"
   ]
  },
  {
   "cell_type": "code",
   "execution_count": 8,
   "metadata": {
    "scrolled": true
   },
   "outputs": [
    {
     "name": "stderr",
     "output_type": "stream",
     "text": [
      "100%|██████████| 1783525/1783525 [00:05<00:00, 317392.12it/s]\n",
      "  2%|▏         | 29574/1783525 [00:00<00:05, 295735.35it/s]"
     ]
    },
    {
     "name": "stdout",
     "output_type": "stream",
     "text": [
      "27 6237 10.167422940525084\n"
     ]
    },
    {
     "name": "stderr",
     "output_type": "stream",
     "text": [
      "100%|██████████| 1783525/1783525 [00:05<00:00, 342752.85it/s]\n",
      "  2%|▏         | 30493/1783525 [00:00<00:05, 304304.17it/s]"
     ]
    },
    {
     "name": "stdout",
     "output_type": "stream",
     "text": [
      "106 3231 20.832428477313186\n"
     ]
    },
    {
     "name": "stderr",
     "output_type": "stream",
     "text": [
      "100%|██████████| 1783525/1783525 [00:05<00:00, 348951.32it/s]\n",
      "  2%|▏         | 31779/1783525 [00:00<00:05, 317784.24it/s]"
     ]
    },
    {
     "name": "stdout",
     "output_type": "stream",
     "text": [
      "161 2282 31.881983151343547\n"
     ]
    },
    {
     "name": "stderr",
     "output_type": "stream",
     "text": [
      "100%|██████████| 1783525/1783525 [00:04<00:00, 357046.08it/s]\n",
      "  2%|▏         | 32025/1783525 [00:00<00:05, 320245.72it/s]"
     ]
    },
    {
     "name": "stdout",
     "output_type": "stream",
     "text": [
      "185 1757 42.977707629553834\n"
     ]
    },
    {
     "name": "stderr",
     "output_type": "stream",
     "text": [
      "100%|██████████| 1783525/1783525 [00:05<00:00, 356439.35it/s]\n",
      "  2%|▏         | 32787/1783525 [00:00<00:05, 327864.06it/s]"
     ]
    },
    {
     "name": "stdout",
     "output_type": "stream",
     "text": [
      "196 1464 54.93861986795812\n"
     ]
    },
    {
     "name": "stderr",
     "output_type": "stream",
     "text": [
      "100%|██████████| 1783525/1783525 [00:04<00:00, 357455.55it/s]\n",
      "  2%|▏         | 33171/1783525 [00:00<00:05, 330702.67it/s]"
     ]
    },
    {
     "name": "stdout",
     "output_type": "stream",
     "text": [
      "432 1265 65.39218962447961\n"
     ]
    },
    {
     "name": "stderr",
     "output_type": "stream",
     "text": [
      "100%|██████████| 1783525/1783525 [00:04<00:00, 358895.28it/s]\n",
      "  2%|▏         | 33231/1783525 [00:00<00:05, 332309.52it/s]"
     ]
    },
    {
     "name": "stdout",
     "output_type": "stream",
     "text": [
      "476 1109 76.1781090817342\n"
     ]
    },
    {
     "name": "stderr",
     "output_type": "stream",
     "text": [
      "100%|██████████| 1783525/1783525 [00:04<00:00, 363910.53it/s]\n",
      "  2%|▏         | 33348/1783525 [00:00<00:05, 333475.55it/s]"
     ]
    },
    {
     "name": "stdout",
     "output_type": "stream",
     "text": [
      "424 984 87.46155058101232\n"
     ]
    },
    {
     "name": "stderr",
     "output_type": "stream",
     "text": [
      "100%|██████████| 1783525/1783525 [00:04<00:00, 362696.62it/s]\n",
      "  2%|▏         | 33834/1783525 [00:00<00:05, 338337.90it/s]"
     ]
    },
    {
     "name": "stdout",
     "output_type": "stream",
     "text": [
      "387 906 98.28916555697285\n"
     ]
    },
    {
     "name": "stderr",
     "output_type": "stream",
     "text": [
      "100%|██████████| 1783525/1783525 [00:04<00:00, 365931.65it/s]\n",
      "  2%|▏         | 33877/1783525 [00:00<00:05, 337748.45it/s]"
     ]
    },
    {
     "name": "stdout",
     "output_type": "stream",
     "text": [
      "354 828 136.26186568733266\n"
     ]
    },
    {
     "name": "stderr",
     "output_type": "stream",
     "text": [
      "100%|██████████| 1783525/1783525 [00:04<00:00, 366100.55it/s]\n",
      "  2%|▏         | 34194/1783525 [00:00<00:05, 341932.99it/s]"
     ]
    },
    {
     "name": "stdout",
     "output_type": "stream",
     "text": [
      "378 774 145.4462056881737\n"
     ]
    },
    {
     "name": "stderr",
     "output_type": "stream",
     "text": [
      "100%|██████████| 1783525/1783525 [00:04<00:00, 367612.54it/s]\n",
      "  2%|▏         | 34109/1783525 [00:00<00:05, 341089.51it/s]"
     ]
    },
    {
     "name": "stdout",
     "output_type": "stream",
     "text": [
      "400 722 154.40581096424216\n"
     ]
    },
    {
     "name": "stderr",
     "output_type": "stream",
     "text": [
      "100%|██████████| 1783525/1783525 [00:04<00:00, 366813.43it/s]\n",
      "  1%|▏         | 25225/1783525 [00:00<00:06, 251634.70it/s]"
     ]
    },
    {
     "name": "stdout",
     "output_type": "stream",
     "text": [
      "429 679 162.66900323796975\n"
     ]
    },
    {
     "name": "stderr",
     "output_type": "stream",
     "text": [
      "100%|██████████| 1783525/1783525 [00:04<00:00, 364453.76it/s]\n",
      "  2%|▏         | 34550/1783525 [00:00<00:05, 345499.51it/s]"
     ]
    },
    {
     "name": "stdout",
     "output_type": "stream",
     "text": [
      "464 638 171.66910416170225\n"
     ]
    },
    {
     "name": "stderr",
     "output_type": "stream",
     "text": [
      "100%|██████████| 1783525/1783525 [00:04<00:00, 366629.56it/s]"
     ]
    },
    {
     "name": "stdout",
     "output_type": "stream",
     "text": [
      "496 616 181.20634249589997\n"
     ]
    },
    {
     "name": "stderr",
     "output_type": "stream",
     "text": [
      "\n"
     ]
    },
    {
     "data": {
      "text/plain": [
       "5.088070106009642"
      ]
     },
     "execution_count": 8,
     "metadata": {},
     "output_type": "execute_result"
    }
   ],
   "source": [
    "epsilon_list = list(range(25,300,25))\n",
    "RS_Meta_Index_seg_num_withBound = []\n",
    "RS_Meta_Index_mae_withBound = []\n",
    "starttime = time.perf_counter()\n",
    "for i in range(len(epsilon_list)):\n",
    "    RS_Meta_Index = RS_Meta(epsilon_list[i],init_epsilon=range(25,400,25),low=1,high=1000,withBound=True)\n",
    "    RS_Meta_Index.learn_index_lookahead(data,lookn=400)\n",
    "    RS_Meta_Index_seg_num_withBound.append(RS_Meta_Index.seg_num)\n",
    "    RS_Meta_Index_mae_withBound.append(RS_Meta_Index.mae)\n",
    "endtime = time.perf_counter()\n",
    "avg_time = (endtime - starttime) / len(epsilon_list)\n",
    "avg_time"
   ]
  },
  {
   "cell_type": "code",
   "execution_count": 23,
   "metadata": {},
   "outputs": [
    {
     "data": {
      "image/png": "[encoded data removed]",
      "text/plain": [
       "<Figure size 432x288 with 1 Axes>"
      ]
     },
     "metadata": {
      "needs_background": "light"
     },
     "output_type": "display_data"
    }
   ],
   "source": [
    "plt.rcParams[\"text.usetex\"] = True\n",
    "markers = [\"v\", \"^\", \"o\", \"<\", \">\", \"1\", \"2\", \"3\", \"4\"]\n",
    "colors = [\"b\", \"r\", \"g\", \"purple\", \"teal\", \"tomato\", \"olive\", \"deeppink\"]\n",
    "linestyles = ['solid', 'dotted', '-.', ':', \"--\", (0, (3, 10, 1, 10)), (0, (3, 5, 1, 5, 1, 5)),\n",
    "              (0, (5, 10))]\n",
    "\n",
    "plt.title('Latilong, MAE-N Trade-off',fontsize=14)\n",
    "plt.xlabel('N',fontsize=14)\n",
    "plt.ylabel('MAE',fontsize=14)\n",
    "plt.xticks(fontsize=13)\n",
    "plt.yticks(fontsize=13)\n",
    "x = np.arange(600,6000)\n",
    "def func(x,a,b):\n",
    "    return a * x**b\n",
    "p1,_ = curve_fit(func,RS_Index_seg_num,RS_Index_mae)\n",
    "p2,_ = curve_fit(func,RS_Meta_Index_seg_num_withBound,RS_Meta_Index_mae_withBound)\n",
    "#p3,_ = curve_fit(func,PGM_Index_seg_num,PGM_Index_mae)\n",
    "#p4,_ = curve_fit(func,RS_Meta_Index_seg_num_withBound,RS_Meta_Index_mae_withBound)\n",
    "plt.plot(x,p1[0]*x**p1[1],c=colors[0], linestyle=linestyles[0], label='RadixSpline')\n",
    "plt.scatter(RS_Index_seg_num, RS_Index_mae,c=colors[0],marker=markers[0])\n",
    "plt.plot(x,p2[0]*x**p2[1],c=colors[1], linestyle=linestyles[1], label='RadixSpline, Dynamic $\\epsilon$')\n",
    "plt.scatter(RS_Meta_Index_seg_num_withBound, RS_Meta_Index_mae_withBound,c=colors[1],marker=markers[1])\n",
    "plt.legend(fontsize=13)\n",
    "#plt.savefig(\"{}.pdf\".format(\"results/RadixSpline/Longitude_tradeoff_25\"), bbox_inches='tight', pad_inches=0)"
   ]
  },
  {
   "cell_type": "code",
   "execution_count": 21,
   "metadata": {},
   "outputs": [
    {
     "data": {
      "text/plain": [
       "(175230.11932189533, 173415.7617159472)"
      ]
     },
     "execution_count": 21,
     "metadata": {},
     "output_type": "execute_result"
    }
   ],
   "source": [
    "def calc_AUC(x,y):\n",
    "    area=0\n",
    "    for i in range(len(x)-1):\n",
    "        area += (y[i]+y[i+1])*(x[i+1]-x[i]) / 2 \n",
    "    return area\n",
    "AUC1 = calc_AUC(x,p1[0]*x**p1[1])\n",
    "AUC2 = calc_AUC(x,p2[0]*x**p2[1])\n",
    "#AUC3 = calc_AUC(x,p3[0]*x**p3[1])\n",
    "AUC1,AUC2"
   ]
  },
  {
   "cell_type": "code",
   "execution_count": 6,
   "metadata": {
    "scrolled": true
   },
   "outputs": [
    {
     "name": "stderr",
     "output_type": "stream",
     "text": [
      "100%|██████████| 1783525/1783525 [00:02<00:00, 658190.88it/s]\n",
      "  3%|▎         | 60520/1783525 [00:00<00:02, 605194.81it/s]"
     ]
    },
    {
     "name": "stdout",
     "output_type": "stream",
     "text": [
      "6126 9.583805665746205\n"
     ]
    },
    {
     "name": "stderr",
     "output_type": "stream",
     "text": [
      "100%|██████████| 1783525/1783525 [00:02<00:00, 703739.96it/s]\n",
      "  4%|▎         | 64862/1783525 [00:00<00:02, 648617.53it/s]"
     ]
    },
    {
     "name": "stdout",
     "output_type": "stream",
     "text": [
      "2184 31.09437210019484\n"
     ]
    },
    {
     "name": "stderr",
     "output_type": "stream",
     "text": [
      "100%|██████████| 1783525/1783525 [00:02<00:00, 722263.47it/s]\n",
      "  4%|▎         | 65650/1783525 [00:00<00:02, 656494.37it/s]"
     ]
    },
    {
     "name": "stdout",
     "output_type": "stream",
     "text": [
      "1456 50.85854753928316\n"
     ]
    },
    {
     "name": "stderr",
     "output_type": "stream",
     "text": [
      "100%|██████████| 1783525/1783525 [00:02<00:00, 731175.55it/s]\n",
      "  4%|▎         | 65968/1783525 [00:00<00:02, 659679.06it/s]"
     ]
    },
    {
     "name": "stdout",
     "output_type": "stream",
     "text": [
      "1100 72.80810978259346\n"
     ]
    },
    {
     "name": "stderr",
     "output_type": "stream",
     "text": [
      "100%|██████████| 1783525/1783525 [00:02<00:00, 734254.60it/s]\n",
      "  4%|▎         | 66069/1783525 [00:00<00:02, 659635.35it/s]"
     ]
    },
    {
     "name": "stdout",
     "output_type": "stream",
     "text": [
      "878 98.42962728304902\n"
     ]
    },
    {
     "name": "stderr",
     "output_type": "stream",
     "text": [
      "100%|██████████| 1783525/1783525 [00:02<00:00, 737253.23it/s]\n",
      "  4%|▎         | 66155/1783525 [00:00<00:02, 658866.03it/s]"
     ]
    },
    {
     "name": "stdout",
     "output_type": "stream",
     "text": [
      "749 114.88734780841311\n"
     ]
    },
    {
     "name": "stderr",
     "output_type": "stream",
     "text": [
      "100%|██████████| 1783525/1783525 [00:02<00:00, 734398.98it/s]"
     ]
    },
    {
     "name": "stdout",
     "output_type": "stream",
     "text": [
      "650 140.73121823355433\n"
     ]
    },
    {
     "name": "stderr",
     "output_type": "stream",
     "text": [
      "\n"
     ]
    },
    {
     "data": {
      "text/plain": [
       "-1.1973011896014214"
      ]
     },
     "execution_count": 6,
     "metadata": {},
     "output_type": "execute_result"
    }
   ],
   "source": [
    "seg_err_list = np.array(RS_Index_mae)*data_len/np.array(RS_Index_seg_num)\n",
    "RS_Random_Index_seg_num = []\n",
    "RS_Random_Index_mae = []\n",
    "starttime = time.perf_counter()\n",
    "epsilon_high_list = list(range(50,700,100))\n",
    "for i in range(len(epsilon_high_list)):\n",
    "    RS_Random_Index = RS_Random(epsilon_list[i],init_epsilon=range(25,400,25),low=1,high=epsilon_high_list[i],withBound=True)\n",
    "    RS_Random_Index.learn_index_lookahead(data,lookn=400)\n",
    "    RS_Random_Index_seg_num.append(RS_Random_Index.seg_num)\n",
    "    RS_Random_Index_mae.append(RS_Random_Index.mae)\n",
    "endtime = time.perf_counter()\n",
    "avg_time = (starttime - endtime) / len(epsilon_list)\n",
    "avg_time"
   ]
  },
  {
   "cell_type": "code",
   "execution_count": 7,
   "metadata": {
    "scrolled": true
   },
   "outputs": [
    {
     "name": "stderr",
     "output_type": "stream",
     "text": [
      "100%|██████████| 1783525/1783525 [00:14<00:00, 122816.20it/s]\n",
      "  1%|          | 10511/1783525 [00:00<00:16, 105109.10it/s]"
     ]
    },
    {
     "name": "stdout",
     "output_type": "stream",
     "text": [
      "6566 6.405254201651225\n"
     ]
    },
    {
     "name": "stderr",
     "output_type": "stream",
     "text": [
      "100%|██████████| 1783525/1783525 [00:08<00:00, 221015.34it/s]\n",
      "  1%|          | 15869/1783525 [00:00<00:11, 158689.77it/s]"
     ]
    },
    {
     "name": "stdout",
     "output_type": "stream",
     "text": [
      "4240 10.199745447919149\n"
     ]
    },
    {
     "name": "stderr",
     "output_type": "stream",
     "text": [
      "100%|██████████| 1783525/1783525 [00:06<00:00, 258373.80it/s]\n",
      "  1%|          | 19076/1783525 [00:00<00:09, 190758.36it/s]"
     ]
    },
    {
     "name": "stdout",
     "output_type": "stream",
     "text": [
      "3358 13.390650537559047\n"
     ]
    },
    {
     "name": "stderr",
     "output_type": "stream",
     "text": [
      "100%|██████████| 1783525/1783525 [00:06<00:00, 287828.81it/s]\n",
      "  1%|          | 20618/1783525 [00:00<00:08, 206153.16it/s]"
     ]
    },
    {
     "name": "stdout",
     "output_type": "stream",
     "text": [
      "2935 15.7783720441261\n"
     ]
    },
    {
     "name": "stderr",
     "output_type": "stream",
     "text": [
      "100%|██████████| 1783525/1783525 [00:05<00:00, 299877.72it/s]\n",
      "  1%|▏         | 24073/1783525 [00:00<00:07, 238792.81it/s]"
     ]
    },
    {
     "name": "stdout",
     "output_type": "stream",
     "text": [
      "2670 17.955801012040762\n"
     ]
    },
    {
     "name": "stderr",
     "output_type": "stream",
     "text": [
      "100%|██████████| 1783525/1783525 [00:05<00:00, 333419.54it/s]\n",
      "  1%|▏         | 24998/1783525 [00:00<00:07, 248871.26it/s]"
     ]
    },
    {
     "name": "stdout",
     "output_type": "stream",
     "text": [
      "2335 20.997288515720275\n"
     ]
    },
    {
     "name": "stderr",
     "output_type": "stream",
     "text": [
      "100%|██████████| 1783525/1783525 [00:05<00:00, 343788.32it/s]\n",
      "  1%|▏         | 25531/1783525 [00:00<00:06, 254580.06it/s]"
     ]
    },
    {
     "name": "stdout",
     "output_type": "stream",
     "text": [
      "2211 22.346376978175243\n"
     ]
    },
    {
     "name": "stderr",
     "output_type": "stream",
     "text": [
      "100%|██████████| 1783525/1783525 [00:04<00:00, 360327.74it/s]\n",
      "  2%|▏         | 27436/1783525 [00:00<00:06, 272172.14it/s]"
     ]
    },
    {
     "name": "stdout",
     "output_type": "stream",
     "text": [
      "2077 24.200949243772865\n"
     ]
    },
    {
     "name": "stderr",
     "output_type": "stream",
     "text": [
      "100%|██████████| 1783525/1783525 [00:04<00:00, 375696.94it/s]\n",
      "  2%|▏         | 29376/1783525 [00:00<00:05, 293758.18it/s]"
     ]
    },
    {
     "name": "stdout",
     "output_type": "stream",
     "text": [
      "1987 25.443675866612466\n"
     ]
    },
    {
     "name": "stderr",
     "output_type": "stream",
     "text": [
      "100%|██████████| 1783525/1783525 [00:04<00:00, 390190.05it/s]\n",
      "  2%|▏         | 30202/1783525 [00:00<00:05, 299455.75it/s]"
     ]
    },
    {
     "name": "stdout",
     "output_type": "stream",
     "text": [
      "1847 27.977028076421693\n"
     ]
    },
    {
     "name": "stderr",
     "output_type": "stream",
     "text": [
      "100%|██████████| 1783525/1783525 [00:04<00:00, 392890.00it/s]\n",
      "  2%|▏         | 30993/1783525 [00:00<00:05, 309928.82it/s]"
     ]
    },
    {
     "name": "stdout",
     "output_type": "stream",
     "text": [
      "1806 28.774834667302112\n"
     ]
    },
    {
     "name": "stderr",
     "output_type": "stream",
     "text": [
      "100%|██████████| 1783525/1783525 [00:04<00:00, 399085.85it/s]\n",
      "  2%|▏         | 32688/1783525 [00:00<00:05, 325490.44it/s]"
     ]
    },
    {
     "name": "stdout",
     "output_type": "stream",
     "text": [
      "1752 29.853230540642826\n"
     ]
    },
    {
     "name": "stderr",
     "output_type": "stream",
     "text": [
      "100%|██████████| 1783525/1783525 [00:04<00:00, 412814.88it/s]\n",
      "  2%|▏         | 33664/1783525 [00:00<00:05, 336593.78it/s]"
     ]
    },
    {
     "name": "stdout",
     "output_type": "stream",
     "text": [
      "1671 31.73024600159796\n"
     ]
    },
    {
     "name": "stderr",
     "output_type": "stream",
     "text": [
      "100%|██████████| 1783525/1783525 [00:04<00:00, 417266.73it/s]\n",
      "  2%|▏         | 33991/1783525 [00:00<00:05, 337100.55it/s]"
     ]
    },
    {
     "name": "stdout",
     "output_type": "stream",
     "text": [
      "1632 32.924082925666866\n"
     ]
    },
    {
     "name": "stderr",
     "output_type": "stream",
     "text": [
      "100%|██████████| 1783525/1783525 [00:04<00:00, 422437.13it/s]"
     ]
    },
    {
     "name": "stdout",
     "output_type": "stream",
     "text": [
      "1598 33.60721828962308\n"
     ]
    },
    {
     "name": "stderr",
     "output_type": "stream",
     "text": [
      "\n"
     ]
    },
    {
     "data": {
      "text/plain": [
       "-5.979995515445868"
      ]
     },
     "execution_count": 7,
     "metadata": {},
     "output_type": "execute_result"
    }
   ],
   "source": [
    "RS_Poly_Index_seg_num = []\n",
    "RS_Poly_Index_mae = []\n",
    "starttime = time.perf_counter()\n",
    "for i in range(len(epsilon_list)):\n",
    "    RS_Poly_Index = RS_Poly(epsilon_list[i],init_epsilon=range(25,400,25),low=1,high=1000,withBound=True)\n",
    "    RS_Poly_Index.learn_index_lookahead(data,lookn=400)\n",
    "    RS_Poly_Index_seg_num.append(RS_Poly_Index.seg_num)\n",
    "    RS_Poly_Index_mae.append(RS_Poly_Index.mae)\n",
    "endtime = time.perf_counter()\n",
    "avg_time = (starttime - endtime) / len(epsilon_list)\n",
    "avg_time"
   ]
  },
  {
   "cell_type": "code",
   "execution_count": null,
   "metadata": {
    "scrolled": true
   },
   "outputs": [
    {
     "name": "stderr",
     "output_type": "stream",
     "text": [
      " 52%|█████▏    | 928400/1783525 [04:29<06:40, 2135.15it/s]"
     ]
    }
   ],
   "source": [
    "RS_LS_Index_seg_num = []\n",
    "RS_LS_Index_mae = []\n",
    "starttime = time.perf_counter()\n",
    "for i in range(len(epsilon_list)):\n",
    "    RS_LS_Index = RS_LS(epsilon_list[i],init_epsilon=range(25,400,50),low=1,high=1000,withBound=True)\n",
    "    RS_LS_Index.learn_index_lookahead(data,lookn=400)\n",
    "    RS_LS_Index_seg_num.append(RS_LS_Index.seg_num)\n",
    "    RS_LS_Index_mae.append(RS_LS_Index.mae)\n",
    "endtime = time.perf_counter()\n",
    "avg_time = (starttime - endtime) / len(epsilon_list)\n",
    "avg_time"
   ]
  },
  {
   "cell_type": "code",
   "execution_count": null,
   "metadata": {},
   "outputs": [],
   "source": [
    "plt.rcParams[\"text.usetex\"] = True\n",
    "markers = [\"v\", \"^\", \"o\", \"<\", \">\", \"1\", \"2\", \"3\", \"4\"]\n",
    "colors = [\"b\", \"r\", \"g\", \"purple\", \"teal\", \"tomato\", \"olive\", \"deeppink\"]\n",
    "linestyles = ['solid', 'dotted', '-.', ':', \"--\", (0, (3, 10, 1, 10)), (0, (3, 5, 1, 5, 1, 5)),\n",
    "              (0, (5, 10))]\n",
    "\n",
    "plt.title('IoT, MAE-\\#SEG Trade-off')\n",
    "plt.xlabel('\\#SEG')\n",
    "plt.ylabel('MAE')\n",
    "x = np.arange(550,6000)\n",
    "def func(x,a,b):\n",
    "    return a * x**b\n",
    "p1,_ = curve_fit(func,RS_Index_seg_num,RS_Index_mae)\n",
    "p2,_ = curve_fit(func,RS_Meta_Index_seg_num_withBound,RS_Meta_Index_mae_withBound)\n",
    "p3,_ = curve_fit(func,RS_Random_Index_seg_num,RS_Random_Index_mae)\n",
    "p4,_ = curve_fit(func,RS_Poly_Index_seg_num,RS_Poly_Index_mae)\n",
    "p5,_ = curve_fit(func,RS_LS_Index_seg_num,RS_LS_Index_mae)\n",
    "plt.plot(x,p1[0]*x**p1[1],c=colors[0], linestyle=linestyles[0], label='FITing-Tree')\n",
    "plt.scatter(RS_Index_seg_num, RS_Index_mae,c=colors[0],marker=markers[0])\n",
    "plt.plot(x,p2[0]*x**p2[1],c=colors[1], linestyle=linestyles[1], label='FITing-Tree, Dynamic $\\epsilon$')\n",
    "plt.scatter(RS_Meta_Index_seg_num_withBound, RS_Meta_Index_mae_withBound,c=colors[1],marker=markers[1])\n",
    "plt.plot(x,p3[0]*x**p3[1],c=colors[2], linestyle=linestyles[2], label='FITing-Tree, Random $\\epsilon$')\n",
    "plt.scatter(RS_Random_Index_seg_num, RS_Random_Index_mae,c=colors[2],marker=markers[2])\n",
    "plt.plot(x,p4[0]*x**p4[1],c=colors[3], linestyle=linestyles[3], label='FITing-Tree, Poly $\\epsilon$')\n",
    "plt.scatter(RS_Poly_Index_seg_num, RS_Poly_Index_mae,c=colors[3],marker=markers[3])\n",
    "plt.plot(x,p5[0]*x**p5[1],c=colors[4], linestyle=linestyles[4], label='FITing-Tree, LS $\\epsilon$')\n",
    "plt.scatter(RS_LS_Index_seg_num, RS_LS_Index_mae,c=colors[4],marker=markers[4])\n",
    "plt.legend()\n",
    "#plt.savefig(\"{}.pdf\".format(\"results/Main_exp/Longitude_tradeoff_22\"), bbox_inches='tight', pad_inches=0)"
   ]
  },
  {
   "cell_type": "code",
   "execution_count": null,
   "metadata": {},
   "outputs": [],
   "source": [
    "def calc_AUC(x,y):\n",
    "    area=0\n",
    "    for i in range(len(x)-1):\n",
    "        area += (y[i]+y[i+1])*(x[i+1]-x[i]) / 2 \n",
    "    return area\n",
    "AUC1 = calc_AUC(x,p1[0]*x**p1[1])\n",
    "AUC2 = calc_AUC(x,p2[0]*x**p2[1])\n",
    "AUC3 = calc_AUC(x,p3[0]*x**p3[1])\n",
    "AUC4 = calc_AUC(x,p4[0]*x**p4[1])\n",
    "AUC5 = calc_AUC(x,p5[0]*x**p5[1])\n",
    "AUC1,AUC2,AUC3,AUC4,AUC5"
   ]
  },
  {
   "cell_type": "code",
   "execution_count": null,
   "metadata": {},
   "outputs": [],
   "source": []
  },
  {
   "cell_type": "code",
   "execution_count": 26,
   "metadata": {
    "scrolled": true
   },
   "outputs": [
    {
     "name": "stderr",
     "output_type": "stream",
     "text": [
      "100%|██████████| 1783525/1783525 [00:05<00:00, 311336.43it/s]\n",
      "  2%|▏         | 29282/1783525 [00:00<00:05, 292814.69it/s]"
     ]
    },
    {
     "name": "stdout",
     "output_type": "stream",
     "text": [
      "50 6431 9.87659214196605\n"
     ]
    },
    {
     "name": "stderr",
     "output_type": "stream",
     "text": [
      "100%|██████████| 1783525/1783525 [00:05<00:00, 343380.38it/s]\n",
      "  2%|▏         | 31048/1783525 [00:00<00:05, 309732.24it/s]"
     ]
    },
    {
     "name": "stdout",
     "output_type": "stream",
     "text": [
      "53 3280 20.464214406862816\n"
     ]
    },
    {
     "name": "stderr",
     "output_type": "stream",
     "text": [
      "100%|██████████| 1783525/1783525 [00:05<00:00, 351319.25it/s]\n",
      "  2%|▏         | 31764/1783525 [00:00<00:05, 317638.79it/s]"
     ]
    },
    {
     "name": "stdout",
     "output_type": "stream",
     "text": [
      "78 2307 31.399832354466575\n"
     ]
    },
    {
     "name": "stderr",
     "output_type": "stream",
     "text": [
      "100%|██████████| 1783525/1783525 [00:05<00:00, 353753.31it/s]\n",
      "  2%|▏         | 31975/1783525 [00:00<00:05, 319008.74it/s]"
     ]
    },
    {
     "name": "stdout",
     "output_type": "stream",
     "text": [
      "110 1791 42.71391934511711\n"
     ]
    },
    {
     "name": "stderr",
     "output_type": "stream",
     "text": [
      "100%|██████████| 1783525/1783525 [00:04<00:00, 357249.10it/s]\n",
      "  2%|▏         | 32335/1783525 [00:00<00:05, 322677.92it/s]"
     ]
    },
    {
     "name": "stdout",
     "output_type": "stream",
     "text": [
      "354 1491 53.39697116665031\n"
     ]
    },
    {
     "name": "stderr",
     "output_type": "stream",
     "text": [
      "100%|██████████| 1783525/1783525 [00:04<00:00, 358437.01it/s]\n",
      "  2%|▏         | 32624/1783525 [00:00<00:05, 326237.20it/s]"
     ]
    },
    {
     "name": "stdout",
     "output_type": "stream",
     "text": [
      "444 1290 63.928733266985326\n"
     ]
    },
    {
     "name": "stderr",
     "output_type": "stream",
     "text": [
      "100%|██████████| 1783525/1783525 [00:04<00:00, 360177.36it/s]\n",
      "  2%|▏         | 32695/1783525 [00:00<00:05, 326943.30it/s]"
     ]
    },
    {
     "name": "stdout",
     "output_type": "stream",
     "text": [
      "456 1135 75.1933463225915\n"
     ]
    },
    {
     "name": "stderr",
     "output_type": "stream",
     "text": [
      "100%|██████████| 1783525/1783525 [00:04<00:00, 360797.28it/s]\n",
      "  2%|▏         | 33020/1783525 [00:00<00:05, 330194.02it/s]"
     ]
    },
    {
     "name": "stdout",
     "output_type": "stream",
     "text": [
      "631 1019 85.6693172229153\n"
     ]
    },
    {
     "name": "stderr",
     "output_type": "stream",
     "text": [
      "100%|██████████| 1783525/1783525 [00:05<00:00, 356311.86it/s]\n",
      "  2%|▏         | 33559/1783525 [00:00<00:05, 335586.32it/s]"
     ]
    },
    {
     "name": "stdout",
     "output_type": "stream",
     "text": [
      "599 931 96.18748153235867\n"
     ]
    },
    {
     "name": "stderr",
     "output_type": "stream",
     "text": [
      "100%|██████████| 1783525/1783525 [00:04<00:00, 363966.85it/s]\n",
      "  2%|▏         | 33866/1783525 [00:00<00:05, 337637.98it/s]"
     ]
    },
    {
     "name": "stdout",
     "output_type": "stream",
     "text": [
      "418 855 106.04071319437631\n"
     ]
    },
    {
     "name": "stderr",
     "output_type": "stream",
     "text": [
      "100%|██████████| 1783525/1783525 [00:04<00:00, 365700.94it/s]\n",
      "  2%|▏         | 33309/1783525 [00:00<00:05, 333081.58it/s]"
     ]
    },
    {
     "name": "stdout",
     "output_type": "stream",
     "text": [
      "454 799 117.64053377440743\n"
     ]
    },
    {
     "name": "stderr",
     "output_type": "stream",
     "text": [
      "100%|██████████| 1783525/1783525 [00:04<00:00, 365407.44it/s]\n",
      "  2%|▏         | 33814/1783525 [00:00<00:05, 338136.29it/s]"
     ]
    },
    {
     "name": "stdout",
     "output_type": "stream",
     "text": [
      "365 753 148.8580468454325\n"
     ]
    },
    {
     "name": "stderr",
     "output_type": "stream",
     "text": [
      "100%|██████████| 1783525/1783525 [00:04<00:00, 365394.47it/s]\n",
      "  2%|▏         | 33781/1783525 [00:00<00:05, 337807.10it/s]"
     ]
    },
    {
     "name": "stdout",
     "output_type": "stream",
     "text": [
      "387 707 157.93795657476065\n"
     ]
    },
    {
     "name": "stderr",
     "output_type": "stream",
     "text": [
      "100%|██████████| 1783525/1783525 [00:04<00:00, 362382.96it/s]\n",
      "  2%|▏         | 33030/1783525 [00:00<00:05, 328836.57it/s]"
     ]
    },
    {
     "name": "stdout",
     "output_type": "stream",
     "text": [
      "408 660 169.1004477088911\n"
     ]
    },
    {
     "name": "stderr",
     "output_type": "stream",
     "text": [
      "100%|██████████| 1783525/1783525 [00:04<00:00, 366162.91it/s]\n",
      "  3%|▎         | 50662/1783525 [00:00<00:06, 249069.18it/s]"
     ]
    },
    {
     "name": "stdout",
     "output_type": "stream",
     "text": [
      "432 619 180.34635286861692\n"
     ]
    },
    {
     "name": "stderr",
     "output_type": "stream",
     "text": [
      "100%|██████████| 1783525/1783525 [00:05<00:00, 317408.67it/s]\n",
      "  2%|▏         | 29327/1783525 [00:00<00:05, 293267.48it/s]"
     ]
    },
    {
     "name": "stdout",
     "output_type": "stream",
     "text": [
      "27 6237 10.167422940525084\n"
     ]
    },
    {
     "name": "stderr",
     "output_type": "stream",
     "text": [
      "100%|██████████| 1783525/1783525 [00:05<00:00, 340177.36it/s]\n",
      "  2%|▏         | 30203/1783525 [00:00<00:05, 302025.97it/s]"
     ]
    },
    {
     "name": "stdout",
     "output_type": "stream",
     "text": [
      "106 3231 20.832428477313186\n"
     ]
    },
    {
     "name": "stderr",
     "output_type": "stream",
     "text": [
      "100%|██████████| 1783525/1783525 [00:05<00:00, 349769.84it/s]\n",
      "  2%|▏         | 31798/1783525 [00:00<00:05, 317974.24it/s]"
     ]
    },
    {
     "name": "stdout",
     "output_type": "stream",
     "text": [
      "161 2282 31.881983151343547\n"
     ]
    },
    {
     "name": "stderr",
     "output_type": "stream",
     "text": [
      "100%|██████████| 1783525/1783525 [00:05<00:00, 356015.84it/s]\n",
      "  2%|▏         | 32304/1783525 [00:00<00:05, 323038.77it/s]"
     ]
    },
    {
     "name": "stdout",
     "output_type": "stream",
     "text": [
      "185 1757 42.977707629553834\n"
     ]
    },
    {
     "name": "stderr",
     "output_type": "stream",
     "text": [
      "100%|██████████| 1783525/1783525 [00:04<00:00, 359180.25it/s]\n",
      "  2%|▏         | 32788/1783525 [00:00<00:05, 327874.06it/s]"
     ]
    },
    {
     "name": "stdout",
     "output_type": "stream",
     "text": [
      "196 1464 54.93861986795812\n"
     ]
    },
    {
     "name": "stderr",
     "output_type": "stream",
     "text": [
      "100%|██████████| 1783525/1783525 [00:04<00:00, 360933.40it/s]\n",
      "  2%|▏         | 32927/1783525 [00:00<00:05, 329264.03it/s]"
     ]
    },
    {
     "name": "stdout",
     "output_type": "stream",
     "text": [
      "432 1265 65.39218962447961\n"
     ]
    },
    {
     "name": "stderr",
     "output_type": "stream",
     "text": [
      "100%|██████████| 1783525/1783525 [00:04<00:00, 360062.75it/s]\n",
      "  2%|▏         | 33002/1783525 [00:00<00:05, 330016.38it/s]"
     ]
    },
    {
     "name": "stdout",
     "output_type": "stream",
     "text": [
      "476 1109 76.1781090817342\n"
     ]
    },
    {
     "name": "stderr",
     "output_type": "stream",
     "text": [
      "100%|██████████| 1783525/1783525 [00:04<00:00, 362148.95it/s]\n",
      "  2%|▏         | 32966/1783525 [00:00<00:05, 329655.60it/s]"
     ]
    },
    {
     "name": "stdout",
     "output_type": "stream",
     "text": [
      "424 984 87.46155058101232\n"
     ]
    },
    {
     "name": "stderr",
     "output_type": "stream",
     "text": [
      "100%|██████████| 1783525/1783525 [00:04<00:00, 361710.65it/s]\n",
      "  2%|▏         | 33731/1783525 [00:00<00:05, 337303.08it/s]"
     ]
    },
    {
     "name": "stdout",
     "output_type": "stream",
     "text": [
      "387 906 98.28916555697285\n"
     ]
    },
    {
     "name": "stderr",
     "output_type": "stream",
     "text": [
      "100%|██████████| 1783525/1783525 [00:04<00:00, 363645.97it/s]\n",
      "  2%|▏         | 33013/1783525 [00:00<00:05, 328174.24it/s]"
     ]
    },
    {
     "name": "stdout",
     "output_type": "stream",
     "text": [
      "354 828 136.26798559033375\n"
     ]
    },
    {
     "name": "stderr",
     "output_type": "stream",
     "text": [
      "100%|██████████| 1783525/1783525 [00:04<00:00, 363863.11it/s]\n",
      "  2%|▏         | 33014/1783525 [00:00<00:05, 329520.45it/s]"
     ]
    },
    {
     "name": "stdout",
     "output_type": "stream",
     "text": [
      "370 772 145.62788074178943\n"
     ]
    },
    {
     "name": "stderr",
     "output_type": "stream",
     "text": [
      "100%|██████████| 1783525/1783525 [00:04<00:00, 363948.60it/s]\n",
      "  2%|▏         | 33030/1783525 [00:00<00:05, 330052.44it/s]"
     ]
    },
    {
     "name": "stdout",
     "output_type": "stream",
     "text": [
      "412 721 154.45844773692548\n"
     ]
    },
    {
     "name": "stderr",
     "output_type": "stream",
     "text": [
      "100%|██████████| 1783525/1783525 [00:04<00:00, 363241.24it/s]\n",
      "  1%|          | 20600/1783525 [00:00<00:08, 204403.68it/s]"
     ]
    },
    {
     "name": "stdout",
     "output_type": "stream",
     "text": [
      "427 678 162.85086500049061\n"
     ]
    },
    {
     "name": "stderr",
     "output_type": "stream",
     "text": [
      "100%|██████████| 1783525/1783525 [00:04<00:00, 360287.31it/s]\n",
      "  2%|▏         | 34270/1783525 [00:00<00:05, 342229.53it/s]"
     ]
    },
    {
     "name": "stdout",
     "output_type": "stream",
     "text": [
      "470 636 171.49645000770946\n"
     ]
    },
    {
     "name": "stderr",
     "output_type": "stream",
     "text": [
      "100%|██████████| 1783525/1783525 [00:04<00:00, 366271.02it/s]\n",
      "  2%|▏         | 27031/1783525 [00:00<00:06, 269963.98it/s]"
     ]
    },
    {
     "name": "stdout",
     "output_type": "stream",
     "text": [
      "510 615 180.51114169972385\n"
     ]
    },
    {
     "name": "stderr",
     "output_type": "stream",
     "text": [
      "100%|██████████| 1783525/1783525 [00:05<00:00, 323456.60it/s]\n",
      "  2%|▏         | 29210/1783525 [00:00<00:06, 292098.19it/s]"
     ]
    },
    {
     "name": "stdout",
     "output_type": "stream",
     "text": [
      "26 6129 10.347392383061633\n"
     ]
    },
    {
     "name": "stderr",
     "output_type": "stream",
     "text": [
      "100%|██████████| 1783525/1783525 [00:05<00:00, 342091.13it/s]\n",
      "  2%|▏         | 30991/1783525 [00:00<00:05, 309909.56it/s]"
     ]
    },
    {
     "name": "stdout",
     "output_type": "stream",
     "text": [
      "52 3185 21.316637557645674\n"
     ]
    },
    {
     "name": "stderr",
     "output_type": "stream",
     "text": [
      "100%|██████████| 1783525/1783525 [00:05<00:00, 350409.17it/s]\n",
      "  2%|▏         | 31642/1783525 [00:00<00:05, 316412.00it/s]"
     ]
    },
    {
     "name": "stdout",
     "output_type": "stream",
     "text": [
      "139 2247 32.17140998864608\n"
     ]
    },
    {
     "name": "stderr",
     "output_type": "stream",
     "text": [
      "100%|██████████| 1783525/1783525 [00:04<00:00, 357798.04it/s]\n",
      "  2%|▏         | 32842/1783525 [00:00<00:05, 328416.40it/s]"
     ]
    },
    {
     "name": "stdout",
     "output_type": "stream",
     "text": [
      "202 1737 43.91731655009041\n"
     ]
    },
    {
     "name": "stderr",
     "output_type": "stream",
     "text": [
      "100%|██████████| 1783525/1783525 [00:04<00:00, 361696.45it/s]\n",
      "  2%|▏         | 32775/1783525 [00:00<00:05, 327749.53it/s]"
     ]
    },
    {
     "name": "stdout",
     "output_type": "stream",
     "text": [
      "362 1457 54.661173799077666\n"
     ]
    },
    {
     "name": "stderr",
     "output_type": "stream",
     "text": [
      "100%|██████████| 1783525/1783525 [00:05<00:00, 356648.25it/s]\n",
      "  2%|▏         | 31201/1783525 [00:00<00:05, 310812.78it/s]"
     ]
    },
    {
     "name": "stdout",
     "output_type": "stream",
     "text": [
      "449 1244 66.1359111871154\n"
     ]
    },
    {
     "name": "stderr",
     "output_type": "stream",
     "text": [
      "100%|██████████| 1783525/1783525 [00:04<00:00, 359853.13it/s]\n",
      "  2%|▏         | 33229/1783525 [00:00<00:05, 332289.52it/s]"
     ]
    },
    {
     "name": "stdout",
     "output_type": "stream",
     "text": [
      "426 1101 80.5516575321344\n"
     ]
    },
    {
     "name": "stderr",
     "output_type": "stream",
     "text": [
      "100%|██████████| 1783525/1783525 [00:04<00:00, 362252.54it/s]\n",
      "  2%|▏         | 33878/1783525 [00:00<00:05, 337265.39it/s]"
     ]
    },
    {
     "name": "stdout",
     "output_type": "stream",
     "text": [
      "407 985 87.52353681613658\n"
     ]
    },
    {
     "name": "stderr",
     "output_type": "stream",
     "text": [
      "100%|██████████| 1783525/1783525 [00:04<00:00, 360181.64it/s]\n",
      "  2%|▏         | 33784/1783525 [00:00<00:05, 337831.46it/s]"
     ]
    },
    {
     "name": "stdout",
     "output_type": "stream",
     "text": [
      "331 891 127.20434252393434\n"
     ]
    },
    {
     "name": "stderr",
     "output_type": "stream",
     "text": [
      "100%|██████████| 1783525/1783525 [00:04<00:00, 360936.76it/s]\n",
      "  2%|▏         | 33921/1783525 [00:00<00:05, 339203.85it/s]"
     ]
    },
    {
     "name": "stdout",
     "output_type": "stream",
     "text": [
      "367 812 137.62558360550034\n"
     ]
    },
    {
     "name": "stderr",
     "output_type": "stream",
     "text": [
      "100%|██████████| 1783525/1783525 [00:04<00:00, 364413.39it/s]\n",
      "  2%|▏         | 33281/1783525 [00:00<00:05, 332796.83it/s]"
     ]
    },
    {
     "name": "stdout",
     "output_type": "stream",
     "text": [
      "390 750 147.3245567065222\n"
     ]
    },
    {
     "name": "stderr",
     "output_type": "stream",
     "text": [
      "100%|██████████| 1783525/1783525 [00:04<00:00, 362843.53it/s]\n",
      "  2%|▏         | 34033/1783525 [00:00<00:05, 340327.08it/s]"
     ]
    },
    {
     "name": "stdout",
     "output_type": "stream",
     "text": [
      "436 709 155.79082995752793\n"
     ]
    },
    {
     "name": "stderr",
     "output_type": "stream",
     "text": [
      "100%|██████████| 1783525/1783525 [00:04<00:00, 366647.18it/s]\n",
      "  2%|▏         | 33811/1783525 [00:00<00:05, 338106.29it/s]"
     ]
    },
    {
     "name": "stdout",
     "output_type": "stream",
     "text": [
      "457 662 165.37481504324302\n"
     ]
    },
    {
     "name": "stderr",
     "output_type": "stream",
     "text": [
      "100%|██████████| 1783525/1783525 [00:04<00:00, 365804.00it/s]\n",
      "  2%|▏         | 34269/1783525 [00:00<00:05, 341056.72it/s]"
     ]
    },
    {
     "name": "stdout",
     "output_type": "stream",
     "text": [
      "504 623 172.45769361236876\n"
     ]
    },
    {
     "name": "stderr",
     "output_type": "stream",
     "text": [
      "100%|██████████| 1783525/1783525 [00:04<00:00, 364779.06it/s]\n",
      "  2%|▏         | 27425/1783525 [00:00<00:06, 274245.03it/s]"
     ]
    },
    {
     "name": "stdout",
     "output_type": "stream",
     "text": [
      "967 597 178.29522714848403\n"
     ]
    },
    {
     "name": "stderr",
     "output_type": "stream",
     "text": [
      "100%|██████████| 1783525/1783525 [00:05<00:00, 321965.31it/s]\n",
      "  2%|▏         | 30208/1783525 [00:00<00:05, 302073.09it/s]"
     ]
    },
    {
     "name": "stdout",
     "output_type": "stream",
     "text": [
      "26 6063 10.455621872415582\n"
     ]
    },
    {
     "name": "stderr",
     "output_type": "stream",
     "text": [
      "100%|██████████| 1783525/1783525 [00:05<00:00, 341660.02it/s]\n",
      "  2%|▏         | 31446/1783525 [00:00<00:05, 314459.55it/s]"
     ]
    },
    {
     "name": "stdout",
     "output_type": "stream",
     "text": [
      "52 3148 21.689785116552894\n"
     ]
    },
    {
     "name": "stderr",
     "output_type": "stream",
     "text": [
      "100%|██████████| 1783525/1783525 [00:05<00:00, 339274.46it/s]\n",
      "  2%|▏         | 32060/1783525 [00:00<00:05, 320593.43it/s]"
     ]
    },
    {
     "name": "stdout",
     "output_type": "stream",
     "text": [
      "1 2233 32.68481294066525\n"
     ]
    },
    {
     "name": "stderr",
     "output_type": "stream",
     "text": [
      "100%|██████████| 1783525/1783525 [00:05<00:00, 353646.54it/s]\n",
      "  2%|▏         | 32824/1783525 [00:00<00:05, 328237.97it/s]"
     ]
    },
    {
     "name": "stdout",
     "output_type": "stream",
     "text": [
      "178 1726 44.210702401143806\n"
     ]
    },
    {
     "name": "stderr",
     "output_type": "stream",
     "text": [
      "100%|██████████| 1783525/1783525 [00:05<00:00, 356585.45it/s]\n",
      "  2%|▏         | 33072/1783525 [00:00<00:05, 330713.22it/s]"
     ]
    },
    {
     "name": "stdout",
     "output_type": "stream",
     "text": [
      "377 1452 67.99665549964256\n"
     ]
    },
    {
     "name": "stderr",
     "output_type": "stream",
     "text": [
      "100%|██████████| 1783525/1783525 [00:04<00:00, 357722.94it/s]\n",
      "  2%|▏         | 32955/1783525 [00:00<00:05, 329549.53it/s]"
     ]
    },
    {
     "name": "stdout",
     "output_type": "stream",
     "text": [
      "411 1238 77.16861047644412\n"
     ]
    },
    {
     "name": "stderr",
     "output_type": "stream",
     "text": [
      "100%|██████████| 1783525/1783525 [00:04<00:00, 359529.51it/s]\n",
      "  2%|▏         | 30390/1783525 [00:00<00:05, 303895.94it/s]"
     ]
    },
    {
     "name": "stdout",
     "output_type": "stream",
     "text": [
      "582 1088 80.0008152394836\n"
     ]
    },
    {
     "name": "stderr",
     "output_type": "stream",
     "text": [
      "100%|██████████| 1783525/1783525 [00:04<00:00, 359037.44it/s]\n",
      "  2%|▏         | 33310/1783525 [00:00<00:05, 333099.52it/s]"
     ]
    },
    {
     "name": "stdout",
     "output_type": "stream",
     "text": [
      "568 975 116.37377104329909\n"
     ]
    },
    {
     "name": "stderr",
     "output_type": "stream",
     "text": [
      "100%|██████████| 1783525/1783525 [00:04<00:00, 362825.90it/s]\n",
      "  2%|▏         | 33705/1783525 [00:00<00:05, 337043.89it/s]"
     ]
    },
    {
     "name": "stdout",
     "output_type": "stream",
     "text": [
      "578 878 126.25599136541399\n"
     ]
    },
    {
     "name": "stderr",
     "output_type": "stream",
     "text": [
      "100%|██████████| 1783525/1783525 [00:04<00:00, 365136.86it/s]\n",
      "  2%|▏         | 33603/1783525 [00:00<00:05, 336024.71it/s]"
     ]
    },
    {
     "name": "stdout",
     "output_type": "stream",
     "text": [
      "664 809 136.82058227386776\n"
     ]
    },
    {
     "name": "stderr",
     "output_type": "stream",
     "text": [
      "100%|██████████| 1783525/1783525 [00:04<00:00, 363685.79it/s]\n",
      "  2%|▏         | 34182/1783525 [00:00<00:05, 341814.62it/s]"
     ]
    },
    {
     "name": "stdout",
     "output_type": "stream",
     "text": [
      "687 744 145.88444232629203\n"
     ]
    },
    {
     "name": "stderr",
     "output_type": "stream",
     "text": [
      "100%|██████████| 1783525/1783525 [00:04<00:00, 362207.18it/s]\n",
      "  2%|▏         | 33602/1783525 [00:00<00:05, 336015.51it/s]"
     ]
    },
    {
     "name": "stdout",
     "output_type": "stream",
     "text": [
      "707 695 156.35195189302084\n"
     ]
    },
    {
     "name": "stderr",
     "output_type": "stream",
     "text": [
      "100%|██████████| 1783525/1783525 [00:04<00:00, 363070.95it/s]\n",
      "  2%|▏         | 33672/1783525 [00:00<00:05, 336713.90it/s]"
     ]
    },
    {
     "name": "stdout",
     "output_type": "stream",
     "text": [
      "737 662 165.36733210916583\n"
     ]
    },
    {
     "name": "stderr",
     "output_type": "stream",
     "text": [
      "100%|██████████| 1783525/1783525 [00:04<00:00, 364838.57it/s]\n",
      "  2%|▏         | 33878/1783525 [00:00<00:05, 338778.71it/s]"
     ]
    },
    {
     "name": "stdout",
     "output_type": "stream",
     "text": [
      "869 620 174.16300472379137\n"
     ]
    },
    {
     "name": "stderr",
     "output_type": "stream",
     "text": [
      "100%|██████████| 1783525/1783525 [00:04<00:00, 362561.51it/s]\n",
      "  1%|▏         | 23023/1783525 [00:00<00:07, 230226.93it/s]"
     ]
    },
    {
     "name": "stdout",
     "output_type": "stream",
     "text": [
      "1000 589 181.0935736813333\n"
     ]
    },
    {
     "name": "stderr",
     "output_type": "stream",
     "text": [
      "100%|██████████| 1783525/1783525 [00:05<00:00, 318777.29it/s]\n",
      "  2%|▏         | 30022/1783525 [00:00<00:05, 300214.56it/s]"
     ]
    },
    {
     "name": "stdout",
     "output_type": "stream",
     "text": [
      "26 6001 10.56582890623905\n"
     ]
    },
    {
     "name": "stderr",
     "output_type": "stream",
     "text": [
      "100%|██████████| 1783525/1783525 [00:05<00:00, 342782.11it/s]\n",
      "  2%|▏         | 31259/1783525 [00:00<00:05, 312587.32it/s]"
     ]
    },
    {
     "name": "stdout",
     "output_type": "stream",
     "text": [
      "52 3123 21.805867593669838\n"
     ]
    },
    {
     "name": "stderr",
     "output_type": "stream",
     "text": [
      "100%|██████████| 1783525/1783525 [00:05<00:00, 351733.51it/s]\n",
      "  2%|▏         | 32070/1783525 [00:00<00:05, 320692.66it/s]"
     ]
    },
    {
     "name": "stdout",
     "output_type": "stream",
     "text": [
      "145 2196 32.95415483382627\n"
     ]
    },
    {
     "name": "stderr",
     "output_type": "stream",
     "text": [
      "100%|██████████| 1783525/1783525 [00:05<00:00, 353141.09it/s]\n",
      "  2%|▏         | 31864/1783525 [00:00<00:05, 318634.23it/s]"
     ]
    },
    {
     "name": "stdout",
     "output_type": "stream",
     "text": [
      "199 1713 44.738120856169665\n"
     ]
    },
    {
     "name": "stderr",
     "output_type": "stream",
     "text": [
      "100%|██████████| 1783525/1783525 [00:05<00:00, 355409.50it/s]\n",
      "  2%|▏         | 32766/1783525 [00:00<00:05, 327430.80it/s]"
     ]
    },
    {
     "name": "stdout",
     "output_type": "stream",
     "text": [
      "234 1446 55.987778696682135\n"
     ]
    },
    {
     "name": "stderr",
     "output_type": "stream",
     "text": [
      "100%|██████████| 1783525/1783525 [00:04<00:00, 358856.75it/s]\n",
      "  2%|▏         | 32985/1783525 [00:00<00:05, 329843.24it/s]"
     ]
    },
    {
     "name": "stdout",
     "output_type": "stream",
     "text": [
      "393 1235 77.8463682875205\n"
     ]
    },
    {
     "name": "stderr",
     "output_type": "stream",
     "text": [
      "100%|██████████| 1783525/1783525 [00:04<00:00, 363203.62it/s]\n",
      "  2%|▏         | 32450/1783525 [00:00<00:05, 324493.35it/s]"
     ]
    },
    {
     "name": "stdout",
     "output_type": "stream",
     "text": [
      "434 1084 81.93917158436243\n"
     ]
    },
    {
     "name": "stderr",
     "output_type": "stream",
     "text": [
      "100%|██████████| 1783525/1783525 [00:04<00:00, 362585.81it/s]\n",
      "  2%|▏         | 32496/1783525 [00:00<00:05, 324954.11it/s]"
     ]
    },
    {
     "name": "stdout",
     "output_type": "stream",
     "text": [
      "584 972 118.8059427257818\n"
     ]
    },
    {
     "name": "stderr",
     "output_type": "stream",
     "text": [
      "100%|██████████| 1783525/1783525 [00:04<00:00, 362498.73it/s]\n",
      "  2%|▏         | 33662/1783525 [00:00<00:05, 336612.30it/s]"
     ]
    },
    {
     "name": "stdout",
     "output_type": "stream",
     "text": [
      "605 878 128.13752372408572\n"
     ]
    },
    {
     "name": "stderr",
     "output_type": "stream",
     "text": [
      "100%|██████████| 1783525/1783525 [00:04<00:00, 365419.15it/s]\n",
      "  2%|▏         | 33811/1783525 [00:00<00:05, 338109.52it/s]"
     ]
    },
    {
     "name": "stdout",
     "output_type": "stream",
     "text": [
      "634 809 135.48764609411137\n"
     ]
    },
    {
     "name": "stderr",
     "output_type": "stream",
     "text": [
      "100%|██████████| 1783525/1783525 [00:04<00:00, 363824.83it/s]\n",
      "  2%|▏         | 33952/1783525 [00:00<00:05, 338703.10it/s]"
     ]
    },
    {
     "name": "stdout",
     "output_type": "stream",
     "text": [
      "683 741 146.08349588595618\n"
     ]
    },
    {
     "name": "stderr",
     "output_type": "stream",
     "text": [
      "100%|██████████| 1783525/1783525 [00:04<00:00, 362912.80it/s]\n",
      "  2%|▏         | 34013/1783525 [00:00<00:05, 340123.84it/s]"
     ]
    },
    {
     "name": "stdout",
     "output_type": "stream",
     "text": [
      "795 689 156.0342013708807\n"
     ]
    },
    {
     "name": "stderr",
     "output_type": "stream",
     "text": [
      "100%|██████████| 1783525/1783525 [00:04<00:00, 363822.90it/s]\n",
      "  2%|▏         | 34253/1783525 [00:00<00:05, 342522.98it/s]"
     ]
    },
    {
     "name": "stdout",
     "output_type": "stream",
     "text": [
      "705 654 166.13848249954444\n"
     ]
    },
    {
     "name": "stderr",
     "output_type": "stream",
     "text": [
      "100%|██████████| 1783525/1783525 [00:04<00:00, 363718.52it/s]\n",
      "  2%|▏         | 34198/1783525 [00:00<00:05, 341974.62it/s]"
     ]
    },
    {
     "name": "stdout",
     "output_type": "stream",
     "text": [
      "857 617 174.17697368974362\n"
     ]
    },
    {
     "name": "stderr",
     "output_type": "stream",
     "text": [
      "100%|██████████| 1783525/1783525 [00:04<00:00, 366537.96it/s]\n",
      "  2%|▏         | 27403/1783525 [00:00<00:06, 274027.65it/s]"
     ]
    },
    {
     "name": "stdout",
     "output_type": "stream",
     "text": [
      "922 589 183.22086710306837\n"
     ]
    },
    {
     "name": "stderr",
     "output_type": "stream",
     "text": [
      "100%|██████████| 1783525/1783525 [00:05<00:00, 315138.83it/s]\n",
      "  2%|▏         | 30227/1783525 [00:00<00:05, 302219.85it/s]"
     ]
    },
    {
     "name": "stdout",
     "output_type": "stream",
     "text": [
      "26 5970 10.690380005887217\n"
     ]
    },
    {
     "name": "stderr",
     "output_type": "stream",
     "text": [
      "100%|██████████| 1783525/1783525 [00:05<00:00, 343802.11it/s]\n",
      "  2%|▏         | 31202/1783525 [00:00<00:05, 312018.07it/s]"
     ]
    },
    {
     "name": "stdout",
     "output_type": "stream",
     "text": [
      "52 3090 21.99883825570149\n"
     ]
    },
    {
     "name": "stderr",
     "output_type": "stream",
     "text": [
      "100%|██████████| 1783525/1783525 [00:05<00:00, 349046.25it/s]\n",
      "  2%|▏         | 32125/1783525 [00:00<00:05, 321248.01it/s]"
     ]
    },
    {
     "name": "stdout",
     "output_type": "stream",
     "text": [
      "135 2175 33.36123070884905\n"
     ]
    },
    {
     "name": "stderr",
     "output_type": "stream",
     "text": [
      "100%|██████████| 1783525/1783525 [00:05<00:00, 354871.11it/s]\n",
      "  2%|▏         | 32589/1783525 [00:00<00:05, 325887.98it/s]"
     ]
    },
    {
     "name": "stdout",
     "output_type": "stream",
     "text": [
      "200 1708 45.32694018867131\n"
     ]
    },
    {
     "name": "stderr",
     "output_type": "stream",
     "text": [
      "100%|██████████| 1783525/1783525 [00:05<00:00, 356609.79it/s]\n",
      "  2%|▏         | 32806/1783525 [00:00<00:05, 328054.06it/s]"
     ]
    },
    {
     "name": "stdout",
     "output_type": "stream",
     "text": [
      "232 1437 56.675379935801296\n"
     ]
    },
    {
     "name": "stderr",
     "output_type": "stream",
     "text": [
      "100%|██████████| 1783525/1783525 [00:04<00:00, 360018.09it/s]\n",
      "  2%|▏         | 32620/1783525 [00:00<00:05, 326195.64it/s]"
     ]
    },
    {
     "name": "stdout",
     "output_type": "stream",
     "text": [
      "401 1229 78.50344906855806\n"
     ]
    },
    {
     "name": "stderr",
     "output_type": "stream",
     "text": [
      "100%|██████████| 1783525/1783525 [00:04<00:00, 359071.55it/s]\n",
      "  2%|▏         | 32606/1783525 [00:00<00:05, 326054.87it/s]"
     ]
    },
    {
     "name": "stdout",
     "output_type": "stream",
     "text": [
      "283 1080 78.54974951290282\n"
     ]
    },
    {
     "name": "stderr",
     "output_type": "stream",
     "text": [
      "100%|██████████| 1783525/1783525 [00:04<00:00, 362041.07it/s]\n",
      "  2%|▏         | 33525/1783525 [00:00<00:05, 335247.92it/s]"
     ]
    },
    {
     "name": "stdout",
     "output_type": "stream",
     "text": [
      "566 968 118.77628628698784\n"
     ]
    },
    {
     "name": "stderr",
     "output_type": "stream",
     "text": [
      "100%|██████████| 1783525/1783525 [00:04<00:00, 362785.52it/s]\n",
      "  1%|          | 20644/1783525 [00:00<00:08, 206437.74it/s]"
     ]
    },
    {
     "name": "stdout",
     "output_type": "stream",
     "text": [
      "597 872 127.22552809744747\n"
     ]
    },
    {
     "name": "stderr",
     "output_type": "stream",
     "text": [
      "100%|██████████| 1783525/1783525 [00:04<00:00, 359239.05it/s]\n",
      "  2%|▏         | 30941/1783525 [00:00<00:05, 309403.66it/s]"
     ]
    },
    {
     "name": "stdout",
     "output_type": "stream",
     "text": [
      "637 811 135.43006237647356\n"
     ]
    },
    {
     "name": "stderr",
     "output_type": "stream",
     "text": [
      "100%|██████████| 1783525/1783525 [00:04<00:00, 363351.58it/s]\n",
      "  2%|▏         | 33651/1783525 [00:00<00:05, 336501.50it/s]"
     ]
    },
    {
     "name": "stdout",
     "output_type": "stream",
     "text": [
      "693 735 145.92616924349252\n"
     ]
    },
    {
     "name": "stderr",
     "output_type": "stream",
     "text": [
      "100%|██████████| 1783525/1783525 [00:04<00:00, 367107.57it/s]\n",
      "  1%|          | 18422/1783525 [00:00<00:09, 181284.99it/s]"
     ]
    },
    {
     "name": "stdout",
     "output_type": "stream",
     "text": [
      "773 691 155.87907038028624\n"
     ]
    },
    {
     "name": "stderr",
     "output_type": "stream",
     "text": [
      "100%|██████████| 1783525/1783525 [00:04<00:00, 362160.20it/s]\n",
      "  2%|▏         | 27663/1783525 [00:00<00:06, 276624.99it/s]"
     ]
    },
    {
     "name": "stdout",
     "output_type": "stream",
     "text": [
      "762 654 165.93694565537348\n"
     ]
    },
    {
     "name": "stderr",
     "output_type": "stream",
     "text": [
      "100%|██████████| 1783525/1783525 [00:04<00:00, 361190.83it/s]\n",
      "  2%|▏         | 34219/1783525 [00:00<00:05, 342184.62it/s]"
     ]
    },
    {
     "name": "stdout",
     "output_type": "stream",
     "text": [
      "824 613 174.4483592884877\n"
     ]
    },
    {
     "name": "stderr",
     "output_type": "stream",
     "text": [
      "100%|██████████| 1783525/1783525 [00:04<00:00, 364969.36it/s]\n",
      "  2%|▏         | 27505/1783525 [00:00<00:06, 275048.95it/s]"
     ]
    },
    {
     "name": "stdout",
     "output_type": "stream",
     "text": [
      "948 591 182.8189798292707\n"
     ]
    },
    {
     "name": "stderr",
     "output_type": "stream",
     "text": [
      "100%|██████████| 1783525/1783525 [00:05<00:00, 317532.09it/s]\n",
      "  2%|▏         | 30286/1783525 [00:00<00:05, 302855.23it/s]"
     ]
    },
    {
     "name": "stdout",
     "output_type": "stream",
     "text": [
      "26 5910 10.814578433159053\n"
     ]
    },
    {
     "name": "stderr",
     "output_type": "stream",
     "text": [
      "100%|██████████| 1783525/1783525 [00:05<00:00, 344786.69it/s]\n",
      "  2%|▏         | 31523/1783525 [00:00<00:05, 315229.55it/s]"
     ]
    },
    {
     "name": "stdout",
     "output_type": "stream",
     "text": [
      "52 3065 22.17153390056209\n"
     ]
    },
    {
     "name": "stderr",
     "output_type": "stream",
     "text": [
      "100%|██████████| 1783525/1783525 [00:05<00:00, 349143.70it/s]\n",
      "  2%|▏         | 31936/1783525 [00:00<00:05, 318532.51it/s]"
     ]
    },
    {
     "name": "stdout",
     "output_type": "stream",
     "text": [
      "152 2167 33.63156614008775\n"
     ]
    },
    {
     "name": "stderr",
     "output_type": "stream",
     "text": [
      "100%|██████████| 1783525/1783525 [00:05<00:00, 352994.90it/s]\n",
      "  2%|▏         | 32712/1783525 [00:00<00:05, 327027.53it/s]"
     ]
    },
    {
     "name": "stdout",
     "output_type": "stream",
     "text": [
      "189 1695 45.67266901220897\n"
     ]
    },
    {
     "name": "stderr",
     "output_type": "stream",
     "text": [
      "100%|██████████| 1783525/1783525 [00:04<00:00, 359125.02it/s]\n",
      "  1%|          | 17608/1783525 [00:00<00:10, 176076.81it/s]"
     ]
    },
    {
     "name": "stdout",
     "output_type": "stream",
     "text": [
      "351 1423 61.36152731248511\n"
     ]
    },
    {
     "name": "stderr",
     "output_type": "stream",
     "text": [
      "100%|██████████| 1783525/1783525 [00:04<00:00, 357278.14it/s]\n",
      "  2%|▏         | 33605/1783525 [00:00<00:05, 336046.31it/s]"
     ]
    },
    {
     "name": "stdout",
     "output_type": "stream",
     "text": [
      "384 1233 69.22300388276027\n"
     ]
    },
    {
     "name": "stderr",
     "output_type": "stream",
     "text": [
      "100%|██████████| 1783525/1783525 [00:04<00:00, 363803.97it/s]\n",
      "  2%|▏         | 33162/1783525 [00:00<00:05, 331613.20it/s]"
     ]
    },
    {
     "name": "stdout",
     "output_type": "stream",
     "text": [
      "280 1079 78.86611233372115\n"
     ]
    },
    {
     "name": "stderr",
     "output_type": "stream",
     "text": [
      "100%|██████████| 1783525/1783525 [00:04<00:00, 362883.79it/s]\n",
      "  2%|▏         | 33656/1783525 [00:00<00:05, 336555.51it/s]"
     ]
    },
    {
     "name": "stdout",
     "output_type": "stream",
     "text": [
      "526 964 119.5262679244754\n"
     ]
    },
    {
     "name": "stderr",
     "output_type": "stream",
     "text": [
      "100%|██████████| 1783525/1783525 [00:04<00:00, 363936.63it/s]\n",
      "  1%|          | 22133/1783525 [00:00<00:07, 220588.66it/s]"
     ]
    },
    {
     "name": "stdout",
     "output_type": "stream",
     "text": [
      "597 868 127.37045682006139\n"
     ]
    },
    {
     "name": "stderr",
     "output_type": "stream",
     "text": [
      "100%|██████████| 1783525/1783525 [00:04<00:00, 362357.86it/s]\n",
      "  2%|▏         | 32996/1783525 [00:00<00:05, 329954.81it/s]"
     ]
    },
    {
     "name": "stdout",
     "output_type": "stream",
     "text": [
      "590 811 135.59564345888057\n"
     ]
    },
    {
     "name": "stderr",
     "output_type": "stream",
     "text": [
      "100%|██████████| 1783525/1783525 [00:04<00:00, 359203.85it/s]\n",
      "  2%|▏         | 33951/1783525 [00:00<00:05, 339502.23it/s]"
     ]
    },
    {
     "name": "stdout",
     "output_type": "stream",
     "text": [
      "715 737 145.79288487685903\n"
     ]
    },
    {
     "name": "stderr",
     "output_type": "stream",
     "text": [
      "100%|██████████| 1783525/1783525 [00:04<00:00, 366709.82it/s]\n",
      "  2%|▏         | 34211/1783525 [00:00<00:05, 342109.51it/s]"
     ]
    },
    {
     "name": "stdout",
     "output_type": "stream",
     "text": [
      "675 692 155.1644299911692\n"
     ]
    },
    {
     "name": "stderr",
     "output_type": "stream",
     "text": [
      "100%|██████████| 1783525/1783525 [00:04<00:00, 366141.33it/s]\n",
      "  2%|▏         | 33218/1783525 [00:00<00:05, 332177.94it/s]"
     ]
    },
    {
     "name": "stdout",
     "output_type": "stream",
     "text": [
      "754 649 164.64422253683014\n"
     ]
    },
    {
     "name": "stderr",
     "output_type": "stream",
     "text": [
      "100%|██████████| 1783525/1783525 [00:04<00:00, 358547.22it/s]\n",
      "  2%|▏         | 34327/1783525 [00:00<00:05, 342809.36it/s]"
     ]
    },
    {
     "name": "stdout",
     "output_type": "stream",
     "text": [
      "831 613 166.42010681095022\n"
     ]
    },
    {
     "name": "stderr",
     "output_type": "stream",
     "text": [
      "100%|██████████| 1783525/1783525 [00:04<00:00, 366263.09it/s]\n",
      "  2%|▏         | 27438/1783525 [00:00<00:06, 274355.41it/s]"
     ]
    },
    {
     "name": "stdout",
     "output_type": "stream",
     "text": [
      "879 587 174.71265107021208\n"
     ]
    },
    {
     "name": "stderr",
     "output_type": "stream",
     "text": [
      "100%|██████████| 1783525/1783525 [00:05<00:00, 323105.09it/s]\n",
      "  2%|▏         | 29788/1783525 [00:00<00:05, 297878.86it/s]"
     ]
    },
    {
     "name": "stdout",
     "output_type": "stream",
     "text": [
      "26 5880 10.936133780014298\n"
     ]
    },
    {
     "name": "stderr",
     "output_type": "stream",
     "text": [
      "100%|██████████| 1783525/1783525 [00:05<00:00, 345239.45it/s]\n",
      "  2%|▏         | 31278/1783525 [00:00<00:05, 312776.57it/s]"
     ]
    },
    {
     "name": "stdout",
     "output_type": "stream",
     "text": [
      "52 3065 22.47994729538414\n"
     ]
    },
    {
     "name": "stderr",
     "output_type": "stream",
     "text": [
      "100%|██████████| 1783525/1783525 [00:05<00:00, 349853.26it/s]\n",
      "  2%|▏         | 32237/1783525 [00:00<00:05, 322362.62it/s]"
     ]
    },
    {
     "name": "stdout",
     "output_type": "stream",
     "text": [
      "150 2164 33.8721458908622\n"
     ]
    },
    {
     "name": "stderr",
     "output_type": "stream",
     "text": [
      "100%|██████████| 1783525/1783525 [00:04<00:00, 357201.35it/s]\n",
      "  2%|▏         | 32715/1783525 [00:00<00:05, 326372.18it/s]"
     ]
    },
    {
     "name": "stdout",
     "output_type": "stream",
     "text": [
      "190 1683 45.95780827294263\n"
     ]
    },
    {
     "name": "stderr",
     "output_type": "stream",
     "text": [
      "100%|██████████| 1783525/1783525 [00:04<00:00, 359615.83it/s]\n",
      "  2%|▏         | 33149/1783525 [00:00<00:05, 331485.57it/s]"
     ]
    },
    {
     "name": "stdout",
     "output_type": "stream",
     "text": [
      "242 1422 57.536955187059334\n"
     ]
    },
    {
     "name": "stderr",
     "output_type": "stream",
     "text": [
      "100%|██████████| 1783525/1783525 [00:04<00:00, 362212.83it/s]\n",
      "  2%|▏         | 32985/1783525 [00:00<00:05, 329410.50it/s]"
     ]
    },
    {
     "name": "stdout",
     "output_type": "stream",
     "text": [
      "361 1219 70.30950729594483\n"
     ]
    },
    {
     "name": "stderr",
     "output_type": "stream",
     "text": [
      "100%|██████████| 1783525/1783525 [00:04<00:00, 359408.98it/s]\n",
      "  2%|▏         | 33500/1783525 [00:00<00:05, 334997.92it/s]"
     ]
    },
    {
     "name": "stdout",
     "output_type": "stream",
     "text": [
      "481 1062 109.1230703242175\n"
     ]
    },
    {
     "name": "stderr",
     "output_type": "stream",
     "text": [
      "100%|██████████| 1783525/1783525 [00:04<00:00, 360846.17it/s]\n",
      "  2%|▏         | 33765/1783525 [00:00<00:05, 337647.91it/s]"
     ]
    },
    {
     "name": "stdout",
     "output_type": "stream",
     "text": [
      "504 958 119.49496306471734\n"
     ]
    },
    {
     "name": "stderr",
     "output_type": "stream",
     "text": [
      "100%|██████████| 1783525/1783525 [00:04<00:00, 360109.44it/s]\n",
      "  2%|▏         | 33891/1783525 [00:00<00:05, 337631.22it/s]"
     ]
    },
    {
     "name": "stdout",
     "output_type": "stream",
     "text": [
      "564 864 127.49903645869837\n"
     ]
    },
    {
     "name": "stderr",
     "output_type": "stream",
     "text": [
      "100%|██████████| 1783525/1783525 [00:04<00:00, 361542.61it/s]\n",
      "  2%|▏         | 33578/1783525 [00:00<00:05, 335771.51it/s]"
     ]
    },
    {
     "name": "stdout",
     "output_type": "stream",
     "text": [
      "628 804 131.0940569938745\n"
     ]
    },
    {
     "name": "stderr",
     "output_type": "stream",
     "text": [
      "100%|██████████| 1783525/1783525 [00:04<00:00, 363905.77it/s]\n",
      "  2%|▏         | 33780/1783525 [00:00<00:05, 337793.88it/s]"
     ]
    },
    {
     "name": "stdout",
     "output_type": "stream",
     "text": [
      "702 736 138.71372086177655\n"
     ]
    },
    {
     "name": "stderr",
     "output_type": "stream",
     "text": [
      "100%|██████████| 1783525/1783525 [00:04<00:00, 363478.80it/s]\n",
      "  2%|▏         | 33039/1783525 [00:00<00:05, 328494.21it/s]"
     ]
    },
    {
     "name": "stdout",
     "output_type": "stream",
     "text": [
      "635 693 150.112960008971\n"
     ]
    },
    {
     "name": "stderr",
     "output_type": "stream",
     "text": [
      "100%|██████████| 1783525/1783525 [00:04<00:00, 362957.77it/s]\n",
      "  2%|▏         | 34316/1783525 [00:00<00:05, 341834.33it/s]"
     ]
    },
    {
     "name": "stdout",
     "output_type": "stream",
     "text": [
      "737 651 160.9883405054597\n"
     ]
    },
    {
     "name": "stderr",
     "output_type": "stream",
     "text": [
      "100%|██████████| 1783525/1783525 [00:04<00:00, 366219.99it/s]\n",
      "  2%|▏         | 34159/1783525 [00:00<00:05, 341587.07it/s]"
     ]
    },
    {
     "name": "stdout",
     "output_type": "stream",
     "text": [
      "790 615 167.4029744466716\n"
     ]
    },
    {
     "name": "stderr",
     "output_type": "stream",
     "text": [
      "100%|██████████| 1783525/1783525 [00:04<00:00, 365437.34it/s]\n",
      "  2%|▏         | 27438/1783525 [00:00<00:06, 273890.51it/s]"
     ]
    },
    {
     "name": "stdout",
     "output_type": "stream",
     "text": [
      "789 586 177.1002621213608\n"
     ]
    },
    {
     "name": "stderr",
     "output_type": "stream",
     "text": [
      "100%|██████████| 1783525/1783525 [00:05<00:00, 324412.23it/s]\n",
      "  2%|▏         | 28713/1783525 [00:00<00:06, 287124.80it/s]"
     ]
    },
    {
     "name": "stdout",
     "output_type": "stream",
     "text": [
      "26 5848 11.014999509398523\n"
     ]
    },
    {
     "name": "stderr",
     "output_type": "stream",
     "text": [
      "100%|██████████| 1783525/1783525 [00:05<00:00, 343076.10it/s]\n",
      "  2%|▏         | 31168/1783525 [00:00<00:05, 311673.61it/s]"
     ]
    },
    {
     "name": "stdout",
     "output_type": "stream",
     "text": [
      "52 3043 22.475875583465328\n"
     ]
    },
    {
     "name": "stderr",
     "output_type": "stream",
     "text": [
      "100%|██████████| 1783525/1783525 [00:05<00:00, 352439.96it/s]\n",
      "  2%|▏         | 31936/1783525 [00:00<00:05, 319334.42it/s]"
     ]
    },
    {
     "name": "stdout",
     "output_type": "stream",
     "text": [
      "147 2148 34.082171542310874\n"
     ]
    },
    {
     "name": "stderr",
     "output_type": "stream",
     "text": [
      "100%|██████████| 1783525/1783525 [00:05<00:00, 355293.03it/s]\n",
      "  2%|▏         | 32319/1783525 [00:00<00:05, 323188.00it/s]"
     ]
    },
    {
     "name": "stdout",
     "output_type": "stream",
     "text": [
      "194 1673 46.191449517107976\n"
     ]
    },
    {
     "name": "stderr",
     "output_type": "stream",
     "text": [
      "100%|██████████| 1783525/1783525 [00:05<00:00, 356443.58it/s]\n",
      "  2%|▏         | 32918/1783525 [00:00<00:05, 329177.96it/s]"
     ]
    },
    {
     "name": "stdout",
     "output_type": "stream",
     "text": [
      "240 1418 57.544782383201806\n"
     ]
    },
    {
     "name": "stderr",
     "output_type": "stream",
     "text": [
      "100%|██████████| 1783525/1783525 [00:04<00:00, 359860.56it/s]\n",
      "  2%|▏         | 32985/1783525 [00:00<00:05, 328876.46it/s]"
     ]
    },
    {
     "name": "stdout",
     "output_type": "stream",
     "text": [
      "395 1214 71.09587362105943\n"
     ]
    },
    {
     "name": "stderr",
     "output_type": "stream",
     "text": [
      "100%|██████████| 1783525/1783525 [00:04<00:00, 361476.82it/s]\n",
      "  2%|▏         | 33554/1783525 [00:00<00:05, 335533.12it/s]"
     ]
    },
    {
     "name": "stdout",
     "output_type": "stream",
     "text": [
      "436 1062 101.42580563771183\n"
     ]
    },
    {
     "name": "stderr",
     "output_type": "stream",
     "text": [
      "100%|██████████| 1783525/1783525 [00:04<00:00, 360128.10it/s]\n",
      "  2%|▏         | 33147/1783525 [00:00<00:05, 331465.57it/s]"
     ]
    },
    {
     "name": "stdout",
     "output_type": "stream",
     "text": [
      "461 943 113.03774996145275\n"
     ]
    },
    {
     "name": "stderr",
     "output_type": "stream",
     "text": [
      "100%|██████████| 1783525/1783525 [00:04<00:00, 364517.75it/s]\n",
      "  2%|▏         | 33418/1783525 [00:00<00:05, 334158.81it/s]"
     ]
    },
    {
     "name": "stdout",
     "output_type": "stream",
     "text": [
      "538 866 122.0815245090481\n"
     ]
    },
    {
     "name": "stderr",
     "output_type": "stream",
     "text": [
      "100%|██████████| 1783525/1783525 [00:04<00:00, 360926.81it/s]\n",
      "  2%|▏         | 33030/1783525 [00:00<00:05, 328483.37it/s]"
     ]
    },
    {
     "name": "stdout",
     "output_type": "stream",
     "text": [
      "554 799 132.80507758511936\n"
     ]
    },
    {
     "name": "stderr",
     "output_type": "stream",
     "text": [
      "100%|██████████| 1783525/1783525 [00:04<00:00, 359788.61it/s]\n",
      "  2%|▏         | 33956/1783525 [00:00<00:05, 339558.70it/s]"
     ]
    },
    {
     "name": "stdout",
     "output_type": "stream",
     "text": [
      "674 737 142.00815407689828\n"
     ]
    },
    {
     "name": "stderr",
     "output_type": "stream",
     "text": [
      "100%|██████████| 1783525/1783525 [00:04<00:00, 360523.50it/s]\n",
      "  2%|▏         | 34021/1783525 [00:00<00:05, 340209.51it/s]"
     ]
    },
    {
     "name": "stdout",
     "output_type": "stream",
     "text": [
      "684 684 148.41921812141686\n"
     ]
    },
    {
     "name": "stderr",
     "output_type": "stream",
     "text": [
      "100%|██████████| 1783525/1783525 [00:04<00:00, 362111.06it/s]\n",
      "  2%|▏         | 34173/1783525 [00:00<00:05, 341728.70it/s]"
     ]
    },
    {
     "name": "stdout",
     "output_type": "stream",
     "text": [
      "786 653 157.76713082238825\n"
     ]
    },
    {
     "name": "stderr",
     "output_type": "stream",
     "text": [
      "100%|██████████| 1783525/1783525 [00:04<00:00, 364298.66it/s]\n",
      "  2%|▏         | 34329/1783525 [00:00<00:05, 341684.67it/s]"
     ]
    },
    {
     "name": "stdout",
     "output_type": "stream",
     "text": [
      "795 618 167.72237170771365\n"
     ]
    },
    {
     "name": "stderr",
     "output_type": "stream",
     "text": [
      "100%|██████████| 1783525/1783525 [00:04<00:00, 367219.30it/s]"
     ]
    },
    {
     "name": "stdout",
     "output_type": "stream",
     "text": [
      "823 582 178.09046635174724\n"
     ]
    },
    {
     "name": "stderr",
     "output_type": "stream",
     "text": [
      "\n"
     ]
    }
   ],
   "source": [
    "epsilon_list = list(range(25,400,25))\n",
    "RS_Meta_Index_seg_num_withBound_list = []\n",
    "RS_Meta_Index_mae_withBound_list = []\n",
    "look_list = list(range(200,2000,200))\n",
    "for lookn in look_list:    \n",
    "    RS_Meta_Index_seg_num_withBound = []\n",
    "    RS_Meta_Index_mae_withBound = []\n",
    "    for i in range(len(epsilon_list)):\n",
    "        RS_Meta_Index = RS_Meta(epsilon_list[i],init_epsilon=range(25,400,25),low=1,high=1000,withBound=True)\n",
    "        RS_Meta_Index.learn_index_lookahead(data,lookn=lookn)\n",
    "        RS_Meta_Index_seg_num_withBound.append(RS_Meta_Index.seg_num)\n",
    "        RS_Meta_Index_mae_withBound.append(RS_Meta_Index.mae)\n",
    "    RS_Meta_Index_seg_num_withBound_list.append(RS_Meta_Index_seg_num_withBound)\n",
    "    RS_Meta_Index_mae_withBound_list.append(RS_Meta_Index_mae_withBound)"
   ]
  },
  {
   "cell_type": "code",
   "execution_count": 35,
   "metadata": {},
   "outputs": [
    {
     "data": {
      "image/png": "[encoded data removed]",
      "text/plain": [
       "<Figure size 432x288 with 1 Axes>"
      ]
     },
     "metadata": {
      "needs_background": "light"
     },
     "output_type": "display_data"
    }
   ],
   "source": [
    "markers= [\"v\",\"^\",1, \"o\",1, \"<\",1, \">\", \"1\", \"2\", \"3\", \"4\"]\n",
    "colors = [\"b\", \"r\", 1,\"g\", \"purple\", \"deeppink\", \"tomato\", \"olive\", \"deeppink\"]\n",
    "linestyles = ['solid', 'dotted', '-.', ':', \"--\", (0, (3, 10, 1, 10)), (0, (3, 5, 1, 5, 1, 5)),\n",
    "              (0, (5, 10))]\n",
    "x = np.arange(2500,21000)\n",
    "import matplotlib.pylab as pylab\n",
    "label_size = 18.5\n",
    "ticks_size = 17\n",
    "title_size = 22.5\n",
    "legend_size = 17\n",
    "params = {'legend.fontsize': legend_size,\n",
    "          'axes.labelsize': label_size,\n",
    "          'axes.titlesize': title_size,\n",
    "          'xtick.labelsize': ticks_size,\n",
    "          'ytick.labelsize': ticks_size}\n",
    "pylab.rcParams.update(params)\n",
    "plt.rcParams[\"text.usetex\"] = True\n",
    "plt.rcParams['text.latex.preamble'] = [r'\\boldmath']\n",
    "plt.title('Map, RadixSpline')\n",
    "plt.xlabel('N')\n",
    "plt.ylabel('MAE')\n",
    "def func(x,a,b):\n",
    "    return a * x**b\n",
    "i=0\n",
    "RS_Meta_Index_seg_num_withBound = RS_Meta_Index_seg_num_withBound_list[i]\n",
    "RS_Meta_Index_mae_withBound = RS_Meta_Index_mae_withBound_list[i]\n",
    "p,_ = curve_fit(func,RS_Meta_Index_seg_num_withBound,RS_Meta_Index_mae_withBound)\n",
    "plt.plot(RS_Meta_Index_seg_num_withBound,RS_Meta_Index_mae_withBound,linestyle=linestyles[i], label='Look'+str(look_list[i]),color=colors[i],marker=markers[i],markersize=13)\n",
    "for i in range(1,len(RS_Meta_Index_mae_withBound_list),2):\n",
    "    RS_Meta_Index_seg_num_withBound = RS_Meta_Index_seg_num_withBound_list[i]\n",
    "    RS_Meta_Index_mae_withBound = RS_Meta_Index_mae_withBound_list[i]\n",
    "    p,_ = curve_fit(func,RS_Meta_Index_seg_num_withBound,RS_Meta_Index_mae_withBound)\n",
    "    plt.plot(RS_Meta_Index_seg_num_withBound,RS_Meta_Index_mae_withBound,linestyle=linestyles[i], label='Look'+str(look_list[i]),color=colors[i],marker=markers[i],markersize=13)\n",
    "plt.legend()\n",
    "#plt.savefig(\"{}.pdf\".format(\"results/RadixSpline/Map_lookn_26\"), bbox_inches='tight', pad_inches=0)"
   ]
  },
  {
   "cell_type": "code",
   "execution_count": null,
   "metadata": {},
   "outputs": [],
   "source": []
  },
  {
   "cell_type": "code",
   "execution_count": null,
   "metadata": {},
   "outputs": [],
   "source": []
  }
 ],
 "metadata": {
  "kernelspec": {
   "display_name": "Python 3",
   "language": "python",
   "name": "python3"
  },
  "language_info": {
   "codemirror_mode": {
    "name": "ipython",
    "version": 3
   },
   "file_extension": ".py",
   "mimetype": "text/x-python",
   "name": "python",
   "nbconvert_exporter": "python",
   "pygments_lexer": "ipython3",
   "version": "3.7.0"
  }
 },
 "nbformat": 4,
 "nbformat_minor": 5
}
