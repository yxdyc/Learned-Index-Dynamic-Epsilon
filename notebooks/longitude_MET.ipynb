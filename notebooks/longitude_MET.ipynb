{
 "cells": [
  {
   "cell_type": "code",
   "execution_count": 1,
   "metadata": {},
   "outputs": [],
   "source": [
    "import numpy as np\n",
    "import pandas as pd\n",
    "import matplotlib.pyplot as plt\n",
    "from tqdm import tqdm\n",
    "import struct\n",
    "import sys\n",
    "import time\n",
    "from model.MET import *\n",
    "from model.MET_Meta import *"
   ]
  },
  {
   "cell_type": "code",
   "execution_count": 2,
   "metadata": {},
   "outputs": [
    {
     "name": "stderr",
     "output_type": "stream",
     "text": [
      "100%|██████████| 1783525/1783525 [00:01<00:00, 1201591.88it/s]\n"
     ]
    }
   ],
   "source": [
    "# Real World Data\n",
    "# 'd' for double, 'l' for uint\n",
    "datafile = open('./data/longtitude_china.double','rb')\n",
    "data = datafile.read(8)\n",
    "data_len, = struct.unpack('d', data)\n",
    "data_len = int(data_len)\n",
    "data=[]\n",
    "for i in tqdm(range(data_len)):\n",
    "    data_bin = datafile.read(8)\n",
    "    data_unix, = struct.unpack('d',data_bin)\n",
    "    data.append(data_unix)"
   ]
  },
  {
   "cell_type": "code",
   "execution_count": 3,
   "metadata": {
    "scrolled": true
   },
   "outputs": [
    {
     "name": "stderr",
     "output_type": "stream",
     "text": [
      "100%|██████████| 1783525/1783525 [00:03<00:00, 447117.34it/s]\n",
      "  2%|▏         | 41189/1783525 [00:00<00:04, 411888.43it/s]"
     ]
    },
    {
     "name": "stdout",
     "output_type": "stream",
     "text": [
      "11035 8.168360970549895\n"
     ]
    },
    {
     "name": "stderr",
     "output_type": "stream",
     "text": [
      "100%|██████████| 1783525/1783525 [00:03<00:00, 480855.85it/s]\n",
      "  2%|▏         | 43525/1783525 [00:00<00:03, 435247.30it/s]"
     ]
    },
    {
     "name": "stdout",
     "output_type": "stream",
     "text": [
      "4375 15.39034776636156\n"
     ]
    },
    {
     "name": "stderr",
     "output_type": "stream",
     "text": [
      "100%|██████████| 1783525/1783525 [00:03<00:00, 488060.77it/s]\n",
      "  3%|▎         | 45031/1783525 [00:00<00:03, 450308.28it/s]"
     ]
    },
    {
     "name": "stdout",
     "output_type": "stream",
     "text": [
      "2759 22.23517192077487\n"
     ]
    },
    {
     "name": "stderr",
     "output_type": "stream",
     "text": [
      "100%|██████████| 1783525/1783525 [00:03<00:00, 489520.49it/s]\n",
      "  3%|▎         | 45429/1783525 [00:00<00:03, 454283.93it/s]"
     ]
    },
    {
     "name": "stdout",
     "output_type": "stream",
     "text": [
      "2086 28.889287226139245\n"
     ]
    },
    {
     "name": "stderr",
     "output_type": "stream",
     "text": [
      "100%|██████████| 1783525/1783525 [00:03<00:00, 465397.95it/s]\n",
      "  3%|▎         | 45757/1783525 [00:00<00:03, 457568.25it/s]"
     ]
    },
    {
     "name": "stdout",
     "output_type": "stream",
     "text": [
      "1760 36.0763179658261\n"
     ]
    },
    {
     "name": "stderr",
     "output_type": "stream",
     "text": [
      "100%|██████████| 1783525/1783525 [00:03<00:00, 467442.42it/s]\n",
      "  3%|▎         | 45651/1783525 [00:00<00:03, 456508.26it/s]"
     ]
    },
    {
     "name": "stdout",
     "output_type": "stream",
     "text": [
      "1570 42.647292861047646\n"
     ]
    },
    {
     "name": "stderr",
     "output_type": "stream",
     "text": [
      "100%|██████████| 1783525/1783525 [00:03<00:00, 456862.11it/s]\n",
      "  3%|▎         | 45952/1783525 [00:00<00:03, 459516.06it/s]"
     ]
    },
    {
     "name": "stdout",
     "output_type": "stream",
     "text": [
      "1392 50.7866932058704\n"
     ]
    },
    {
     "name": "stderr",
     "output_type": "stream",
     "text": [
      "100%|██████████| 1783525/1783525 [00:03<00:00, 474239.33it/s]\n",
      "  3%|▎         | 45719/1783525 [00:00<00:03, 457188.26it/s]"
     ]
    },
    {
     "name": "stdout",
     "output_type": "stream",
     "text": [
      "1283 59.038497918448016\n"
     ]
    },
    {
     "name": "stderr",
     "output_type": "stream",
     "text": [
      "100%|██████████| 1783525/1783525 [00:03<00:00, 481071.38it/s]\n",
      "  3%|▎         | 44957/1783525 [00:00<00:03, 449561.85it/s]"
     ]
    },
    {
     "name": "stdout",
     "output_type": "stream",
     "text": [
      "1170 65.84683309737738\n"
     ]
    },
    {
     "name": "stderr",
     "output_type": "stream",
     "text": [
      "100%|██████████| 1783525/1783525 [00:03<00:00, 489455.89it/s]\n",
      "  3%|▎         | 45862/1783525 [00:00<00:03, 458616.06it/s]"
     ]
    },
    {
     "name": "stdout",
     "output_type": "stream",
     "text": [
      "1130 73.18922302743164\n"
     ]
    },
    {
     "name": "stderr",
     "output_type": "stream",
     "text": [
      "100%|██████████| 1783525/1783525 [00:03<00:00, 477367.37it/s]\n",
      "  3%|▎         | 45216/1783525 [00:00<00:03, 452156.12it/s]"
     ]
    },
    {
     "name": "stdout",
     "output_type": "stream",
     "text": [
      "1036 82.51474019147474\n"
     ]
    },
    {
     "name": "stderr",
     "output_type": "stream",
     "text": [
      "100%|██████████| 1783525/1783525 [00:03<00:00, 482628.49it/s]\n",
      "  3%|▎         | 45881/1783525 [00:00<00:03, 458802.78it/s]"
     ]
    },
    {
     "name": "stdout",
     "output_type": "stream",
     "text": [
      "997 91.1573350527747\n"
     ]
    },
    {
     "name": "stderr",
     "output_type": "stream",
     "text": [
      "100%|██████████| 1783525/1783525 [00:03<00:00, 477672.50it/s]\n",
      "  3%|▎         | 44918/1783525 [00:00<00:03, 449177.22it/s]"
     ]
    },
    {
     "name": "stdout",
     "output_type": "stream",
     "text": [
      "945 99.7004690150124\n"
     ]
    },
    {
     "name": "stderr",
     "output_type": "stream",
     "text": [
      "100%|██████████| 1783525/1783525 [00:03<00:00, 496590.42it/s]\n",
      "  3%|▎         | 45960/1783525 [00:00<00:03, 459599.34it/s]"
     ]
    },
    {
     "name": "stdout",
     "output_type": "stream",
     "text": [
      "902 106.8457162080711\n"
     ]
    },
    {
     "name": "stderr",
     "output_type": "stream",
     "text": [
      "100%|██████████| 1783525/1783525 [00:03<00:00, 484104.47it/s]"
     ]
    },
    {
     "name": "stdout",
     "output_type": "stream",
     "text": [
      "868 113.79541301635805\n"
     ]
    },
    {
     "name": "stderr",
     "output_type": "stream",
     "text": [
      "\n"
     ]
    },
    {
     "data": {
      "text/plain": [
       "3.801156175384919"
      ]
     },
     "execution_count": 3,
     "metadata": {},
     "output_type": "execute_result"
    }
   ],
   "source": [
    "epsilon_list = list(range(25,400,25))\n",
    "MET_Index_seg_num = []\n",
    "MET_Index_mae = []\n",
    "starttime = time.perf_counter()\n",
    "for i in range(len(epsilon_list)):\n",
    "    epsilon = epsilon_list[i]\n",
    "    MET_Index = MET(epsilon)\n",
    "    MET_Index.learn_index(data)\n",
    "    MET_Index_seg_num.append(MET_Index.seg_num)\n",
    "    MET_Index_mae.append(MET_Index.mae)\n",
    "endtime = time.perf_counter()\n",
    "avg_time = (endtime - starttime) / len(epsilon_list)\n",
    "avg_time"
   ]
  },
  {
   "cell_type": "code",
   "execution_count": 4,
   "metadata": {
    "scrolled": true
   },
   "outputs": [
    {
     "name": "stderr",
     "output_type": "stream",
     "text": [
      "100%|██████████| 1783525/1783525 [00:04<00:00, 359485.26it/s]\n",
      "  2%|▏         | 33222/1783525 [00:00<00:05, 332219.52it/s]"
     ]
    },
    {
     "name": "stdout",
     "output_type": "stream",
     "text": [
      "9211 8.706474537783322\n"
     ]
    },
    {
     "name": "stderr",
     "output_type": "stream",
     "text": [
      "100%|██████████| 1783525/1783525 [00:04<00:00, 416833.84it/s]\n",
      "  2%|▏         | 38742/1783525 [00:00<00:04, 387414.83it/s]"
     ]
    },
    {
     "name": "stdout",
     "output_type": "stream",
     "text": [
      "3710 15.714780560967746\n"
     ]
    },
    {
     "name": "stderr",
     "output_type": "stream",
     "text": [
      "100%|██████████| 1783525/1783525 [00:04<00:00, 435964.22it/s]\n",
      "  2%|▏         | 39797/1783525 [00:00<00:04, 397969.43it/s]"
     ]
    },
    {
     "name": "stdout",
     "output_type": "stream",
     "text": [
      "2461 22.508033809450385\n"
     ]
    },
    {
     "name": "stderr",
     "output_type": "stream",
     "text": [
      "100%|██████████| 1783525/1783525 [00:04<00:00, 432862.92it/s]\n",
      "  2%|▏         | 41100/1783525 [00:00<00:04, 410992.55it/s]"
     ]
    },
    {
     "name": "stdout",
     "output_type": "stream",
     "text": [
      "1922 29.244232629203402\n"
     ]
    },
    {
     "name": "stderr",
     "output_type": "stream",
     "text": [
      "100%|██████████| 1783525/1783525 [00:03<00:00, 446584.75it/s]\n",
      "  2%|▏         | 40555/1783525 [00:00<00:04, 405549.42it/s]"
     ]
    },
    {
     "name": "stdout",
     "output_type": "stream",
     "text": [
      "1684 36.25221962125566\n"
     ]
    },
    {
     "name": "stderr",
     "output_type": "stream",
     "text": [
      "100%|██████████| 1783525/1783525 [00:04<00:00, 440202.90it/s]\n",
      "  2%|▏         | 40877/1783525 [00:00<00:04, 408762.59it/s]"
     ]
    },
    {
     "name": "stdout",
     "output_type": "stream",
     "text": [
      "1511 43.471118150852945\n"
     ]
    },
    {
     "name": "stderr",
     "output_type": "stream",
     "text": [
      "100%|██████████| 1783525/1783525 [00:04<00:00, 444114.16it/s]\n",
      "  2%|▏         | 40926/1783525 [00:00<00:04, 409253.56it/s]"
     ]
    },
    {
     "name": "stdout",
     "output_type": "stream",
     "text": [
      "1405 48.83980263803423\n"
     ]
    },
    {
     "name": "stderr",
     "output_type": "stream",
     "text": [
      "100%|██████████| 1783525/1783525 [00:04<00:00, 440258.34it/s]\n",
      "  2%|▏         | 39876/1783525 [00:00<00:04, 398752.77it/s]"
     ]
    },
    {
     "name": "stdout",
     "output_type": "stream",
     "text": [
      "1295 57.82294669264518\n"
     ]
    },
    {
     "name": "stderr",
     "output_type": "stream",
     "text": [
      "100%|██████████| 1783525/1783525 [00:03<00:00, 451066.04it/s]\n",
      "  2%|▏         | 40282/1783525 [00:00<00:04, 402813.66it/s]"
     ]
    },
    {
     "name": "stdout",
     "output_type": "stream",
     "text": [
      "1205 65.84440924573528\n"
     ]
    },
    {
     "name": "stderr",
     "output_type": "stream",
     "text": [
      "100%|██████████| 1783525/1783525 [00:04<00:00, 442221.12it/s]\n",
      "  2%|▏         | 42182/1783525 [00:00<00:04, 421819.40it/s]"
     ]
    },
    {
     "name": "stdout",
     "output_type": "stream",
     "text": [
      "1113 72.24350205351762\n"
     ]
    },
    {
     "name": "stderr",
     "output_type": "stream",
     "text": [
      "100%|██████████| 1783525/1783525 [00:03<00:00, 452013.57it/s]\n",
      "  2%|▏         | 41279/1783525 [00:00<00:04, 412785.47it/s]"
     ]
    },
    {
     "name": "stdout",
     "output_type": "stream",
     "text": [
      "1049 81.12768590291698\n"
     ]
    },
    {
     "name": "stderr",
     "output_type": "stream",
     "text": [
      "100%|██████████| 1783525/1783525 [00:03<00:00, 447295.08it/s]\n",
      "  2%|▏         | 41638/1783525 [00:00<00:04, 416371.46it/s]"
     ]
    },
    {
     "name": "stdout",
     "output_type": "stream",
     "text": [
      "996 87.25370488218556\n"
     ]
    },
    {
     "name": "stderr",
     "output_type": "stream",
     "text": [
      "100%|██████████| 1783525/1783525 [00:03<00:00, 462855.30it/s]\n",
      "  2%|▏         | 42301/1783525 [00:00<00:04, 423009.39it/s]"
     ]
    },
    {
     "name": "stdout",
     "output_type": "stream",
     "text": [
      "946 96.39480523121347\n"
     ]
    },
    {
     "name": "stderr",
     "output_type": "stream",
     "text": [
      "100%|██████████| 1783525/1783525 [00:03<00:00, 462499.68it/s]\n",
      "  2%|▏         | 41936/1783525 [00:00<00:04, 419351.40it/s]"
     ]
    },
    {
     "name": "stdout",
     "output_type": "stream",
     "text": [
      "915 103.352795727562\n"
     ]
    },
    {
     "name": "stderr",
     "output_type": "stream",
     "text": [
      "100%|██████████| 1783525/1783525 [00:03<00:00, 458700.22it/s]"
     ]
    },
    {
     "name": "stdout",
     "output_type": "stream",
     "text": [
      "866 114.8117811637067\n"
     ]
    },
    {
     "name": "stderr",
     "output_type": "stream",
     "text": [
      "\n"
     ]
    },
    {
     "data": {
      "text/plain": [
       "4.136715172231197"
      ]
     },
     "execution_count": 4,
     "metadata": {},
     "output_type": "execute_result"
    }
   ],
   "source": [
    "MET_Meta_Index_seg_num_withBound = []\n",
    "MET_Meta_Index_mae_withBound = []\n",
    "starttime = time.perf_counter()\n",
    "for i in range(len(epsilon_list)):\n",
    "    MET_Meta_Index = MET_Meta(epsilon_list[i],init_epsilon=range(25,400,25),low=1,high=1000,withBound=True)\n",
    "    MET_Meta_Index.learn_index_lookahead(data,lookn=400)\n",
    "    MET_Meta_Index_seg_num_withBound.append(MET_Meta_Index.seg_num)\n",
    "    MET_Meta_Index_mae_withBound.append(MET_Meta_Index.mae)\n",
    "endtime = time.perf_counter()\n",
    "avg_time = (endtime - starttime) / len(epsilon_list)\n",
    "avg_time"
   ]
  },
  {
   "cell_type": "code",
   "execution_count": 7,
   "metadata": {},
   "outputs": [
    {
     "data": {
      "text/plain": [
       "<matplotlib.legend.Legend at 0x7fb4c94d4d68>"
      ]
     },
     "execution_count": 7,
     "metadata": {},
     "output_type": "execute_result"
    },
    {
     "data": {
      "image/png": "[encoded data removed]",
      "text/plain": [
       "<Figure size 432x288 with 1 Axes>"
      ]
     },
     "metadata": {
      "needs_background": "light"
     },
     "output_type": "display_data"
    }
   ],
   "source": [
    "plt.rcParams[\"text.usetex\"] = True\n",
    "markers = [\"v\", \"^\", \"o\", \"<\", \">\", \"1\", \"2\", \"3\", \"4\"]\n",
    "colors = [\"b\", \"r\", \"g\", \"purple\", \"teal\", \"tomato\", \"olive\", \"deeppink\"]\n",
    "linestyles = ['solid', 'dotted', '-.', ':', \"--\", (0, (3, 10, 1, 10)), (0, (3, 5, 1, 5, 1, 5)),\n",
    "              (0, (5, 10))]\n",
    "\n",
    "plt.title('Longitude, MAE-\\#SEG Trade-off')\n",
    "plt.xlabel('\\#SEG')\n",
    "plt.ylabel('MAE')\n",
    "x = np.arange(860,11000)\n",
    "def func(x,a,b):\n",
    "    return a * x**b\n",
    "p1,_ = curve_fit(func,MET_Index_seg_num,MET_Index_mae)\n",
    "p2,_ = curve_fit(func,MET_Meta_Index_seg_num_withBound,MET_Meta_Index_mae_withBound)\n",
    "#p3,_ = curve_fit(func,PGM_Index_seg_num,PGM_Index_mae)\n",
    "#p4,_ = curve_fit(func,MET_Meta_Index_seg_num_withBound,MET_Meta_Index_mae_withBound)\n",
    "plt.plot(x,p1[0]*x**p1[1],c=colors[0], linestyle=linestyles[0], label='FITing-Tree')\n",
    "plt.scatter(MET_Index_seg_num, MET_Index_mae,c=colors[0],marker=markers[0])\n",
    "plt.plot(x,p2[0]*x**p2[1],c=colors[1], linestyle=linestyles[1], label='FITing-Tree, Dynamic $\\epsilon$')\n",
    "plt.scatter(MET_Meta_Index_seg_num_withBound, MET_Meta_Index_mae_withBound,c=colors[1],marker=markers[1])\n",
    "plt.legend()\n",
    "#plt.savefig(\"{}.pdf\".format(\"results/Main_exp/Longitude_tradeoff_22\"), bbox_inches='tight', pad_inches=0)"
   ]
  },
  {
   "cell_type": "code",
   "execution_count": 8,
   "metadata": {},
   "outputs": [
    {
     "data": {
      "text/plain": [
       "(130148.03262256163, 121655.07036912379)"
      ]
     },
     "execution_count": 8,
     "metadata": {},
     "output_type": "execute_result"
    }
   ],
   "source": [
    "def calc_AUC(x,y):\n",
    "    area=0\n",
    "    for i in range(len(x)-1):\n",
    "        area += (y[i]+y[i+1])*(x[i+1]-x[i]) / 2 \n",
    "    return area\n",
    "AUC1 = calc_AUC(x,p1[0]*x**p1[1])\n",
    "AUC2 = calc_AUC(x,p2[0]*x**p2[1])\n",
    "#AUC3 = calc_AUC(x,p3[0]*x**p3[1])\n",
    "AUC1,AUC2"
   ]
  },
  {
   "cell_type": "code",
   "execution_count": 6,
   "metadata": {
    "scrolled": true
   },
   "outputs": [
    {
     "name": "stderr",
     "output_type": "stream",
     "text": [
      "100%|██████████| 1783525/1783525 [00:02<00:00, 658190.88it/s]\n",
      "  3%|▎         | 60520/1783525 [00:00<00:02, 605194.81it/s]"
     ]
    },
    {
     "name": "stdout",
     "output_type": "stream",
     "text": [
      "6126 9.583805665746205\n"
     ]
    },
    {
     "name": "stderr",
     "output_type": "stream",
     "text": [
      "100%|██████████| 1783525/1783525 [00:02<00:00, 703739.96it/s]\n",
      "  4%|▎         | 64862/1783525 [00:00<00:02, 648617.53it/s]"
     ]
    },
    {
     "name": "stdout",
     "output_type": "stream",
     "text": [
      "2184 31.09437210019484\n"
     ]
    },
    {
     "name": "stderr",
     "output_type": "stream",
     "text": [
      "100%|██████████| 1783525/1783525 [00:02<00:00, 722263.47it/s]\n",
      "  4%|▎         | 65650/1783525 [00:00<00:02, 656494.37it/s]"
     ]
    },
    {
     "name": "stdout",
     "output_type": "stream",
     "text": [
      "1456 50.85854753928316\n"
     ]
    },
    {
     "name": "stderr",
     "output_type": "stream",
     "text": [
      "100%|██████████| 1783525/1783525 [00:02<00:00, 731175.55it/s]\n",
      "  4%|▎         | 65968/1783525 [00:00<00:02, 659679.06it/s]"
     ]
    },
    {
     "name": "stdout",
     "output_type": "stream",
     "text": [
      "1100 72.80810978259346\n"
     ]
    },
    {
     "name": "stderr",
     "output_type": "stream",
     "text": [
      "100%|██████████| 1783525/1783525 [00:02<00:00, 734254.60it/s]\n",
      "  4%|▎         | 66069/1783525 [00:00<00:02, 659635.35it/s]"
     ]
    },
    {
     "name": "stdout",
     "output_type": "stream",
     "text": [
      "878 98.42962728304902\n"
     ]
    },
    {
     "name": "stderr",
     "output_type": "stream",
     "text": [
      "100%|██████████| 1783525/1783525 [00:02<00:00, 737253.23it/s]\n",
      "  4%|▎         | 66155/1783525 [00:00<00:02, 658866.03it/s]"
     ]
    },
    {
     "name": "stdout",
     "output_type": "stream",
     "text": [
      "749 114.88734780841311\n"
     ]
    },
    {
     "name": "stderr",
     "output_type": "stream",
     "text": [
      "100%|██████████| 1783525/1783525 [00:02<00:00, 734398.98it/s]"
     ]
    },
    {
     "name": "stdout",
     "output_type": "stream",
     "text": [
      "650 140.73121823355433\n"
     ]
    },
    {
     "name": "stderr",
     "output_type": "stream",
     "text": [
      "\n"
     ]
    },
    {
     "data": {
      "text/plain": [
       "-1.1973011896014214"
      ]
     },
     "execution_count": 6,
     "metadata": {},
     "output_type": "execute_result"
    }
   ],
   "source": [
    "seg_err_list = np.array(MET_Index_mae)*data_len/np.array(MET_Index_seg_num)\n",
    "MET_Random_Index_seg_num = []\n",
    "MET_Random_Index_mae = []\n",
    "starttime = time.perf_counter()\n",
    "epsilon_high_list = list(range(50,700,100))\n",
    "for i in range(len(epsilon_high_list)):\n",
    "    MET_Random_Index = MET_Random(epsilon_list[i],init_epsilon=range(25,400,25),low=1,high=epsilon_high_list[i],withBound=True)\n",
    "    MET_Random_Index.learn_index_lookahead(data,lookn=400)\n",
    "    MET_Random_Index_seg_num.append(MET_Random_Index.seg_num)\n",
    "    MET_Random_Index_mae.append(MET_Random_Index.mae)\n",
    "endtime = time.perf_counter()\n",
    "avg_time = (starttime - endtime) / len(epsilon_list)\n",
    "avg_time"
   ]
  },
  {
   "cell_type": "code",
   "execution_count": 7,
   "metadata": {
    "scrolled": true
   },
   "outputs": [
    {
     "name": "stderr",
     "output_type": "stream",
     "text": [
      "100%|██████████| 1783525/1783525 [00:14<00:00, 122816.20it/s]\n",
      "  1%|          | 10511/1783525 [00:00<00:16, 105109.10it/s]"
     ]
    },
    {
     "name": "stdout",
     "output_type": "stream",
     "text": [
      "6566 6.405254201651225\n"
     ]
    },
    {
     "name": "stderr",
     "output_type": "stream",
     "text": [
      "100%|██████████| 1783525/1783525 [00:08<00:00, 221015.34it/s]\n",
      "  1%|          | 15869/1783525 [00:00<00:11, 158689.77it/s]"
     ]
    },
    {
     "name": "stdout",
     "output_type": "stream",
     "text": [
      "4240 10.199745447919149\n"
     ]
    },
    {
     "name": "stderr",
     "output_type": "stream",
     "text": [
      "100%|██████████| 1783525/1783525 [00:06<00:00, 258373.80it/s]\n",
      "  1%|          | 19076/1783525 [00:00<00:09, 190758.36it/s]"
     ]
    },
    {
     "name": "stdout",
     "output_type": "stream",
     "text": [
      "3358 13.390650537559047\n"
     ]
    },
    {
     "name": "stderr",
     "output_type": "stream",
     "text": [
      "100%|██████████| 1783525/1783525 [00:06<00:00, 287828.81it/s]\n",
      "  1%|          | 20618/1783525 [00:00<00:08, 206153.16it/s]"
     ]
    },
    {
     "name": "stdout",
     "output_type": "stream",
     "text": [
      "2935 15.7783720441261\n"
     ]
    },
    {
     "name": "stderr",
     "output_type": "stream",
     "text": [
      "100%|██████████| 1783525/1783525 [00:05<00:00, 299877.72it/s]\n",
      "  1%|▏         | 24073/1783525 [00:00<00:07, 238792.81it/s]"
     ]
    },
    {
     "name": "stdout",
     "output_type": "stream",
     "text": [
      "2670 17.955801012040762\n"
     ]
    },
    {
     "name": "stderr",
     "output_type": "stream",
     "text": [
      "100%|██████████| 1783525/1783525 [00:05<00:00, 333419.54it/s]\n",
      "  1%|▏         | 24998/1783525 [00:00<00:07, 248871.26it/s]"
     ]
    },
    {
     "name": "stdout",
     "output_type": "stream",
     "text": [
      "2335 20.997288515720275\n"
     ]
    },
    {
     "name": "stderr",
     "output_type": "stream",
     "text": [
      "100%|██████████| 1783525/1783525 [00:05<00:00, 343788.32it/s]\n",
      "  1%|▏         | 25531/1783525 [00:00<00:06, 254580.06it/s]"
     ]
    },
    {
     "name": "stdout",
     "output_type": "stream",
     "text": [
      "2211 22.346376978175243\n"
     ]
    },
    {
     "name": "stderr",
     "output_type": "stream",
     "text": [
      "100%|██████████| 1783525/1783525 [00:04<00:00, 360327.74it/s]\n",
      "  2%|▏         | 27436/1783525 [00:00<00:06, 272172.14it/s]"
     ]
    },
    {
     "name": "stdout",
     "output_type": "stream",
     "text": [
      "2077 24.200949243772865\n"
     ]
    },
    {
     "name": "stderr",
     "output_type": "stream",
     "text": [
      "100%|██████████| 1783525/1783525 [00:04<00:00, 375696.94it/s]\n",
      "  2%|▏         | 29376/1783525 [00:00<00:05, 293758.18it/s]"
     ]
    },
    {
     "name": "stdout",
     "output_type": "stream",
     "text": [
      "1987 25.443675866612466\n"
     ]
    },
    {
     "name": "stderr",
     "output_type": "stream",
     "text": [
      "100%|██████████| 1783525/1783525 [00:04<00:00, 390190.05it/s]\n",
      "  2%|▏         | 30202/1783525 [00:00<00:05, 299455.75it/s]"
     ]
    },
    {
     "name": "stdout",
     "output_type": "stream",
     "text": [
      "1847 27.977028076421693\n"
     ]
    },
    {
     "name": "stderr",
     "output_type": "stream",
     "text": [
      "100%|██████████| 1783525/1783525 [00:04<00:00, 392890.00it/s]\n",
      "  2%|▏         | 30993/1783525 [00:00<00:05, 309928.82it/s]"
     ]
    },
    {
     "name": "stdout",
     "output_type": "stream",
     "text": [
      "1806 28.774834667302112\n"
     ]
    },
    {
     "name": "stderr",
     "output_type": "stream",
     "text": [
      "100%|██████████| 1783525/1783525 [00:04<00:00, 399085.85it/s]\n",
      "  2%|▏         | 32688/1783525 [00:00<00:05, 325490.44it/s]"
     ]
    },
    {
     "name": "stdout",
     "output_type": "stream",
     "text": [
      "1752 29.853230540642826\n"
     ]
    },
    {
     "name": "stderr",
     "output_type": "stream",
     "text": [
      "100%|██████████| 1783525/1783525 [00:04<00:00, 412814.88it/s]\n",
      "  2%|▏         | 33664/1783525 [00:00<00:05, 336593.78it/s]"
     ]
    },
    {
     "name": "stdout",
     "output_type": "stream",
     "text": [
      "1671 31.73024600159796\n"
     ]
    },
    {
     "name": "stderr",
     "output_type": "stream",
     "text": [
      "100%|██████████| 1783525/1783525 [00:04<00:00, 417266.73it/s]\n",
      "  2%|▏         | 33991/1783525 [00:00<00:05, 337100.55it/s]"
     ]
    },
    {
     "name": "stdout",
     "output_type": "stream",
     "text": [
      "1632 32.924082925666866\n"
     ]
    },
    {
     "name": "stderr",
     "output_type": "stream",
     "text": [
      "100%|██████████| 1783525/1783525 [00:04<00:00, 422437.13it/s]"
     ]
    },
    {
     "name": "stdout",
     "output_type": "stream",
     "text": [
      "1598 33.60721828962308\n"
     ]
    },
    {
     "name": "stderr",
     "output_type": "stream",
     "text": [
      "\n"
     ]
    },
    {
     "data": {
      "text/plain": [
       "-5.979995515445868"
      ]
     },
     "execution_count": 7,
     "metadata": {},
     "output_type": "execute_result"
    }
   ],
   "source": [
    "MET_Poly_Index_seg_num = []\n",
    "MET_Poly_Index_mae = []\n",
    "starttime = time.perf_counter()\n",
    "for i in range(len(epsilon_list)):\n",
    "    MET_Poly_Index = MET_Poly(epsilon_list[i],init_epsilon=range(25,400,25),low=1,high=1000,withBound=True)\n",
    "    MET_Poly_Index.learn_index_lookahead(data,lookn=400)\n",
    "    MET_Poly_Index_seg_num.append(MET_Poly_Index.seg_num)\n",
    "    MET_Poly_Index_mae.append(MET_Poly_Index.mae)\n",
    "endtime = time.perf_counter()\n",
    "avg_time = (starttime - endtime) / len(epsilon_list)\n",
    "avg_time"
   ]
  },
  {
   "cell_type": "code",
   "execution_count": null,
   "metadata": {
    "scrolled": true
   },
   "outputs": [
    {
     "name": "stderr",
     "output_type": "stream",
     "text": [
      " 52%|█████▏    | 928400/1783525 [04:29<06:40, 2135.15it/s]"
     ]
    }
   ],
   "source": [
    "MET_LS_Index_seg_num = []\n",
    "MET_LS_Index_mae = []\n",
    "starttime = time.perf_counter()\n",
    "for i in range(len(epsilon_list)):\n",
    "    MET_LS_Index = MET_LS(epsilon_list[i],init_epsilon=range(25,400,50),low=1,high=1000,withBound=True)\n",
    "    MET_LS_Index.learn_index_lookahead(data,lookn=400)\n",
    "    MET_LS_Index_seg_num.append(MET_LS_Index.seg_num)\n",
    "    MET_LS_Index_mae.append(MET_LS_Index.mae)\n",
    "endtime = time.perf_counter()\n",
    "avg_time = (starttime - endtime) / len(epsilon_list)\n",
    "avg_time"
   ]
  },
  {
   "cell_type": "code",
   "execution_count": null,
   "metadata": {},
   "outputs": [],
   "source": [
    "plt.rcParams[\"text.usetex\"] = True\n",
    "markers = [\"v\", \"^\", \"o\", \"<\", \">\", \"1\", \"2\", \"3\", \"4\"]\n",
    "colors = [\"b\", \"r\", \"g\", \"purple\", \"teal\", \"tomato\", \"olive\", \"deeppink\"]\n",
    "linestyles = ['solid', 'dotted', '-.', ':', \"--\", (0, (3, 10, 1, 10)), (0, (3, 5, 1, 5, 1, 5)),\n",
    "              (0, (5, 10))]\n",
    "\n",
    "plt.title('IoT, MAE-\\#SEG Trade-off')\n",
    "plt.xlabel('\\#SEG')\n",
    "plt.ylabel('MAE')\n",
    "x = np.arange(550,6000)\n",
    "def func(x,a,b):\n",
    "    return a * x**b\n",
    "p1,_ = curve_fit(func,MET_Index_seg_num,MET_Index_mae)\n",
    "p2,_ = curve_fit(func,MET_Meta_Index_seg_num_withBound,MET_Meta_Index_mae_withBound)\n",
    "p3,_ = curve_fit(func,MET_Random_Index_seg_num,MET_Random_Index_mae)\n",
    "p4,_ = curve_fit(func,MET_Poly_Index_seg_num,MET_Poly_Index_mae)\n",
    "p5,_ = curve_fit(func,MET_LS_Index_seg_num,MET_LS_Index_mae)\n",
    "plt.plot(x,p1[0]*x**p1[1],c=colors[0], linestyle=linestyles[0], label='FITing-Tree')\n",
    "plt.scatter(MET_Index_seg_num, MET_Index_mae,c=colors[0],marker=markers[0])\n",
    "plt.plot(x,p2[0]*x**p2[1],c=colors[1], linestyle=linestyles[1], label='FITing-Tree, Dynamic $\\epsilon$')\n",
    "plt.scatter(MET_Meta_Index_seg_num_withBound, MET_Meta_Index_mae_withBound,c=colors[1],marker=markers[1])\n",
    "plt.plot(x,p3[0]*x**p3[1],c=colors[2], linestyle=linestyles[2], label='FITing-Tree, Random $\\epsilon$')\n",
    "plt.scatter(MET_Random_Index_seg_num, MET_Random_Index_mae,c=colors[2],marker=markers[2])\n",
    "plt.plot(x,p4[0]*x**p4[1],c=colors[3], linestyle=linestyles[3], label='FITing-Tree, Poly $\\epsilon$')\n",
    "plt.scatter(MET_Poly_Index_seg_num, MET_Poly_Index_mae,c=colors[3],marker=markers[3])\n",
    "plt.plot(x,p5[0]*x**p5[1],c=colors[4], linestyle=linestyles[4], label='FITing-Tree, LS $\\epsilon$')\n",
    "plt.scatter(MET_LS_Index_seg_num, MET_LS_Index_mae,c=colors[4],marker=markers[4])\n",
    "plt.legend()\n",
    "#plt.savefig(\"{}.pdf\".format(\"results/Main_exp/Longitude_tradeoff_22\"), bbox_inches='tight', pad_inches=0)"
   ]
  },
  {
   "cell_type": "code",
   "execution_count": null,
   "metadata": {},
   "outputs": [],
   "source": [
    "def calc_AUC(x,y):\n",
    "    area=0\n",
    "    for i in range(len(x)-1):\n",
    "        area += (y[i]+y[i+1])*(x[i+1]-x[i]) / 2 \n",
    "    return area\n",
    "AUC1 = calc_AUC(x,p1[0]*x**p1[1])\n",
    "AUC2 = calc_AUC(x,p2[0]*x**p2[1])\n",
    "AUC3 = calc_AUC(x,p3[0]*x**p3[1])\n",
    "AUC4 = calc_AUC(x,p4[0]*x**p4[1])\n",
    "AUC5 = calc_AUC(x,p5[0]*x**p5[1])\n",
    "AUC1,AUC2,AUC3,AUC4,AUC5"
   ]
  },
  {
   "cell_type": "code",
   "execution_count": null,
   "metadata": {},
   "outputs": [],
   "source": []
  }
 ],
 "metadata": {
  "kernelspec": {
   "display_name": "Python 3",
   "language": "python",
   "name": "python3"
  },
  "language_info": {
   "codemirror_mode": {
    "name": "ipython",
    "version": 3
   },
   "file_extension": ".py",
   "mimetype": "text/x-python",
   "name": "python",
   "nbconvert_exporter": "python",
   "pygments_lexer": "ipython3",
   "version": "3.7.0"
  }
 },
 "nbformat": 4,
 "nbformat_minor": 5
}
