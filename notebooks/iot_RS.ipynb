{
 "cells": [
  {
   "cell_type": "code",
   "execution_count": 1,
   "metadata": {},
   "outputs": [],
   "source": [
    "import numpy as np\n",
    "import pandas as pd\n",
    "import matplotlib.pyplot as plt\n",
    "from tqdm import tqdm\n",
    "import struct\n",
    "import sys\n",
    "import time\n",
    "from model.RadixSpline import *\n",
    "from model.RS_Meta import *"
   ]
  },
  {
   "cell_type": "code",
   "execution_count": 2,
   "metadata": {},
   "outputs": [
    {
     "name": "stderr",
     "output_type": "stream",
     "text": [
      "100%|██████████| 15190092/15190092 [00:11<00:00, 1358304.24it/s]\n"
     ]
    }
   ],
   "source": [
    "# Real World Data\n",
    "# 'd' for double, 'l' for uint\n",
    "datafile = open('./data/iot_unix.uint64','rb')\n",
    "data = datafile.read(8)\n",
    "data_len, = struct.unpack('l', data)\n",
    "data_len = int(data_len)\n",
    "data=[]\n",
    "for i in tqdm(range(data_len)):\n",
    "    data_bin = datafile.read(8)\n",
    "    data_unix, = struct.unpack('l',data_bin)\n",
    "    data.append(data_unix)"
   ]
  },
  {
   "cell_type": "code",
   "execution_count": 3,
   "metadata": {
    "scrolled": true
   },
   "outputs": [
    {
     "name": "stderr",
     "output_type": "stream",
     "text": [
      "100%|██████████| 15190092/15190092 [00:42<00:00, 356584.69it/s]\n",
      "  0%|          | 35703/15190092 [00:00<00:42, 357026.08it/s]"
     ]
    },
    {
     "name": "stdout",
     "output_type": "stream",
     "text": [
      "25 35754 10.952867237407121\n"
     ]
    },
    {
     "name": "stderr",
     "output_type": "stream",
     "text": [
      "100%|██████████| 15190092/15190092 [00:43<00:00, 352095.13it/s]\n",
      "  0%|          | 35413/15190092 [00:00<00:42, 354123.58it/s]"
     ]
    },
    {
     "name": "stdout",
     "output_type": "stream",
     "text": [
      "50 16316 22.327365364212408\n"
     ]
    },
    {
     "name": "stderr",
     "output_type": "stream",
     "text": [
      "100%|██████████| 15190092/15190092 [00:41<00:00, 363898.98it/s]\n",
      "  0%|          | 35038/15190092 [00:00<00:43, 350375.32it/s]"
     ]
    },
    {
     "name": "stdout",
     "output_type": "stream",
     "text": [
      "75 11278 33.91137953608181\n"
     ]
    },
    {
     "name": "stderr",
     "output_type": "stream",
     "text": [
      "100%|██████████| 15190092/15190092 [00:44<00:00, 344067.38it/s]\n"
     ]
    },
    {
     "name": "stdout",
     "output_type": "stream",
     "text": [
      "100 8610 44.90809654082411\n"
     ]
    },
    {
     "name": "stderr",
     "output_type": "stream",
     "text": [
      "100%|██████████| 15190092/15190092 [00:45<00:00, 333121.97it/s]\n",
      "  0%|          | 35760/15190092 [00:00<00:42, 357592.67it/s]"
     ]
    },
    {
     "name": "stdout",
     "output_type": "stream",
     "text": [
      "125 6842 56.10560666782005\n"
     ]
    },
    {
     "name": "stderr",
     "output_type": "stream",
     "text": [
      "100%|██████████| 15190092/15190092 [00:46<00:00, 323497.93it/s]\n",
      "  0%|          | 36340/15190092 [00:00<00:41, 363398.61it/s]"
     ]
    },
    {
     "name": "stdout",
     "output_type": "stream",
     "text": [
      "150 5714 67.62098952396074\n"
     ]
    },
    {
     "name": "stderr",
     "output_type": "stream",
     "text": [
      "100%|██████████| 15190092/15190092 [00:48<00:00, 315554.23it/s]\n"
     ]
    },
    {
     "name": "stdout",
     "output_type": "stream",
     "text": [
      "175 4843 79.0246537018999\n"
     ]
    },
    {
     "name": "stderr",
     "output_type": "stream",
     "text": [
      "100%|██████████| 15190092/15190092 [00:50<00:00, 300810.43it/s]\n",
      "  0%|          | 23470/15190092 [00:00<01:04, 234689.59it/s]"
     ]
    },
    {
     "name": "stdout",
     "output_type": "stream",
     "text": [
      "200 4183 90.75336936734814\n"
     ]
    },
    {
     "name": "stderr",
     "output_type": "stream",
     "text": [
      "100%|██████████| 15190092/15190092 [00:51<00:00, 297025.69it/s]\n",
      "  0%|          | 35326/15190092 [00:00<00:42, 353256.13it/s]"
     ]
    },
    {
     "name": "stdout",
     "output_type": "stream",
     "text": [
      "225 3755 102.70028351375358\n"
     ]
    },
    {
     "name": "stderr",
     "output_type": "stream",
     "text": [
      "100%|██████████| 15190092/15190092 [00:51<00:00, 294642.23it/s]\n",
      "  0%|          | 19592/15190092 [00:00<01:17, 195916.92it/s]"
     ]
    },
    {
     "name": "stdout",
     "output_type": "stream",
     "text": [
      "250 3434 114.1367823842015\n"
     ]
    },
    {
     "name": "stderr",
     "output_type": "stream",
     "text": [
      "100%|██████████| 15190092/15190092 [00:52<00:00, 291533.76it/s]\n"
     ]
    },
    {
     "name": "stdout",
     "output_type": "stream",
     "text": [
      "275 3166 125.58229127249525\n"
     ]
    },
    {
     "name": "stderr",
     "output_type": "stream",
     "text": [
      "100%|██████████| 15190092/15190092 [00:49<00:00, 308486.48it/s]\n",
      "  0%|          | 36692/15190092 [00:00<00:41, 366913.35it/s]"
     ]
    },
    {
     "name": "stdout",
     "output_type": "stream",
     "text": [
      "300 2910 136.47189661524104\n"
     ]
    },
    {
     "name": "stderr",
     "output_type": "stream",
     "text": [
      "100%|██████████| 15190092/15190092 [00:48<00:00, 310196.64it/s]\n"
     ]
    },
    {
     "name": "stdout",
     "output_type": "stream",
     "text": [
      "325 2696 148.4168043221858\n"
     ]
    },
    {
     "name": "stderr",
     "output_type": "stream",
     "text": [
      "100%|██████████| 15190092/15190092 [00:49<00:00, 307185.57it/s]\n"
     ]
    },
    {
     "name": "stdout",
     "output_type": "stream",
     "text": [
      "350 2550 159.16138862095107\n"
     ]
    },
    {
     "name": "stderr",
     "output_type": "stream",
     "text": [
      "100%|██████████| 15190092/15190092 [00:53<00:00, 282554.98it/s]"
     ]
    },
    {
     "name": "stdout",
     "output_type": "stream",
     "text": [
      "375 2401 170.55842189764223\n"
     ]
    },
    {
     "name": "stderr",
     "output_type": "stream",
     "text": [
      "\n"
     ]
    },
    {
     "data": {
      "text/plain": [
       "-49.07614489346743"
      ]
     },
     "execution_count": 3,
     "metadata": {},
     "output_type": "execute_result"
    }
   ],
   "source": [
    "epsilon_list = list(range(25,400,25))\n",
    "RS_Index_seg_num = []\n",
    "RS_Index_mae = []\n",
    "starttime = time.perf_counter()\n",
    "for i in range(len(epsilon_list)):\n",
    "    epsilon = epsilon_list[i]\n",
    "    RS_Index = RadixSpline(epsilon)\n",
    "    RS_Index.learn_index(data)\n",
    "    RS_Index_seg_num.append(RS_Index.seg_num)\n",
    "    RS_Index_mae.append(RS_Index.mae)\n",
    "endtime = time.perf_counter()\n",
    "avg_time = (starttime - endtime) / len(epsilon_list)\n",
    "avg_time"
   ]
  },
  {
   "cell_type": "code",
   "execution_count": 4,
   "metadata": {
    "scrolled": true
   },
   "outputs": [
    {
     "name": "stderr",
     "output_type": "stream",
     "text": [
      "100%|██████████| 15190092/15190092 [00:54<00:00, 277495.02it/s]\n",
      "  0%|          | 0/15190092 [00:00<?, ?it/s]"
     ]
    },
    {
     "name": "stdout",
     "output_type": "stream",
     "text": [
      "25 20151 13.30440928205043\n"
     ]
    },
    {
     "name": "stderr",
     "output_type": "stream",
     "text": [
      "100%|██████████| 15190092/15190092 [00:51<00:00, 297252.22it/s]\n"
     ]
    },
    {
     "name": "stdout",
     "output_type": "stream",
     "text": [
      "50 10740 28.094801729969774\n"
     ]
    },
    {
     "name": "stderr",
     "output_type": "stream",
     "text": [
      "100%|██████████| 15190092/15190092 [00:51<00:00, 295217.21it/s]\n"
     ]
    },
    {
     "name": "stdout",
     "output_type": "stream",
     "text": [
      "75 7342 42.87624222420773\n"
     ]
    },
    {
     "name": "stderr",
     "output_type": "stream",
     "text": [
      "100%|██████████| 15190092/15190092 [00:52<00:00, 289222.31it/s]\n"
     ]
    },
    {
     "name": "stdout",
     "output_type": "stream",
     "text": [
      "100 5699 56.69909069675154\n"
     ]
    },
    {
     "name": "stderr",
     "output_type": "stream",
     "text": [
      "100%|██████████| 15190092/15190092 [00:53<00:00, 285390.92it/s]\n",
      "  0%|          | 0/15190092 [00:00<?, ?it/s]"
     ]
    },
    {
     "name": "stdout",
     "output_type": "stream",
     "text": [
      "125 4920 67.47116580992399\n"
     ]
    },
    {
     "name": "stderr",
     "output_type": "stream",
     "text": [
      "100%|██████████| 15190092/15190092 [00:43<00:00, 345973.62it/s]\n"
     ]
    },
    {
     "name": "stdout",
     "output_type": "stream",
     "text": [
      "150 4422 75.44396004974821\n"
     ]
    },
    {
     "name": "stderr",
     "output_type": "stream",
     "text": [
      "100%|██████████| 15190092/15190092 [00:43<00:00, 349740.43it/s]\n"
     ]
    },
    {
     "name": "stdout",
     "output_type": "stream",
     "text": [
      "175 3998 86.39303751419017\n"
     ]
    },
    {
     "name": "stderr",
     "output_type": "stream",
     "text": [
      "100%|██████████| 15190092/15190092 [00:42<00:00, 353965.64it/s]\n"
     ]
    },
    {
     "name": "stdout",
     "output_type": "stream",
     "text": [
      "200 3639 97.77886532879458\n"
     ]
    },
    {
     "name": "stderr",
     "output_type": "stream",
     "text": [
      "100%|██████████| 15190092/15190092 [00:43<00:00, 350198.69it/s]\n"
     ]
    },
    {
     "name": "stdout",
     "output_type": "stream",
     "text": [
      "225 3435 105.23586690587523\n"
     ]
    },
    {
     "name": "stderr",
     "output_type": "stream",
     "text": [
      "100%|██████████| 15190092/15190092 [00:43<00:00, 348871.50it/s]\n"
     ]
    },
    {
     "name": "stdout",
     "output_type": "stream",
     "text": [
      "250 3199 116.49315909344064\n"
     ]
    },
    {
     "name": "stderr",
     "output_type": "stream",
     "text": [
      "100%|██████████| 15190092/15190092 [00:43<00:00, 347097.88it/s]\n"
     ]
    },
    {
     "name": "stdout",
     "output_type": "stream",
     "text": [
      "275 2994 129.70793310534262\n"
     ]
    },
    {
     "name": "stderr",
     "output_type": "stream",
     "text": [
      "100%|██████████| 15190092/15190092 [00:43<00:00, 353210.44it/s]\n"
     ]
    },
    {
     "name": "stdout",
     "output_type": "stream",
     "text": [
      "300 2805 142.40570116362693\n"
     ]
    },
    {
     "name": "stderr",
     "output_type": "stream",
     "text": [
      "100%|██████████| 15190092/15190092 [00:44<00:00, 345033.58it/s]\n"
     ]
    },
    {
     "name": "stdout",
     "output_type": "stream",
     "text": [
      "325 2664 154.34115698575098\n"
     ]
    },
    {
     "name": "stderr",
     "output_type": "stream",
     "text": [
      "100%|██████████| 15190092/15190092 [00:45<00:00, 332932.11it/s]\n"
     ]
    },
    {
     "name": "stdout",
     "output_type": "stream",
     "text": [
      "350 2527 164.39423658526889\n"
     ]
    },
    {
     "name": "stderr",
     "output_type": "stream",
     "text": [
      "100%|██████████| 15190092/15190092 [00:46<00:00, 327389.70it/s]"
     ]
    },
    {
     "name": "stdout",
     "output_type": "stream",
     "text": [
      "375 2374 176.1277781596056\n"
     ]
    },
    {
     "name": "stderr",
     "output_type": "stream",
     "text": [
      "\n"
     ]
    },
    {
     "data": {
      "text/plain": [
       "-48.151634539912145"
      ]
     },
     "execution_count": 4,
     "metadata": {},
     "output_type": "execute_result"
    }
   ],
   "source": [
    "epsilon_list = list(range(25,400,25))\n",
    "RS_Meta_Index_seg_num_withBound = []\n",
    "RS_Meta_Index_mae_withBound = []\n",
    "starttime = time.perf_counter()\n",
    "for i in range(len(epsilon_list)):\n",
    "    RS_Meta_Index = RS_Meta(epsilon_list[i],init_epsilon=range(25,400,25),low=1,high=1000,withBound=True)\n",
    "    RS_Meta_Index.learn_index_lookahead(data)\n",
    "    RS_Meta_Index_seg_num_withBound.append(RS_Meta_Index.seg_num)\n",
    "    RS_Meta_Index_mae_withBound.append(RS_Meta_Index.mae)\n",
    "endtime = time.perf_counter()\n",
    "avg_time = (starttime - endtime) / len(epsilon_list)\n",
    "avg_time"
   ]
  },
  {
   "cell_type": "code",
   "execution_count": 7,
   "metadata": {},
   "outputs": [
    {
     "data": {
      "image/png": "[encoded data removed]",
      "text/plain": [
       "<Figure size 432x288 with 1 Axes>"
      ]
     },
     "metadata": {
      "needs_background": "light"
     },
     "output_type": "display_data"
    }
   ],
   "source": [
    "x = np.arange(2300,35000)\n",
    "import matplotlib.pylab as pylab\n",
    "label_size = 18.5\n",
    "ticks_size = 17\n",
    "title_size = 22.5\n",
    "legend_size = 17\n",
    "params = {'legend.fontsize': legend_size,\n",
    "          'axes.labelsize': label_size,\n",
    "          'axes.titlesize': title_size,\n",
    "          'xtick.labelsize': ticks_size,\n",
    "          'ytick.labelsize': ticks_size}\n",
    "pylab.rcParams.update(params)\n",
    "plt.rcParams[\"text.usetex\"] = True\n",
    "plt.rcParams['text.latex.preamble'] = [r'\\boldmath']\n",
    "markers = [\"v\", \"^\", \"o\", \"<\", \">\", \"1\", \"2\", \"3\", \"4\"]\n",
    "colors = [\"b\", \"r\", \"g\", \"purple\", \"teal\", \"tomato\", \"olive\", \"deeppink\"]\n",
    "linestyles = ['solid', 'dotted', '-.', ':', \"--\", (0, (3, 10, 1, 10)), (0, (3, 5, 1, 5, 1, 5)),\n",
    "              (0, (5, 10))]\n",
    "\n",
    "plt.title('$\\mathrm{IoT~Dataset}$')\n",
    "plt.xlabel('$\\mathrm{N}$')\n",
    "plt.ylabel('$\\mathrm{MAE}$')\n",
    "plt.xticks()\n",
    "plt.yticks()\n",
    "def func(x,a,b):\n",
    "    return a * x**b\n",
    "p1,_ = curve_fit(func,RS_Index_seg_num,RS_Index_mae)\n",
    "p2,_ = curve_fit(func,RS_Meta_Index_seg_num_withBound,RS_Meta_Index_mae_withBound)\n",
    "#p3,_ = curve_fit(func,PGM_Index_seg_num,PGM_Index_mae)\n",
    "#p4,_ = curve_fit(func,RS_Meta_Index_seg_num_withBound,RS_Meta_Index_mae_withBound)\n",
    "plt.plot(x,p1[0]*x**p1[1],c=colors[0], linestyle=linestyles[0], label='$\\mathrm{RadixSpline,~Original}$')\n",
    "#plt.scatter(RS_Index_seg_num, RS_Index_mae,c=colors[0],marker=markers[0])\n",
    "plt.plot(x,p2[0]*x**p2[1],c=colors[1], linestyle=linestyles[1], label='$\\mathrm{RadixSpline,~Dynamic~\\epsilon}$')\n",
    "#plt.scatter(RS_Meta_Index_seg_num_withBound, RS_Meta_Index_mae_withBound,c=colors[1],marker=markers[1])\n",
    "plt.legend()\n",
    "#plt.savefig(\"{}.pdf\".format(\"results/RadixSpline/IoT_tradeoff_30\"), bbox_inches='tight', pad_inches=0)"
   ]
  },
  {
   "cell_type": "code",
   "execution_count": 6,
   "metadata": {},
   "outputs": [
    {
     "data": {
      "text/plain": [
       "(1011848.669186913, 767862.6079649301, 0.2411290034289828)"
      ]
     },
     "execution_count": 6,
     "metadata": {},
     "output_type": "execute_result"
    }
   ],
   "source": [
    "def calc_AUC(x,y):\n",
    "    area=0\n",
    "    for i in range(len(x)-1):\n",
    "        area += (y[i]+y[i+1])*(x[i+1]-x[i]) / 2 \n",
    "    return area\n",
    "AUC1 = calc_AUC(x,p1[0]*x**p1[1])\n",
    "AUC2 = calc_AUC(x,p2[0]*x**p2[1])\n",
    "#AUC3 = calc_AUC(x,p3[0]*x**p3[1])\n",
    "AUC1,AUC2,1-AUC2/AUC1"
   ]
  },
  {
   "cell_type": "code",
   "execution_count": null,
   "metadata": {},
   "outputs": [],
   "source": []
  },
  {
   "cell_type": "code",
   "execution_count": 4,
   "metadata": {
    "scrolled": true
   },
   "outputs": [
    {
     "name": "stderr",
     "output_type": "stream",
     "text": [
      "100%|██████████| 15190092/15190092 [00:42<00:00, 354734.59it/s]\n"
     ]
    },
    {
     "name": "stdout",
     "output_type": "stream",
     "text": [
      "25 20112 13.573898762430142\n"
     ]
    },
    {
     "name": "stderr",
     "output_type": "stream",
     "text": [
      "100%|██████████| 15190092/15190092 [00:41<00:00, 370286.34it/s]\n"
     ]
    },
    {
     "name": "stdout",
     "output_type": "stream",
     "text": [
      "50 11147 28.304573665518287\n"
     ]
    },
    {
     "name": "stderr",
     "output_type": "stream",
     "text": [
      "100%|██████████| 15190092/15190092 [00:40<00:00, 378205.98it/s]\n",
      "  0%|          | 0/15190092 [00:00<?, ?it/s]"
     ]
    },
    {
     "name": "stdout",
     "output_type": "stream",
     "text": [
      "75 7327 44.89562578027836\n"
     ]
    },
    {
     "name": "stderr",
     "output_type": "stream",
     "text": [
      "100%|██████████| 15190092/15190092 [00:39<00:00, 381936.07it/s]\n",
      "  0%|          | 0/15190092 [00:00<?, ?it/s]"
     ]
    },
    {
     "name": "stdout",
     "output_type": "stream",
     "text": [
      "100 5671 59.49616045775101\n"
     ]
    },
    {
     "name": "stderr",
     "output_type": "stream",
     "text": [
      "100%|██████████| 15190092/15190092 [00:39<00:00, 379890.48it/s]\n",
      "  0%|          | 0/15190092 [00:00<?, ?it/s]"
     ]
    },
    {
     "name": "stdout",
     "output_type": "stream",
     "text": [
      "125 4797 72.54720293991636\n"
     ]
    },
    {
     "name": "stderr",
     "output_type": "stream",
     "text": [
      "100%|██████████| 15190092/15190092 [00:40<00:00, 379191.25it/s]\n",
      "  0%|          | 0/15190092 [00:00<?, ?it/s]"
     ]
    },
    {
     "name": "stdout",
     "output_type": "stream",
     "text": [
      "150 4243 86.0055155031319\n"
     ]
    },
    {
     "name": "stderr",
     "output_type": "stream",
     "text": [
      "100%|██████████| 15190092/15190092 [00:40<00:00, 379156.34it/s]\n",
      "  0%|          | 0/15190092 [00:00<?, ?it/s]"
     ]
    },
    {
     "name": "stdout",
     "output_type": "stream",
     "text": [
      "175 3792 100.26509490528431\n"
     ]
    },
    {
     "name": "stderr",
     "output_type": "stream",
     "text": [
      "100%|██████████| 15190092/15190092 [00:39<00:00, 382552.51it/s]\n",
      "  0%|          | 0/15190092 [00:00<?, ?it/s]"
     ]
    },
    {
     "name": "stdout",
     "output_type": "stream",
     "text": [
      "200 3519 112.19520434767611\n"
     ]
    },
    {
     "name": "stderr",
     "output_type": "stream",
     "text": [
      "100%|██████████| 15190092/15190092 [00:39<00:00, 380485.27it/s]\n",
      "  0%|          | 0/15190092 [00:00<?, ?it/s]"
     ]
    },
    {
     "name": "stdout",
     "output_type": "stream",
     "text": [
      "225 3347 121.25127076254707\n"
     ]
    },
    {
     "name": "stderr",
     "output_type": "stream",
     "text": [
      "100%|██████████| 15190092/15190092 [00:39<00:00, 382119.08it/s]\n",
      "  0%|          | 0/15190092 [00:00<?, ?it/s]"
     ]
    },
    {
     "name": "stdout",
     "output_type": "stream",
     "text": [
      "250 3145 134.8907239008164\n"
     ]
    },
    {
     "name": "stderr",
     "output_type": "stream",
     "text": [
      "100%|██████████| 15190092/15190092 [00:39<00:00, 381955.00it/s]\n"
     ]
    },
    {
     "name": "stdout",
     "output_type": "stream",
     "text": [
      "275 2975 146.8327684914614\n"
     ]
    },
    {
     "name": "stderr",
     "output_type": "stream",
     "text": [
      "100%|██████████| 15190092/15190092 [00:39<00:00, 381067.48it/s]\n",
      "  0%|          | 0/15190092 [00:00<?, ?it/s]"
     ]
    },
    {
     "name": "stdout",
     "output_type": "stream",
     "text": [
      "300 2856 156.38938664755946\n"
     ]
    },
    {
     "name": "stderr",
     "output_type": "stream",
     "text": [
      "100%|██████████| 15190092/15190092 [00:39<00:00, 382531.12it/s]\n",
      "  0%|          | 0/15190092 [00:00<?, ?it/s]"
     ]
    },
    {
     "name": "stdout",
     "output_type": "stream",
     "text": [
      "325 2703 166.33831388249658\n"
     ]
    },
    {
     "name": "stderr",
     "output_type": "stream",
     "text": [
      "100%|██████████| 15190092/15190092 [00:39<00:00, 385104.66it/s]\n"
     ]
    },
    {
     "name": "stdout",
     "output_type": "stream",
     "text": [
      "350 2507 186.43976297181084\n"
     ]
    },
    {
     "name": "stderr",
     "output_type": "stream",
     "text": [
      "100%|██████████| 15190092/15190092 [00:39<00:00, 384946.40it/s]\n",
      "  0%|          | 0/15190092 [00:00<?, ?it/s]"
     ]
    },
    {
     "name": "stdout",
     "output_type": "stream",
     "text": [
      "375 2384 195.54614218268065\n"
     ]
    },
    {
     "name": "stderr",
     "output_type": "stream",
     "text": [
      "100%|██████████| 15190092/15190092 [00:42<00:00, 357530.46it/s]\n",
      "  0%|          | 0/15190092 [00:00<?, ?it/s]"
     ]
    },
    {
     "name": "stdout",
     "output_type": "stream",
     "text": [
      "25 20351 13.058265019066376\n"
     ]
    },
    {
     "name": "stderr",
     "output_type": "stream",
     "text": [
      "100%|██████████| 15190092/15190092 [00:40<00:00, 371465.18it/s]\n"
     ]
    },
    {
     "name": "stdout",
     "output_type": "stream",
     "text": [
      "50 10771 27.921828057394254\n"
     ]
    },
    {
     "name": "stderr",
     "output_type": "stream",
     "text": [
      "100%|██████████| 15190092/15190092 [00:40<00:00, 377399.48it/s]\n"
     ]
    },
    {
     "name": "stdout",
     "output_type": "stream",
     "text": [
      "75 7428 42.963461643286955\n"
     ]
    },
    {
     "name": "stderr",
     "output_type": "stream",
     "text": [
      "100%|██████████| 15190092/15190092 [00:39<00:00, 381407.76it/s]\n",
      "  0%|          | 0/15190092 [00:00<?, ?it/s]"
     ]
    },
    {
     "name": "stdout",
     "output_type": "stream",
     "text": [
      "100 5698 58.33351851983517\n"
     ]
    },
    {
     "name": "stderr",
     "output_type": "stream",
     "text": [
      "100%|██████████| 15190092/15190092 [00:39<00:00, 381991.43it/s]\n",
      "  0%|          | 0/15190092 [00:00<?, ?it/s]"
     ]
    },
    {
     "name": "stdout",
     "output_type": "stream",
     "text": [
      "125 4910 68.19212701279228\n"
     ]
    },
    {
     "name": "stderr",
     "output_type": "stream",
     "text": [
      "100%|██████████| 15190092/15190092 [00:39<00:00, 381466.09it/s]\n",
      "  0%|          | 0/15190092 [00:00<?, ?it/s]"
     ]
    },
    {
     "name": "stdout",
     "output_type": "stream",
     "text": [
      "150 4396 79.83294235479285\n"
     ]
    },
    {
     "name": "stderr",
     "output_type": "stream",
     "text": [
      "100%|██████████| 15190092/15190092 [00:39<00:00, 384837.91it/s]\n",
      "  0%|          | 0/15190092 [00:00<?, ?it/s]"
     ]
    },
    {
     "name": "stdout",
     "output_type": "stream",
     "text": [
      "175 3931 90.93804685317245\n"
     ]
    },
    {
     "name": "stderr",
     "output_type": "stream",
     "text": [
      "100%|██████████| 15190092/15190092 [00:39<00:00, 384613.39it/s]\n",
      "  0%|          | 0/15190092 [00:00<?, ?it/s]"
     ]
    },
    {
     "name": "stdout",
     "output_type": "stream",
     "text": [
      "200 3623 100.93385221103335\n"
     ]
    },
    {
     "name": "stderr",
     "output_type": "stream",
     "text": [
      "100%|██████████| 15190092/15190092 [00:39<00:00, 383791.12it/s]\n",
      "  0%|          | 0/15190092 [00:00<?, ?it/s]"
     ]
    },
    {
     "name": "stdout",
     "output_type": "stream",
     "text": [
      "225 3409 112.0735433333781\n"
     ]
    },
    {
     "name": "stderr",
     "output_type": "stream",
     "text": [
      "100%|██████████| 15190092/15190092 [00:39<00:00, 384766.45it/s]\n",
      "  0%|          | 0/15190092 [00:00<?, ?it/s]"
     ]
    },
    {
     "name": "stdout",
     "output_type": "stream",
     "text": [
      "250 3171 126.91377952154602\n"
     ]
    },
    {
     "name": "stderr",
     "output_type": "stream",
     "text": [
      "100%|██████████| 15190092/15190092 [00:39<00:00, 385361.64it/s]\n",
      "  0%|          | 0/15190092 [00:00<?, ?it/s]"
     ]
    },
    {
     "name": "stdout",
     "output_type": "stream",
     "text": [
      "275 3042 136.2006201147432\n"
     ]
    },
    {
     "name": "stderr",
     "output_type": "stream",
     "text": [
      "100%|██████████| 15190092/15190092 [00:39<00:00, 385787.53it/s]\n",
      "  0%|          | 0/15190092 [00:00<?, ?it/s]"
     ]
    },
    {
     "name": "stdout",
     "output_type": "stream",
     "text": [
      "300 2889 147.47300714176058\n"
     ]
    },
    {
     "name": "stderr",
     "output_type": "stream",
     "text": [
      "100%|██████████| 15190092/15190092 [00:39<00:00, 384148.17it/s]\n",
      "  0%|          | 0/15190092 [00:00<?, ?it/s]"
     ]
    },
    {
     "name": "stdout",
     "output_type": "stream",
     "text": [
      "325 2758 157.26676158380081\n"
     ]
    },
    {
     "name": "stderr",
     "output_type": "stream",
     "text": [
      "100%|██████████| 15190092/15190092 [00:39<00:00, 384635.76it/s]\n",
      "  0%|          | 0/15190092 [00:00<?, ?it/s]"
     ]
    },
    {
     "name": "stdout",
     "output_type": "stream",
     "text": [
      "350 2631 167.32870399994945\n"
     ]
    },
    {
     "name": "stderr",
     "output_type": "stream",
     "text": [
      "100%|██████████| 15190092/15190092 [00:39<00:00, 384969.84it/s]\n",
      "  0%|          | 0/15190092 [00:00<?, ?it/s]"
     ]
    },
    {
     "name": "stdout",
     "output_type": "stream",
     "text": [
      "375 2482 181.3730459302024\n"
     ]
    },
    {
     "name": "stderr",
     "output_type": "stream",
     "text": [
      "100%|██████████| 15190092/15190092 [00:41<00:00, 361995.15it/s]\n"
     ]
    },
    {
     "name": "stdout",
     "output_type": "stream",
     "text": [
      "25 20363 13.235288107537466\n"
     ]
    },
    {
     "name": "stderr",
     "output_type": "stream",
     "text": [
      "100%|██████████| 15190092/15190092 [00:40<00:00, 372644.45it/s]\n"
     ]
    },
    {
     "name": "stdout",
     "output_type": "stream",
     "text": [
      "50 10693 28.099168523798276\n"
     ]
    },
    {
     "name": "stderr",
     "output_type": "stream",
     "text": [
      "100%|██████████| 15190092/15190092 [00:40<00:00, 375314.54it/s]\n",
      "  0%|          | 0/15190092 [00:00<?, ?it/s]"
     ]
    },
    {
     "name": "stdout",
     "output_type": "stream",
     "text": [
      "75 7424 43.14512762661345\n"
     ]
    },
    {
     "name": "stderr",
     "output_type": "stream",
     "text": [
      "100%|██████████| 15190092/15190092 [00:39<00:00, 381426.94it/s]\n",
      "  0%|          | 0/15190092 [00:00<?, ?it/s]"
     ]
    },
    {
     "name": "stdout",
     "output_type": "stream",
     "text": [
      "100 5754 56.57217099145943\n"
     ]
    },
    {
     "name": "stderr",
     "output_type": "stream",
     "text": [
      "100%|██████████| 15190092/15190092 [00:39<00:00, 380261.77it/s]\n",
      "  0%|          | 0/15190092 [00:00<?, ?it/s]"
     ]
    },
    {
     "name": "stdout",
     "output_type": "stream",
     "text": [
      "125 4901 68.672391845948\n"
     ]
    },
    {
     "name": "stderr",
     "output_type": "stream",
     "text": [
      "100%|██████████| 15190092/15190092 [00:39<00:00, 383494.46it/s]\n",
      "  0%|          | 0/15190092 [00:00<?, ?it/s]"
     ]
    },
    {
     "name": "stdout",
     "output_type": "stream",
     "text": [
      "150 4364 78.71751882740408\n"
     ]
    },
    {
     "name": "stderr",
     "output_type": "stream",
     "text": [
      "100%|██████████| 15190092/15190092 [00:39<00:00, 383168.13it/s]\n",
      "  0%|          | 0/15190092 [00:00<?, ?it/s]"
     ]
    },
    {
     "name": "stdout",
     "output_type": "stream",
     "text": [
      "175 3914 90.51324784603017\n"
     ]
    },
    {
     "name": "stderr",
     "output_type": "stream",
     "text": [
      "100%|██████████| 15190092/15190092 [00:39<00:00, 385234.58it/s]\n",
      "  0%|          | 0/15190092 [00:00<?, ?it/s]"
     ]
    },
    {
     "name": "stdout",
     "output_type": "stream",
     "text": [
      "200 3647 97.80890082825042\n"
     ]
    },
    {
     "name": "stderr",
     "output_type": "stream",
     "text": [
      "100%|██████████| 15190092/15190092 [00:39<00:00, 385070.77it/s]\n"
     ]
    },
    {
     "name": "stdout",
     "output_type": "stream",
     "text": [
      "225 3436 107.47217541539577\n"
     ]
    },
    {
     "name": "stderr",
     "output_type": "stream",
     "text": [
      "100%|██████████| 15190092/15190092 [00:39<00:00, 385371.97it/s]\n",
      "  0%|          | 0/15190092 [00:00<?, ?it/s]"
     ]
    },
    {
     "name": "stdout",
     "output_type": "stream",
     "text": [
      "250 3266 118.58786582727741\n"
     ]
    },
    {
     "name": "stderr",
     "output_type": "stream",
     "text": [
      "100%|██████████| 15190092/15190092 [00:39<00:00, 385812.94it/s]\n",
      "  0%|          | 0/15190092 [00:00<?, ?it/s]"
     ]
    },
    {
     "name": "stdout",
     "output_type": "stream",
     "text": [
      "275 3052 132.52344021352866\n"
     ]
    },
    {
     "name": "stderr",
     "output_type": "stream",
     "text": [
      "100%|██████████| 15190092/15190092 [00:39<00:00, 385568.65it/s]\n"
     ]
    },
    {
     "name": "stdout",
     "output_type": "stream",
     "text": [
      "300 2961 140.39558061926155\n"
     ]
    },
    {
     "name": "stderr",
     "output_type": "stream",
     "text": [
      "100%|██████████| 15190092/15190092 [00:39<00:00, 383857.18it/s]\n",
      "  0%|          | 0/15190092 [00:00<?, ?it/s]"
     ]
    },
    {
     "name": "stdout",
     "output_type": "stream",
     "text": [
      "325 2776 152.15106149455843\n"
     ]
    },
    {
     "name": "stderr",
     "output_type": "stream",
     "text": [
      "100%|██████████| 15190092/15190092 [00:39<00:00, 386436.14it/s]\n",
      "  0%|          | 0/15190092 [00:00<?, ?it/s]"
     ]
    },
    {
     "name": "stdout",
     "output_type": "stream",
     "text": [
      "350 2630 164.6790058941052\n"
     ]
    },
    {
     "name": "stderr",
     "output_type": "stream",
     "text": [
      "100%|██████████| 15190092/15190092 [00:39<00:00, 386286.26it/s]\n",
      "  0%|          | 0/15190092 [00:00<?, ?it/s]"
     ]
    },
    {
     "name": "stdout",
     "output_type": "stream",
     "text": [
      "375 2439 181.61671160385336\n"
     ]
    },
    {
     "name": "stderr",
     "output_type": "stream",
     "text": [
      "100%|██████████| 15190092/15190092 [00:42<00:00, 355087.82it/s]\n"
     ]
    },
    {
     "name": "stdout",
     "output_type": "stream",
     "text": [
      "25 20514 13.356002912951416\n"
     ]
    },
    {
     "name": "stderr",
     "output_type": "stream",
     "text": [
      "100%|██████████| 15190092/15190092 [00:40<00:00, 371134.38it/s]\n"
     ]
    },
    {
     "name": "stdout",
     "output_type": "stream",
     "text": [
      "50 10710 29.005716621071155\n"
     ]
    },
    {
     "name": "stderr",
     "output_type": "stream",
     "text": [
      "100%|██████████| 15190092/15190092 [00:40<00:00, 377509.49it/s]\n",
      "  0%|          | 0/15190092 [00:00<?, ?it/s]"
     ]
    },
    {
     "name": "stdout",
     "output_type": "stream",
     "text": [
      "75 7375 42.230491691557894\n"
     ]
    },
    {
     "name": "stderr",
     "output_type": "stream",
     "text": [
      "100%|██████████| 15190092/15190092 [00:39<00:00, 381165.55it/s]\n",
      "  0%|          | 0/15190092 [00:00<?, ?it/s]"
     ]
    },
    {
     "name": "stdout",
     "output_type": "stream",
     "text": [
      "100 5670 57.532815074457744\n"
     ]
    },
    {
     "name": "stderr",
     "output_type": "stream",
     "text": [
      "100%|██████████| 15190092/15190092 [00:39<00:00, 381381.71it/s]\n",
      "  0%|          | 0/15190092 [00:00<?, ?it/s]"
     ]
    },
    {
     "name": "stdout",
     "output_type": "stream",
     "text": [
      "125 4908 68.49112065944038\n"
     ]
    },
    {
     "name": "stderr",
     "output_type": "stream",
     "text": [
      "100%|██████████| 15190092/15190092 [00:39<00:00, 382471.03it/s]\n"
     ]
    },
    {
     "name": "stdout",
     "output_type": "stream",
     "text": [
      "150 4458 75.88181335570582\n"
     ]
    },
    {
     "name": "stderr",
     "output_type": "stream",
     "text": [
      "100%|██████████| 15190092/15190092 [00:39<00:00, 383560.84it/s]\n",
      "  0%|          | 0/15190092 [00:00<?, ?it/s]"
     ]
    },
    {
     "name": "stdout",
     "output_type": "stream",
     "text": [
      "175 3968 88.27116484877116\n"
     ]
    },
    {
     "name": "stderr",
     "output_type": "stream",
     "text": [
      "100%|██████████| 15190092/15190092 [00:39<00:00, 383612.74it/s]\n",
      "  0%|          | 0/15190092 [00:00<?, ?it/s]"
     ]
    },
    {
     "name": "stdout",
     "output_type": "stream",
     "text": [
      "200 3669 98.37639449451656\n"
     ]
    },
    {
     "name": "stderr",
     "output_type": "stream",
     "text": [
      "100%|██████████| 15190092/15190092 [00:39<00:00, 381739.74it/s]\n"
     ]
    },
    {
     "name": "stdout",
     "output_type": "stream",
     "text": [
      "225 3423 107.565111258049\n"
     ]
    },
    {
     "name": "stderr",
     "output_type": "stream",
     "text": [
      "100%|██████████| 15190092/15190092 [00:39<00:00, 380195.63it/s]\n",
      "  0%|          | 0/15190092 [00:00<?, ?it/s]"
     ]
    },
    {
     "name": "stdout",
     "output_type": "stream",
     "text": [
      "250 3269 115.91392501111909\n"
     ]
    },
    {
     "name": "stderr",
     "output_type": "stream",
     "text": [
      "100%|██████████| 15190092/15190092 [00:39<00:00, 384636.43it/s]\n",
      "  0%|          | 0/15190092 [00:00<?, ?it/s]"
     ]
    },
    {
     "name": "stdout",
     "output_type": "stream",
     "text": [
      "275 3034 130.7812840106564\n"
     ]
    },
    {
     "name": "stderr",
     "output_type": "stream",
     "text": [
      "100%|██████████| 15190092/15190092 [00:39<00:00, 383997.68it/s]\n",
      "  0%|          | 0/15190092 [00:00<?, ?it/s]"
     ]
    },
    {
     "name": "stdout",
     "output_type": "stream",
     "text": [
      "300 2883 142.99078254430586\n"
     ]
    },
    {
     "name": "stderr",
     "output_type": "stream",
     "text": [
      "100%|██████████| 15190092/15190092 [00:39<00:00, 383842.50it/s]\n",
      "  0%|          | 0/15190092 [00:00<?, ?it/s]"
     ]
    },
    {
     "name": "stdout",
     "output_type": "stream",
     "text": [
      "325 2721 153.8507476452414\n"
     ]
    },
    {
     "name": "stderr",
     "output_type": "stream",
     "text": [
      "100%|██████████| 15190092/15190092 [00:40<00:00, 377976.37it/s]\n"
     ]
    },
    {
     "name": "stdout",
     "output_type": "stream",
     "text": [
      "350 2590 167.30659610224876\n"
     ]
    },
    {
     "name": "stderr",
     "output_type": "stream",
     "text": [
      "100%|██████████| 15190092/15190092 [00:40<00:00, 375473.07it/s]\n",
      "  0%|          | 0/15190092 [00:00<?, ?it/s]"
     ]
    },
    {
     "name": "stdout",
     "output_type": "stream",
     "text": [
      "375 2444 179.3968999002771\n"
     ]
    },
    {
     "name": "stderr",
     "output_type": "stream",
     "text": [
      "100%|██████████| 15190092/15190092 [00:42<00:00, 357956.68it/s]\n",
      "  0%|          | 0/15190092 [00:00<?, ?it/s]"
     ]
    },
    {
     "name": "stdout",
     "output_type": "stream",
     "text": [
      "25 20767 13.210619000859245\n"
     ]
    },
    {
     "name": "stderr",
     "output_type": "stream",
     "text": [
      "100%|██████████| 15190092/15190092 [00:40<00:00, 372912.08it/s]\n"
     ]
    },
    {
     "name": "stdout",
     "output_type": "stream",
     "text": [
      "50 10725 27.868786114001153\n"
     ]
    },
    {
     "name": "stderr",
     "output_type": "stream",
     "text": [
      "100%|██████████| 15190092/15190092 [00:40<00:00, 379238.45it/s]\n",
      "  0%|          | 0/15190092 [00:00<?, ?it/s]"
     ]
    },
    {
     "name": "stdout",
     "output_type": "stream",
     "text": [
      "75 7401 42.17094274346726\n"
     ]
    },
    {
     "name": "stderr",
     "output_type": "stream",
     "text": [
      "100%|██████████| 15190092/15190092 [00:39<00:00, 379977.17it/s]\n",
      "  0%|          | 0/15190092 [00:00<?, ?it/s]"
     ]
    },
    {
     "name": "stdout",
     "output_type": "stream",
     "text": [
      "100 5704 55.89576784656735\n"
     ]
    },
    {
     "name": "stderr",
     "output_type": "stream",
     "text": [
      "100%|██████████| 15190092/15190092 [00:40<00:00, 377535.56it/s]\n",
      "  0%|          | 0/15190092 [00:00<?, ?it/s]"
     ]
    },
    {
     "name": "stdout",
     "output_type": "stream",
     "text": [
      "125 4951 67.5921004955072\n"
     ]
    },
    {
     "name": "stderr",
     "output_type": "stream",
     "text": [
      "100%|██████████| 15190092/15190092 [00:40<00:00, 379072.48it/s]\n",
      "  0%|          | 0/15190092 [00:00<?, ?it/s]"
     ]
    },
    {
     "name": "stdout",
     "output_type": "stream",
     "text": [
      "150 4418 75.68571250259708\n"
     ]
    },
    {
     "name": "stderr",
     "output_type": "stream",
     "text": [
      "100%|██████████| 15190092/15190092 [00:39<00:00, 381466.45it/s]\n",
      "  0%|          | 0/15190092 [00:00<?, ?it/s]"
     ]
    },
    {
     "name": "stdout",
     "output_type": "stream",
     "text": [
      "175 3994 86.81416011173599\n"
     ]
    },
    {
     "name": "stderr",
     "output_type": "stream",
     "text": [
      "100%|██████████| 15190092/15190092 [00:39<00:00, 382988.48it/s]\n"
     ]
    },
    {
     "name": "stdout",
     "output_type": "stream",
     "text": [
      "200 3663 96.82043663725013\n"
     ]
    },
    {
     "name": "stderr",
     "output_type": "stream",
     "text": [
      "100%|██████████| 15190092/15190092 [00:39<00:00, 379869.58it/s]\n",
      "  0%|          | 0/15190092 [00:00<?, ?it/s]"
     ]
    },
    {
     "name": "stdout",
     "output_type": "stream",
     "text": [
      "225 3432 106.41306208020333\n"
     ]
    },
    {
     "name": "stderr",
     "output_type": "stream",
     "text": [
      "100%|██████████| 15190092/15190092 [00:40<00:00, 378537.15it/s]\n",
      "  0%|          | 0/15190092 [00:00<?, ?it/s]"
     ]
    },
    {
     "name": "stdout",
     "output_type": "stream",
     "text": [
      "250 3255 114.99052507384418\n"
     ]
    },
    {
     "name": "stderr",
     "output_type": "stream",
     "text": [
      "100%|██████████| 15190092/15190092 [00:39<00:00, 382969.92it/s]\n",
      "  0%|          | 0/15190092 [00:00<?, ?it/s]"
     ]
    },
    {
     "name": "stdout",
     "output_type": "stream",
     "text": [
      "275 3059 127.18451777645586\n"
     ]
    },
    {
     "name": "stderr",
     "output_type": "stream",
     "text": [
      "100%|██████████| 15190092/15190092 [00:39<00:00, 381899.29it/s]\n",
      "  0%|          | 0/15190092 [00:00<?, ?it/s]"
     ]
    },
    {
     "name": "stdout",
     "output_type": "stream",
     "text": [
      "300 2867 139.80589867395142\n"
     ]
    },
    {
     "name": "stderr",
     "output_type": "stream",
     "text": [
      "100%|██████████| 15190092/15190092 [00:39<00:00, 383213.35it/s]\n",
      "  0%|          | 0/15190092 [00:00<?, ?it/s]"
     ]
    },
    {
     "name": "stdout",
     "output_type": "stream",
     "text": [
      "325 2753 150.5109196836991\n"
     ]
    },
    {
     "name": "stderr",
     "output_type": "stream",
     "text": [
      "100%|██████████| 15190092/15190092 [00:39<00:00, 381048.79it/s]\n"
     ]
    },
    {
     "name": "stdout",
     "output_type": "stream",
     "text": [
      "350 2590 166.03732452706672\n"
     ]
    },
    {
     "name": "stderr",
     "output_type": "stream",
     "text": [
      "100%|██████████| 15190092/15190092 [00:39<00:00, 385896.70it/s]\n"
     ]
    },
    {
     "name": "stdout",
     "output_type": "stream",
     "text": [
      "375 2435 178.78234285875294\n"
     ]
    },
    {
     "name": "stderr",
     "output_type": "stream",
     "text": [
      "100%|██████████| 15190092/15190092 [00:42<00:00, 358481.28it/s]\n"
     ]
    },
    {
     "name": "stdout",
     "output_type": "stream",
     "text": [
      "25 21032 13.179264352052641\n"
     ]
    },
    {
     "name": "stderr",
     "output_type": "stream",
     "text": [
      "100%|██████████| 15190092/15190092 [00:40<00:00, 371165.62it/s]\n"
     ]
    },
    {
     "name": "stdout",
     "output_type": "stream",
     "text": [
      "50 10725 28.030691782511916\n"
     ]
    },
    {
     "name": "stderr",
     "output_type": "stream",
     "text": [
      "100%|██████████| 15190092/15190092 [00:40<00:00, 373329.49it/s]\n",
      "  0%|          | 0/15190092 [00:00<?, ?it/s]"
     ]
    },
    {
     "name": "stdout",
     "output_type": "stream",
     "text": [
      "75 7400 41.66865684552799\n"
     ]
    },
    {
     "name": "stderr",
     "output_type": "stream",
     "text": [
      "100%|██████████| 15190092/15190092 [00:40<00:00, 378386.43it/s]\n",
      "  0%|          | 0/15190092 [00:00<?, ?it/s]"
     ]
    },
    {
     "name": "stdout",
     "output_type": "stream",
     "text": [
      "100 5757 55.63040164602032\n"
     ]
    },
    {
     "name": "stderr",
     "output_type": "stream",
     "text": [
      "100%|██████████| 15190092/15190092 [00:39<00:00, 379930.01it/s]\n",
      "  0%|          | 0/15190092 [00:00<?, ?it/s]"
     ]
    },
    {
     "name": "stdout",
     "output_type": "stream",
     "text": [
      "125 4948 67.26522354176657\n"
     ]
    },
    {
     "name": "stderr",
     "output_type": "stream",
     "text": [
      "100%|██████████| 15190092/15190092 [00:39<00:00, 383693.41it/s]\n",
      "  0%|          | 0/15190092 [00:00<?, ?it/s]"
     ]
    },
    {
     "name": "stdout",
     "output_type": "stream",
     "text": [
      "150 4411 75.27683828379709\n"
     ]
    },
    {
     "name": "stderr",
     "output_type": "stream",
     "text": [
      "100%|██████████| 15190092/15190092 [00:39<00:00, 384036.00it/s]\n",
      "  0%|          | 0/15190092 [00:00<?, ?it/s]"
     ]
    },
    {
     "name": "stdout",
     "output_type": "stream",
     "text": [
      "175 3950 87.05401678936506\n"
     ]
    },
    {
     "name": "stderr",
     "output_type": "stream",
     "text": [
      "100%|██████████| 15190092/15190092 [00:39<00:00, 382753.38it/s]\n",
      "  0%|          | 0/15190092 [00:00<?, ?it/s]"
     ]
    },
    {
     "name": "stdout",
     "output_type": "stream",
     "text": [
      "200 3649 97.28272080248098\n"
     ]
    },
    {
     "name": "stderr",
     "output_type": "stream",
     "text": [
      "100%|██████████| 15190092/15190092 [00:39<00:00, 384486.40it/s]\n",
      "  0%|          | 0/15190092 [00:00<?, ?it/s]"
     ]
    },
    {
     "name": "stdout",
     "output_type": "stream",
     "text": [
      "225 3436 105.46790618516333\n"
     ]
    },
    {
     "name": "stderr",
     "output_type": "stream",
     "text": [
      "100%|██████████| 15190092/15190092 [00:39<00:00, 383516.45it/s]\n",
      "  0%|          | 0/15190092 [00:00<?, ?it/s]"
     ]
    },
    {
     "name": "stdout",
     "output_type": "stream",
     "text": [
      "250 3234 116.28678160737934\n"
     ]
    },
    {
     "name": "stderr",
     "output_type": "stream",
     "text": [
      "100%|██████████| 15190092/15190092 [00:39<00:00, 384974.15it/s]\n"
     ]
    },
    {
     "name": "stdout",
     "output_type": "stream",
     "text": [
      "275 3051 126.93739313757942\n"
     ]
    },
    {
     "name": "stderr",
     "output_type": "stream",
     "text": [
      "100%|██████████| 15190092/15190092 [00:39<00:00, 385419.99it/s]\n",
      "  0%|          | 0/15190092 [00:00<?, ?it/s]"
     ]
    },
    {
     "name": "stdout",
     "output_type": "stream",
     "text": [
      "300 2878 137.77997901526862\n"
     ]
    },
    {
     "name": "stderr",
     "output_type": "stream",
     "text": [
      "100%|██████████| 15190092/15190092 [00:39<00:00, 386476.83it/s]\n",
      "  0%|          | 0/15190092 [00:00<?, ?it/s]"
     ]
    },
    {
     "name": "stdout",
     "output_type": "stream",
     "text": [
      "325 2731 151.5853318070753\n"
     ]
    },
    {
     "name": "stderr",
     "output_type": "stream",
     "text": [
      "100%|██████████| 15190092/15190092 [00:39<00:00, 385354.08it/s]\n",
      "  0%|          | 0/15190092 [00:00<?, ?it/s]"
     ]
    },
    {
     "name": "stdout",
     "output_type": "stream",
     "text": [
      "350 2564 166.3041131679782\n"
     ]
    },
    {
     "name": "stderr",
     "output_type": "stream",
     "text": [
      "100%|██████████| 15190092/15190092 [00:39<00:00, 385945.12it/s]\n",
      "  0%|          | 0/15190092 [00:00<?, ?it/s]"
     ]
    },
    {
     "name": "stdout",
     "output_type": "stream",
     "text": [
      "375 2437 178.41269295801501\n"
     ]
    },
    {
     "name": "stderr",
     "output_type": "stream",
     "text": [
      "100%|██████████| 15190092/15190092 [00:42<00:00, 359561.90it/s]\n"
     ]
    },
    {
     "name": "stdout",
     "output_type": "stream",
     "text": [
      "25 21230 13.159285473715366\n"
     ]
    },
    {
     "name": "stderr",
     "output_type": "stream",
     "text": [
      "100%|██████████| 15190092/15190092 [00:40<00:00, 374445.85it/s]\n"
     ]
    },
    {
     "name": "stdout",
     "output_type": "stream",
     "text": [
      "50 10771 27.662436277541968\n"
     ]
    },
    {
     "name": "stderr",
     "output_type": "stream",
     "text": [
      "100%|██████████| 15190092/15190092 [00:40<00:00, 376622.51it/s]\n",
      "  0%|          | 0/15190092 [00:00<?, ?it/s]"
     ]
    },
    {
     "name": "stdout",
     "output_type": "stream",
     "text": [
      "75 7501 40.61952198841192\n"
     ]
    },
    {
     "name": "stderr",
     "output_type": "stream",
     "text": [
      "100%|██████████| 15190092/15190092 [00:40<00:00, 379616.00it/s]\n",
      "  0%|          | 0/15190092 [00:00<?, ?it/s]"
     ]
    },
    {
     "name": "stdout",
     "output_type": "stream",
     "text": [
      "100 5811 55.02530234839921\n"
     ]
    },
    {
     "name": "stderr",
     "output_type": "stream",
     "text": [
      "100%|██████████| 15190092/15190092 [00:39<00:00, 383165.60it/s]\n",
      "  0%|          | 0/15190092 [00:00<?, ?it/s]"
     ]
    },
    {
     "name": "stdout",
     "output_type": "stream",
     "text": [
      "125 4964 66.39038433736938\n"
     ]
    },
    {
     "name": "stderr",
     "output_type": "stream",
     "text": [
      "100%|██████████| 15190092/15190092 [00:39<00:00, 384896.27it/s]\n",
      "  0%|          | 0/15190092 [00:00<?, ?it/s]"
     ]
    },
    {
     "name": "stdout",
     "output_type": "stream",
     "text": [
      "150 4425 75.6640327129026\n"
     ]
    },
    {
     "name": "stderr",
     "output_type": "stream",
     "text": [
      "100%|██████████| 15190092/15190092 [00:39<00:00, 384896.60it/s]\n",
      "  0%|          | 0/15190092 [00:00<?, ?it/s]"
     ]
    },
    {
     "name": "stdout",
     "output_type": "stream",
     "text": [
      "175 3975 87.45968925007169\n"
     ]
    },
    {
     "name": "stderr",
     "output_type": "stream",
     "text": [
      "100%|██████████| 15190092/15190092 [00:39<00:00, 386740.98it/s]\n",
      "  0%|          | 0/15190092 [00:00<?, ?it/s]"
     ]
    },
    {
     "name": "stdout",
     "output_type": "stream",
     "text": [
      "200 3670 96.61329536384638\n"
     ]
    },
    {
     "name": "stderr",
     "output_type": "stream",
     "text": [
      "100%|██████████| 15190092/15190092 [00:39<00:00, 385326.54it/s]\n",
      "  0%|          | 0/15190092 [00:00<?, ?it/s]"
     ]
    },
    {
     "name": "stdout",
     "output_type": "stream",
     "text": [
      "225 3404 105.88832444201128\n"
     ]
    },
    {
     "name": "stderr",
     "output_type": "stream",
     "text": [
      "100%|██████████| 15190092/15190092 [00:39<00:00, 383447.39it/s]\n",
      "  0%|          | 0/15190092 [00:00<?, ?it/s]"
     ]
    },
    {
     "name": "stdout",
     "output_type": "stream",
     "text": [
      "250 3233 115.18949720646853\n"
     ]
    },
    {
     "name": "stderr",
     "output_type": "stream",
     "text": [
      "100%|██████████| 15190092/15190092 [00:39<00:00, 385670.11it/s]\n",
      "  0%|          | 0/15190092 [00:00<?, ?it/s]"
     ]
    },
    {
     "name": "stdout",
     "output_type": "stream",
     "text": [
      "275 2988 130.05736798697467\n"
     ]
    },
    {
     "name": "stderr",
     "output_type": "stream",
     "text": [
      "100%|██████████| 15190092/15190092 [00:39<00:00, 382625.85it/s]\n",
      "  0%|          | 0/15190092 [00:00<?, ?it/s]"
     ]
    },
    {
     "name": "stdout",
     "output_type": "stream",
     "text": [
      "300 2849 140.59857787563104\n"
     ]
    },
    {
     "name": "stderr",
     "output_type": "stream",
     "text": [
      "100%|██████████| 15190092/15190092 [00:39<00:00, 386786.56it/s]\n",
      "  0%|          | 0/15190092 [00:00<?, ?it/s]"
     ]
    },
    {
     "name": "stdout",
     "output_type": "stream",
     "text": [
      "325 2716 152.7384852573638\n"
     ]
    },
    {
     "name": "stderr",
     "output_type": "stream",
     "text": [
      "100%|██████████| 15190092/15190092 [00:39<00:00, 386709.50it/s]\n",
      "  0%|          | 0/15190092 [00:00<?, ?it/s]"
     ]
    },
    {
     "name": "stdout",
     "output_type": "stream",
     "text": [
      "350 2557 164.55158138607717\n"
     ]
    },
    {
     "name": "stderr",
     "output_type": "stream",
     "text": [
      "100%|██████████| 15190092/15190092 [00:39<00:00, 386050.83it/s]\n",
      "  0%|          | 0/15190092 [00:00<?, ?it/s]"
     ]
    },
    {
     "name": "stdout",
     "output_type": "stream",
     "text": [
      "375 2434 179.06061220695702\n"
     ]
    },
    {
     "name": "stderr",
     "output_type": "stream",
     "text": [
      "100%|██████████| 15190092/15190092 [00:42<00:00, 359431.52it/s]\n"
     ]
    },
    {
     "name": "stdout",
     "output_type": "stream",
     "text": [
      "25 21475 13.083616412593155\n"
     ]
    },
    {
     "name": "stderr",
     "output_type": "stream",
     "text": [
      "100%|██████████| 15190092/15190092 [00:40<00:00, 375638.35it/s]\n"
     ]
    },
    {
     "name": "stdout",
     "output_type": "stream",
     "text": [
      "50 11050 27.429622546064895\n"
     ]
    },
    {
     "name": "stderr",
     "output_type": "stream",
     "text": [
      "100%|██████████| 15190092/15190092 [00:40<00:00, 376548.16it/s]\n",
      "  0%|          | 0/15190092 [00:00<?, ?it/s]"
     ]
    },
    {
     "name": "stdout",
     "output_type": "stream",
     "text": [
      "75 7581 40.42101239413165\n"
     ]
    },
    {
     "name": "stderr",
     "output_type": "stream",
     "text": [
      "100%|██████████| 15190092/15190092 [00:39<00:00, 379913.84it/s]\n"
     ]
    },
    {
     "name": "stdout",
     "output_type": "stream",
     "text": [
      "100 5957 53.66764171013579\n"
     ]
    },
    {
     "name": "stderr",
     "output_type": "stream",
     "text": [
      "100%|██████████| 15190092/15190092 [00:39<00:00, 383635.29it/s]\n",
      "  0%|          | 0/15190092 [00:00<?, ?it/s]"
     ]
    },
    {
     "name": "stdout",
     "output_type": "stream",
     "text": [
      "125 5013 66.06492376741366\n"
     ]
    },
    {
     "name": "stderr",
     "output_type": "stream",
     "text": [
      "100%|██████████| 15190092/15190092 [00:39<00:00, 384266.72it/s]\n",
      "  0%|          | 0/15190092 [00:00<?, ?it/s]"
     ]
    },
    {
     "name": "stdout",
     "output_type": "stream",
     "text": [
      "150 4464 75.54327761806842\n"
     ]
    },
    {
     "name": "stderr",
     "output_type": "stream",
     "text": [
      "100%|██████████| 15190092/15190092 [00:39<00:00, 384921.88it/s]\n",
      "  0%|          | 0/15190092 [00:00<?, ?it/s]"
     ]
    },
    {
     "name": "stdout",
     "output_type": "stream",
     "text": [
      "175 4039 85.34918136111355\n"
     ]
    },
    {
     "name": "stderr",
     "output_type": "stream",
     "text": [
      "100%|██████████| 15190092/15190092 [00:39<00:00, 387242.22it/s]\n",
      "  0%|          | 0/15190092 [00:00<?, ?it/s]"
     ]
    },
    {
     "name": "stdout",
     "output_type": "stream",
     "text": [
      "200 3636 98.05615436693866\n"
     ]
    },
    {
     "name": "stderr",
     "output_type": "stream",
     "text": [
      "100%|██████████| 15190092/15190092 [00:39<00:00, 386249.31it/s]\n",
      "  0%|          | 0/15190092 [00:00<?, ?it/s]"
     ]
    },
    {
     "name": "stdout",
     "output_type": "stream",
     "text": [
      "225 3423 106.66043299803583\n"
     ]
    },
    {
     "name": "stderr",
     "output_type": "stream",
     "text": [
      "100%|██████████| 15190092/15190092 [00:39<00:00, 386439.80it/s]\n",
      "  0%|          | 0/15190092 [00:00<?, ?it/s]"
     ]
    },
    {
     "name": "stdout",
     "output_type": "stream",
     "text": [
      "250 3202 116.63438970613213\n"
     ]
    },
    {
     "name": "stderr",
     "output_type": "stream",
     "text": [
      "100%|██████████| 15190092/15190092 [00:39<00:00, 387685.62it/s]\n",
      "  0%|          | 0/15190092 [00:00<?, ?it/s]"
     ]
    },
    {
     "name": "stdout",
     "output_type": "stream",
     "text": [
      "275 3001 129.043038778172\n"
     ]
    },
    {
     "name": "stderr",
     "output_type": "stream",
     "text": [
      "100%|██████████| 15190092/15190092 [00:39<00:00, 386963.84it/s]\n",
      "  0%|          | 0/15190092 [00:00<?, ?it/s]"
     ]
    },
    {
     "name": "stdout",
     "output_type": "stream",
     "text": [
      "300 2844 141.11867057816372\n"
     ]
    },
    {
     "name": "stderr",
     "output_type": "stream",
     "text": [
      "100%|██████████| 15190092/15190092 [00:39<00:00, 386322.83it/s]\n",
      "  0%|          | 0/15190092 [00:00<?, ?it/s]"
     ]
    },
    {
     "name": "stdout",
     "output_type": "stream",
     "text": [
      "325 2718 152.42982596813766\n"
     ]
    },
    {
     "name": "stderr",
     "output_type": "stream",
     "text": [
      "100%|██████████| 15190092/15190092 [00:39<00:00, 388325.64it/s]\n",
      "  0%|          | 0/15190092 [00:00<?, ?it/s]"
     ]
    },
    {
     "name": "stdout",
     "output_type": "stream",
     "text": [
      "350 2550 164.35308917154683\n"
     ]
    },
    {
     "name": "stderr",
     "output_type": "stream",
     "text": [
      "100%|██████████| 15190092/15190092 [00:39<00:00, 388526.48it/s]\n",
      "  0%|          | 0/15190092 [00:00<?, ?it/s]"
     ]
    },
    {
     "name": "stdout",
     "output_type": "stream",
     "text": [
      "375 2402 179.403596107252\n"
     ]
    },
    {
     "name": "stderr",
     "output_type": "stream",
     "text": [
      "100%|██████████| 15190092/15190092 [00:42<00:00, 359042.76it/s]\n",
      "  0%|          | 0/15190092 [00:00<?, ?it/s]"
     ]
    },
    {
     "name": "stdout",
     "output_type": "stream",
     "text": [
      "25 21854 13.015328544422246\n"
     ]
    },
    {
     "name": "stderr",
     "output_type": "stream",
     "text": [
      "100%|██████████| 15190092/15190092 [00:40<00:00, 373918.05it/s]\n"
     ]
    },
    {
     "name": "stdout",
     "output_type": "stream",
     "text": [
      "50 11462 26.97894456465438\n"
     ]
    },
    {
     "name": "stderr",
     "output_type": "stream",
     "text": [
      "100%|██████████| 15190092/15190092 [00:39<00:00, 380397.94it/s]\n",
      "  0%|          | 0/15190092 [00:00<?, ?it/s]"
     ]
    },
    {
     "name": "stdout",
     "output_type": "stream",
     "text": [
      "75 7757 39.46046376809304\n"
     ]
    },
    {
     "name": "stderr",
     "output_type": "stream",
     "text": [
      "100%|██████████| 15190092/15190092 [00:40<00:00, 378725.94it/s]\n",
      "  0%|          | 0/15190092 [00:00<?, ?it/s]"
     ]
    },
    {
     "name": "stdout",
     "output_type": "stream",
     "text": [
      "100 5963 54.849236462820635\n"
     ]
    },
    {
     "name": "stderr",
     "output_type": "stream",
     "text": [
      "100%|██████████| 15190092/15190092 [00:39<00:00, 383695.40it/s]\n"
     ]
    },
    {
     "name": "stdout",
     "output_type": "stream",
     "text": [
      "125 5043 65.98888959987866\n"
     ]
    },
    {
     "name": "stderr",
     "output_type": "stream",
     "text": [
      "100%|██████████| 15190092/15190092 [00:39<00:00, 384048.04it/s]\n",
      "  0%|          | 0/15190092 [00:00<?, ?it/s]"
     ]
    },
    {
     "name": "stdout",
     "output_type": "stream",
     "text": [
      "150 4399 76.87683254321304\n"
     ]
    },
    {
     "name": "stderr",
     "output_type": "stream",
     "text": [
      "100%|██████████| 15190092/15190092 [00:39<00:00, 385302.66it/s]\n",
      "  0%|          | 0/15190092 [00:00<?, ?it/s]"
     ]
    },
    {
     "name": "stdout",
     "output_type": "stream",
     "text": [
      "175 4050 85.55056927897475\n"
     ]
    },
    {
     "name": "stderr",
     "output_type": "stream",
     "text": [
      "100%|██████████| 15190092/15190092 [00:39<00:00, 384090.19it/s]\n",
      "  0%|          | 0/15190092 [00:00<?, ?it/s]"
     ]
    },
    {
     "name": "stdout",
     "output_type": "stream",
     "text": [
      "200 3637 96.84662713036893\n"
     ]
    },
    {
     "name": "stderr",
     "output_type": "stream",
     "text": [
      "100%|██████████| 15190092/15190092 [00:39<00:00, 386054.87it/s]\n",
      "  0%|          | 0/15190092 [00:00<?, ?it/s]"
     ]
    },
    {
     "name": "stdout",
     "output_type": "stream",
     "text": [
      "225 3436 105.65367668609248\n"
     ]
    },
    {
     "name": "stderr",
     "output_type": "stream",
     "text": [
      "100%|██████████| 15190092/15190092 [00:39<00:00, 387689.13it/s]\n",
      "  0%|          | 0/15190092 [00:00<?, ?it/s]"
     ]
    },
    {
     "name": "stdout",
     "output_type": "stream",
     "text": [
      "250 3211 116.47783028568885\n"
     ]
    },
    {
     "name": "stderr",
     "output_type": "stream",
     "text": [
      "100%|██████████| 15190092/15190092 [00:39<00:00, 387096.35it/s]\n",
      "  0%|          | 0/15190092 [00:00<?, ?it/s]"
     ]
    },
    {
     "name": "stdout",
     "output_type": "stream",
     "text": [
      "275 3002 128.25672938649745\n"
     ]
    },
    {
     "name": "stderr",
     "output_type": "stream",
     "text": [
      "100%|██████████| 15190092/15190092 [00:39<00:00, 384840.09it/s]\n",
      "  0%|          | 0/15190092 [00:00<?, ?it/s]"
     ]
    },
    {
     "name": "stdout",
     "output_type": "stream",
     "text": [
      "300 2855 139.73848216324168\n"
     ]
    },
    {
     "name": "stderr",
     "output_type": "stream",
     "text": [
      "100%|██████████| 15190092/15190092 [00:39<00:00, 387123.99it/s]\n",
      "  0%|          | 0/15190092 [00:00<?, ?it/s]"
     ]
    },
    {
     "name": "stdout",
     "output_type": "stream",
     "text": [
      "325 2707 153.65561887314442\n"
     ]
    },
    {
     "name": "stderr",
     "output_type": "stream",
     "text": [
      "100%|██████████| 15190092/15190092 [00:39<00:00, 387506.27it/s]\n",
      "  0%|          | 0/15190092 [00:00<?, ?it/s]"
     ]
    },
    {
     "name": "stdout",
     "output_type": "stream",
     "text": [
      "350 2540 163.86642220468448\n"
     ]
    },
    {
     "name": "stderr",
     "output_type": "stream",
     "text": [
      "100%|██████████| 15190092/15190092 [00:39<00:00, 388937.60it/s]"
     ]
    },
    {
     "name": "stdout",
     "output_type": "stream",
     "text": [
      "375 2411 175.5385447961737\n"
     ]
    },
    {
     "name": "stderr",
     "output_type": "stream",
     "text": [
      "\n"
     ]
    }
   ],
   "source": [
    "epsilon_list = list(range(25,400,25))\n",
    "RS_Meta_Index_seg_num_withBound_list = []\n",
    "RS_Meta_Index_mae_withBound_list = []\n",
    "look_list = list(range(200,2000,200))\n",
    "for lookn in look_list:    \n",
    "    RS_Meta_Index_seg_num_withBound = []\n",
    "    RS_Meta_Index_mae_withBound = []\n",
    "    for i in range(len(epsilon_list)):\n",
    "        RS_Meta_Index = RS_Meta(epsilon_list[i],init_epsilon=range(25,400,25),low=1,high=1000,withBound=True)\n",
    "        RS_Meta_Index.learn_index_lookahead(data,lookn=lookn)\n",
    "        RS_Meta_Index_seg_num_withBound.append(RS_Meta_Index.seg_num)\n",
    "        RS_Meta_Index_mae_withBound.append(RS_Meta_Index.mae)\n",
    "    RS_Meta_Index_seg_num_withBound_list.append(RS_Meta_Index_seg_num_withBound)\n",
    "    RS_Meta_Index_mae_withBound_list.append(RS_Meta_Index_mae_withBound)"
   ]
  },
  {
   "cell_type": "code",
   "execution_count": 20,
   "metadata": {},
   "outputs": [
    {
     "ename": "SyntaxError",
     "evalue": "invalid syntax (<ipython-input-20-8fb686569b1f>, line 2)",
     "output_type": "error",
     "traceback": [
      "\u001b[0;36m  File \u001b[0;32m\"<ipython-input-20-8fb686569b1f>\"\u001b[0;36m, line \u001b[0;32m2\u001b[0m\n\u001b[0;31m    colors = [\"b\", \"r\", ,\"g\", \"purple\", \"teal\", \"tomato\", \"olive\", \"deeppink\"]\u001b[0m\n\u001b[0m                        ^\u001b[0m\n\u001b[0;31mSyntaxError\u001b[0m\u001b[0;31m:\u001b[0m invalid syntax\n"
     ]
    }
   ],
   "source": [
    "markers= [\"v\",\"^\",1, \"o\",1, \"<\",1, \">\", \"1\", \"2\", \"3\", \"4\"]\n",
    "colors = [\"b\", \"r\", ,\"g\", \"purple\", \"teal\", \"tomato\", \"olive\", \"deeppink\"]\n",
    "linestyles = ['solid', 'dotted', '-.', ':', \"--\", (0, (3, 10, 1, 10)), (0, (3, 5, 1, 5, 1, 5)),\n",
    "              (0, (5, 10))]\n",
    "x = np.arange(2500,21000)\n",
    "import matplotlib.pylab as pylab\n",
    "label_size = 24\n",
    "ticks_size = 18\n",
    "title_size = 24\n",
    "legend_size = 16\n",
    "params = {'legend.fontsize': legend_size,\n",
    "          'axes.labelsize': label_size,\n",
    "          'axes.titlesize': title_size,\n",
    "          'xtick.labelsize': ticks_size,\n",
    "          'ytick.labelsize': ticks_size}\n",
    "pylab.rcParams.update(params)\n",
    "plt.rcParams[\"text.usetex\"] = True\n",
    "plt.title('IoT, RadixSpline')\n",
    "plt.xlabel('N')\n",
    "plt.ylabel('MAE')\n",
    "def func(x,a,b):\n",
    "    return a * x**b\n",
    "i=0\n",
    "RS_Meta_Index_seg_num_withBound = RS_Meta_Index_seg_num_withBound_list[i]\n",
    "RS_Meta_Index_mae_withBound = RS_Meta_Index_mae_withBound_list[i]\n",
    "p,_ = curve_fit(func,RS_Meta_Index_seg_num_withBound,RS_Meta_Index_mae_withBound)\n",
    "plt.plot(RS_Meta_Index_seg_num_withBound,RS_Meta_Index_mae_withBound,linestyle=linestyles[i], label='Look'+str(look_list[i]),color=colors[i],marker=markers[i],markersize=13)\n",
    "for i in range(1,len(RS_Meta_Index_mae_withBound_list),2):\n",
    "    RS_Meta_Index_seg_num_withBound = RS_Meta_Index_seg_num_withBound_list[i]\n",
    "    RS_Meta_Index_mae_withBound = RS_Meta_Index_mae_withBound_list[i]\n",
    "    p,_ = curve_fit(func,RS_Meta_Index_seg_num_withBound,RS_Meta_Index_mae_withBound)\n",
    "    plt.plot(RS_Meta_Index_seg_num_withBound,RS_Meta_Index_mae_withBound,linestyle=linestyles[i], label='Look'+str(look_list[i]),color=colors[i],marker=markers[i],markersize=13)\n",
    "plt.legend()\n",
    "#plt.savefig('./results/Main_exp/Iot_lookn', dpi=300, bbox_inches='tight')"
   ]
  },
  {
   "cell_type": "code",
   "execution_count": null,
   "metadata": {},
   "outputs": [],
   "source": []
  }
 ],
 "metadata": {
  "kernelspec": {
   "display_name": "Python 3",
   "language": "python",
   "name": "python3"
  },
  "language_info": {
   "codemirror_mode": {
    "name": "ipython",
    "version": 3
   },
   "file_extension": ".py",
   "mimetype": "text/x-python",
   "name": "python",
   "nbconvert_exporter": "python",
   "pygments_lexer": "ipython3",
   "version": "3.7.0"
  }
 },
 "nbformat": 4,
 "nbformat_minor": 5
}
