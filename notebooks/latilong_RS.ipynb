{
 "cells": [
  {
   "cell_type": "code",
   "execution_count": 1,
   "metadata": {},
   "outputs": [],
   "source": [
    "import numpy as np\n",
    "import pandas as pd\n",
    "import matplotlib.pyplot as plt\n",
    "from tqdm import tqdm\n",
    "import struct\n",
    "import sys\n",
    "import time\n",
    "from model.RadixSpline import *\n",
    "from model.RS_Meta import *"
   ]
  },
  {
   "cell_type": "code",
   "execution_count": 2,
   "metadata": {},
   "outputs": [
    {
     "name": "stderr",
     "output_type": "stream",
     "text": [
      "100%|██████████| 1785607/1785607 [00:01<00:00, 1270423.64it/s]\n"
     ]
    }
   ],
   "source": [
    "# Real World Data\n",
    "# 'd' for double, 'l' for uint\n",
    "datafile = open('./data/latilong_china.double','rb')\n",
    "data = datafile.read(8)\n",
    "data_len, = struct.unpack('d', data)\n",
    "data_len = int(data_len)\n",
    "data=[]\n",
    "for i in tqdm(range(data_len)):\n",
    "    data_bin = datafile.read(8)\n",
    "    data_unix, = struct.unpack('d',data_bin)\n",
    "    data.append(data_unix)"
   ]
  },
  {
   "cell_type": "code",
   "execution_count": 3,
   "metadata": {
    "scrolled": true
   },
   "outputs": [
    {
     "name": "stderr",
     "output_type": "stream",
     "text": [
      "100%|██████████| 1785607/1785607 [00:05<00:00, 343716.83it/s]\n",
      "  2%|▏         | 34462/1785607 [00:00<00:05, 344351.86it/s]"
     ]
    },
    {
     "name": "stdout",
     "output_type": "stream",
     "text": [
      "25 5872 10.856247763365623\n"
     ]
    },
    {
     "name": "stderr",
     "output_type": "stream",
     "text": [
      "100%|██████████| 1785607/1785607 [00:04<00:00, 361613.51it/s]\n",
      "  2%|▏         | 34459/1785607 [00:00<00:05, 344582.11it/s]"
     ]
    },
    {
     "name": "stdout",
     "output_type": "stream",
     "text": [
      "50 3097 23.10663096638846\n"
     ]
    },
    {
     "name": "stderr",
     "output_type": "stream",
     "text": [
      "100%|██████████| 1785607/1785607 [00:04<00:00, 368453.05it/s]\n",
      "  2%|▏         | 35608/1785607 [00:00<00:04, 356071.85it/s]"
     ]
    },
    {
     "name": "stdout",
     "output_type": "stream",
     "text": [
      "75 2142 35.513116268025385\n"
     ]
    },
    {
     "name": "stderr",
     "output_type": "stream",
     "text": [
      "100%|██████████| 1785607/1785607 [00:04<00:00, 370756.49it/s]\n",
      "  2%|▏         | 34850/1785607 [00:00<00:05, 348499.50it/s]"
     ]
    },
    {
     "name": "stdout",
     "output_type": "stream",
     "text": [
      "100 1697 47.41049290241358\n"
     ]
    },
    {
     "name": "stderr",
     "output_type": "stream",
     "text": [
      "100%|██████████| 1785607/1785607 [00:04<00:00, 372896.80it/s]\n",
      "  2%|▏         | 31422/1785607 [00:00<00:05, 313778.17it/s]"
     ]
    },
    {
     "name": "stdout",
     "output_type": "stream",
     "text": [
      "125 1415 59.91084656366154\n"
     ]
    },
    {
     "name": "stderr",
     "output_type": "stream",
     "text": [
      "100%|██████████| 1785607/1785607 [00:05<00:00, 356313.64it/s]\n",
      "  1%|          | 18900/1785607 [00:00<00:09, 188991.62it/s]"
     ]
    },
    {
     "name": "stdout",
     "output_type": "stream",
     "text": [
      "150 1224 72.15197745080525\n"
     ]
    },
    {
     "name": "stderr",
     "output_type": "stream",
     "text": [
      "100%|██████████| 1785607/1785607 [00:05<00:00, 345217.24it/s]\n",
      "  2%|▏         | 35737/1785607 [00:00<00:04, 357357.56it/s]"
     ]
    },
    {
     "name": "stdout",
     "output_type": "stream",
     "text": [
      "175 1084 84.47139880164\n"
     ]
    },
    {
     "name": "stderr",
     "output_type": "stream",
     "text": [
      "100%|██████████| 1785607/1785607 [00:04<00:00, 360941.96it/s]\n",
      "  2%|▏         | 36017/1785607 [00:00<00:04, 360164.33it/s]"
     ]
    },
    {
     "name": "stdout",
     "output_type": "stream",
     "text": [
      "200 974 96.90234749303738\n"
     ]
    },
    {
     "name": "stderr",
     "output_type": "stream",
     "text": [
      "100%|██████████| 1785607/1785607 [00:04<00:00, 360132.30it/s]\n",
      "  2%|▏         | 35910/1785607 [00:00<00:04, 359098.63it/s]"
     ]
    },
    {
     "name": "stdout",
     "output_type": "stream",
     "text": [
      "225 895 110.52542524754887\n"
     ]
    },
    {
     "name": "stderr",
     "output_type": "stream",
     "text": [
      "100%|██████████| 1785607/1785607 [00:04<00:00, 367086.58it/s]\n",
      "  2%|▏         | 35645/1785607 [00:00<00:04, 356440.99it/s]"
     ]
    },
    {
     "name": "stdout",
     "output_type": "stream",
     "text": [
      "250 823 123.68663485302197\n"
     ]
    },
    {
     "name": "stderr",
     "output_type": "stream",
     "text": [
      "100%|██████████| 1785607/1785607 [00:04<00:00, 363579.40it/s]\n",
      "  2%|▏         | 35310/1785607 [00:00<00:04, 353099.49it/s]"
     ]
    },
    {
     "name": "stdout",
     "output_type": "stream",
     "text": [
      "275 756 136.14858756714102\n"
     ]
    },
    {
     "name": "stderr",
     "output_type": "stream",
     "text": [
      "100%|██████████| 1785607/1785607 [00:05<00:00, 343430.03it/s]\n",
      "  2%|▏         | 35577/1785607 [00:00<00:04, 355766.10it/s]"
     ]
    },
    {
     "name": "stdout",
     "output_type": "stream",
     "text": [
      "300 694 149.1300644542724\n"
     ]
    },
    {
     "name": "stderr",
     "output_type": "stream",
     "text": [
      "100%|██████████| 1785607/1785607 [00:04<00:00, 372163.01it/s]\n",
      "  2%|▏         | 35920/1785607 [00:00<00:04, 359195.20it/s]"
     ]
    },
    {
     "name": "stdout",
     "output_type": "stream",
     "text": [
      "325 653 160.58862896482822\n"
     ]
    },
    {
     "name": "stderr",
     "output_type": "stream",
     "text": [
      "100%|██████████| 1785607/1785607 [00:04<00:00, 358112.55it/s]\n",
      "  2%|▏         | 35301/1785607 [00:00<00:04, 353006.13it/s]"
     ]
    },
    {
     "name": "stdout",
     "output_type": "stream",
     "text": [
      "350 614 172.55910175083318\n"
     ]
    },
    {
     "name": "stderr",
     "output_type": "stream",
     "text": [
      "100%|██████████| 1785607/1785607 [00:05<00:00, 352668.88it/s]"
     ]
    },
    {
     "name": "stdout",
     "output_type": "stream",
     "text": [
      "375 578 184.3371503359922\n"
     ]
    },
    {
     "name": "stderr",
     "output_type": "stream",
     "text": [
      "\n"
     ]
    },
    {
     "data": {
      "text/plain": [
       "5.02809076483051"
      ]
     },
     "execution_count": 3,
     "metadata": {},
     "output_type": "execute_result"
    }
   ],
   "source": [
    "epsilon_list = list(range(25,400,25))\n",
    "RS_Index_seg_num = []\n",
    "RS_Index_mae = []\n",
    "starttime = time.perf_counter()\n",
    "for i in range(len(epsilon_list)):\n",
    "    epsilon = epsilon_list[i]\n",
    "    RS_Index = RadixSpline(epsilon)\n",
    "    RS_Index.learn_index(data)\n",
    "    RS_Index_seg_num.append(RS_Index.seg_num)\n",
    "    RS_Index_mae.append(RS_Index.mae)\n",
    "endtime = time.perf_counter()\n",
    "avg_time = (endtime - starttime) / len(epsilon_list)\n",
    "avg_time"
   ]
  },
  {
   "cell_type": "code",
   "execution_count": 4,
   "metadata": {
    "scrolled": true
   },
   "outputs": [
    {
     "name": "stderr",
     "output_type": "stream",
     "text": [
      "100%|██████████| 1785607/1785607 [00:05<00:00, 309131.49it/s]\n",
      "  2%|▏         | 31855/1785607 [00:00<00:05, 318032.42it/s]"
     ]
    },
    {
     "name": "stdout",
     "output_type": "stream",
     "text": [
      "25 5962 10.366436175485424\n"
     ]
    },
    {
     "name": "stderr",
     "output_type": "stream",
     "text": [
      "100%|██████████| 1785607/1785607 [00:05<00:00, 307063.64it/s]\n",
      "  1%|          | 18226/1785607 [00:00<00:09, 182259.30it/s]"
     ]
    },
    {
     "name": "stdout",
     "output_type": "stream",
     "text": [
      "50 3061 22.136269067045546\n"
     ]
    },
    {
     "name": "stderr",
     "output_type": "stream",
     "text": [
      "100%|██████████| 1785607/1785607 [00:05<00:00, 323828.74it/s]\n",
      "  0%|          | 0/1785607 [00:00<?, ?it/s]"
     ]
    },
    {
     "name": "stdout",
     "output_type": "stream",
     "text": [
      "75 2138 34.10845611604345\n"
     ]
    },
    {
     "name": "stderr",
     "output_type": "stream",
     "text": [
      "100%|██████████| 1785607/1785607 [00:05<00:00, 331728.82it/s]\n",
      "  2%|▏         | 33173/1785607 [00:00<00:05, 331722.41it/s]"
     ]
    },
    {
     "name": "stdout",
     "output_type": "stream",
     "text": [
      "100 1639 45.78502660439839\n"
     ]
    },
    {
     "name": "stderr",
     "output_type": "stream",
     "text": [
      "100%|██████████| 1785607/1785607 [00:05<00:00, 345398.13it/s]\n",
      "  2%|▏         | 34325/1785607 [00:00<00:05, 343249.51it/s]"
     ]
    },
    {
     "name": "stdout",
     "output_type": "stream",
     "text": [
      "125 1361 58.42235889532243\n"
     ]
    },
    {
     "name": "stderr",
     "output_type": "stream",
     "text": [
      "100%|██████████| 1785607/1785607 [00:04<00:00, 357422.26it/s]\n",
      "  2%|▏         | 34588/1785607 [00:00<00:05, 345879.51it/s]"
     ]
    },
    {
     "name": "stdout",
     "output_type": "stream",
     "text": [
      "150 1178 70.01737056362346\n"
     ]
    },
    {
     "name": "stderr",
     "output_type": "stream",
     "text": [
      "100%|██████████| 1785607/1785607 [00:05<00:00, 330476.62it/s]\n",
      "  2%|▏         | 33796/1785607 [00:00<00:05, 337956.29it/s]"
     ]
    },
    {
     "name": "stdout",
     "output_type": "stream",
     "text": [
      "175 1049 82.11838495256795\n"
     ]
    },
    {
     "name": "stderr",
     "output_type": "stream",
     "text": [
      "100%|██████████| 1785607/1785607 [00:04<00:00, 359536.70it/s]\n",
      "  1%|          | 18818/1785607 [00:00<00:09, 188175.69it/s]"
     ]
    },
    {
     "name": "stdout",
     "output_type": "stream",
     "text": [
      "200 931 95.068828695228\n"
     ]
    },
    {
     "name": "stderr",
     "output_type": "stream",
     "text": [
      "100%|██████████| 1785607/1785607 [00:05<00:00, 324306.65it/s]\n",
      "  0%|          | 0/1785607 [00:00<?, ?it/s]"
     ]
    },
    {
     "name": "stdout",
     "output_type": "stream",
     "text": [
      "225 852 106.22369199941532\n"
     ]
    },
    {
     "name": "stderr",
     "output_type": "stream",
     "text": [
      "100%|██████████| 1785607/1785607 [00:05<00:00, 320912.61it/s]\n",
      "  2%|▏         | 35155/1785607 [00:00<00:04, 351541.95it/s]"
     ]
    },
    {
     "name": "stdout",
     "output_type": "stream",
     "text": [
      "250 782 119.2571898519663\n"
     ]
    },
    {
     "name": "stderr",
     "output_type": "stream",
     "text": [
      "100%|██████████| 1785607/1785607 [00:05<00:00, 311465.68it/s]\n",
      "  1%|          | 18666/1785607 [00:00<00:09, 183071.47it/s]"
     ]
    },
    {
     "name": "stdout",
     "output_type": "stream",
     "text": [
      "275 730 132.19739449946152\n"
     ]
    },
    {
     "name": "stderr",
     "output_type": "stream",
     "text": [
      "100%|██████████| 1785607/1785607 [00:05<00:00, 308219.96it/s]\n",
      "  0%|          | 0/1785607 [00:00<?, ?it/s]"
     ]
    },
    {
     "name": "stdout",
     "output_type": "stream",
     "text": [
      "300 679 143.79363544161734\n"
     ]
    },
    {
     "name": "stderr",
     "output_type": "stream",
     "text": [
      "100%|██████████| 1785607/1785607 [00:06<00:00, 288654.02it/s]\n",
      "  0%|          | 0/1785607 [00:00<?, ?it/s]"
     ]
    },
    {
     "name": "stdout",
     "output_type": "stream",
     "text": [
      "325 631 156.17756538812853\n"
     ]
    },
    {
     "name": "stderr",
     "output_type": "stream",
     "text": [
      "100%|██████████| 1785607/1785607 [00:05<00:00, 350237.40it/s]\n",
      "  0%|          | 0/1785607 [00:00<?, ?it/s]"
     ]
    },
    {
     "name": "stdout",
     "output_type": "stream",
     "text": [
      "350 601 168.62806373406914\n"
     ]
    },
    {
     "name": "stderr",
     "output_type": "stream",
     "text": [
      "100%|██████████| 1785607/1785607 [00:05<00:00, 346818.72it/s]"
     ]
    },
    {
     "name": "stdout",
     "output_type": "stream",
     "text": [
      "375 564 179.65818906399898\n"
     ]
    },
    {
     "name": "stderr",
     "output_type": "stream",
     "text": [
      "\n"
     ]
    },
    {
     "data": {
      "text/plain": [
       "5.613563539336125"
      ]
     },
     "execution_count": 4,
     "metadata": {},
     "output_type": "execute_result"
    }
   ],
   "source": [
    "epsilon_list = list(range(25,400,25))\n",
    "RS_Meta_Index_seg_num_withBound = []\n",
    "RS_Meta_Index_mae_withBound = []\n",
    "RS_Meta_Index_mean_epsilon=[]\n",
    "RS_Meta_Index_mean_seg_err=[]\n",
    "starttime = time.perf_counter()\n",
    "for i in range(len(epsilon_list)):\n",
    "    RS_Meta_Index = RS_Meta(epsilon_list[i],init_epsilon=range(25,400,50),low=1,high=1000,withBound=True)\n",
    "    RS_Meta_Index.learn_index_lookahead(data)\n",
    "    RS_Meta_Index_seg_num_withBound.append(RS_Meta_Index.seg_num)\n",
    "    RS_Meta_Index_mae_withBound.append(RS_Meta_Index.mae)\n",
    "endtime = time.perf_counter()\n",
    "avg_time = (endtime - starttime) / len(epsilon_list)\n",
    "avg_time"
   ]
  },
  {
   "cell_type": "code",
   "execution_count": 11,
   "metadata": {
    "scrolled": true
   },
   "outputs": [
    {
     "data": {
      "image/png": "[encoded data removed]",
      "text/plain": [
       "<Figure size 432x288 with 1 Axes>"
      ]
     },
     "metadata": {
      "needs_background": "light"
     },
     "output_type": "display_data"
    }
   ],
   "source": [
    "x = np.arange(600,6000)\n",
    "import matplotlib.pylab as pylab\n",
    "label_size = 18.5\n",
    "ticks_size = 17\n",
    "title_size = 22.5\n",
    "legend_size = 17\n",
    "params = {'legend.fontsize': legend_size,\n",
    "          'axes.labelsize': label_size,\n",
    "          'axes.titlesize': title_size,\n",
    "          'xtick.labelsize': ticks_size,\n",
    "          'ytick.labelsize': ticks_size}\n",
    "pylab.rcParams.update(params)\n",
    "plt.rcParams[\"text.usetex\"] = True\n",
    "plt.rcParams['text.latex.preamble'] = [r'\\boldmath']\n",
    "markers = [\"v\", \"^\", \"o\", \"<\", \">\", \"1\", \"2\", \"3\", \"4\"]\n",
    "colors = [\"b\", \"r\", \"g\", \"purple\", \"teal\", \"tomato\", \"olive\", \"deeppink\"]\n",
    "linestyles = ['solid', 'dotted', '-.', ':', \"--\", (0, (3, 10, 1, 10)), (0, (3, 5, 1, 5, 1, 5)),\n",
    "              (0, (5, 10))]\n",
    "\n",
    "plt.title('$\\mathrm{Map~Dataset}$')\n",
    "plt.xlabel('$\\mathrm{N}$')\n",
    "plt.ylabel('$\\mathrm{MAE}$')\n",
    "plt.xticks()\n",
    "plt.yticks()\n",
    "def func(x,a,b):\n",
    "    return a * x**b\n",
    "p1,_ = curve_fit(func,RS_Index_seg_num,RS_Index_mae)\n",
    "p2,_ = curve_fit(func,RS_Meta_Index_seg_num_withBound,RS_Meta_Index_mae_withBound)\n",
    "#p3,_ = curve_fit(func,PGM_Index_seg_num,PGM_Index_mae)\n",
    "#p4,_ = curve_fit(func,RS_Meta_Index_seg_num_withBound,RS_Meta_Index_mae_withBound)\n",
    "plt.plot(x,p1[0]*x**p1[1],c=colors[0], linestyle=linestyles[0], label='$\\mathrm{RadixSpline,~Original}$')\n",
    "#plt.scatter(RS_Index_seg_num, RS_Index_mae,c=colors[0],marker=markers[0])\n",
    "plt.plot(x,p2[0]*x**p2[1],c=colors[1], linestyle=linestyles[1], label='$\\mathrm{RadixSpline,~Dynamic~\\epsilon}$')\n",
    "#plt.scatter(RS_Meta_Index_seg_num_withBound, RS_Meta_Index_mae_withBound,c=colors[1],marker=markers[1])\n",
    "plt.legend()\n",
    "#plt.savefig(\"{}.pdf\".format(\"results/RadixSpline/Map_tradeoff_30\"), bbox_inches='tight', pad_inches=0)"
   ]
  },
  {
   "cell_type": "code",
   "execution_count": 10,
   "metadata": {},
   "outputs": [
    {
     "data": {
      "text/plain": [
       "(188148.11505140417, 171664.22969134274, 0.08761121712836639)"
      ]
     },
     "execution_count": 10,
     "metadata": {},
     "output_type": "execute_result"
    }
   ],
   "source": [
    "def calc_AUC(x,y):\n",
    "    area=0\n",
    "    for i in range(len(x)-1):\n",
    "        area += (y[i]+y[i+1])*(x[i+1]-x[i]) / 2 \n",
    "    return area\n",
    "AUC1 = calc_AUC(x,p1[0]*x**p1[1])\n",
    "AUC2 = calc_AUC(x,p2[0]*x**p2[1])\n",
    "#AUC3 = calc_AUC(x,p3[0]*x**p3[1])\n",
    "AUC1,AUC2,1-AUC2/AUC1"
   ]
  },
  {
   "cell_type": "code",
   "execution_count": 16,
   "metadata": {},
   "outputs": [
    {
     "name": "stderr",
     "output_type": "stream",
     "text": [
      "100%|██████████| 1785607/1785607 [00:05<00:00, 316965.99it/s]\n",
      "  2%|▏         | 31860/1785607 [00:00<00:05, 318592.71it/s]"
     ]
    },
    {
     "name": "stdout",
     "output_type": "stream",
     "text": [
      "25 5923 10.514711243851531\n"
     ]
    },
    {
     "name": "stderr",
     "output_type": "stream",
     "text": [
      "100%|██████████| 1785607/1785607 [00:05<00:00, 343171.31it/s]\n",
      "  2%|▏         | 32925/1785607 [00:00<00:05, 328601.62it/s]"
     ]
    },
    {
     "name": "stdout",
     "output_type": "stream",
     "text": [
      "50 3071 22.073797873776257\n"
     ]
    },
    {
     "name": "stderr",
     "output_type": "stream",
     "text": [
      "100%|██████████| 1785607/1785607 [00:05<00:00, 352920.77it/s]\n",
      "  2%|▏         | 32461/1785607 [00:00<00:05, 324606.44it/s]"
     ]
    },
    {
     "name": "stdout",
     "output_type": "stream",
     "text": [
      "75 2149 33.805906338852836\n"
     ]
    },
    {
     "name": "stderr",
     "output_type": "stream",
     "text": [
      "100%|██████████| 1785607/1785607 [00:04<00:00, 357144.24it/s]\n",
      "  0%|          | 0/1785607 [00:00<?, ?it/s]"
     ]
    },
    {
     "name": "stdout",
     "output_type": "stream",
     "text": [
      "100 1719 44.932669394777236\n"
     ]
    },
    {
     "name": "stderr",
     "output_type": "stream",
     "text": [
      "100%|██████████| 1785607/1785607 [00:05<00:00, 356732.42it/s]\n",
      "  2%|▏         | 33477/1785607 [00:00<00:05, 334736.00it/s]"
     ]
    },
    {
     "name": "stdout",
     "output_type": "stream",
     "text": [
      "125 1435 56.053268160351074\n"
     ]
    },
    {
     "name": "stderr",
     "output_type": "stream",
     "text": [
      "100%|██████████| 1785607/1785607 [00:05<00:00, 356099.09it/s]\n",
      "  2%|▏         | 33425/1785607 [00:00<00:05, 334246.33it/s]"
     ]
    },
    {
     "name": "stdout",
     "output_type": "stream",
     "text": [
      "150 1252 67.150338232321\n"
     ]
    },
    {
     "name": "stderr",
     "output_type": "stream",
     "text": [
      "100%|██████████| 1785607/1785607 [00:04<00:00, 357516.89it/s]\n",
      "  2%|▏         | 33515/1785607 [00:00<00:05, 335147.12it/s]"
     ]
    },
    {
     "name": "stdout",
     "output_type": "stream",
     "text": [
      "175 1130 77.78922909688414\n"
     ]
    },
    {
     "name": "stderr",
     "output_type": "stream",
     "text": [
      "100%|██████████| 1785607/1785607 [00:04<00:00, 359602.98it/s]\n",
      "  2%|▏         | 34003/1785607 [00:00<00:05, 340029.51it/s]"
     ]
    },
    {
     "name": "stdout",
     "output_type": "stream",
     "text": [
      "200 1023 89.02762813989864\n"
     ]
    },
    {
     "name": "stderr",
     "output_type": "stream",
     "text": [
      "100%|██████████| 1785607/1785607 [00:04<00:00, 360173.19it/s]\n",
      "  2%|▏         | 32665/1785607 [00:00<00:05, 326645.64it/s]"
     ]
    },
    {
     "name": "stdout",
     "output_type": "stream",
     "text": [
      "225 918 100.08444635353692\n"
     ]
    },
    {
     "name": "stderr",
     "output_type": "stream",
     "text": [
      "100%|██████████| 1785607/1785607 [00:04<00:00, 357698.81it/s]\n",
      "  2%|▏         | 34329/1785607 [00:00<00:05, 343289.51it/s]"
     ]
    },
    {
     "name": "stdout",
     "output_type": "stream",
     "text": [
      "250 858 112.02989739623557\n"
     ]
    },
    {
     "name": "stderr",
     "output_type": "stream",
     "text": [
      "100%|██████████| 1785607/1785607 [00:04<00:00, 362204.92it/s]\n",
      "  2%|▏         | 34584/1785607 [00:00<00:05, 345839.51it/s]"
     ]
    },
    {
     "name": "stdout",
     "output_type": "stream",
     "text": [
      "275 792 124.94481260434127\n"
     ]
    },
    {
     "name": "stderr",
     "output_type": "stream",
     "text": [
      "100%|██████████| 1785607/1785607 [00:04<00:00, 362409.36it/s]\n",
      "  2%|▏         | 34444/1785607 [00:00<00:05, 344322.11it/s]"
     ]
    },
    {
     "name": "stdout",
     "output_type": "stream",
     "text": [
      "300 749 134.6804621621667\n"
     ]
    },
    {
     "name": "stderr",
     "output_type": "stream",
     "text": [
      "100%|██████████| 1785607/1785607 [00:04<00:00, 363684.52it/s]\n",
      "  0%|          | 0/1785607 [00:00<?, ?it/s]"
     ]
    },
    {
     "name": "stdout",
     "output_type": "stream",
     "text": [
      "325 692 143.50385443157424\n"
     ]
    },
    {
     "name": "stderr",
     "output_type": "stream",
     "text": [
      "100%|██████████| 1785607/1785607 [00:04<00:00, 364276.12it/s]\n",
      "  2%|▏         | 34855/1785607 [00:00<00:05, 348544.52it/s]"
     ]
    },
    {
     "name": "stdout",
     "output_type": "stream",
     "text": [
      "350 656 155.9509729744563\n"
     ]
    },
    {
     "name": "stderr",
     "output_type": "stream",
     "text": [
      "100%|██████████| 1785607/1785607 [00:04<00:00, 365535.27it/s]\n",
      "  2%|▏         | 42902/1785607 [00:00<00:07, 222918.06it/s]"
     ]
    },
    {
     "name": "stdout",
     "output_type": "stream",
     "text": [
      "375 624 171.27641188682617\n"
     ]
    },
    {
     "name": "stderr",
     "output_type": "stream",
     "text": [
      "100%|██████████| 1785607/1785607 [00:05<00:00, 319911.26it/s]\n",
      "  2%|▏         | 31173/1785607 [00:00<00:05, 311723.61it/s]"
     ]
    },
    {
     "name": "stdout",
     "output_type": "stream",
     "text": [
      "25 5762 10.811705487265675\n"
     ]
    },
    {
     "name": "stderr",
     "output_type": "stream",
     "text": [
      "100%|██████████| 1785607/1785607 [00:05<00:00, 340599.87it/s]\n",
      "  0%|          | 0/1785607 [00:00<?, ?it/s]"
     ]
    },
    {
     "name": "stdout",
     "output_type": "stream",
     "text": [
      "50 3045 22.534296180514524\n"
     ]
    },
    {
     "name": "stderr",
     "output_type": "stream",
     "text": [
      "100%|██████████| 1785607/1785607 [00:05<00:00, 347422.25it/s]\n",
      "  2%|▏         | 33043/1785607 [00:00<00:05, 330428.74it/s]"
     ]
    },
    {
     "name": "stdout",
     "output_type": "stream",
     "text": [
      "75 2124 34.30280403246627\n"
     ]
    },
    {
     "name": "stderr",
     "output_type": "stream",
     "text": [
      "100%|██████████| 1785607/1785607 [00:05<00:00, 355082.56it/s]\n",
      "  0%|          | 0/1785607 [00:00<?, ?it/s]"
     ]
    },
    {
     "name": "stdout",
     "output_type": "stream",
     "text": [
      "100 1660 45.638172341394274\n"
     ]
    },
    {
     "name": "stderr",
     "output_type": "stream",
     "text": [
      "100%|██████████| 1785607/1785607 [00:04<00:00, 358252.23it/s]\n",
      "  0%|          | 0/1785607 [00:00<?, ?it/s]"
     ]
    },
    {
     "name": "stdout",
     "output_type": "stream",
     "text": [
      "125 1387 57.62940109441775\n"
     ]
    },
    {
     "name": "stderr",
     "output_type": "stream",
     "text": [
      "100%|██████████| 1785607/1785607 [00:04<00:00, 359299.24it/s]\n",
      "  2%|▏         | 34165/1785607 [00:00<00:05, 340609.24it/s]"
     ]
    },
    {
     "name": "stdout",
     "output_type": "stream",
     "text": [
      "150 1201 69.07479137346571\n"
     ]
    },
    {
     "name": "stderr",
     "output_type": "stream",
     "text": [
      "100%|██████████| 1785607/1785607 [00:04<00:00, 360843.43it/s]\n",
      "  2%|▏         | 34042/1785607 [00:00<00:05, 340413.83it/s]"
     ]
    },
    {
     "name": "stdout",
     "output_type": "stream",
     "text": [
      "175 1077 80.43216340437733\n"
     ]
    },
    {
     "name": "stderr",
     "output_type": "stream",
     "text": [
      "100%|██████████| 1785607/1785607 [00:04<00:00, 361440.90it/s]\n",
      "  0%|          | 0/1785607 [00:00<?, ?it/s]"
     ]
    },
    {
     "name": "stdout",
     "output_type": "stream",
     "text": [
      "200 982 91.66768667461541\n"
     ]
    },
    {
     "name": "stderr",
     "output_type": "stream",
     "text": [
      "100%|██████████| 1785607/1785607 [00:04<00:00, 362818.34it/s]\n",
      "  2%|▏         | 34296/1785607 [00:00<00:05, 342958.69it/s]"
     ]
    },
    {
     "name": "stdout",
     "output_type": "stream",
     "text": [
      "225 879 103.0325793973702\n"
     ]
    },
    {
     "name": "stderr",
     "output_type": "stream",
     "text": [
      "100%|██████████| 1785607/1785607 [00:04<00:00, 360714.87it/s]\n",
      "  2%|▏         | 34459/1785607 [00:00<00:05, 344581.29it/s]"
     ]
    },
    {
     "name": "stdout",
     "output_type": "stream",
     "text": [
      "250 829 116.48307382307529\n"
     ]
    },
    {
     "name": "stderr",
     "output_type": "stream",
     "text": [
      "100%|██████████| 1785607/1785607 [00:04<00:00, 362060.01it/s]\n",
      "  1%|          | 21841/1785607 [00:00<00:08, 218406.04it/s]"
     ]
    },
    {
     "name": "stdout",
     "output_type": "stream",
     "text": [
      "275 770 127.30118385512601\n"
     ]
    },
    {
     "name": "stderr",
     "output_type": "stream",
     "text": [
      "100%|██████████| 1785607/1785607 [00:04<00:00, 360835.60it/s]\n",
      "  2%|▏         | 34827/1785607 [00:00<00:05, 348263.69it/s]"
     ]
    },
    {
     "name": "stdout",
     "output_type": "stream",
     "text": [
      "300 721 138.69412978331738\n"
     ]
    },
    {
     "name": "stderr",
     "output_type": "stream",
     "text": [
      "100%|██████████| 1785607/1785607 [00:04<00:00, 364701.09it/s]\n",
      "  0%|          | 0/1785607 [00:00<?, ?it/s]"
     ]
    },
    {
     "name": "stdout",
     "output_type": "stream",
     "text": [
      "325 671 152.97666507803788\n"
     ]
    },
    {
     "name": "stderr",
     "output_type": "stream",
     "text": [
      "100%|██████████| 1785607/1785607 [00:04<00:00, 364695.40it/s]\n",
      "  2%|▏         | 34760/1785607 [00:00<00:05, 347591.22it/s]"
     ]
    },
    {
     "name": "stdout",
     "output_type": "stream",
     "text": [
      "350 635 164.036808771471\n"
     ]
    },
    {
     "name": "stderr",
     "output_type": "stream",
     "text": [
      "100%|██████████| 1785607/1785607 [00:04<00:00, 366300.50it/s]\n",
      "  2%|▏         | 30092/1785607 [00:00<00:05, 300918.85it/s]"
     ]
    },
    {
     "name": "stdout",
     "output_type": "stream",
     "text": [
      "375 603 174.56716175507825\n"
     ]
    },
    {
     "name": "stderr",
     "output_type": "stream",
     "text": [
      "100%|██████████| 1785607/1785607 [00:05<00:00, 323907.04it/s]\n",
      "  2%|▏         | 31331/1785607 [00:00<00:05, 313307.31it/s]"
     ]
    },
    {
     "name": "stdout",
     "output_type": "stream",
     "text": [
      "25 5656 11.012207053399768\n"
     ]
    },
    {
     "name": "stderr",
     "output_type": "stream",
     "text": [
      "100%|██████████| 1785607/1785607 [00:05<00:00, 341685.58it/s]\n",
      "  2%|▏         | 32612/1785607 [00:00<00:05, 326116.42it/s]"
     ]
    },
    {
     "name": "stdout",
     "output_type": "stream",
     "text": [
      "50 3006 23.054311503035102\n"
     ]
    },
    {
     "name": "stderr",
     "output_type": "stream",
     "text": [
      "100%|██████████| 1785607/1785607 [00:05<00:00, 348739.54it/s]\n",
      "  2%|▏         | 33410/1785607 [00:00<00:05, 334097.13it/s]"
     ]
    },
    {
     "name": "stdout",
     "output_type": "stream",
     "text": [
      "75 2116 34.85587030068766\n"
     ]
    },
    {
     "name": "stderr",
     "output_type": "stream",
     "text": [
      "100%|██████████| 1785607/1785607 [00:05<00:00, 352309.92it/s]\n",
      "  0%|          | 0/1785607 [00:00<?, ?it/s]"
     ]
    },
    {
     "name": "stdout",
     "output_type": "stream",
     "text": [
      "100 1644 46.40371033491692\n"
     ]
    },
    {
     "name": "stderr",
     "output_type": "stream",
     "text": [
      "100%|██████████| 1785607/1785607 [00:04<00:00, 358148.67it/s]\n",
      "  2%|▏         | 33663/1785607 [00:00<00:05, 336622.30it/s]"
     ]
    },
    {
     "name": "stdout",
     "output_type": "stream",
     "text": [
      "125 1369 58.34509161310412\n"
     ]
    },
    {
     "name": "stderr",
     "output_type": "stream",
     "text": [
      "100%|██████████| 1785607/1785607 [00:04<00:00, 359542.99it/s]\n",
      "  2%|▏         | 33695/1785607 [00:00<00:05, 336948.71it/s]"
     ]
    },
    {
     "name": "stdout",
     "output_type": "stream",
     "text": [
      "150 1192 69.53310386888045\n"
     ]
    },
    {
     "name": "stderr",
     "output_type": "stream",
     "text": [
      "100%|██████████| 1785607/1785607 [00:05<00:00, 353490.40it/s]\n",
      "  2%|▏         | 34225/1785607 [00:00<00:05, 342247.88it/s]"
     ]
    },
    {
     "name": "stdout",
     "output_type": "stream",
     "text": [
      "175 1064 81.09226274314561\n"
     ]
    },
    {
     "name": "stderr",
     "output_type": "stream",
     "text": [
      "100%|██████████| 1785607/1785607 [00:04<00:00, 361895.71it/s]\n",
      "  0%|          | 0/1785607 [00:00<?, ?it/s]"
     ]
    },
    {
     "name": "stdout",
     "output_type": "stream",
     "text": [
      "200 958 93.09185391858342\n"
     ]
    },
    {
     "name": "stderr",
     "output_type": "stream",
     "text": [
      "100%|██████████| 1785607/1785607 [00:05<00:00, 354993.09it/s]\n",
      "  0%|          | 0/1785607 [00:00<?, ?it/s]"
     ]
    },
    {
     "name": "stdout",
     "output_type": "stream",
     "text": [
      "225 869 104.10088222100384\n"
     ]
    },
    {
     "name": "stderr",
     "output_type": "stream",
     "text": [
      "100%|██████████| 1785607/1785607 [00:04<00:00, 361761.90it/s]\n",
      "  0%|          | 0/1785607 [00:00<?, ?it/s]"
     ]
    },
    {
     "name": "stdout",
     "output_type": "stream",
     "text": [
      "250 801 117.4799533155952\n"
     ]
    },
    {
     "name": "stderr",
     "output_type": "stream",
     "text": [
      "100%|██████████| 1785607/1785607 [00:04<00:00, 363893.21it/s]\n",
      "  0%|          | 0/1785607 [00:00<?, ?it/s]"
     ]
    },
    {
     "name": "stdout",
     "output_type": "stream",
     "text": [
      "275 746 132.86444721598875\n"
     ]
    },
    {
     "name": "stderr",
     "output_type": "stream",
     "text": [
      "100%|██████████| 1785607/1785607 [00:04<00:00, 364579.44it/s]\n",
      "  2%|▏         | 33813/1785607 [00:00<00:05, 338126.29it/s]"
     ]
    },
    {
     "name": "stdout",
     "output_type": "stream",
     "text": [
      "300 696 144.3219504627838\n"
     ]
    },
    {
     "name": "stderr",
     "output_type": "stream",
     "text": [
      "100%|██████████| 1785607/1785607 [00:04<00:00, 362039.64it/s]\n",
      "  2%|▏         | 34798/1785607 [00:00<00:05, 347974.52it/s]"
     ]
    },
    {
     "name": "stdout",
     "output_type": "stream",
     "text": [
      "325 654 156.2987471487287\n"
     ]
    },
    {
     "name": "stderr",
     "output_type": "stream",
     "text": [
      "100%|██████████| 1785607/1785607 [00:04<00:00, 365771.65it/s]\n",
      "  2%|▏         | 34893/1785607 [00:00<00:05, 348926.17it/s]"
     ]
    },
    {
     "name": "stdout",
     "output_type": "stream",
     "text": [
      "350 619 166.2132451317675\n"
     ]
    },
    {
     "name": "stderr",
     "output_type": "stream",
     "text": [
      "100%|██████████| 1785607/1785607 [00:04<00:00, 361222.89it/s]\n",
      "  2%|▏         | 30167/1785607 [00:00<00:05, 301669.57it/s]"
     ]
    },
    {
     "name": "stdout",
     "output_type": "stream",
     "text": [
      "375 586 177.93541803991585\n"
     ]
    },
    {
     "name": "stderr",
     "output_type": "stream",
     "text": [
      "100%|██████████| 1785607/1785607 [00:05<00:00, 318915.52it/s]\n",
      "  1%|▏         | 26087/1785607 [00:00<00:06, 260867.76it/s]"
     ]
    },
    {
     "name": "stdout",
     "output_type": "stream",
     "text": [
      "25 5601 11.159968010878094\n"
     ]
    },
    {
     "name": "stderr",
     "output_type": "stream",
     "text": [
      "100%|██████████| 1785607/1785607 [00:05<00:00, 329894.17it/s]\n",
      "  2%|▏         | 33208/1785607 [00:00<00:05, 332077.94it/s]"
     ]
    },
    {
     "name": "stdout",
     "output_type": "stream",
     "text": [
      "50 2970 23.358903722935676\n"
     ]
    },
    {
     "name": "stderr",
     "output_type": "stream",
     "text": [
      "100%|██████████| 1785607/1785607 [00:05<00:00, 348519.91it/s]\n",
      "  2%|▏         | 33377/1785607 [00:00<00:05, 333126.99it/s]"
     ]
    },
    {
     "name": "stdout",
     "output_type": "stream",
     "text": [
      "75 2087 35.4745097885481\n"
     ]
    },
    {
     "name": "stderr",
     "output_type": "stream",
     "text": [
      "100%|██████████| 1785607/1785607 [00:05<00:00, 354354.51it/s]\n",
      "  0%|          | 0/1785607 [00:00<?, ?it/s]"
     ]
    },
    {
     "name": "stdout",
     "output_type": "stream",
     "text": [
      "100 1638 47.09399044694605\n"
     ]
    },
    {
     "name": "stderr",
     "output_type": "stream",
     "text": [
      "100%|██████████| 1785607/1785607 [00:05<00:00, 354268.02it/s]\n",
      "  0%|          | 0/1785607 [00:00<?, ?it/s]"
     ]
    },
    {
     "name": "stdout",
     "output_type": "stream",
     "text": [
      "125 1372 59.24018051004504\n"
     ]
    },
    {
     "name": "stderr",
     "output_type": "stream",
     "text": [
      "100%|██████████| 1785607/1785607 [00:05<00:00, 356214.20it/s]\n",
      "  2%|▏         | 33517/1785607 [00:00<00:05, 334869.33it/s]"
     ]
    },
    {
     "name": "stdout",
     "output_type": "stream",
     "text": [
      "150 1178 70.37421616290706\n"
     ]
    },
    {
     "name": "stderr",
     "output_type": "stream",
     "text": [
      "100%|██████████| 1785607/1785607 [00:04<00:00, 357309.04it/s]\n",
      "  2%|▏         | 33815/1785607 [00:00<00:05, 338141.45it/s]"
     ]
    },
    {
     "name": "stdout",
     "output_type": "stream",
     "text": [
      "175 1061 82.17214818266281\n"
     ]
    },
    {
     "name": "stderr",
     "output_type": "stream",
     "text": [
      "100%|██████████| 1785607/1785607 [00:04<00:00, 360123.17it/s]\n",
      "  2%|▏         | 34310/1785607 [00:00<00:05, 343091.33it/s]"
     ]
    },
    {
     "name": "stdout",
     "output_type": "stream",
     "text": [
      "200 942 94.31310025106309\n"
     ]
    },
    {
     "name": "stderr",
     "output_type": "stream",
     "text": [
      "100%|██████████| 1785607/1785607 [00:05<00:00, 350338.51it/s]\n",
      "  2%|▏         | 34390/1785607 [00:00<00:05, 343897.87it/s]"
     ]
    },
    {
     "name": "stdout",
     "output_type": "stream",
     "text": [
      "225 863 105.98419753058764\n"
     ]
    },
    {
     "name": "stderr",
     "output_type": "stream",
     "text": [
      "100%|██████████| 1785607/1785607 [00:04<00:00, 361951.07it/s]\n",
      "  0%|          | 0/1785607 [00:00<?, ?it/s]"
     ]
    },
    {
     "name": "stdout",
     "output_type": "stream",
     "text": [
      "250 789 122.60532020763807\n"
     ]
    },
    {
     "name": "stderr",
     "output_type": "stream",
     "text": [
      "100%|██████████| 1785607/1785607 [00:04<00:00, 365163.50it/s]\n",
      "  2%|▏         | 34865/1785607 [00:00<00:05, 348647.84it/s]"
     ]
    },
    {
     "name": "stdout",
     "output_type": "stream",
     "text": [
      "275 736 134.72716224790784\n"
     ]
    },
    {
     "name": "stderr",
     "output_type": "stream",
     "text": [
      "100%|██████████| 1785607/1785607 [00:04<00:00, 364701.60it/s]\n",
      "  2%|▏         | 34694/1785607 [00:00<00:05, 346931.23it/s]"
     ]
    },
    {
     "name": "stdout",
     "output_type": "stream",
     "text": [
      "300 685 146.3194493525171\n"
     ]
    },
    {
     "name": "stderr",
     "output_type": "stream",
     "text": [
      "100%|██████████| 1785607/1785607 [00:04<00:00, 364779.83it/s]\n",
      "  2%|▏         | 34593/1785607 [00:00<00:05, 345925.38it/s]"
     ]
    },
    {
     "name": "stdout",
     "output_type": "stream",
     "text": [
      "325 641 156.7939725818727\n"
     ]
    },
    {
     "name": "stderr",
     "output_type": "stream",
     "text": [
      "100%|██████████| 1785607/1785607 [00:04<00:00, 365351.24it/s]\n",
      "  1%|          | 19071/1785607 [00:00<00:09, 190704.27it/s]"
     ]
    },
    {
     "name": "stdout",
     "output_type": "stream",
     "text": [
      "350 604 169.60836007027302\n"
     ]
    },
    {
     "name": "stderr",
     "output_type": "stream",
     "text": [
      "100%|██████████| 1785607/1785607 [00:04<00:00, 361470.29it/s]\n",
      "  0%|          | 0/1785607 [00:00<?, ?it/s]"
     ]
    },
    {
     "name": "stdout",
     "output_type": "stream",
     "text": [
      "375 575 179.82056465952473\n"
     ]
    },
    {
     "name": "stderr",
     "output_type": "stream",
     "text": [
      "100%|██████████| 1785607/1785607 [00:05<00:00, 322587.46it/s]\n",
      "  0%|          | 0/1785607 [00:00<?, ?it/s]"
     ]
    },
    {
     "name": "stdout",
     "output_type": "stream",
     "text": [
      "25 5543 11.31255309819014\n"
     ]
    },
    {
     "name": "stderr",
     "output_type": "stream",
     "text": [
      "100%|██████████| 1785607/1785607 [00:05<00:00, 341631.17it/s]\n",
      "  0%|          | 0/1785607 [00:00<?, ?it/s]"
     ]
    },
    {
     "name": "stdout",
     "output_type": "stream",
     "text": [
      "50 2927 23.626119297247378\n"
     ]
    },
    {
     "name": "stderr",
     "output_type": "stream",
     "text": [
      "100%|██████████| 1785607/1785607 [00:05<00:00, 341201.52it/s]\n",
      "  2%|▏         | 33289/1785607 [00:00<00:05, 332884.76it/s]"
     ]
    },
    {
     "name": "stdout",
     "output_type": "stream",
     "text": [
      "75 2062 36.12343477596134\n"
     ]
    },
    {
     "name": "stderr",
     "output_type": "stream",
     "text": [
      "100%|██████████| 1785607/1785607 [00:05<00:00, 346434.13it/s]\n",
      "  0%|          | 0/1785607 [00:00<?, ?it/s]"
     ]
    },
    {
     "name": "stdout",
     "output_type": "stream",
     "text": [
      "100 1625 47.88436033236877\n"
     ]
    },
    {
     "name": "stderr",
     "output_type": "stream",
     "text": [
      "100%|██████████| 1785607/1785607 [00:05<00:00, 348446.64it/s]\n",
      "  2%|▏         | 33476/1785607 [00:00<00:05, 334756.33it/s]"
     ]
    },
    {
     "name": "stdout",
     "output_type": "stream",
     "text": [
      "125 1360 59.93250530491872\n"
     ]
    },
    {
     "name": "stderr",
     "output_type": "stream",
     "text": [
      "100%|██████████| 1785607/1785607 [00:04<00:00, 358630.10it/s]\n",
      "  2%|▏         | 34082/1785607 [00:00<00:05, 340813.82it/s]"
     ]
    },
    {
     "name": "stdout",
     "output_type": "stream",
     "text": [
      "150 1173 71.34460382379774\n"
     ]
    },
    {
     "name": "stderr",
     "output_type": "stream",
     "text": [
      "100%|██████████| 1785607/1785607 [00:04<00:00, 360281.88it/s]\n",
      "  2%|▏         | 34379/1785607 [00:00<00:05, 343782.13it/s]"
     ]
    },
    {
     "name": "stdout",
     "output_type": "stream",
     "text": [
      "175 1050 83.20818970803766\n"
     ]
    },
    {
     "name": "stderr",
     "output_type": "stream",
     "text": [
      "100%|██████████| 1785607/1785607 [00:04<00:00, 360748.40it/s]\n",
      "  2%|▏         | 34230/1785607 [00:00<00:05, 342292.98it/s]"
     ]
    },
    {
     "name": "stdout",
     "output_type": "stream",
     "text": [
      "200 937 95.27359827778453\n"
     ]
    },
    {
     "name": "stderr",
     "output_type": "stream",
     "text": [
      "100%|██████████| 1785607/1785607 [00:04<00:00, 359288.61it/s]\n",
      "  0%|          | 0/1785607 [00:00<?, ?it/s]"
     ]
    },
    {
     "name": "stdout",
     "output_type": "stream",
     "text": [
      "225 855 106.40055790551897\n"
     ]
    },
    {
     "name": "stderr",
     "output_type": "stream",
     "text": [
      "100%|██████████| 1785607/1785607 [00:04<00:00, 362351.81it/s]\n",
      "  2%|▏         | 34368/1785607 [00:00<00:05, 343678.69it/s]"
     ]
    },
    {
     "name": "stdout",
     "output_type": "stream",
     "text": [
      "250 792 123.21401573806554\n"
     ]
    },
    {
     "name": "stderr",
     "output_type": "stream",
     "text": [
      "100%|██████████| 1785607/1785607 [00:04<00:00, 361745.05it/s]\n",
      "  2%|▏         | 33478/1785607 [00:00<00:05, 334773.93it/s]"
     ]
    },
    {
     "name": "stdout",
     "output_type": "stream",
     "text": [
      "275 730 135.41290048706125\n"
     ]
    },
    {
     "name": "stderr",
     "output_type": "stream",
     "text": [
      "100%|██████████| 1785607/1785607 [00:04<00:00, 363827.89it/s]\n",
      "  1%|          | 21367/1785607 [00:00<00:08, 210657.72it/s]"
     ]
    },
    {
     "name": "stdout",
     "output_type": "stream",
     "text": [
      "300 679 147.7142915546366\n"
     ]
    },
    {
     "name": "stderr",
     "output_type": "stream",
     "text": [
      "100%|██████████| 1785607/1785607 [00:04<00:00, 361505.28it/s]\n",
      "  0%|          | 0/1785607 [00:00<?, ?it/s]"
     ]
    },
    {
     "name": "stdout",
     "output_type": "stream",
     "text": [
      "325 633 158.038050366066\n"
     ]
    },
    {
     "name": "stderr",
     "output_type": "stream",
     "text": [
      "100%|██████████| 1785607/1785607 [00:04<00:00, 365485.66it/s]\n",
      "  0%|          | 0/1785607 [00:00<?, ?it/s]"
     ]
    },
    {
     "name": "stdout",
     "output_type": "stream",
     "text": [
      "350 599 170.03868488418783\n"
     ]
    },
    {
     "name": "stderr",
     "output_type": "stream",
     "text": [
      "100%|██████████| 1785607/1785607 [00:04<00:00, 365853.61it/s]\n",
      "  2%|▏         | 29415/1785607 [00:00<00:05, 293551.88it/s]"
     ]
    },
    {
     "name": "stdout",
     "output_type": "stream",
     "text": [
      "375 572 180.73121857161178\n"
     ]
    },
    {
     "name": "stderr",
     "output_type": "stream",
     "text": [
      "100%|██████████| 1785607/1785607 [00:05<00:00, 316272.74it/s]\n",
      "  2%|▏         | 32386/1785607 [00:00<00:05, 323858.76it/s]"
     ]
    },
    {
     "name": "stdout",
     "output_type": "stream",
     "text": [
      "25 5488 11.468046440230129\n"
     ]
    },
    {
     "name": "stderr",
     "output_type": "stream",
     "text": [
      "100%|██████████| 1785607/1785607 [00:05<00:00, 342656.17it/s]\n",
      "  2%|▏         | 33228/1785607 [00:00<00:05, 332274.77it/s]"
     ]
    },
    {
     "name": "stdout",
     "output_type": "stream",
     "text": [
      "50 2899 23.948232729822408\n"
     ]
    },
    {
     "name": "stderr",
     "output_type": "stream",
     "text": [
      "100%|██████████| 1785607/1785607 [00:05<00:00, 350352.58it/s]\n",
      "  0%|          | 0/1785607 [00:00<?, ?it/s]"
     ]
    },
    {
     "name": "stdout",
     "output_type": "stream",
     "text": [
      "75 2045 36.29045529055386\n"
     ]
    },
    {
     "name": "stderr",
     "output_type": "stream",
     "text": [
      "100%|██████████| 1785607/1785607 [00:05<00:00, 354254.23it/s]\n",
      "  2%|▏         | 33538/1785607 [00:00<00:05, 335379.52it/s]"
     ]
    },
    {
     "name": "stdout",
     "output_type": "stream",
     "text": [
      "100 1603 48.57202620733454\n"
     ]
    },
    {
     "name": "stderr",
     "output_type": "stream",
     "text": [
      "100%|██████████| 1785607/1785607 [00:05<00:00, 356788.98it/s]\n",
      "  0%|          | 0/1785607 [00:00<?, ?it/s]"
     ]
    },
    {
     "name": "stdout",
     "output_type": "stream",
     "text": [
      "125 1355 60.45817304703667\n"
     ]
    },
    {
     "name": "stderr",
     "output_type": "stream",
     "text": [
      "100%|██████████| 1785607/1785607 [00:04<00:00, 360819.68it/s]\n",
      "  0%|          | 0/1785607 [00:00<?, ?it/s]"
     ]
    },
    {
     "name": "stdout",
     "output_type": "stream",
     "text": [
      "150 1166 72.33557944161285\n"
     ]
    },
    {
     "name": "stderr",
     "output_type": "stream",
     "text": [
      "100%|██████████| 1785607/1785607 [00:04<00:00, 360401.38it/s]\n",
      "  0%|          | 0/1785607 [00:00<?, ?it/s]"
     ]
    },
    {
     "name": "stdout",
     "output_type": "stream",
     "text": [
      "175 1051 84.21118812818274\n"
     ]
    },
    {
     "name": "stderr",
     "output_type": "stream",
     "text": [
      "100%|██████████| 1785607/1785607 [00:04<00:00, 360765.33it/s]\n",
      "  2%|▏         | 34253/1785607 [00:00<00:05, 342526.24it/s]"
     ]
    },
    {
     "name": "stdout",
     "output_type": "stream",
     "text": [
      "200 936 96.11780867794538\n"
     ]
    },
    {
     "name": "stderr",
     "output_type": "stream",
     "text": [
      "100%|██████████| 1785607/1785607 [00:04<00:00, 361911.99it/s]\n",
      "  0%|          | 0/1785607 [00:00<?, ?it/s]"
     ]
    },
    {
     "name": "stdout",
     "output_type": "stream",
     "text": [
      "225 853 107.44662683334015\n"
     ]
    },
    {
     "name": "stderr",
     "output_type": "stream",
     "text": [
      "100%|██████████| 1785607/1785607 [00:04<00:00, 362302.36it/s]\n",
      "  2%|▏         | 34628/1785607 [00:00<00:05, 346278.68it/s]"
     ]
    },
    {
     "name": "stdout",
     "output_type": "stream",
     "text": [
      "250 779 124.22474710280594\n"
     ]
    },
    {
     "name": "stderr",
     "output_type": "stream",
     "text": [
      "100%|██████████| 1785607/1785607 [00:04<00:00, 366264.76it/s]\n",
      "  0%|          | 0/1785607 [00:00<?, ?it/s]"
     ]
    },
    {
     "name": "stdout",
     "output_type": "stream",
     "text": [
      "275 727 137.03390163681033\n"
     ]
    },
    {
     "name": "stderr",
     "output_type": "stream",
     "text": [
      "100%|██████████| 1785607/1785607 [00:04<00:00, 367508.12it/s]\n",
      "  0%|          | 0/1785607 [00:00<?, ?it/s]"
     ]
    },
    {
     "name": "stdout",
     "output_type": "stream",
     "text": [
      "300 668 147.9524273818371\n"
     ]
    },
    {
     "name": "stderr",
     "output_type": "stream",
     "text": [
      "100%|██████████| 1785607/1785607 [00:04<00:00, 364606.38it/s]\n",
      "  2%|▏         | 29169/1785607 [00:00<00:06, 291689.58it/s]"
     ]
    },
    {
     "name": "stdout",
     "output_type": "stream",
     "text": [
      "325 629 160.03619329449313\n"
     ]
    },
    {
     "name": "stderr",
     "output_type": "stream",
     "text": [
      "100%|██████████| 1785607/1785607 [00:04<00:00, 361303.03it/s]\n",
      "  2%|▏         | 34532/1785607 [00:00<00:05, 345312.92it/s]"
     ]
    },
    {
     "name": "stdout",
     "output_type": "stream",
     "text": [
      "350 599 171.04281401226586\n"
     ]
    },
    {
     "name": "stderr",
     "output_type": "stream",
     "text": [
      "100%|██████████| 1785607/1785607 [00:04<00:00, 359557.49it/s]\n",
      "  2%|▏         | 29822/1785607 [00:00<00:05, 298172.65it/s]"
     ]
    },
    {
     "name": "stdout",
     "output_type": "stream",
     "text": [
      "375 575 182.70081546499313\n"
     ]
    },
    {
     "name": "stderr",
     "output_type": "stream",
     "text": [
      "100%|██████████| 1785607/1785607 [00:05<00:00, 318917.92it/s]\n",
      "  2%|▏         | 32446/1785607 [00:00<00:05, 324456.44it/s]"
     ]
    },
    {
     "name": "stdout",
     "output_type": "stream",
     "text": [
      "25 5437 11.587920522264978\n"
     ]
    },
    {
     "name": "stderr",
     "output_type": "stream",
     "text": [
      "100%|██████████| 1785607/1785607 [00:05<00:00, 343859.15it/s]\n",
      "  1%|          | 20625/1785607 [00:00<00:08, 204358.29it/s]"
     ]
    },
    {
     "name": "stdout",
     "output_type": "stream",
     "text": [
      "50 2874 24.140304669504545\n"
     ]
    },
    {
     "name": "stderr",
     "output_type": "stream",
     "text": [
      "100%|██████████| 1785607/1785607 [00:05<00:00, 348712.40it/s]\n",
      "  2%|▏         | 32991/1785607 [00:00<00:05, 329907.95it/s]"
     ]
    },
    {
     "name": "stdout",
     "output_type": "stream",
     "text": [
      "75 2026 36.8871033771709\n"
     ]
    },
    {
     "name": "stderr",
     "output_type": "stream",
     "text": [
      "100%|██████████| 1785607/1785607 [00:05<00:00, 354944.70it/s]\n",
      "  0%|          | 0/1785607 [00:00<?, ?it/s]"
     ]
    },
    {
     "name": "stdout",
     "output_type": "stream",
     "text": [
      "100 1595 48.951330835956625\n"
     ]
    },
    {
     "name": "stderr",
     "output_type": "stream",
     "text": [
      "100%|██████████| 1785607/1785607 [00:05<00:00, 355392.83it/s]\n",
      "  2%|▏         | 34143/1785607 [00:00<00:05, 340705.75it/s]"
     ]
    },
    {
     "name": "stdout",
     "output_type": "stream",
     "text": [
      "125 1343 61.03600904342333\n"
     ]
    },
    {
     "name": "stderr",
     "output_type": "stream",
     "text": [
      "100%|██████████| 1785607/1785607 [00:04<00:00, 360349.03it/s]\n",
      "  0%|          | 0/1785607 [00:00<?, ?it/s]"
     ]
    },
    {
     "name": "stdout",
     "output_type": "stream",
     "text": [
      "150 1157 72.59720476006198\n"
     ]
    },
    {
     "name": "stderr",
     "output_type": "stream",
     "text": [
      "100%|██████████| 1785607/1785607 [00:04<00:00, 358568.17it/s]\n",
      "  0%|          | 0/1785607 [00:00<?, ?it/s]"
     ]
    },
    {
     "name": "stdout",
     "output_type": "stream",
     "text": [
      "175 1047 85.27060937821145\n"
     ]
    },
    {
     "name": "stderr",
     "output_type": "stream",
     "text": [
      "100%|██████████| 1785607/1785607 [00:04<00:00, 361333.99it/s]\n",
      "  0%|          | 0/1785607 [00:00<?, ?it/s]"
     ]
    },
    {
     "name": "stdout",
     "output_type": "stream",
     "text": [
      "200 936 96.58689734079223\n"
     ]
    },
    {
     "name": "stderr",
     "output_type": "stream",
     "text": [
      "100%|██████████| 1785607/1785607 [00:04<00:00, 359571.52it/s]\n",
      "  0%|          | 0/1785607 [00:00<?, ?it/s]"
     ]
    },
    {
     "name": "stdout",
     "output_type": "stream",
     "text": [
      "225 852 108.51255959458044\n"
     ]
    },
    {
     "name": "stderr",
     "output_type": "stream",
     "text": [
      "100%|██████████| 1785607/1785607 [00:04<00:00, 361268.94it/s]\n",
      "  2%|▏         | 34588/1785607 [00:00<00:05, 345875.38it/s]"
     ]
    },
    {
     "name": "stdout",
     "output_type": "stream",
     "text": [
      "250 778 125.12408553505895\n"
     ]
    },
    {
     "name": "stderr",
     "output_type": "stream",
     "text": [
      "100%|██████████| 1785607/1785607 [00:04<00:00, 366231.88it/s]\n",
      "  2%|▏         | 32396/1785607 [00:00<00:05, 322769.82it/s]"
     ]
    },
    {
     "name": "stdout",
     "output_type": "stream",
     "text": [
      "275 723 137.9067219158527\n"
     ]
    },
    {
     "name": "stderr",
     "output_type": "stream",
     "text": [
      "100%|██████████| 1785607/1785607 [00:04<00:00, 362495.35it/s]\n",
      "  2%|▏         | 34735/1785607 [00:00<00:05, 347347.85it/s]"
     ]
    },
    {
     "name": "stdout",
     "output_type": "stream",
     "text": [
      "300 670 149.3298816592901\n"
     ]
    },
    {
     "name": "stderr",
     "output_type": "stream",
     "text": [
      "100%|██████████| 1785607/1785607 [00:05<00:00, 356176.74it/s]\n",
      "  2%|▏         | 34369/1785607 [00:00<00:05, 343684.59it/s]"
     ]
    },
    {
     "name": "stdout",
     "output_type": "stream",
     "text": [
      "325 633 160.69436555748268\n"
     ]
    },
    {
     "name": "stderr",
     "output_type": "stream",
     "text": [
      "100%|██████████| 1785607/1785607 [00:04<00:00, 362892.74it/s]\n",
      "  2%|▏         | 34649/1785607 [00:00<00:05, 346485.37it/s]"
     ]
    },
    {
     "name": "stdout",
     "output_type": "stream",
     "text": [
      "350 596 173.17670965671618\n"
     ]
    },
    {
     "name": "stderr",
     "output_type": "stream",
     "text": [
      "100%|██████████| 1785607/1785607 [00:04<00:00, 366831.23it/s]\n",
      "  2%|▏         | 30520/1785607 [00:00<00:05, 305198.84it/s]"
     ]
    },
    {
     "name": "stdout",
     "output_type": "stream",
     "text": [
      "375 564 182.8872445056499\n"
     ]
    },
    {
     "name": "stderr",
     "output_type": "stream",
     "text": [
      "100%|██████████| 1785607/1785607 [00:05<00:00, 325824.25it/s]\n",
      "  2%|▏         | 32384/1785607 [00:00<00:05, 323837.99it/s]"
     ]
    },
    {
     "name": "stdout",
     "output_type": "stream",
     "text": [
      "25 5394 11.719652756737625\n"
     ]
    },
    {
     "name": "stderr",
     "output_type": "stream",
     "text": [
      "100%|██████████| 1785607/1785607 [00:05<00:00, 344376.34it/s]\n",
      "  2%|▏         | 33037/1785607 [00:00<00:05, 330364.01it/s]"
     ]
    },
    {
     "name": "stdout",
     "output_type": "stream",
     "text": [
      "50 2847 24.518560355106136\n"
     ]
    },
    {
     "name": "stderr",
     "output_type": "stream",
     "text": [
      "100%|██████████| 1785607/1785607 [00:05<00:00, 352398.48it/s]\n",
      "  2%|▏         | 33205/1785607 [00:00<00:05, 332049.52it/s]"
     ]
    },
    {
     "name": "stdout",
     "output_type": "stream",
     "text": [
      "75 2008 37.02481957115984\n"
     ]
    },
    {
     "name": "stderr",
     "output_type": "stream",
     "text": [
      "100%|██████████| 1785607/1785607 [00:05<00:00, 355261.45it/s]\n",
      "  2%|▏         | 33601/1785607 [00:00<00:05, 336006.31it/s]"
     ]
    },
    {
     "name": "stdout",
     "output_type": "stream",
     "text": [
      "100 1578 49.63468389180822\n"
     ]
    },
    {
     "name": "stderr",
     "output_type": "stream",
     "text": [
      "100%|██████████| 1785607/1785607 [00:04<00:00, 358552.08it/s]\n",
      "  0%|          | 0/1785607 [00:00<?, ?it/s]"
     ]
    },
    {
     "name": "stdout",
     "output_type": "stream",
     "text": [
      "125 1332 61.85794914558467\n"
     ]
    },
    {
     "name": "stderr",
     "output_type": "stream",
     "text": [
      "100%|██████████| 1785607/1785607 [00:04<00:00, 358487.73it/s]\n",
      "  2%|▏         | 34183/1785607 [00:00<00:05, 341828.70it/s]"
     ]
    },
    {
     "name": "stdout",
     "output_type": "stream",
     "text": [
      "150 1155 73.70981128546202\n"
     ]
    },
    {
     "name": "stderr",
     "output_type": "stream",
     "text": [
      "100%|██████████| 1785607/1785607 [00:04<00:00, 362526.89it/s]\n",
      "  2%|▏         | 34203/1785607 [00:00<00:05, 342022.99it/s]"
     ]
    },
    {
     "name": "stdout",
     "output_type": "stream",
     "text": [
      "175 1040 85.7148991911434\n"
     ]
    },
    {
     "name": "stderr",
     "output_type": "stream",
     "text": [
      "100%|██████████| 1785607/1785607 [00:04<00:00, 361932.93it/s]\n",
      "  2%|▏         | 34495/1785607 [00:00<00:05, 344949.51it/s]"
     ]
    },
    {
     "name": "stdout",
     "output_type": "stream",
     "text": [
      "200 932 97.74357403392796\n"
     ]
    },
    {
     "name": "stderr",
     "output_type": "stream",
     "text": [
      "100%|██████████| 1785607/1785607 [00:04<00:00, 365384.04it/s]\n",
      "  2%|▏         | 33603/1785607 [00:00<00:05, 336015.90it/s]"
     ]
    },
    {
     "name": "stdout",
     "output_type": "stream",
     "text": [
      "225 848 110.39341859658929\n"
     ]
    },
    {
     "name": "stderr",
     "output_type": "stream",
     "text": [
      "100%|██████████| 1785607/1785607 [00:05<00:00, 355701.04it/s]\n",
      "  2%|▏         | 34260/1785607 [00:00<00:05, 342597.88it/s]"
     ]
    },
    {
     "name": "stdout",
     "output_type": "stream",
     "text": [
      "250 780 126.28319837455834\n"
     ]
    },
    {
     "name": "stderr",
     "output_type": "stream",
     "text": [
      "100%|██████████| 1785607/1785607 [00:04<00:00, 364064.32it/s]\n",
      "  2%|▏         | 34495/1785607 [00:00<00:05, 344945.39it/s]"
     ]
    },
    {
     "name": "stdout",
     "output_type": "stream",
     "text": [
      "275 720 138.2919785820732\n"
     ]
    },
    {
     "name": "stderr",
     "output_type": "stream",
     "text": [
      "100%|██████████| 1785607/1785607 [00:04<00:00, 364673.54it/s]\n",
      "  2%|▏         | 34705/1785607 [00:00<00:05, 347041.23it/s]"
     ]
    },
    {
     "name": "stdout",
     "output_type": "stream",
     "text": [
      "300 675 150.01077112712932\n"
     ]
    },
    {
     "name": "stderr",
     "output_type": "stream",
     "text": [
      "100%|██████████| 1785607/1785607 [00:04<00:00, 366318.15it/s]\n",
      "  2%|▏         | 34369/1785607 [00:00<00:05, 343689.51it/s]"
     ]
    },
    {
     "name": "stdout",
     "output_type": "stream",
     "text": [
      "325 630 161.1419920508824\n"
     ]
    },
    {
     "name": "stderr",
     "output_type": "stream",
     "text": [
      "100%|██████████| 1785607/1785607 [00:04<00:00, 358245.22it/s]\n",
      "  0%|          | 0/1785607 [00:00<?, ?it/s]"
     ]
    },
    {
     "name": "stdout",
     "output_type": "stream",
     "text": [
      "350 595 173.69029075266843\n"
     ]
    },
    {
     "name": "stderr",
     "output_type": "stream",
     "text": [
      "100%|██████████| 1785607/1785607 [00:04<00:00, 367240.48it/s]\n",
      "  2%|▏         | 30303/1785607 [00:00<00:05, 303026.68it/s]"
     ]
    },
    {
     "name": "stdout",
     "output_type": "stream",
     "text": [
      "375 560 183.34084319785933\n"
     ]
    },
    {
     "name": "stderr",
     "output_type": "stream",
     "text": [
      "100%|██████████| 1785607/1785607 [00:05<00:00, 325945.15it/s]\n",
      "  2%|▏         | 32167/1785607 [00:00<00:05, 321662.64it/s]"
     ]
    },
    {
     "name": "stdout",
     "output_type": "stream",
     "text": [
      "25 5363 11.784486731962856\n"
     ]
    },
    {
     "name": "stderr",
     "output_type": "stream",
     "text": [
      "100%|██████████| 1785607/1785607 [00:05<00:00, 345530.62it/s]\n",
      "  2%|▏         | 33211/1785607 [00:00<00:05, 332108.73it/s]"
     ]
    },
    {
     "name": "stdout",
     "output_type": "stream",
     "text": [
      "50 2819 24.708508087165878\n"
     ]
    },
    {
     "name": "stderr",
     "output_type": "stream",
     "text": [
      "100%|██████████| 1785607/1785607 [00:05<00:00, 349077.14it/s]\n",
      "  0%|          | 0/1785607 [00:00<?, ?it/s]"
     ]
    },
    {
     "name": "stdout",
     "output_type": "stream",
     "text": [
      "75 2000 37.30076719009278\n"
     ]
    },
    {
     "name": "stderr",
     "output_type": "stream",
     "text": [
      "100%|██████████| 1785607/1785607 [00:05<00:00, 356354.44it/s]\n",
      "  0%|          | 0/1785607 [00:00<?, ?it/s]"
     ]
    },
    {
     "name": "stdout",
     "output_type": "stream",
     "text": [
      "100 1584 49.971136425876466\n"
     ]
    },
    {
     "name": "stderr",
     "output_type": "stream",
     "text": [
      "100%|██████████| 1785607/1785607 [00:04<00:00, 358409.39it/s]\n",
      "  0%|          | 0/1785607 [00:00<?, ?it/s]"
     ]
    },
    {
     "name": "stdout",
     "output_type": "stream",
     "text": [
      "125 1324 62.27269998381503\n"
     ]
    },
    {
     "name": "stderr",
     "output_type": "stream",
     "text": [
      "100%|██████████| 1785607/1785607 [00:04<00:00, 357674.16it/s]\n",
      "  0%|          | 0/1785607 [00:00<?, ?it/s]"
     ]
    },
    {
     "name": "stdout",
     "output_type": "stream",
     "text": [
      "150 1147 74.36845957705138\n"
     ]
    },
    {
     "name": "stderr",
     "output_type": "stream",
     "text": [
      "100%|██████████| 1785607/1785607 [00:04<00:00, 360517.05it/s]\n",
      "  0%|          | 0/1785607 [00:00<?, ?it/s]"
     ]
    },
    {
     "name": "stdout",
     "output_type": "stream",
     "text": [
      "175 1026 86.61585388050113\n"
     ]
    },
    {
     "name": "stderr",
     "output_type": "stream",
     "text": [
      "100%|██████████| 1785607/1785607 [00:04<00:00, 361167.74it/s]\n",
      "  0%|          | 0/1785607 [00:00<?, ?it/s]"
     ]
    },
    {
     "name": "stdout",
     "output_type": "stream",
     "text": [
      "200 927 98.34496280536534\n"
     ]
    },
    {
     "name": "stderr",
     "output_type": "stream",
     "text": [
      "100%|██████████| 1785607/1785607 [00:04<00:00, 361288.79it/s]\n",
      "  0%|          | 0/1785607 [00:00<?, ?it/s]"
     ]
    },
    {
     "name": "stdout",
     "output_type": "stream",
     "text": [
      "225 846 111.17259620958028\n"
     ]
    },
    {
     "name": "stderr",
     "output_type": "stream",
     "text": [
      "100%|██████████| 1785607/1785607 [00:04<00:00, 357496.29it/s]\n",
      "  0%|          | 0/1785607 [00:00<?, ?it/s]"
     ]
    },
    {
     "name": "stdout",
     "output_type": "stream",
     "text": [
      "250 783 123.21732105664908\n"
     ]
    },
    {
     "name": "stderr",
     "output_type": "stream",
     "text": [
      "100%|██████████| 1785607/1785607 [00:04<00:00, 358586.80it/s]\n",
      "  2%|▏         | 34105/1785607 [00:00<00:05, 341044.63it/s]"
     ]
    },
    {
     "name": "stdout",
     "output_type": "stream",
     "text": [
      "275 716 139.0691624752815\n"
     ]
    },
    {
     "name": "stderr",
     "output_type": "stream",
     "text": [
      "100%|██████████| 1785607/1785607 [00:04<00:00, 358132.14it/s]\n",
      "  2%|▏         | 34841/1785607 [00:00<00:05, 348402.86it/s]"
     ]
    },
    {
     "name": "stdout",
     "output_type": "stream",
     "text": [
      "300 674 151.44091505017622\n"
     ]
    },
    {
     "name": "stderr",
     "output_type": "stream",
     "text": [
      "100%|██████████| 1785607/1785607 [00:04<00:00, 364844.23it/s]\n",
      "  2%|▏         | 34658/1785607 [00:00<00:05, 346573.72it/s]"
     ]
    },
    {
     "name": "stdout",
     "output_type": "stream",
     "text": [
      "325 630 161.4855570122653\n"
     ]
    },
    {
     "name": "stderr",
     "output_type": "stream",
     "text": [
      "100%|██████████| 1785607/1785607 [00:04<00:00, 362809.59it/s]\n",
      "  0%|          | 0/1785607 [00:00<?, ?it/s]"
     ]
    },
    {
     "name": "stdout",
     "output_type": "stream",
     "text": [
      "350 600 173.77218559291043\n"
     ]
    },
    {
     "name": "stderr",
     "output_type": "stream",
     "text": [
      "100%|██████████| 1785607/1785607 [00:04<00:00, 363422.24it/s]"
     ]
    },
    {
     "name": "stdout",
     "output_type": "stream",
     "text": [
      "375 561 184.88008391544165\n"
     ]
    },
    {
     "name": "stderr",
     "output_type": "stream",
     "text": [
      "\n"
     ]
    }
   ],
   "source": [
    "epsilon_list = list(range(25,400,25))\n",
    "RS_Meta_Index_seg_num_withBound_list = []\n",
    "RS_Meta_Index_mae_withBound_list = []\n",
    "look_list = list(np.arange(0.1,0.8,0.1))\n",
    "for lookn in look_list:    \n",
    "    RS_Meta_Index_seg_num_withBound = []\n",
    "    RS_Meta_Index_mae_withBound = []\n",
    "    for i in range(len(epsilon_list)):\n",
    "        RS_Meta_Index = RS_Meta(epsilon_list[i],init_epsilon=range(25,400,25),low=1,high=1000,withBound=True)\n",
    "        RS_Meta_Index.learn_index_lookahead(data,lookn=lookn)\n",
    "        RS_Meta_Index_seg_num_withBound.append(RS_Meta_Index.seg_num)\n",
    "        RS_Meta_Index_mae_withBound.append(RS_Meta_Index.mae)\n",
    "    RS_Meta_Index_seg_num_withBound_list.append(RS_Meta_Index_seg_num_withBound)\n",
    "    RS_Meta_Index_mae_withBound_list.append(RS_Meta_Index_mae_withBound)"
   ]
  },
  {
   "cell_type": "code",
   "execution_count": 24,
   "metadata": {},
   "outputs": [
    {
     "data": {
      "text/plain": [
       "<matplotlib.legend.Legend at 0x7f5945837ac8>"
      ]
     },
     "execution_count": 24,
     "metadata": {},
     "output_type": "execute_result"
    },
    {
     "data": {
      "image/png": "[encoded data removed]",
      "text/plain": [
       "<Figure size 432x288 with 1 Axes>"
      ]
     },
     "metadata": {
      "needs_background": "light"
     },
     "output_type": "display_data"
    }
   ],
   "source": [
    "x = np.arange(2500,21000)\n",
    "import matplotlib.pylab as pylab\n",
    "label_size = 18.5\n",
    "ticks_size = 17\n",
    "title_size = 22.5\n",
    "legend_size = 17\n",
    "params = {'legend.fontsize': legend_size,\n",
    "          'axes.labelsize': label_size,\n",
    "          'axes.titlesize': title_size,\n",
    "          'xtick.labelsize': ticks_size,\n",
    "          'ytick.labelsize': ticks_size}\n",
    "pylab.rcParams.update(params)\n",
    "plt.rcParams[\"text.usetex\"] = True\n",
    "plt.rcParams['text.latex.preamble'] = [r'\\boldmath']\n",
    "markers = [\"v\", \"^\", \"o\", \"<\", \">\", \"1\", \"2\", \"3\", \"4\"]\n",
    "colors = [\"b\", \"r\", \"g\", \"purple\", \"teal\", \"tomato\", \"olive\", \"deeppink\"]\n",
    "linestyles = ['solid', 'dotted', '-.', ':', \"--\", (0, (3, 10, 1, 10)), (0, (3, 5, 1, 5, 1, 5)),\n",
    "              (0, (5, 10))]\n",
    "\n",
    "plt.title('$\\mathrm{Map,~RadixSpline}$')\n",
    "plt.xlabel('$\\mathrm{N}$')\n",
    "plt.ylabel('$\\mathrm{MAE}$')\n",
    "def func(x,a,b):\n",
    "    return a * x**b\n",
    "i=0\n",
    "RS_Meta_Index_seg_num_withBound = RS_Meta_Index_seg_num_withBound_list[i]\n",
    "RS_Meta_Index_mae_withBound = RS_Meta_Index_mae_withBound_list[i]\n",
    "p,_ = curve_fit(func,RS_Meta_Index_seg_num_withBound,RS_Meta_Index_mae_withBound)\n",
    "plt.plot(RS_Meta_Index_seg_num_withBound,RS_Meta_Index_mae_withBound,linestyle=linestyles[i], label='$\\mathrm{Look'+str(look_list[i])+'}$',color=colors[i],marker=markers[i],markersize=13)\n",
    "for i in range(1,len(RS_Meta_Index_mae_withBound_list),2):\n",
    "    RS_Meta_Index_seg_num_withBound = RS_Meta_Index_seg_num_withBound_list[i]\n",
    "    RS_Meta_Index_mae_withBound = RS_Meta_Index_mae_withBound_list[i]\n",
    "    p,_ = curve_fit(func,RS_Meta_Index_seg_num_withBound,RS_Meta_Index_mae_withBound)\n",
    "    plt.plot(RS_Meta_Index_seg_num_withBound,RS_Meta_Index_mae_withBound,linestyle=linestyles[i], label='$\\mathrm{Look'+str(look_list[i])+'}$',color=colors[i],marker=markers[i],markersize=13)\n",
    "plt.legend()\n",
    "#plt.savefig(\"{}.pdf\".format(\"results/RadixSpline/Map_lookn_26\"), bbox_inches='tight', pad_inches=0)"
   ]
  },
  {
   "cell_type": "code",
   "execution_count": null,
   "metadata": {},
   "outputs": [],
   "source": []
  }
 ],
 "metadata": {
  "kernelspec": {
   "display_name": "Python 3",
   "language": "python",
   "name": "python3"
  },
  "language_info": {
   "codemirror_mode": {
    "name": "ipython",
    "version": 3
   },
   "file_extension": ".py",
   "mimetype": "text/x-python",
   "name": "python",
   "nbconvert_exporter": "python",
   "pygments_lexer": "ipython3",
   "version": "3.7.0"
  }
 },
 "nbformat": 4,
 "nbformat_minor": 5
}
