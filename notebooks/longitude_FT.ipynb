{
 "cells": [
  {
   "cell_type": "code",
   "execution_count": 2,
   "metadata": {},
   "outputs": [],
   "source": [
    "import numpy as np\n",
    "import pandas as pd\n",
    "import matplotlib.pyplot as plt\n",
    "from tqdm import tqdm\n",
    "import struct\n",
    "import sys\n",
    "import time\n",
    "from model.FittingTree import *\n",
    "from model.MET import *\n",
    "from model.MET_Meta import *\n",
    "from model.FT_Meta import *\n",
    "from model.MET_Meta_SGD import *"
   ]
  },
  {
   "cell_type": "code",
   "execution_count": 3,
   "metadata": {},
   "outputs": [
    {
     "name": "stderr",
     "output_type": "stream",
     "text": [
      "100%|██████████| 1783525/1783525 [00:01<00:00, 1275332.43it/s]\n"
     ]
    }
   ],
   "source": [
    "# Real World Data\n",
    "# 'd' for double, 'l' for uint\n",
    "datafile = open('./data/longtitude_china.double','rb')\n",
    "data = datafile.read(8)\n",
    "data_len, = struct.unpack('d', data)\n",
    "data_len = int(data_len)\n",
    "data=[]\n",
    "for i in tqdm(range(data_len)):\n",
    "    data_bin = datafile.read(8)\n",
    "    data_unix, = struct.unpack('d',data_bin)\n",
    "    data.append(data_unix)"
   ]
  },
  {
   "cell_type": "code",
   "execution_count": 4,
   "metadata": {
    "scrolled": true
   },
   "outputs": [
    {
     "name": "stderr",
     "output_type": "stream",
     "text": [
      "100%|██████████| 1783525/1783525 [00:02<00:00, 716959.67it/s]\n",
      "  4%|▎         | 66123/1783525 [00:00<00:02, 661224.32it/s]"
     ]
    },
    {
     "name": "stdout",
     "output_type": "stream",
     "text": [
      "6007 6.930558155548702\n"
     ]
    },
    {
     "name": "stderr",
     "output_type": "stream",
     "text": [
      "100%|██████████| 1783525/1783525 [00:02<00:00, 737085.71it/s]\n",
      "  4%|▍         | 67352/1783525 [00:00<00:02, 673514.22it/s]"
     ]
    },
    {
     "name": "stdout",
     "output_type": "stream",
     "text": [
      "3108 14.848349383010236\n"
     ]
    },
    {
     "name": "stderr",
     "output_type": "stream",
     "text": [
      "100%|██████████| 1783525/1783525 [00:02<00:00, 748117.35it/s]\n",
      "  4%|▍         | 67006/1783525 [00:00<00:02, 670059.04it/s]"
     ]
    },
    {
     "name": "stdout",
     "output_type": "stream",
     "text": [
      "2171 22.944924481516903\n"
     ]
    },
    {
     "name": "stderr",
     "output_type": "stream",
     "text": [
      "100%|██████████| 1783525/1783525 [00:02<00:00, 750937.16it/s]\n",
      "  4%|▍         | 67646/1783525 [00:00<00:02, 676455.81it/s]"
     ]
    },
    {
     "name": "stdout",
     "output_type": "stream",
     "text": [
      "1686 31.64756423375058\n"
     ]
    },
    {
     "name": "stderr",
     "output_type": "stream",
     "text": [
      "100%|██████████| 1783525/1783525 [00:02<00:00, 753309.45it/s]\n",
      "  4%|▍         | 67782/1783525 [00:00<00:02, 677815.80it/s]"
     ]
    },
    {
     "name": "stdout",
     "output_type": "stream",
     "text": [
      "1393 39.71101412916506\n"
     ]
    },
    {
     "name": "stderr",
     "output_type": "stream",
     "text": [
      "100%|██████████| 1783525/1783525 [00:02<00:00, 754239.56it/s]\n",
      "  4%|▍         | 68364/1783525 [00:00<00:02, 683632.50it/s]"
     ]
    },
    {
     "name": "stdout",
     "output_type": "stream",
     "text": [
      "1188 48.073843252268055\n"
     ]
    },
    {
     "name": "stderr",
     "output_type": "stream",
     "text": [
      "100%|██████████| 1783525/1783525 [00:02<00:00, 756373.44it/s]\n",
      "  4%|▍         | 68279/1783525 [00:00<00:02, 682299.38it/s]"
     ]
    },
    {
     "name": "stdout",
     "output_type": "stream",
     "text": [
      "1050 56.38592315642392\n"
     ]
    },
    {
     "name": "stderr",
     "output_type": "stream",
     "text": [
      "100%|██████████| 1783525/1783525 [00:02<00:00, 755195.61it/s]\n",
      "  4%|▍         | 68337/1783525 [00:00<00:02, 681980.45it/s]"
     ]
    },
    {
     "name": "stdout",
     "output_type": "stream",
     "text": [
      "944 64.93704351253936\n"
     ]
    },
    {
     "name": "stderr",
     "output_type": "stream",
     "text": [
      "100%|██████████| 1783525/1783525 [00:02<00:00, 759383.29it/s]\n",
      "  4%|▍         | 69070/1783525 [00:00<00:02, 690697.37it/s]"
     ]
    },
    {
     "name": "stdout",
     "output_type": "stream",
     "text": [
      "854 73.9641233027163\n"
     ]
    },
    {
     "name": "stderr",
     "output_type": "stream",
     "text": [
      "100%|██████████| 1783525/1783525 [00:02<00:00, 756694.09it/s]\n",
      "  4%|▍         | 68276/1783525 [00:00<00:02, 682759.02it/s]"
     ]
    },
    {
     "name": "stdout",
     "output_type": "stream",
     "text": [
      "774 80.95854323029664\n"
     ]
    },
    {
     "name": "stderr",
     "output_type": "stream",
     "text": [
      "100%|██████████| 1783525/1783525 [00:02<00:00, 757955.55it/s]\n",
      "  4%|▍         | 69690/1783525 [00:00<00:02, 696894.02it/s]"
     ]
    },
    {
     "name": "stdout",
     "output_type": "stream",
     "text": [
      "712 90.14984555549952\n"
     ]
    },
    {
     "name": "stderr",
     "output_type": "stream",
     "text": [
      "100%|██████████| 1783525/1783525 [00:02<00:00, 760649.01it/s]\n",
      "  4%|▍         | 69662/1783525 [00:00<00:02, 696612.36it/s]"
     ]
    },
    {
     "name": "stdout",
     "output_type": "stream",
     "text": [
      "662 98.83667446209051\n"
     ]
    },
    {
     "name": "stderr",
     "output_type": "stream",
     "text": [
      "100%|██████████| 1783525/1783525 [00:02<00:00, 759929.30it/s]\n",
      "  4%|▍         | 68334/1783525 [00:00<00:02, 683335.76it/s]"
     ]
    },
    {
     "name": "stdout",
     "output_type": "stream",
     "text": [
      "623 106.36284874926562\n"
     ]
    },
    {
     "name": "stderr",
     "output_type": "stream",
     "text": [
      "100%|██████████| 1783525/1783525 [00:02<00:00, 752244.37it/s]\n",
      "  4%|▍         | 67819/1783525 [00:00<00:02, 678189.03it/s]"
     ]
    },
    {
     "name": "stdout",
     "output_type": "stream",
     "text": [
      "591 115.1875479945821\n"
     ]
    },
    {
     "name": "stderr",
     "output_type": "stream",
     "text": [
      "100%|██████████| 1783525/1783525 [00:02<00:00, 758870.00it/s]"
     ]
    },
    {
     "name": "stdout",
     "output_type": "stream",
     "text": [
      "564 123.81715699169236\n"
     ]
    },
    {
     "name": "stderr",
     "output_type": "stream",
     "text": [
      "\n"
     ]
    },
    {
     "data": {
      "text/plain": [
       "2.430350361764431"
      ]
     },
     "execution_count": 4,
     "metadata": {},
     "output_type": "execute_result"
    }
   ],
   "source": [
    "epsilon_list = list(range(25,400,25))\n",
    "FT_Index_seg_num = []\n",
    "FT_Index_mae = []\n",
    "starttime = time.perf_counter()\n",
    "for i in range(len(epsilon_list)):\n",
    "    epsilon = epsilon_list[i]\n",
    "    FT_Index = FT(epsilon)\n",
    "    FT_Index.learn_index(data)\n",
    "    FT_Index_seg_num.append(FT_Index.seg_num)\n",
    "    FT_Index_mae.append(FT_Index.mae)\n",
    "endtime = time.perf_counter()\n",
    "avg_time = (endtime - starttime) / len(epsilon_list)\n",
    "avg_time"
   ]
  },
  {
   "cell_type": "code",
   "execution_count": 3,
   "metadata": {},
   "outputs": [],
   "source": [
    "epsilon_list = list(range(25,400,25))\n",
    "seg_err_list = [  2057.73659637,   8520.72147147,  18849.7680497 ,  33478.18623962,\n",
    "        50843.92424603,  72172.47583039,  95776.86056911, 122687.33107066,\n",
    "       154469.39462936, 186552.43645325, 225820.93159322, 266280.48311178,\n",
    "       304495.66583553, 347613.99583255, 391544.31724044]"
   ]
  },
  {
   "cell_type": "code",
   "execution_count": 5,
   "metadata": {
    "scrolled": true
   },
   "outputs": [
    {
     "name": "stderr",
     "output_type": "stream",
     "text": [
      "100%|██████████| 1783525/1783525 [00:02<00:00, 604431.98it/s]\n",
      "  3%|▎         | 55336/1783525 [00:00<00:03, 553359.21it/s]"
     ]
    },
    {
     "name": "stdout",
     "output_type": "stream",
     "text": [
      "6115 6.662933236147516\n"
     ]
    },
    {
     "name": "stderr",
     "output_type": "stream",
     "text": [
      "100%|██████████| 1783525/1783525 [00:02<00:00, 646047.33it/s]\n",
      "  2%|▏         | 39986/1783525 [00:00<00:04, 399856.57it/s]"
     ]
    },
    {
     "name": "stdout",
     "output_type": "stream",
     "text": [
      "3203 13.712050013316325\n"
     ]
    },
    {
     "name": "stderr",
     "output_type": "stream",
     "text": [
      "100%|██████████| 1783525/1783525 [00:02<00:00, 674998.94it/s]\n",
      "  3%|▎         | 59529/1783525 [00:00<00:02, 595283.47it/s]"
     ]
    },
    {
     "name": "stdout",
     "output_type": "stream",
     "text": [
      "2282 20.57369030431309\n"
     ]
    },
    {
     "name": "stderr",
     "output_type": "stream",
     "text": [
      "100%|██████████| 1783525/1783525 [00:02<00:00, 696588.33it/s]\n",
      "  3%|▎         | 59863/1783525 [00:00<00:02, 598626.29it/s]"
     ]
    },
    {
     "name": "stdout",
     "output_type": "stream",
     "text": [
      "1756 28.107757390560828\n"
     ]
    },
    {
     "name": "stderr",
     "output_type": "stream",
     "text": [
      "100%|██████████| 1783525/1783525 [00:02<00:00, 698648.50it/s]\n",
      "  2%|▏         | 35384/1783525 [00:00<00:04, 353833.59it/s]"
     ]
    },
    {
     "name": "stdout",
     "output_type": "stream",
     "text": [
      "1470 35.18153600313985\n"
     ]
    },
    {
     "name": "stderr",
     "output_type": "stream",
     "text": [
      "100%|██████████| 1783525/1783525 [00:02<00:00, 703222.63it/s]\n",
      "  2%|▏         | 33746/1783525 [00:00<00:05, 337457.10it/s]"
     ]
    },
    {
     "name": "stdout",
     "output_type": "stream",
     "text": [
      "1263 42.652366521355184\n"
     ]
    },
    {
     "name": "stderr",
     "output_type": "stream",
     "text": [
      "100%|██████████| 1783525/1783525 [00:02<00:00, 699311.48it/s]\n",
      "  4%|▎         | 63254/1783525 [00:00<00:02, 632539.10it/s]"
     ]
    },
    {
     "name": "stdout",
     "output_type": "stream",
     "text": [
      "1112 49.450605402223125\n"
     ]
    },
    {
     "name": "stderr",
     "output_type": "stream",
     "text": [
      "100%|██████████| 1783525/1783525 [00:02<00:00, 718707.28it/s]\n",
      "  4%|▎         | 64078/1783525 [00:00<00:02, 640777.56it/s]"
     ]
    },
    {
     "name": "stdout",
     "output_type": "stream",
     "text": [
      "1006 56.52144881624872\n"
     ]
    },
    {
     "name": "stderr",
     "output_type": "stream",
     "text": [
      "100%|██████████| 1783525/1783525 [00:02<00:00, 723916.56it/s]\n",
      "  4%|▎         | 64023/1783525 [00:00<00:02, 640229.08it/s]"
     ]
    },
    {
     "name": "stdout",
     "output_type": "stream",
     "text": [
      "909 62.98977866864776\n"
     ]
    },
    {
     "name": "stderr",
     "output_type": "stream",
     "text": [
      "100%|██████████| 1783525/1783525 [00:02<00:00, 722835.41it/s]\n",
      "  4%|▎         | 65519/1783525 [00:00<00:02, 655182.81it/s]"
     ]
    },
    {
     "name": "stdout",
     "output_type": "stream",
     "text": [
      "832 70.06066693766557\n"
     ]
    },
    {
     "name": "stderr",
     "output_type": "stream",
     "text": [
      "100%|██████████| 1783525/1783525 [00:02<00:00, 731881.75it/s]\n",
      "  4%|▎         | 66012/1783525 [00:00<00:02, 656604.59it/s]"
     ]
    },
    {
     "name": "stdout",
     "output_type": "stream",
     "text": [
      "780 76.79279965237382\n"
     ]
    },
    {
     "name": "stderr",
     "output_type": "stream",
     "text": [
      "100%|██████████| 1783525/1783525 [00:02<00:00, 733543.16it/s]\n",
      "  4%|▎         | 66014/1783525 [00:00<00:02, 655021.40it/s]"
     ]
    },
    {
     "name": "stdout",
     "output_type": "stream",
     "text": [
      "733 83.27539283161155\n"
     ]
    },
    {
     "name": "stderr",
     "output_type": "stream",
     "text": [
      "100%|██████████| 1783525/1783525 [00:02<00:00, 729983.85it/s]\n",
      "  4%|▎         | 66018/1783525 [00:00<00:02, 654499.04it/s]"
     ]
    },
    {
     "name": "stdout",
     "output_type": "stream",
     "text": [
      "695 89.7648617204693\n"
     ]
    },
    {
     "name": "stderr",
     "output_type": "stream",
     "text": [
      "100%|██████████| 1783525/1783525 [00:02<00:00, 732129.58it/s]\n",
      "  4%|▎         | 65988/1783525 [00:00<00:02, 659875.91it/s]"
     ]
    },
    {
     "name": "stdout",
     "output_type": "stream",
     "text": [
      "662 96.42593235306485\n"
     ]
    },
    {
     "name": "stderr",
     "output_type": "stream",
     "text": [
      "100%|██████████| 1783525/1783525 [00:02<00:00, 733450.96it/s]"
     ]
    },
    {
     "name": "stdout",
     "output_type": "stream",
     "text": [
      "631 102.65277189834737\n"
     ]
    },
    {
     "name": "stderr",
     "output_type": "stream",
     "text": [
      "\n"
     ]
    },
    {
     "data": {
      "text/plain": [
       "2.6205529270072776"
      ]
     },
     "execution_count": 5,
     "metadata": {},
     "output_type": "execute_result"
    }
   ],
   "source": [
    "FT_Meta_Index_seg_num_withBound = []\n",
    "FT_Meta_Index_mae_withBound = []\n",
    "starttime = time.perf_counter()\n",
    "for i in range(len(epsilon_list)):\n",
    "    FT_Meta_Index = FT_Meta(epsilon_list[i],init_epsilon=range(25,400,25),low=1,high=1000,withBound=True)\n",
    "    FT_Meta_Index.learn_index_lookahead(data,lookn=400)\n",
    "    FT_Meta_Index_seg_num_withBound.append(FT_Meta_Index.seg_num)\n",
    "    FT_Meta_Index_mae_withBound.append(FT_Meta_Index.mae)\n",
    "endtime = time.perf_counter()\n",
    "avg_time = (endtime - starttime) / len(epsilon_list)\n",
    "avg_time"
   ]
  },
  {
   "cell_type": "code",
   "execution_count": 7,
   "metadata": {},
   "outputs": [
    {
     "data": {
      "image/png": "[encoded data removed]",
      "text/plain": [
       "<Figure size 432x288 with 1 Axes>"
      ]
     },
     "metadata": {
      "needs_background": "light"
     },
     "output_type": "display_data"
    }
   ],
   "source": [
    "plt.rcParams[\"text.usetex\"] = True\n",
    "markers = [\"v\", \"^\", \"o\", \"<\", \">\", \"1\", \"2\", \"3\", \"4\"]\n",
    "colors = [\"b\", \"r\", \"g\", \"purple\", \"teal\", \"tomato\", \"olive\", \"deeppink\"]\n",
    "linestyles = ['solid', 'dotted', '-.', ':', \"--\", (0, (3, 10, 1, 10)), (0, (3, 5, 1, 5, 1, 5)),\n",
    "              (0, (5, 10))]\n",
    "\n",
    "plt.title('Longitude, MAE-\\#SEG Trade-off')\n",
    "plt.xlabel('\\#SEG')\n",
    "plt.ylabel('MAE')\n",
    "x = np.arange(550,6000)\n",
    "def func(x,a,b):\n",
    "    return a * x**b\n",
    "p1,_ = curve_fit(func,FT_Index_seg_num,FT_Index_mae)\n",
    "p2,_ = curve_fit(func,FT_Meta_Index_seg_num_withBound,FT_Meta_Index_mae_withBound)\n",
    "#p3,_ = curve_fit(func,PGM_Index_seg_num,PGM_Index_mae)\n",
    "#p4,_ = curve_fit(func,FT_Meta_Index_seg_num_withBound,FT_Meta_Index_mae_withBound)\n",
    "plt.plot(x,p1[0]*x**p1[1],c=colors[0], linestyle=linestyles[0], label='FITing-Tree')\n",
    "plt.scatter(FT_Index_seg_num, FT_Index_mae,c=colors[0],marker=markers[0])\n",
    "plt.plot(x,p2[0]*x**p2[1],c=colors[1], linestyle=linestyles[1], label='FITing-Tree, Dynamic $\\epsilon$')\n",
    "plt.scatter(FT_Meta_Index_seg_num_withBound, FT_Meta_Index_mae_withBound,c=colors[1],marker=markers[1])\n",
    "plt.legend()\n",
    "#plt.savefig(\"{}.pdf\".format(\"results/Main_exp/Longitude_tradeoff_22\"), bbox_inches='tight', pad_inches=0)"
   ]
  },
  {
   "cell_type": "code",
   "execution_count": 6,
   "metadata": {
    "scrolled": true
   },
   "outputs": [
    {
     "name": "stderr",
     "output_type": "stream",
     "text": [
      "100%|██████████| 1783525/1783525 [00:02<00:00, 658190.88it/s]\n",
      "  3%|▎         | 60520/1783525 [00:00<00:02, 605194.81it/s]"
     ]
    },
    {
     "name": "stdout",
     "output_type": "stream",
     "text": [
      "6126 9.583805665746205\n"
     ]
    },
    {
     "name": "stderr",
     "output_type": "stream",
     "text": [
      "100%|██████████| 1783525/1783525 [00:02<00:00, 703739.96it/s]\n",
      "  4%|▎         | 64862/1783525 [00:00<00:02, 648617.53it/s]"
     ]
    },
    {
     "name": "stdout",
     "output_type": "stream",
     "text": [
      "2184 31.09437210019484\n"
     ]
    },
    {
     "name": "stderr",
     "output_type": "stream",
     "text": [
      "100%|██████████| 1783525/1783525 [00:02<00:00, 722263.47it/s]\n",
      "  4%|▎         | 65650/1783525 [00:00<00:02, 656494.37it/s]"
     ]
    },
    {
     "name": "stdout",
     "output_type": "stream",
     "text": [
      "1456 50.85854753928316\n"
     ]
    },
    {
     "name": "stderr",
     "output_type": "stream",
     "text": [
      "100%|██████████| 1783525/1783525 [00:02<00:00, 731175.55it/s]\n",
      "  4%|▎         | 65968/1783525 [00:00<00:02, 659679.06it/s]"
     ]
    },
    {
     "name": "stdout",
     "output_type": "stream",
     "text": [
      "1100 72.80810978259346\n"
     ]
    },
    {
     "name": "stderr",
     "output_type": "stream",
     "text": [
      "100%|██████████| 1783525/1783525 [00:02<00:00, 734254.60it/s]\n",
      "  4%|▎         | 66069/1783525 [00:00<00:02, 659635.35it/s]"
     ]
    },
    {
     "name": "stdout",
     "output_type": "stream",
     "text": [
      "878 98.42962728304902\n"
     ]
    },
    {
     "name": "stderr",
     "output_type": "stream",
     "text": [
      "100%|██████████| 1783525/1783525 [00:02<00:00, 737253.23it/s]\n",
      "  4%|▎         | 66155/1783525 [00:00<00:02, 658866.03it/s]"
     ]
    },
    {
     "name": "stdout",
     "output_type": "stream",
     "text": [
      "749 114.88734780841311\n"
     ]
    },
    {
     "name": "stderr",
     "output_type": "stream",
     "text": [
      "100%|██████████| 1783525/1783525 [00:02<00:00, 734398.98it/s]"
     ]
    },
    {
     "name": "stdout",
     "output_type": "stream",
     "text": [
      "650 140.73121823355433\n"
     ]
    },
    {
     "name": "stderr",
     "output_type": "stream",
     "text": [
      "\n"
     ]
    },
    {
     "data": {
      "text/plain": [
       "-1.1973011896014214"
      ]
     },
     "execution_count": 6,
     "metadata": {},
     "output_type": "execute_result"
    }
   ],
   "source": [
    "seg_err_list = np.array(FT_Index_mae)*data_len/np.array(FT_Index_seg_num)\n",
    "FT_Random_Index_seg_num = []\n",
    "FT_Random_Index_mae = []\n",
    "starttime = time.perf_counter()\n",
    "epsilon_high_list = list(range(50,700,100))\n",
    "for i in range(len(epsilon_high_list)):\n",
    "    FT_Random_Index = FT_Random(epsilon_list[i],init_epsilon=range(25,400,25),low=1,high=epsilon_high_list[i],withBound=True)\n",
    "    FT_Random_Index.learn_index_lookahead(data,lookn=400)\n",
    "    FT_Random_Index_seg_num.append(FT_Random_Index.seg_num)\n",
    "    FT_Random_Index_mae.append(FT_Random_Index.mae)\n",
    "endtime = time.perf_counter()\n",
    "avg_time = (starttime - endtime) / len(epsilon_list)\n",
    "avg_time"
   ]
  },
  {
   "cell_type": "code",
   "execution_count": 7,
   "metadata": {
    "scrolled": true
   },
   "outputs": [
    {
     "name": "stderr",
     "output_type": "stream",
     "text": [
      "100%|██████████| 1783525/1783525 [00:14<00:00, 122816.20it/s]\n",
      "  1%|          | 10511/1783525 [00:00<00:16, 105109.10it/s]"
     ]
    },
    {
     "name": "stdout",
     "output_type": "stream",
     "text": [
      "6566 6.405254201651225\n"
     ]
    },
    {
     "name": "stderr",
     "output_type": "stream",
     "text": [
      "100%|██████████| 1783525/1783525 [00:08<00:00, 221015.34it/s]\n",
      "  1%|          | 15869/1783525 [00:00<00:11, 158689.77it/s]"
     ]
    },
    {
     "name": "stdout",
     "output_type": "stream",
     "text": [
      "4240 10.199745447919149\n"
     ]
    },
    {
     "name": "stderr",
     "output_type": "stream",
     "text": [
      "100%|██████████| 1783525/1783525 [00:06<00:00, 258373.80it/s]\n",
      "  1%|          | 19076/1783525 [00:00<00:09, 190758.36it/s]"
     ]
    },
    {
     "name": "stdout",
     "output_type": "stream",
     "text": [
      "3358 13.390650537559047\n"
     ]
    },
    {
     "name": "stderr",
     "output_type": "stream",
     "text": [
      "100%|██████████| 1783525/1783525 [00:06<00:00, 287828.81it/s]\n",
      "  1%|          | 20618/1783525 [00:00<00:08, 206153.16it/s]"
     ]
    },
    {
     "name": "stdout",
     "output_type": "stream",
     "text": [
      "2935 15.7783720441261\n"
     ]
    },
    {
     "name": "stderr",
     "output_type": "stream",
     "text": [
      "100%|██████████| 1783525/1783525 [00:05<00:00, 299877.72it/s]\n",
      "  1%|▏         | 24073/1783525 [00:00<00:07, 238792.81it/s]"
     ]
    },
    {
     "name": "stdout",
     "output_type": "stream",
     "text": [
      "2670 17.955801012040762\n"
     ]
    },
    {
     "name": "stderr",
     "output_type": "stream",
     "text": [
      "100%|██████████| 1783525/1783525 [00:05<00:00, 333419.54it/s]\n",
      "  1%|▏         | 24998/1783525 [00:00<00:07, 248871.26it/s]"
     ]
    },
    {
     "name": "stdout",
     "output_type": "stream",
     "text": [
      "2335 20.997288515720275\n"
     ]
    },
    {
     "name": "stderr",
     "output_type": "stream",
     "text": [
      "100%|██████████| 1783525/1783525 [00:05<00:00, 343788.32it/s]\n",
      "  1%|▏         | 25531/1783525 [00:00<00:06, 254580.06it/s]"
     ]
    },
    {
     "name": "stdout",
     "output_type": "stream",
     "text": [
      "2211 22.346376978175243\n"
     ]
    },
    {
     "name": "stderr",
     "output_type": "stream",
     "text": [
      "100%|██████████| 1783525/1783525 [00:04<00:00, 360327.74it/s]\n",
      "  2%|▏         | 27436/1783525 [00:00<00:06, 272172.14it/s]"
     ]
    },
    {
     "name": "stdout",
     "output_type": "stream",
     "text": [
      "2077 24.200949243772865\n"
     ]
    },
    {
     "name": "stderr",
     "output_type": "stream",
     "text": [
      "100%|██████████| 1783525/1783525 [00:04<00:00, 375696.94it/s]\n",
      "  2%|▏         | 29376/1783525 [00:00<00:05, 293758.18it/s]"
     ]
    },
    {
     "name": "stdout",
     "output_type": "stream",
     "text": [
      "1987 25.443675866612466\n"
     ]
    },
    {
     "name": "stderr",
     "output_type": "stream",
     "text": [
      "100%|██████████| 1783525/1783525 [00:04<00:00, 390190.05it/s]\n",
      "  2%|▏         | 30202/1783525 [00:00<00:05, 299455.75it/s]"
     ]
    },
    {
     "name": "stdout",
     "output_type": "stream",
     "text": [
      "1847 27.977028076421693\n"
     ]
    },
    {
     "name": "stderr",
     "output_type": "stream",
     "text": [
      "100%|██████████| 1783525/1783525 [00:04<00:00, 392890.00it/s]\n",
      "  2%|▏         | 30993/1783525 [00:00<00:05, 309928.82it/s]"
     ]
    },
    {
     "name": "stdout",
     "output_type": "stream",
     "text": [
      "1806 28.774834667302112\n"
     ]
    },
    {
     "name": "stderr",
     "output_type": "stream",
     "text": [
      "100%|██████████| 1783525/1783525 [00:04<00:00, 399085.85it/s]\n",
      "  2%|▏         | 32688/1783525 [00:00<00:05, 325490.44it/s]"
     ]
    },
    {
     "name": "stdout",
     "output_type": "stream",
     "text": [
      "1752 29.853230540642826\n"
     ]
    },
    {
     "name": "stderr",
     "output_type": "stream",
     "text": [
      "100%|██████████| 1783525/1783525 [00:04<00:00, 412814.88it/s]\n",
      "  2%|▏         | 33664/1783525 [00:00<00:05, 336593.78it/s]"
     ]
    },
    {
     "name": "stdout",
     "output_type": "stream",
     "text": [
      "1671 31.73024600159796\n"
     ]
    },
    {
     "name": "stderr",
     "output_type": "stream",
     "text": [
      "100%|██████████| 1783525/1783525 [00:04<00:00, 417266.73it/s]\n",
      "  2%|▏         | 33991/1783525 [00:00<00:05, 337100.55it/s]"
     ]
    },
    {
     "name": "stdout",
     "output_type": "stream",
     "text": [
      "1632 32.924082925666866\n"
     ]
    },
    {
     "name": "stderr",
     "output_type": "stream",
     "text": [
      "100%|██████████| 1783525/1783525 [00:04<00:00, 422437.13it/s]"
     ]
    },
    {
     "name": "stdout",
     "output_type": "stream",
     "text": [
      "1598 33.60721828962308\n"
     ]
    },
    {
     "name": "stderr",
     "output_type": "stream",
     "text": [
      "\n"
     ]
    },
    {
     "data": {
      "text/plain": [
       "-5.979995515445868"
      ]
     },
     "execution_count": 7,
     "metadata": {},
     "output_type": "execute_result"
    }
   ],
   "source": [
    "FT_Poly_Index_seg_num = []\n",
    "FT_Poly_Index_mae = []\n",
    "starttime = time.perf_counter()\n",
    "for i in range(len(epsilon_list)):\n",
    "    FT_Poly_Index = FT_Poly(epsilon_list[i],init_epsilon=range(25,400,25),low=1,high=1000,withBound=True)\n",
    "    FT_Poly_Index.learn_index_lookahead(data,lookn=400)\n",
    "    FT_Poly_Index_seg_num.append(FT_Poly_Index.seg_num)\n",
    "    FT_Poly_Index_mae.append(FT_Poly_Index.mae)\n",
    "endtime = time.perf_counter()\n",
    "avg_time = (starttime - endtime) / len(epsilon_list)\n",
    "avg_time"
   ]
  },
  {
   "cell_type": "code",
   "execution_count": null,
   "metadata": {
    "scrolled": true
   },
   "outputs": [
    {
     "name": "stderr",
     "output_type": "stream",
     "text": [
      " 52%|█████▏    | 928400/1783525 [04:29<06:40, 2135.15it/s]"
     ]
    }
   ],
   "source": [
    "FT_LS_Index_seg_num = []\n",
    "FT_LS_Index_mae = []\n",
    "starttime = time.perf_counter()\n",
    "for i in range(len(epsilon_list)):\n",
    "    FT_LS_Index = FT_LS(epsilon_list[i],init_epsilon=range(25,400,50),low=1,high=1000,withBound=True)\n",
    "    FT_LS_Index.learn_index_lookahead(data,lookn=400)\n",
    "    FT_LS_Index_seg_num.append(FT_LS_Index.seg_num)\n",
    "    FT_LS_Index_mae.append(FT_LS_Index.mae)\n",
    "endtime = time.perf_counter()\n",
    "avg_time = (starttime - endtime) / len(epsilon_list)\n",
    "avg_time"
   ]
  },
  {
   "cell_type": "code",
   "execution_count": null,
   "metadata": {},
   "outputs": [],
   "source": [
    "plt.rcParams[\"text.usetex\"] = True\n",
    "markers = [\"v\", \"^\", \"o\", \"<\", \">\", \"1\", \"2\", \"3\", \"4\"]\n",
    "colors = [\"b\", \"r\", \"g\", \"purple\", \"teal\", \"tomato\", \"olive\", \"deeppink\"]\n",
    "linestyles = ['solid', 'dotted', '-.', ':', \"--\", (0, (3, 10, 1, 10)), (0, (3, 5, 1, 5, 1, 5)),\n",
    "              (0, (5, 10))]\n",
    "\n",
    "plt.title('IoT, MAE-\\#SEG Trade-off')\n",
    "plt.xlabel('\\#SEG')\n",
    "plt.ylabel('MAE')\n",
    "x = np.arange(550,6000)\n",
    "def func(x,a,b):\n",
    "    return a * x**b\n",
    "p1,_ = curve_fit(func,FT_Index_seg_num,FT_Index_mae)\n",
    "p2,_ = curve_fit(func,FT_Meta_Index_seg_num_withBound,FT_Meta_Index_mae_withBound)\n",
    "p3,_ = curve_fit(func,FT_Random_Index_seg_num,FT_Random_Index_mae)\n",
    "p4,_ = curve_fit(func,FT_Poly_Index_seg_num,FT_Poly_Index_mae)\n",
    "p5,_ = curve_fit(func,FT_LS_Index_seg_num,FT_LS_Index_mae)\n",
    "plt.plot(x,p1[0]*x**p1[1],c=colors[0], linestyle=linestyles[0], label='FITing-Tree')\n",
    "plt.scatter(FT_Index_seg_num, FT_Index_mae,c=colors[0],marker=markers[0])\n",
    "plt.plot(x,p2[0]*x**p2[1],c=colors[1], linestyle=linestyles[1], label='FITing-Tree, Dynamic $\\epsilon$')\n",
    "plt.scatter(FT_Meta_Index_seg_num_withBound, FT_Meta_Index_mae_withBound,c=colors[1],marker=markers[1])\n",
    "plt.plot(x,p3[0]*x**p3[1],c=colors[2], linestyle=linestyles[2], label='FITing-Tree, Random $\\epsilon$')\n",
    "plt.scatter(FT_Random_Index_seg_num, FT_Random_Index_mae,c=colors[2],marker=markers[2])\n",
    "plt.plot(x,p4[0]*x**p4[1],c=colors[3], linestyle=linestyles[3], label='FITing-Tree, Poly $\\epsilon$')\n",
    "plt.scatter(FT_Poly_Index_seg_num, FT_Poly_Index_mae,c=colors[3],marker=markers[3])\n",
    "plt.plot(x,p5[0]*x**p5[1],c=colors[4], linestyle=linestyles[4], label='FITing-Tree, LS $\\epsilon$')\n",
    "plt.scatter(FT_LS_Index_seg_num, FT_LS_Index_mae,c=colors[4],marker=markers[4])\n",
    "plt.legend()\n",
    "#plt.savefig(\"{}.pdf\".format(\"results/Main_exp/Longitude_tradeoff_22\"), bbox_inches='tight', pad_inches=0)"
   ]
  },
  {
   "cell_type": "code",
   "execution_count": null,
   "metadata": {},
   "outputs": [],
   "source": [
    "def calc_AUC(x,y):\n",
    "    area=0\n",
    "    for i in range(len(x)-1):\n",
    "        area += (y[i]+y[i+1])*(x[i+1]-x[i]) / 2 \n",
    "    return area\n",
    "AUC1 = calc_AUC(x,p1[0]*x**p1[1])\n",
    "AUC2 = calc_AUC(x,p2[0]*x**p2[1])\n",
    "AUC3 = calc_AUC(x,p3[0]*x**p3[1])\n",
    "AUC4 = calc_AUC(x,p4[0]*x**p4[1])\n",
    "AUC5 = calc_AUC(x,p5[0]*x**p5[1])\n",
    "AUC1,AUC2,AUC3,AUC4,AUC5"
   ]
  },
  {
   "cell_type": "code",
   "execution_count": null,
   "metadata": {},
   "outputs": [],
   "source": []
  }
 ],
 "metadata": {
  "kernelspec": {
   "display_name": "Python 3",
   "language": "python",
   "name": "python3"
  },
  "language_info": {
   "codemirror_mode": {
    "name": "ipython",
    "version": 3
   },
   "file_extension": ".py",
   "mimetype": "text/x-python",
   "name": "python",
   "nbconvert_exporter": "python",
   "pygments_lexer": "ipython3",
   "version": "3.7.0"
  }
 },
 "nbformat": 4,
 "nbformat_minor": 5
}
