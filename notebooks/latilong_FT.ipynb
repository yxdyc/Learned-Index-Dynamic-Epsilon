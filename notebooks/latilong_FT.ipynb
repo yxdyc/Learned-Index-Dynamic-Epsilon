{
 "cells": [
  {
   "cell_type": "code",
   "execution_count": 9,
   "metadata": {},
   "outputs": [],
   "source": [
    "import numpy as np\n",
    "import pandas as pd\n",
    "import matplotlib.pyplot as plt\n",
    "from tqdm import tqdm\n",
    "import struct\n",
    "import sys\n",
    "import time\n",
    "from model.FittingTree import *\n",
    "from model.MET import *\n",
    "from model.MET_Meta import *\n",
    "from model.FT_Meta import *"
   ]
  },
  {
   "cell_type": "code",
   "execution_count": 2,
   "metadata": {},
   "outputs": [
    {
     "name": "stderr",
     "output_type": "stream",
     "text": [
      "100%|██████████| 1785607/1785607 [00:01<00:00, 1257977.41it/s]\n"
     ]
    }
   ],
   "source": [
    "# Real World Data\n",
    "# 'd' for double, 'l' for uint\n",
    "datafile = open('./data/latilong_china.double','rb')\n",
    "data = datafile.read(8)\n",
    "data_len, = struct.unpack('d', data)\n",
    "data_len = int(data_len)\n",
    "data=[]\n",
    "for i in tqdm(range(data_len)):\n",
    "    data_bin = datafile.read(8)\n",
    "    data_unix, = struct.unpack('d',data_bin)\n",
    "    data.append(data_unix)"
   ]
  },
  {
   "cell_type": "code",
   "execution_count": 3,
   "metadata": {
    "scrolled": true
   },
   "outputs": [
    {
     "name": "stderr",
     "output_type": "stream",
     "text": [
      "100%|██████████| 1785607/1785607 [00:02<00:00, 708256.99it/s]\n",
      "  4%|▎         | 65454/1785607 [00:00<00:02, 654535.94it/s]"
     ]
    },
    {
     "name": "stdout",
     "output_type": "stream",
     "text": [
      "5802 7.0869217022558715\n"
     ]
    },
    {
     "name": "stderr",
     "output_type": "stream",
     "text": [
      "100%|██████████| 1785607/1785607 [00:02<00:00, 725109.95it/s]\n",
      "  4%|▎         | 66658/1785607 [00:00<00:02, 666572.69it/s]"
     ]
    },
    {
     "name": "stdout",
     "output_type": "stream",
     "text": [
      "3079 15.208218829787294\n"
     ]
    },
    {
     "name": "stderr",
     "output_type": "stream",
     "text": [
      "100%|██████████| 1785607/1785607 [00:02<00:00, 733365.14it/s]\n",
      "  4%|▎         | 66796/1785607 [00:00<00:02, 667957.45it/s]"
     ]
    },
    {
     "name": "stdout",
     "output_type": "stream",
     "text": [
      "2132 23.388481339958904\n"
     ]
    },
    {
     "name": "stderr",
     "output_type": "stream",
     "text": [
      "100%|██████████| 1785607/1785607 [00:02<00:00, 739706.10it/s]\n",
      "  4%|▍         | 67512/1785607 [00:00<00:02, 675115.82it/s]"
     ]
    },
    {
     "name": "stdout",
     "output_type": "stream",
     "text": [
      "1689 31.386521782228677\n"
     ]
    },
    {
     "name": "stderr",
     "output_type": "stream",
     "text": [
      "100%|██████████| 1785607/1785607 [00:02<00:00, 695822.46it/s]\n",
      "  2%|▏         | 35215/1785607 [00:00<00:04, 352148.66it/s]"
     ]
    },
    {
     "name": "stdout",
     "output_type": "stream",
     "text": [
      "1411 39.53424577748631\n"
     ]
    },
    {
     "name": "stderr",
     "output_type": "stream",
     "text": [
      "100%|██████████| 1785607/1785607 [00:02<00:00, 714500.71it/s]\n",
      "  2%|▏         | 35605/1785607 [00:00<00:04, 356046.94it/s]"
     ]
    },
    {
     "name": "stdout",
     "output_type": "stream",
     "text": [
      "1222 47.81439980914053\n"
     ]
    },
    {
     "name": "stderr",
     "output_type": "stream",
     "text": [
      "100%|██████████| 1785607/1785607 [00:02<00:00, 716487.97it/s]\n",
      "  4%|▍         | 67496/1785607 [00:00<00:02, 674959.03it/s]"
     ]
    },
    {
     "name": "stdout",
     "output_type": "stream",
     "text": [
      "1081 56.620805698006336\n"
     ]
    },
    {
     "name": "stderr",
     "output_type": "stream",
     "text": [
      "100%|██████████| 1785607/1785607 [00:02<00:00, 715197.15it/s]\n",
      "  4%|▎         | 66506/1785607 [00:00<00:02, 665052.71it/s]"
     ]
    },
    {
     "name": "stdout",
     "output_type": "stream",
     "text": [
      "973 64.40938515586016\n"
     ]
    },
    {
     "name": "stderr",
     "output_type": "stream",
     "text": [
      "100%|██████████| 1785607/1785607 [00:02<00:00, 718206.11it/s]\n",
      "  4%|▎         | 66116/1785607 [00:00<00:02, 661151.17it/s]"
     ]
    },
    {
     "name": "stdout",
     "output_type": "stream",
     "text": [
      "895 73.73904392175882\n"
     ]
    },
    {
     "name": "stderr",
     "output_type": "stream",
     "text": [
      "100%|██████████| 1785607/1785607 [00:02<00:00, 723082.59it/s]\n",
      "  2%|▏         | 35983/1785607 [00:00<00:04, 359829.49it/s]"
     ]
    },
    {
     "name": "stdout",
     "output_type": "stream",
     "text": [
      "824 82.58592680248229\n"
     ]
    },
    {
     "name": "stderr",
     "output_type": "stream",
     "text": [
      "100%|██████████| 1785607/1785607 [00:02<00:00, 693362.75it/s]\n",
      "  2%|▏         | 36021/1785607 [00:00<00:04, 360203.47it/s]"
     ]
    },
    {
     "name": "stdout",
     "output_type": "stream",
     "text": [
      "756 91.10523144230505\n"
     ]
    },
    {
     "name": "stderr",
     "output_type": "stream",
     "text": [
      "100%|██████████| 1785607/1785607 [00:02<00:00, 694540.60it/s]\n",
      "  2%|▏         | 35860/1785607 [00:00<00:04, 358598.63it/s]"
     ]
    },
    {
     "name": "stdout",
     "output_type": "stream",
     "text": [
      "696 99.60530900696514\n"
     ]
    },
    {
     "name": "stderr",
     "output_type": "stream",
     "text": [
      "100%|██████████| 1785607/1785607 [00:02<00:00, 693322.51it/s]\n",
      "  4%|▍         | 68239/1785607 [00:00<00:02, 682385.77it/s]"
     ]
    },
    {
     "name": "stdout",
     "output_type": "stream",
     "text": [
      "653 108.01173326493456\n"
     ]
    },
    {
     "name": "stderr",
     "output_type": "stream",
     "text": [
      "100%|██████████| 1785607/1785607 [00:02<00:00, 719008.90it/s]\n",
      "  4%|▎         | 65174/1785607 [00:00<00:02, 644799.61it/s]"
     ]
    },
    {
     "name": "stdout",
     "output_type": "stream",
     "text": [
      "614 115.0680536086608\n"
     ]
    },
    {
     "name": "stderr",
     "output_type": "stream",
     "text": [
      "100%|██████████| 1785607/1785607 [00:02<00:00, 706795.06it/s]"
     ]
    },
    {
     "name": "stdout",
     "output_type": "stream",
     "text": [
      "577 123.95975094183659\n"
     ]
    },
    {
     "name": "stderr",
     "output_type": "stream",
     "text": [
      "\n"
     ]
    },
    {
     "data": {
      "text/plain": [
       "2.5634431573251883"
      ]
     },
     "execution_count": 3,
     "metadata": {},
     "output_type": "execute_result"
    }
   ],
   "source": [
    "epsilon_list = list(range(25,400,25))\n",
    "FT_Index_seg_num = []\n",
    "FT_Index_mae = []\n",
    "starttime = time.perf_counter()\n",
    "for i in range(len(epsilon_list)):\n",
    "    epsilon = epsilon_list[i]\n",
    "    FT_Index = FT(epsilon)\n",
    "    FT_Index.learn_index(data)\n",
    "    FT_Index_seg_num.append(FT_Index.seg_num)\n",
    "    FT_Index_mae.append(FT_Index.mae)\n",
    "endtime = time.perf_counter()\n",
    "avg_time = (endtime - starttime) / len(epsilon_list)\n",
    "avg_time"
   ]
  },
  {
   "cell_type": "code",
   "execution_count": 4,
   "metadata": {
    "scrolled": true
   },
   "outputs": [
    {
     "name": "stderr",
     "output_type": "stream",
     "text": [
      "100%|██████████| 1785607/1785607 [00:03<00:00, 564926.97it/s]\n",
      "  3%|▎         | 57344/1785607 [00:00<00:03, 573436.45it/s]"
     ]
    },
    {
     "name": "stdout",
     "output_type": "stream",
     "text": [
      "5867 6.786078347587123\n"
     ]
    },
    {
     "name": "stderr",
     "output_type": "stream",
     "text": [
      "100%|██████████| 1785607/1785607 [00:02<00:00, 615217.60it/s]\n",
      "  2%|▏         | 32526/1785607 [00:00<00:05, 324978.28it/s]"
     ]
    },
    {
     "name": "stdout",
     "output_type": "stream",
     "text": [
      "3029 14.658408037154873\n"
     ]
    },
    {
     "name": "stderr",
     "output_type": "stream",
     "text": [
      "100%|██████████| 1785607/1785607 [00:02<00:00, 632076.73it/s]\n",
      "  3%|▎         | 47639/1785607 [00:00<00:03, 476384.78it/s]"
     ]
    },
    {
     "name": "stdout",
     "output_type": "stream",
     "text": [
      "2118 22.611009029422487\n"
     ]
    },
    {
     "name": "stderr",
     "output_type": "stream",
     "text": [
      "100%|██████████| 1785607/1785607 [00:02<00:00, 649709.65it/s]\n",
      "  3%|▎         | 59293/1785607 [00:00<00:02, 592929.15it/s]"
     ]
    },
    {
     "name": "stdout",
     "output_type": "stream",
     "text": [
      "1624 30.466093602903662\n"
     ]
    },
    {
     "name": "stderr",
     "output_type": "stream",
     "text": [
      "100%|██████████| 1785607/1785607 [00:02<00:00, 651747.11it/s]\n",
      "  2%|▏         | 33964/1785607 [00:00<00:05, 339637.89it/s]"
     ]
    },
    {
     "name": "stdout",
     "output_type": "stream",
     "text": [
      "1352 38.681964172407476\n"
     ]
    },
    {
     "name": "stderr",
     "output_type": "stream",
     "text": [
      "100%|██████████| 1785607/1785607 [00:02<00:00, 673562.33it/s]\n",
      "  4%|▎         | 63572/1785607 [00:00<00:02, 634373.00it/s]"
     ]
    },
    {
     "name": "stdout",
     "output_type": "stream",
     "text": [
      "1166 46.644856342969085\n"
     ]
    },
    {
     "name": "stderr",
     "output_type": "stream",
     "text": [
      "100%|██████████| 1785607/1785607 [00:02<00:00, 660910.70it/s]\n",
      "  3%|▎         | 62472/1785607 [00:00<00:02, 624719.11it/s]"
     ]
    },
    {
     "name": "stdout",
     "output_type": "stream",
     "text": [
      "1041 54.91435685455982\n"
     ]
    },
    {
     "name": "stderr",
     "output_type": "stream",
     "text": [
      "100%|██████████| 1785607/1785607 [00:02<00:00, 666820.81it/s]\n",
      "  4%|▎         | 63990/1785607 [00:00<00:02, 639894.51it/s]"
     ]
    },
    {
     "name": "stdout",
     "output_type": "stream",
     "text": [
      "931 63.354634586445954\n"
     ]
    },
    {
     "name": "stderr",
     "output_type": "stream",
     "text": [
      "100%|██████████| 1785607/1785607 [00:02<00:00, 612920.10it/s]\n",
      "  2%|▏         | 34451/1785607 [00:00<00:05, 344506.22it/s]"
     ]
    },
    {
     "name": "stdout",
     "output_type": "stream",
     "text": [
      "848 70.99477712620974\n"
     ]
    },
    {
     "name": "stderr",
     "output_type": "stream",
     "text": [
      "100%|██████████| 1785607/1785607 [00:02<00:00, 687015.38it/s]\n",
      "  2%|▏         | 42167/1785607 [00:00<00:04, 421664.37it/s]"
     ]
    },
    {
     "name": "stdout",
     "output_type": "stream",
     "text": [
      "786 79.34701308854636\n"
     ]
    },
    {
     "name": "stderr",
     "output_type": "stream",
     "text": [
      "100%|██████████| 1785607/1785607 [00:02<00:00, 694439.05it/s]\n",
      "  4%|▎         | 65135/1785607 [00:00<00:02, 648587.29it/s]"
     ]
    },
    {
     "name": "stdout",
     "output_type": "stream",
     "text": [
      "727 88.24361743653559\n"
     ]
    },
    {
     "name": "stderr",
     "output_type": "stream",
     "text": [
      "100%|██████████| 1785607/1785607 [00:02<00:00, 704151.70it/s]\n",
      "  4%|▎         | 64189/1785607 [00:00<00:02, 641882.96it/s]"
     ]
    },
    {
     "name": "stdout",
     "output_type": "stream",
     "text": [
      "682 95.1648218224951\n"
     ]
    },
    {
     "name": "stderr",
     "output_type": "stream",
     "text": [
      "100%|██████████| 1785607/1785607 [00:02<00:00, 698501.77it/s]\n",
      "  2%|▏         | 43143/1785607 [00:00<00:04, 431422.18it/s]"
     ]
    },
    {
     "name": "stdout",
     "output_type": "stream",
     "text": [
      "637 104.03466272253637\n"
     ]
    },
    {
     "name": "stderr",
     "output_type": "stream",
     "text": [
      "100%|██████████| 1785607/1785607 [00:02<00:00, 660695.79it/s]\n",
      "  4%|▎         | 65086/1785607 [00:00<00:02, 648337.94it/s]"
     ]
    },
    {
     "name": "stdout",
     "output_type": "stream",
     "text": [
      "604 112.38230976917093\n"
     ]
    },
    {
     "name": "stderr",
     "output_type": "stream",
     "text": [
      "100%|██████████| 1785607/1785607 [00:02<00:00, 711510.22it/s]"
     ]
    },
    {
     "name": "stdout",
     "output_type": "stream",
     "text": [
      "566 120.22568403909708\n"
     ]
    },
    {
     "name": "stderr",
     "output_type": "stream",
     "text": [
      "\n"
     ]
    },
    {
     "data": {
      "text/plain": [
       "2.821858442823092"
      ]
     },
     "execution_count": 4,
     "metadata": {},
     "output_type": "execute_result"
    }
   ],
   "source": [
    "epsilon_list = list(range(25,400,25))\n",
    "FT_Meta_Index_seg_num_withBound = []\n",
    "FT_Meta_Index_mae_withBound = []\n",
    "FT_Meta_Index_mean_epsilon=[]\n",
    "FT_Meta_Index_mean_seg_err=[]\n",
    "starttime = time.perf_counter()\n",
    "for i in range(len(epsilon_list)):\n",
    "    FT_Meta_Index = FT_Meta(epsilon_list[i],init_epsilon=range(25,400,50),low=1,high=1000,withBound=True)\n",
    "    FT_Meta_Index.learn_index_lookahead(data,lookn=0.4)\n",
    "    FT_Meta_Index_seg_num_withBound.append(FT_Meta_Index.seg_num)\n",
    "    FT_Meta_Index_mae_withBound.append(FT_Meta_Index.mae)\n",
    "endtime = time.perf_counter()\n",
    "avg_time = (endtime - starttime) / len(epsilon_list)\n",
    "avg_time"
   ]
  },
  {
   "cell_type": "code",
   "execution_count": 8,
   "metadata": {
    "scrolled": true
   },
   "outputs": [
    {
     "data": {
      "image/png": "[encoded data removed]",
      "text/plain": [
       "<Figure size 432x288 with 1 Axes>"
      ]
     },
     "metadata": {
      "needs_background": "light"
     },
     "output_type": "display_data"
    }
   ],
   "source": [
    "x = np.arange(550,6000)\n",
    "import matplotlib.pylab as pylab\n",
    "label_size = 18.5\n",
    "ticks_size = 17\n",
    "title_size = 22.5\n",
    "legend_size = 17\n",
    "params = {'legend.fontsize': legend_size,\n",
    "          'axes.labelsize': label_size,\n",
    "          'axes.titlesize': title_size,\n",
    "          'xtick.labelsize': ticks_size,\n",
    "          'ytick.labelsize': ticks_size}\n",
    "pylab.rcParams.update(params)\n",
    "plt.rcParams[\"text.usetex\"] = True\n",
    "plt.rcParams['text.latex.preamble'] = [r'\\boldmath']\n",
    "markers = [\"v\", \"^\", \"o\", \"<\", \">\", \"1\", \"2\", \"3\", \"4\"]\n",
    "colors = [\"b\", \"r\", \"g\", \"purple\", \"teal\", \"tomato\", \"olive\", \"deeppink\"]\n",
    "linestyles = ['solid', 'dotted', '-.', ':', \"--\", (0, (3, 10, 1, 10)), (0, (3, 5, 1, 5, 1, 5)),\n",
    "              (0, (5, 10))]\n",
    "\n",
    "plt.title('$\\mathrm{Map~Dataset}$')\n",
    "plt.xlabel('$\\mathrm{N}$')\n",
    "plt.ylabel('$\\mathrm{MAE}$')\n",
    "plt.xticks()\n",
    "plt.yticks()\n",
    "def func(x,a,b):\n",
    "    return a * x**b\n",
    "p1,_ = curve_fit(func,FT_Index_seg_num,FT_Index_mae)\n",
    "p2,_ = curve_fit(func,FT_Meta_Index_seg_num_withBound,FT_Meta_Index_mae_withBound)\n",
    "#p3,_ = curve_fit(func,PGM_Index_seg_num,PGM_Index_mae)\n",
    "#p4,_ = curve_fit(func,FT_Meta_Index_seg_num_withBound,FT_Meta_Index_mae_withBound)\n",
    "plt.plot(x,p1[0]*x**p1[1],c=colors[0], linestyle=linestyles[0], label='$\\mathrm{FITing\\mbox{-}Tree,~Original}$')\n",
    "#plt.scatter(FT_Index_seg_num, FT_Index_mae,c=colors[0],marker=markers[0])\n",
    "plt.plot(x,p2[0]*x**p2[1],c=colors[1], linestyle=linestyles[1], label='$\\mathrm{FITing\\mbox{-}Tree,~Dynamic~\\epsilon}$')\n",
    "#plt.scatter(FT_Meta_Index_seg_num_withBound, FT_Meta_Index_mae_withBound,c=colors[1],marker=markers[1])\n",
    "plt.legend()\n",
    "#plt.savefig(\"{}.pdf\".format(\"results/FITingTree/Map_tradeoff_30\"), bbox_inches='tight', pad_inches=0)"
   ]
  },
  {
   "cell_type": "code",
   "execution_count": 13,
   "metadata": {},
   "outputs": [
    {
     "data": {
      "text/plain": [
       "(130469.7873587642, 118347.02031247623, 0.09291627810316672)"
      ]
     },
     "execution_count": 13,
     "metadata": {},
     "output_type": "execute_result"
    }
   ],
   "source": [
    "def calc_AUC(x,y):\n",
    "    area=0\n",
    "    for i in range(len(x)-1):\n",
    "        area += (y[i]+y[i+1])*(x[i+1]-x[i]) / 2 \n",
    "    return area\n",
    "AUC1 = calc_AUC(x,p1[0]*x**p1[1])\n",
    "AUC2 = calc_AUC(x,p2[0]*x**p2[1])\n",
    "#AUC3 = calc_AUC(x,p3[0]*x**p3[1])\n",
    "AUC1,AUC2,1-AUC2/AUC1"
   ]
  },
  {
   "cell_type": "code",
   "execution_count": 13,
   "metadata": {
    "scrolled": true
   },
   "outputs": [
    {
     "name": "stderr",
     "output_type": "stream",
     "text": [
      "100%|██████████| 1785607/1785607 [00:05<00:00, 351638.07it/s]\n",
      "  2%|▏         | 36416/1785607 [00:00<00:04, 364156.87it/s]"
     ]
    },
    {
     "name": "stdout",
     "output_type": "stream",
     "text": [
      "6003 9.796220556931061\n"
     ]
    },
    {
     "name": "stderr",
     "output_type": "stream",
     "text": [
      "100%|██████████| 1785607/1785607 [00:06<00:00, 292941.01it/s]\n",
      "  2%|▏         | 34038/1785607 [00:00<00:05, 337941.42it/s]"
     ]
    },
    {
     "name": "stdout",
     "output_type": "stream",
     "text": [
      "2272 30.54900938448382\n"
     ]
    },
    {
     "name": "stderr",
     "output_type": "stream",
     "text": [
      "100%|██████████| 1785607/1785607 [00:05<00:00, 320537.56it/s]\n",
      "  2%|▏         | 27910/1785607 [00:00<00:06, 278875.53it/s]"
     ]
    },
    {
     "name": "stdout",
     "output_type": "stream",
     "text": [
      "1500 51.79510665000753\n"
     ]
    },
    {
     "name": "stderr",
     "output_type": "stream",
     "text": [
      "100%|██████████| 1785607/1785607 [00:05<00:00, 325571.49it/s]\n",
      "  1%|          | 18583/1785607 [00:00<00:09, 185829.29it/s]"
     ]
    },
    {
     "name": "stdout",
     "output_type": "stream",
     "text": [
      "1127 72.9901070056289\n"
     ]
    },
    {
     "name": "stderr",
     "output_type": "stream",
     "text": [
      "100%|██████████| 1785607/1785607 [00:05<00:00, 344183.29it/s]\n",
      "  0%|          | 0/1785607 [00:00<?, ?it/s]"
     ]
    },
    {
     "name": "stdout",
     "output_type": "stream",
     "text": [
      "903 94.65929457041779\n"
     ]
    },
    {
     "name": "stderr",
     "output_type": "stream",
     "text": [
      "100%|██████████| 1785607/1785607 [00:04<00:00, 401747.29it/s]\n",
      "  2%|▏         | 29404/1785607 [00:00<00:06, 290304.79it/s]"
     ]
    },
    {
     "name": "stdout",
     "output_type": "stream",
     "text": [
      "748 116.285399866824\n"
     ]
    },
    {
     "name": "stderr",
     "output_type": "stream",
     "text": [
      "100%|██████████| 1785607/1785607 [00:03<00:00, 451203.18it/s]"
     ]
    },
    {
     "name": "stdout",
     "output_type": "stream",
     "text": [
      "652 138.7725977776745\n"
     ]
    },
    {
     "name": "stderr",
     "output_type": "stream",
     "text": [
      "\n"
     ]
    },
    {
     "data": {
      "text/plain": [
       "-2.442757997661829"
      ]
     },
     "execution_count": 13,
     "metadata": {},
     "output_type": "execute_result"
    }
   ],
   "source": [
    "FT_Random_Index_seg_num = []\n",
    "FT_Random_Index_mae = []\n",
    "starttime = time.perf_counter()\n",
    "epsilon_high_list = list(range(50,700,100))\n",
    "for i in range(len(epsilon_high_list)):\n",
    "    FT_Random_Index = FT_Random(epsilon_list[i],init_epsilon=range(25,400,25),low=1,high=epsilon_high_list[i],withBound=True)\n",
    "    FT_Random_Index.learn_index_lookahead(data,lookn=400)\n",
    "    FT_Random_Index_seg_num.append(FT_Random_Index.seg_num)\n",
    "    FT_Random_Index_mae.append(FT_Random_Index.mae)\n",
    "endtime = time.perf_counter()\n",
    "avg_time = (starttime - endtime) / len(epsilon_list)\n",
    "avg_time"
   ]
  },
  {
   "cell_type": "code",
   "execution_count": 11,
   "metadata": {
    "scrolled": true
   },
   "outputs": [
    {
     "name": "stderr",
     "output_type": "stream",
     "text": [
      "100%|██████████| 1785607/1785607 [00:48<00:00, 37190.55it/s]\n",
      "  2%|▏         | 28011/1785607 [00:00<00:06, 280108.26it/s]"
     ]
    },
    {
     "name": "stdout",
     "output_type": "stream",
     "text": [
      "4864 9.143576386069276\n"
     ]
    },
    {
     "name": "stderr",
     "output_type": "stream",
     "text": [
      "100%|██████████| 1785607/1785607 [00:13<00:00, 129826.96it/s]\n",
      "  2%|▏         | 30754/1785607 [00:00<00:05, 303589.71it/s]"
     ]
    },
    {
     "name": "stdout",
     "output_type": "stream",
     "text": [
      "2703 17.905731776365123\n"
     ]
    },
    {
     "name": "stderr",
     "output_type": "stream",
     "text": [
      "100%|██████████| 1785607/1785607 [00:09<00:00, 179345.59it/s]\n",
      "  2%|▏         | 33309/1785607 [00:00<00:05, 329195.82it/s]"
     ]
    },
    {
     "name": "stdout",
     "output_type": "stream",
     "text": [
      "2139 23.84101316807114\n"
     ]
    },
    {
     "name": "stderr",
     "output_type": "stream",
     "text": [
      "100%|██████████| 1785607/1785607 [00:07<00:00, 226335.49it/s]\n",
      "  2%|▏         | 34615/1785607 [00:00<00:05, 343177.81it/s]"
     ]
    },
    {
     "name": "stdout",
     "output_type": "stream",
     "text": [
      "1818 28.626759415705695\n"
     ]
    },
    {
     "name": "stderr",
     "output_type": "stream",
     "text": [
      "100%|██████████| 1785607/1785607 [00:06<00:00, 257727.63it/s]\n",
      "  2%|▏         | 36207/1785607 [00:00<00:04, 360714.97it/s]"
     ]
    },
    {
     "name": "stdout",
     "output_type": "stream",
     "text": [
      "1602 33.739578753891536\n"
     ]
    },
    {
     "name": "stderr",
     "output_type": "stream",
     "text": [
      "100%|██████████| 1785607/1785607 [00:06<00:00, 278447.33it/s]\n",
      "  0%|          | 0/1785607 [00:00<?, ?it/s]"
     ]
    },
    {
     "name": "stdout",
     "output_type": "stream",
     "text": [
      "1446 38.227494067843594\n"
     ]
    },
    {
     "name": "stderr",
     "output_type": "stream",
     "text": [
      "100%|██████████| 1785607/1785607 [00:05<00:00, 297773.48it/s]\n",
      "  2%|▏         | 39545/1785607 [00:00<00:04, 391033.16it/s]"
     ]
    },
    {
     "name": "stdout",
     "output_type": "stream",
     "text": [
      "1338 42.55023025783389\n"
     ]
    },
    {
     "name": "stderr",
     "output_type": "stream",
     "text": [
      "100%|██████████| 1785607/1785607 [00:06<00:00, 270840.99it/s]\n",
      "  0%|          | 0/1785607 [00:00<?, ?it/s]"
     ]
    },
    {
     "name": "stdout",
     "output_type": "stream",
     "text": [
      "1231 47.88006095406212\n"
     ]
    },
    {
     "name": "stderr",
     "output_type": "stream",
     "text": [
      "100%|██████████| 1785607/1785607 [00:07<00:00, 244646.79it/s]\n",
      "  2%|▏         | 37047/1785607 [00:00<00:04, 370468.59it/s]"
     ]
    },
    {
     "name": "stdout",
     "output_type": "stream",
     "text": [
      "1135 52.258480169488585\n"
     ]
    },
    {
     "name": "stderr",
     "output_type": "stream",
     "text": [
      "100%|██████████| 1785607/1785607 [00:07<00:00, 239462.84it/s]\n",
      "  0%|          | 0/1785607 [00:00<?, ?it/s]"
     ]
    },
    {
     "name": "stdout",
     "output_type": "stream",
     "text": [
      "1032 60.06615061432891\n"
     ]
    },
    {
     "name": "stderr",
     "output_type": "stream",
     "text": [
      "100%|██████████| 1785607/1785607 [00:07<00:00, 226071.11it/s]\n",
      "  0%|          | 0/1785607 [00:00<?, ?it/s]"
     ]
    },
    {
     "name": "stdout",
     "output_type": "stream",
     "text": [
      "985 64.4929466562351\n"
     ]
    },
    {
     "name": "stderr",
     "output_type": "stream",
     "text": [
      "100%|██████████| 1785607/1785607 [00:07<00:00, 225758.36it/s]\n",
      "  0%|          | 0/1785607 [00:00<?, ?it/s]"
     ]
    },
    {
     "name": "stdout",
     "output_type": "stream",
     "text": [
      "942 69.17261301058967\n"
     ]
    },
    {
     "name": "stderr",
     "output_type": "stream",
     "text": [
      "100%|██████████| 1785607/1785607 [00:07<00:00, 223588.98it/s]\n",
      "  0%|          | 0/1785607 [00:00<?, ?it/s]\n"
     ]
    },
    {
     "name": "stdout",
     "output_type": "stream",
     "text": [
      "885 74.4421504844011\n"
     ]
    },
    {
     "ename": "RuntimeError",
     "evalue": "Optimal parameters not found: Number of calls to function has reached maxfev = 600.",
     "output_type": "error",
     "traceback": [
      "\u001b[0;31m---------------------------------------------------------------------------\u001b[0m",
      "\u001b[0;31mRuntimeError\u001b[0m                              Traceback (most recent call last)",
      "\u001b[0;32m<ipython-input-11-03b6cb879816>\u001b[0m in \u001b[0;36m<module>\u001b[0;34m()\u001b[0m\n\u001b[1;32m      4\u001b[0m \u001b[0;32mfor\u001b[0m \u001b[0mi\u001b[0m \u001b[0;32min\u001b[0m \u001b[0mrange\u001b[0m\u001b[0;34m(\u001b[0m\u001b[0mlen\u001b[0m\u001b[0;34m(\u001b[0m\u001b[0mepsilon_list\u001b[0m\u001b[0;34m)\u001b[0m\u001b[0;34m)\u001b[0m\u001b[0;34m:\u001b[0m\u001b[0;34m\u001b[0m\u001b[0m\n\u001b[1;32m      5\u001b[0m     \u001b[0mFT_Poly_Index\u001b[0m \u001b[0;34m=\u001b[0m \u001b[0mFT_Poly\u001b[0m\u001b[0;34m(\u001b[0m\u001b[0mepsilon_list\u001b[0m\u001b[0;34m[\u001b[0m\u001b[0mi\u001b[0m\u001b[0;34m]\u001b[0m\u001b[0;34m,\u001b[0m\u001b[0minit_epsilon\u001b[0m\u001b[0;34m=\u001b[0m\u001b[0mrange\u001b[0m\u001b[0;34m(\u001b[0m\u001b[0;36m25\u001b[0m\u001b[0;34m,\u001b[0m\u001b[0;36m400\u001b[0m\u001b[0;34m,\u001b[0m\u001b[0;36m50\u001b[0m\u001b[0;34m)\u001b[0m\u001b[0;34m,\u001b[0m\u001b[0mlow\u001b[0m\u001b[0;34m=\u001b[0m\u001b[0;36m1\u001b[0m\u001b[0;34m,\u001b[0m\u001b[0mhigh\u001b[0m\u001b[0;34m=\u001b[0m\u001b[0;36m1000\u001b[0m\u001b[0;34m,\u001b[0m\u001b[0mwithBound\u001b[0m\u001b[0;34m=\u001b[0m\u001b[0;32mTrue\u001b[0m\u001b[0;34m)\u001b[0m\u001b[0;34m\u001b[0m\u001b[0m\n\u001b[0;32m----> 6\u001b[0;31m     \u001b[0mFT_Poly_Index\u001b[0m\u001b[0;34m.\u001b[0m\u001b[0mlearn_index_lookahead\u001b[0m\u001b[0;34m(\u001b[0m\u001b[0mdata\u001b[0m\u001b[0;34m)\u001b[0m\u001b[0;34m\u001b[0m\u001b[0m\n\u001b[0m\u001b[1;32m      7\u001b[0m     \u001b[0mFT_Poly_Index_seg_num\u001b[0m\u001b[0;34m.\u001b[0m\u001b[0mappend\u001b[0m\u001b[0;34m(\u001b[0m\u001b[0mFT_Poly_Index\u001b[0m\u001b[0;34m.\u001b[0m\u001b[0mseg_num\u001b[0m\u001b[0;34m)\u001b[0m\u001b[0;34m\u001b[0m\u001b[0m\n\u001b[1;32m      8\u001b[0m     \u001b[0mFT_Poly_Index_mae\u001b[0m\u001b[0;34m.\u001b[0m\u001b[0mappend\u001b[0m\u001b[0;34m(\u001b[0m\u001b[0mFT_Poly_Index\u001b[0m\u001b[0;34m.\u001b[0m\u001b[0mmae\u001b[0m\u001b[0;34m)\u001b[0m\u001b[0;34m\u001b[0m\u001b[0m\n",
      "\u001b[0;32m<ipython-input-10-9d03b897a6fd>\u001b[0m in \u001b[0;36mlearn_index_lookahead\u001b[0;34m(self, data, lookn)\u001b[0m\n\u001b[1;32m    240\u001b[0m                     \u001b[0mslope_high\u001b[0m \u001b[0;34m=\u001b[0m \u001b[0;36m0\u001b[0m\u001b[0;34m\u001b[0m\u001b[0m\n\u001b[1;32m    241\u001b[0m                     \u001b[0;32mbreak\u001b[0m\u001b[0;34m\u001b[0m\u001b[0m\n\u001b[0;32m--> 242\u001b[0;31m                 \u001b[0mself\u001b[0m\u001b[0;34m.\u001b[0m\u001b[0mmeta_learn\u001b[0m\u001b[0;34m(\u001b[0m\u001b[0;34m)\u001b[0m\u001b[0;34m\u001b[0m\u001b[0m\n\u001b[0m\u001b[1;32m    243\u001b[0m                 \u001b[0mself\u001b[0m\u001b[0;34m.\u001b[0m\u001b[0mmean_len\u001b[0m \u001b[0;34m=\u001b[0m \u001b[0;34m(\u001b[0m\u001b[0mself\u001b[0m\u001b[0;34m.\u001b[0m\u001b[0mmean_len\u001b[0m \u001b[0;34m*\u001b[0m \u001b[0;34m(\u001b[0m\u001b[0mself\u001b[0m\u001b[0;34m.\u001b[0m\u001b[0mseg_num\u001b[0m \u001b[0;34m-\u001b[0m \u001b[0;36m1\u001b[0m\u001b[0;34m)\u001b[0m \u001b[0;34m+\u001b[0m \u001b[0mself\u001b[0m\u001b[0;34m.\u001b[0m\u001b[0mseg_len\u001b[0m\u001b[0;34m[\u001b[0m\u001b[0;34m-\u001b[0m\u001b[0;36m1\u001b[0m\u001b[0;34m]\u001b[0m\u001b[0;34m)\u001b[0m\u001b[0;34m/\u001b[0m\u001b[0mself\u001b[0m\u001b[0;34m.\u001b[0m\u001b[0mseg_num\u001b[0m\u001b[0;34m\u001b[0m\u001b[0m\n\u001b[1;32m    244\u001b[0m                 \u001b[0mlook_list\u001b[0m \u001b[0;34m=\u001b[0m \u001b[0mgaps\u001b[0m\u001b[0;34m[\u001b[0m\u001b[0mseg_start\u001b[0m\u001b[0;34m:\u001b[0m\u001b[0mseg_start\u001b[0m \u001b[0;34m+\u001b[0m \u001b[0mint\u001b[0m\u001b[0;34m(\u001b[0m\u001b[0mlookn\u001b[0m\u001b[0;34m*\u001b[0m\u001b[0mself\u001b[0m\u001b[0;34m.\u001b[0m\u001b[0mmean_len\u001b[0m\u001b[0;34m)\u001b[0m\u001b[0;34m]\u001b[0m\u001b[0;34m\u001b[0m\u001b[0m\n",
      "\u001b[0;32m<ipython-input-10-9d03b897a6fd>\u001b[0m in \u001b[0;36mmeta_learn\u001b[0;34m(self)\u001b[0m\n\u001b[1;32m    395\u001b[0m         \u001b[0mX\u001b[0m \u001b[0;34m=\u001b[0m \u001b[0mnp\u001b[0m\u001b[0;34m.\u001b[0m\u001b[0marray\u001b[0m\u001b[0;34m(\u001b[0m\u001b[0mself\u001b[0m\u001b[0;34m.\u001b[0m\u001b[0mseg_epsilon\u001b[0m\u001b[0;34m)\u001b[0m\u001b[0;34m[\u001b[0m\u001b[0mvalid\u001b[0m\u001b[0;34m]\u001b[0m\u001b[0;34m\u001b[0m\u001b[0m\n\u001b[1;32m    396\u001b[0m         \u001b[0mY\u001b[0m \u001b[0;34m=\u001b[0m \u001b[0mnp\u001b[0m\u001b[0;34m.\u001b[0m\u001b[0marray\u001b[0m\u001b[0;34m(\u001b[0m\u001b[0mself\u001b[0m\u001b[0;34m.\u001b[0m\u001b[0mseg_err\u001b[0m\u001b[0;34m)\u001b[0m\u001b[0;34m[\u001b[0m\u001b[0mvalid\u001b[0m\u001b[0;34m]\u001b[0m\u001b[0;34m\u001b[0m\u001b[0m\n\u001b[0;32m--> 397\u001b[0;31m         \u001b[0mpopt\u001b[0m\u001b[0;34m,\u001b[0m \u001b[0m_\u001b[0m \u001b[0;34m=\u001b[0m \u001b[0mcurve_fit\u001b[0m\u001b[0;34m(\u001b[0m\u001b[0mfunc\u001b[0m\u001b[0;34m,\u001b[0m\u001b[0mX\u001b[0m\u001b[0;34m,\u001b[0m\u001b[0mY\u001b[0m\u001b[0;34m)\u001b[0m\u001b[0;34m\u001b[0m\u001b[0m\n\u001b[0m\u001b[1;32m    398\u001b[0m         \u001b[0mself\u001b[0m\u001b[0;34m.\u001b[0m\u001b[0mw1\u001b[0m\u001b[0;34m,\u001b[0m\u001b[0mself\u001b[0m\u001b[0;34m.\u001b[0m\u001b[0mw3\u001b[0m \u001b[0;34m=\u001b[0m \u001b[0mpopt\u001b[0m\u001b[0;34m\u001b[0m\u001b[0m\n\u001b[1;32m    399\u001b[0m         \u001b[0mself\u001b[0m\u001b[0;34m.\u001b[0m\u001b[0mw1s\u001b[0m\u001b[0;34m.\u001b[0m\u001b[0mappend\u001b[0m\u001b[0;34m(\u001b[0m\u001b[0mself\u001b[0m\u001b[0;34m.\u001b[0m\u001b[0mw1\u001b[0m\u001b[0;34m)\u001b[0m\u001b[0;34m\u001b[0m\u001b[0m\n",
      "\u001b[0;32m~/anaconda3/lib/python3.7/site-packages/scipy/optimize/minpack.py\u001b[0m in \u001b[0;36mcurve_fit\u001b[0;34m(f, xdata, ydata, p0, sigma, absolute_sigma, check_finite, bounds, method, jac, **kwargs)\u001b[0m\n\u001b[1;32m    753\u001b[0m         \u001b[0mcost\u001b[0m \u001b[0;34m=\u001b[0m \u001b[0mnp\u001b[0m\u001b[0;34m.\u001b[0m\u001b[0msum\u001b[0m\u001b[0;34m(\u001b[0m\u001b[0minfodict\u001b[0m\u001b[0;34m[\u001b[0m\u001b[0;34m'fvec'\u001b[0m\u001b[0;34m]\u001b[0m \u001b[0;34m**\u001b[0m \u001b[0;36m2\u001b[0m\u001b[0;34m)\u001b[0m\u001b[0;34m\u001b[0m\u001b[0m\n\u001b[1;32m    754\u001b[0m         \u001b[0;32mif\u001b[0m \u001b[0mier\u001b[0m \u001b[0;32mnot\u001b[0m \u001b[0;32min\u001b[0m \u001b[0;34m[\u001b[0m\u001b[0;36m1\u001b[0m\u001b[0;34m,\u001b[0m \u001b[0;36m2\u001b[0m\u001b[0;34m,\u001b[0m \u001b[0;36m3\u001b[0m\u001b[0;34m,\u001b[0m \u001b[0;36m4\u001b[0m\u001b[0;34m]\u001b[0m\u001b[0;34m:\u001b[0m\u001b[0;34m\u001b[0m\u001b[0m\n\u001b[0;32m--> 755\u001b[0;31m             \u001b[0;32mraise\u001b[0m \u001b[0mRuntimeError\u001b[0m\u001b[0;34m(\u001b[0m\u001b[0;34m\"Optimal parameters not found: \"\u001b[0m \u001b[0;34m+\u001b[0m \u001b[0merrmsg\u001b[0m\u001b[0;34m)\u001b[0m\u001b[0;34m\u001b[0m\u001b[0m\n\u001b[0m\u001b[1;32m    756\u001b[0m     \u001b[0;32melse\u001b[0m\u001b[0;34m:\u001b[0m\u001b[0;34m\u001b[0m\u001b[0m\n\u001b[1;32m    757\u001b[0m         \u001b[0;31m# Rename maxfev (leastsq) to max_nfev (least_squares), if specified.\u001b[0m\u001b[0;34m\u001b[0m\u001b[0;34m\u001b[0m\u001b[0m\n",
      "\u001b[0;31mRuntimeError\u001b[0m: Optimal parameters not found: Number of calls to function has reached maxfev = 600."
     ]
    }
   ],
   "source": [
    "FT_Poly_Index_seg_num = []\n",
    "FT_Poly_Index_mae = []\n",
    "starttime = time.perf_counter()\n",
    "for i in range(len(epsilon_list)):\n",
    "    FT_Poly_Index = FT_Poly(epsilon_list[i],init_epsilon=range(25,400,50),low=1,high=1000,withBound=True)\n",
    "    FT_Poly_Index.learn_index_lookahead(data)\n",
    "    FT_Poly_Index_seg_num.append(FT_Poly_Index.seg_num)\n",
    "    FT_Poly_Index_mae.append(FT_Poly_Index.mae)\n",
    "endtime = time.perf_counter()\n",
    "avg_time = (starttime - endtime) / len(epsilon_list)\n",
    "avg_time"
   ]
  },
  {
   "cell_type": "code",
   "execution_count": 12,
   "metadata": {
    "scrolled": true
   },
   "outputs": [
    {
     "name": "stderr",
     "output_type": "stream",
     "text": [
      "100%|██████████| 1785607/1785607 [08:48<00:00, 3377.12it/s]\n",
      "  0%|          | 3327/1785607 [00:00<00:55, 32394.05it/s]"
     ]
    },
    {
     "name": "stdout",
     "output_type": "stream",
     "text": [
      "7984 4.99640738415564\n"
     ]
    },
    {
     "name": "stderr",
     "output_type": "stream",
     "text": [
      "100%|██████████| 1785607/1785607 [02:23<00:00, 12432.75it/s]\n",
      "  0%|          | 8504/1785607 [00:00<00:22, 77990.05it/s]"
     ]
    },
    {
     "name": "stdout",
     "output_type": "stream",
     "text": [
      "3964 10.812014065805073\n"
     ]
    },
    {
     "name": "stderr",
     "output_type": "stream",
     "text": [
      "100%|██████████| 1785607/1785607 [02:27<00:00, 12092.31it/s]\n",
      "  1%|          | 14825/1785607 [00:00<00:12, 143893.84it/s]"
     ]
    },
    {
     "name": "stdout",
     "output_type": "stream",
     "text": [
      "2760 16.555225197929893\n"
     ]
    },
    {
     "name": "stderr",
     "output_type": "stream",
     "text": [
      "100%|██████████| 1785607/1785607 [00:42<00:00, 41787.73it/s]\n",
      "  1%|          | 14203/1785607 [00:00<00:12, 141273.30it/s]"
     ]
    },
    {
     "name": "stdout",
     "output_type": "stream",
     "text": [
      "2187 21.965854188519646\n"
     ]
    },
    {
     "name": "stderr",
     "output_type": "stream",
     "text": [
      "100%|██████████| 1785607/1785607 [00:36<00:00, 49064.80it/s]\n",
      "  1%|          | 17922/1785607 [00:00<00:10, 172910.66it/s]"
     ]
    },
    {
     "name": "stdout",
     "output_type": "stream",
     "text": [
      "1783 27.827870858481177\n"
     ]
    },
    {
     "name": "stderr",
     "output_type": "stream",
     "text": [
      "100%|██████████| 1785607/1785607 [00:28<00:00, 63308.43it/s]\n",
      "  0%|          | 0/1785607 [00:00<?, ?it/s]"
     ]
    },
    {
     "name": "stdout",
     "output_type": "stream",
     "text": [
      "1582 32.83225592193579\n"
     ]
    },
    {
     "name": "stderr",
     "output_type": "stream",
     "text": [
      "100%|██████████| 1785607/1785607 [00:27<00:00, 65600.31it/s]\n",
      "  1%|          | 12730/1785607 [00:00<00:14, 126159.53it/s]"
     ]
    },
    {
     "name": "stdout",
     "output_type": "stream",
     "text": [
      "1383 37.95469887830861\n"
     ]
    },
    {
     "name": "stderr",
     "output_type": "stream",
     "text": [
      "100%|██████████| 1785607/1785607 [00:36<00:00, 49538.21it/s]\n",
      "  1%|          | 14916/1785607 [00:00<00:12, 140339.21it/s]"
     ]
    },
    {
     "name": "stdout",
     "output_type": "stream",
     "text": [
      "1247 43.82831776533134\n"
     ]
    },
    {
     "name": "stderr",
     "output_type": "stream",
     "text": [
      "100%|██████████| 1785607/1785607 [00:25<00:00, 70238.83it/s] \n",
      "  0%|          | 0/1785607 [00:00<?, ?it/s]"
     ]
    },
    {
     "name": "stdout",
     "output_type": "stream",
     "text": [
      "1128 49.41623548742808\n"
     ]
    },
    {
     "name": "stderr",
     "output_type": "stream",
     "text": [
      "100%|██████████| 1785607/1785607 [00:23<00:00, 77591.51it/s] \n",
      "  1%|          | 15193/1785607 [00:00<00:11, 148496.63it/s]"
     ]
    },
    {
     "name": "stdout",
     "output_type": "stream",
     "text": [
      "976 60.063291642561886\n"
     ]
    },
    {
     "name": "stderr",
     "output_type": "stream",
     "text": [
      "100%|██████████| 1785607/1785607 [00:22<00:00, 78312.03it/s] \n",
      "  1%|          | 17884/1785607 [00:00<00:09, 178837.61it/s]"
     ]
    },
    {
     "name": "stdout",
     "output_type": "stream",
     "text": [
      "973 60.49896197763562\n"
     ]
    },
    {
     "name": "stderr",
     "output_type": "stream",
     "text": [
      "100%|██████████| 1785607/1785607 [00:17<00:00, 104642.51it/s]\n",
      "  0%|          | 0/1785607 [00:00<?, ?it/s]"
     ]
    },
    {
     "name": "stdout",
     "output_type": "stream",
     "text": [
      "803 76.68293919098659\n"
     ]
    },
    {
     "name": "stderr",
     "output_type": "stream",
     "text": [
      "100%|██████████| 1785607/1785607 [00:16<00:00, 107266.09it/s]\n",
      "  1%|          | 16545/1785607 [00:00<00:10, 165448.97it/s]"
     ]
    },
    {
     "name": "stdout",
     "output_type": "stream",
     "text": [
      "755 82.32576149175043\n"
     ]
    },
    {
     "name": "stderr",
     "output_type": "stream",
     "text": [
      "100%|██████████| 1785607/1785607 [00:16<00:00, 109790.97it/s]\n",
      "  0%|          | 0/1785607 [00:00<?, ?it/s]"
     ]
    },
    {
     "name": "stdout",
     "output_type": "stream",
     "text": [
      "709 89.57723172008174\n"
     ]
    },
    {
     "name": "stderr",
     "output_type": "stream",
     "text": [
      "100%|██████████| 1785607/1785607 [00:16<00:00, 110318.98it/s]"
     ]
    },
    {
     "name": "stdout",
     "output_type": "stream",
     "text": [
      "705 90.87463198788983\n"
     ]
    },
    {
     "name": "stderr",
     "output_type": "stream",
     "text": [
      "\n"
     ]
    },
    {
     "data": {
      "text/plain": [
       "-75.32615464453896"
      ]
     },
     "execution_count": 12,
     "metadata": {},
     "output_type": "execute_result"
    }
   ],
   "source": [
    "FT_LS_Index_seg_num = []\n",
    "FT_LS_Index_mae = []\n",
    "starttime = time.perf_counter()\n",
    "for i in range(len(epsilon_list)):\n",
    "    FT_LS_Index = FT_LS(epsilon_list[i],init_epsilon=range(25,400,50),low=1,high=1000,withBound=True)\n",
    "    FT_LS_Index.learn_index_lookahead(data)\n",
    "    FT_LS_Index_seg_num.append(FT_LS_Index.seg_num)\n",
    "    FT_LS_Index_mae.append(FT_LS_Index.mae)\n",
    "endtime = time.perf_counter()\n",
    "avg_time = (starttime - endtime) / len(epsilon_list)\n",
    "avg_time"
   ]
  },
  {
   "cell_type": "code",
   "execution_count": 14,
   "metadata": {},
   "outputs": [
    {
     "data": {
      "text/plain": [
       "<matplotlib.legend.Legend at 0x7f6f385ffe48>"
      ]
     },
     "execution_count": 14,
     "metadata": {},
     "output_type": "execute_result"
    },
    {
     "data": {
      "image/png": "[encoded data removed]",
      "text/plain": [
       "<Figure size 432x288 with 1 Axes>"
      ]
     },
     "metadata": {
      "needs_background": "light"
     },
     "output_type": "display_data"
    }
   ],
   "source": [
    "plt.rcParams[\"text.usetex\"] = True\n",
    "markers = [\"v\", \"^\", \"o\", \"<\", \">\", \"1\", \"2\", \"3\", \"4\"]\n",
    "colors = [\"b\", \"r\", \"g\", \"purple\", \"teal\", \"tomato\", \"olive\", \"deeppink\"]\n",
    "linestyles = ['solid', 'dotted', '-.', ':', \"--\", (0, (3, 10, 1, 10)), (0, (3, 5, 1, 5, 1, 5)),\n",
    "              (0, (5, 10))]\n",
    "\n",
    "plt.title('IoT, MAE-\\#SEG Trade-off')\n",
    "plt.xlabel('\\#SEG')\n",
    "plt.ylabel('MAE')\n",
    "x = np.arange(550,6000)\n",
    "def func(x,a,b):\n",
    "    return a * x**b\n",
    "p1,_ = curve_fit(func,FT_Index_seg_num,FT_Index_mae)\n",
    "p2,_ = curve_fit(func,FT_Meta_Index_seg_num_withBound,FT_Meta_Index_mae_withBound)\n",
    "p3,_ = curve_fit(func,FT_Random_Index_seg_num,FT_Random_Index_mae)\n",
    "p4,_ = curve_fit(func,FT_Poly_Index_seg_num,FT_Poly_Index_mae)\n",
    "p5,_ = curve_fit(func,FT_LS_Index_seg_num,FT_LS_Index_mae)\n",
    "plt.plot(x,p1[0]*x**p1[1],c=colors[0], linestyle=linestyles[0], label='FITing-Tree')\n",
    "plt.scatter(FT_Index_seg_num, FT_Index_mae,c=colors[0],marker=markers[0])\n",
    "plt.plot(x,p2[0]*x**p2[1],c=colors[1], linestyle=linestyles[1], label='FITing-Tree, Dynamic $\\epsilon$')\n",
    "plt.scatter(FT_Meta_Index_seg_num_withBound, FT_Meta_Index_mae_withBound,c=colors[1],marker=markers[1])\n",
    "plt.plot(x,p3[0]*x**p3[1],c=colors[2], linestyle=linestyles[2], label='FITing-Tree, Random $\\epsilon$')\n",
    "plt.scatter(FT_Random_Index_seg_num, FT_Random_Index_mae,c=colors[2],marker=markers[2])\n",
    "plt.plot(x,p4[0]*x**p4[1],c=colors[3], linestyle=linestyles[3], label='FITing-Tree, Poly $\\epsilon$')\n",
    "plt.scatter(FT_Poly_Index_seg_num, FT_Poly_Index_mae,c=colors[3],marker=markers[3])\n",
    "plt.plot(x,p5[0]*x**p5[1],c=colors[4], linestyle=linestyles[4], label='FITing-Tree, LS $\\epsilon$')\n",
    "plt.scatter(FT_LS_Index_seg_num, FT_LS_Index_mae,c=colors[4],marker=markers[4])\n",
    "plt.legend()"
   ]
  },
  {
   "cell_type": "code",
   "execution_count": 17,
   "metadata": {},
   "outputs": [
    {
     "name": "stdout",
     "output_type": "stream",
     "text": [
      "0.517385431115766\n",
      "0.07287903109246496\n",
      "0.022043342419989953\n"
     ]
    }
   ],
   "source": [
    "def calc_AUC(x,y):\n",
    "    area=0\n",
    "    for i in range(len(x)-1):\n",
    "        area += (y[i]+y[i+1])*(x[i+1]-x[i]) / 2 \n",
    "    return area\n",
    "AUC1 = calc_AUC(x,p1[0]*x**p1[1])\n",
    "AUC2 = calc_AUC(x,p2[0]*x**p2[1])\n",
    "AUC3 = calc_AUC(x,p3[0]*x**p3[1])\n",
    "AUC4 = calc_AUC(x,p4[0]*x**p4[1])\n",
    "AUC5 = calc_AUC(x,p5[0]*x**p5[1])\n",
    "AUC_list = [AUC1,AUC2,AUC3,AUC4,AUC5]\n",
    "for i in range(2,5):\n",
    "    print(AUC_list[i]/AUC_list[1]-1)"
   ]
  },
  {
   "cell_type": "code",
   "execution_count": null,
   "metadata": {},
   "outputs": [],
   "source": []
  }
 ],
 "metadata": {
  "kernelspec": {
   "display_name": "Python 3",
   "language": "python",
   "name": "python3"
  },
  "language_info": {
   "codemirror_mode": {
    "name": "ipython",
    "version": 3
   },
   "file_extension": ".py",
   "mimetype": "text/x-python",
   "name": "python",
   "nbconvert_exporter": "python",
   "pygments_lexer": "ipython3",
   "version": "3.7.0"
  }
 },
 "nbformat": 4,
 "nbformat_minor": 5
}
