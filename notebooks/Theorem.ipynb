{
 "cells": [
  {
   "cell_type": "code",
   "execution_count": 2,
   "metadata": {},
   "outputs": [],
   "source": [
    "import numpy as np\n",
    "import pandas as pd\n",
    "import matplotlib.pyplot as plt\n",
    "from tqdm import tqdm\n",
    "import struct\n",
    "import sys\n",
    "from model.FittingTree import *\n",
    "from model.MET import *\n",
    "from model.MET_Meta import *\n",
    "from model.pgm import *\n",
    "from model.RadixSpline import *\n",
    "import random"
   ]
  },
  {
   "cell_type": "markdown",
   "metadata": {},
   "source": [
    "### Learned Slopes"
   ]
  },
  {
   "cell_type": "code",
   "execution_count": 3,
   "metadata": {},
   "outputs": [
    {
     "name": "stderr",
     "output_type": "stream",
     "text": [
      "100%|██████████| 18500001/18500001 [00:13<00:00, 1379020.24it/s]\n"
     ]
    }
   ],
   "source": [
    "# Real World Data\n",
    "# 'd' for double, 'l' for uint\n",
    "datafile = open('./data/lognormal.double','rb')\n",
    "data = datafile.read(8)\n",
    "data_len, = struct.unpack('d', data)\n",
    "data_len = int(data_len)\n",
    "data=[]\n",
    "for i in tqdm(range(data_len)):\n",
    "    data_bin = datafile.read(8)\n",
    "    data_unix, = struct.unpack('d',data_bin)\n",
    "    data.append(data_unix)"
   ]
  },
  {
   "cell_type": "code",
   "execution_count": 4,
   "metadata": {},
   "outputs": [
    {
     "name": "stderr",
     "output_type": "stream",
     "text": [
      "100%|██████████| 18500001/18500001 [00:25<00:00, 737829.84it/s]\n",
      "  0%|          | 39946/18500001 [00:00<00:46, 399458.48it/s]"
     ]
    },
    {
     "name": "stdout",
     "output_type": "stream",
     "text": [
      "50 136.1518713431421\n"
     ]
    },
    {
     "name": "stderr",
     "output_type": "stream",
     "text": [
      "100%|██████████| 18500001/18500001 [00:49<00:00, 374226.44it/s]\n",
      "  0%|          | 4736/18500001 [00:00<06:30, 47349.09it/s]"
     ]
    },
    {
     "name": "stdout",
     "output_type": "stream",
     "text": [
      "600 50 253.31937382057438\n"
     ]
    },
    {
     "name": "stderr",
     "output_type": "stream",
     "text": [
      "100%|██████████| 18500001/18500001 [03:04<00:00, 100315.23it/s]\n"
     ]
    },
    {
     "name": "stdout",
     "output_type": "stream",
     "text": [
      "600 37 279.5589239157338\n"
     ]
    }
   ],
   "source": [
    "epsilon = 600\n",
    "FT_Index = FT(epsilon)\n",
    "FT_Index.learn_index(data)\n",
    "RS_Index = RadixSpline(epsilon)\n",
    "RS_Index.learn_index(data)\n",
    "PGM_Index = PGM(epsilon)\n",
    "PGM_Index.learn_index(data)"
   ]
  },
  {
   "cell_type": "code",
   "execution_count": 26,
   "metadata": {
    "scrolled": false
   },
   "outputs": [
    {
     "data": {
      "image/png": "[encoded data removed]",
      "text/plain": [
       "<Figure size 432x288 with 1 Axes>"
      ]
     },
     "metadata": {
      "needs_background": "light"
     },
     "output_type": "display_data"
    }
   ],
   "source": [
    "import matplotlib.pylab as pylab\n",
    "label_size = 18.5\n",
    "ticks_size = 17\n",
    "title_size = 22.5\n",
    "legend_size = 15\n",
    "params = {'legend.fontsize': legend_size,\n",
    "          'axes.labelsize': label_size,\n",
    "          'axes.titlesize': title_size,\n",
    "          'xtick.labelsize': ticks_size,\n",
    "          'ytick.labelsize': ticks_size}\n",
    "pylab.rcParams.update(params)\n",
    "plt.rcParams[\"text.usetex\"] = True\n",
    "plt.rcParams['text.latex.preamble'] = [r'\\boldmath']\n",
    "\n",
    "markers = [\"v\", \"^\", \"o\", \"<\", \"<\", \"1\", \"2\", \"3\", \"4\"]\n",
    "colors = [\"b\", \"r\", \"g\", \"purple\", \"teal\", \"tomato\", \"olive\", \"deeppink\"]\n",
    "linestyles = ['solid', 'dotted', '-.', ':', \"--\", (0, (3, 10, 1, 10)), (0, (3, 5, 1, 5, 1, 5)),\n",
    "              (0, (5, 10))]\n",
    "plt.title('$\\mathrm{Lognormal~Dataset}$')\n",
    "plt.xlabel('$1/\\mu_i$')\n",
    "plt.ylabel('$a_i$')\n",
    "sample_gap = 2\n",
    "sel = 5\n",
    "FT_x = 1/np.array(FT_Index.seg_mu)[np.array(FT_Index.seg_mu)<sel][::sample_gap]\n",
    "FT_y = np.array(FT_Index.segments)[:,2][np.array(FT_Index.seg_mu)<sel][::sample_gap]\n",
    "RS_x = 1/np.array(RS_Index.seg_mu)[np.array(RS_Index.seg_mu)<sel][::sample_gap]\n",
    "RS_y = np.array(RS_Index.segments)[:,2][np.array(RS_Index.seg_mu)<sel][::sample_gap]\n",
    "PGM_x = 1/np.array(PGM_Index.seg_mu)[np.array(PGM_Index.seg_mu)<sel][::sample_gap]\n",
    "PGM_y = np.array(PGM_Index.segments)[:,2][np.array(PGM_Index.seg_mu)<sel][::sample_gap]\n",
    "plt.scatter(FT_x,FT_y,label='$\\mathrm{FITing\\mbox{-}Tree}$',c='b',marker='.',s=150)\n",
    "plt.scatter(RS_x,RS_y,label='$\\mathrm{RadixSpline}$',c='g',marker='x',s=150)\n",
    "plt.scatter(PGM_x,PGM_y,label='$\\mathrm{PGM}$',c='tomato',marker='+',s=150)\n",
    "x = np.arange(0.22,0.39,0.01)\n",
    "plt.plot(x,x,c='black',label='$a_i=1/\\mu_i$',linestyle='--')\n",
    "plt.legend()\n",
    "#plt.ticklabel_format(axis=\"x\", style=\"sci\", scilimits=(0,0))\n",
    "#plt.ticklabel_format(axis=\"y\", style=\"sci\", scilimits=(0,0))\n",
    "#plt.savefig(\"{}.pdf\".format(\"results/Theorem/Lognormal_link_30\"), bbox_inches='tight', pad_inches=0)"
   ]
  },
  {
   "cell_type": "markdown",
   "metadata": {},
   "source": [
    "### Correctness of our bounds"
   ]
  },
  {
   "cell_type": "code",
   "execution_count": 28,
   "metadata": {},
   "outputs": [
    {
     "name": "stderr",
     "output_type": "stream",
     "text": [
      "100%|██████████| 10000000/10000000 [00:05<00:00, 1750377.90it/s]\n"
     ]
    }
   ],
   "source": [
    "#iid data\n",
    "gaps = np.random.lognormal(1,sigma=1,size = 10000000)\n",
    "#for gamma, k is the shape and \\theta is the scale\n",
    "#gaps = np.random.gamma(shape=1,scale=1,size=10000000)\n",
    "#gaps = np.random.gamma(shape=3,scale=6,size=10000000)\n",
    "#gaps = np.random.gamma(shape=2,scale=3,size=10000000)\n",
    "#gaps = np.random.uniform(low=0,high=1,size=10000000)\n",
    "#gaps = np.random.uniform(low=0,high=10,size=10000000)\n",
    "#gaps = np.random.uniform(low=10,high=100,size=10000000)\n",
    "data = [0]\n",
    "for i in tqdm(range(len(gaps))):\n",
    "    data.append(data[i]+gaps[i])\n",
    "data = np.array(data)\n",
    "assert min(gaps) > 0\n",
    "data_feature = gaps.mean()/gaps.std()"
   ]
  },
  {
   "cell_type": "code",
   "execution_count": 29,
   "metadata": {
    "scrolled": true
   },
   "outputs": [
    {
     "name": "stderr",
     "output_type": "stream",
     "text": [
      "100%|██████████| 10000001/10000001 [00:22<00:00, 436831.65it/s]\n",
      "  0%|          | 41053/10000001 [00:00<00:24, 410529.41it/s]"
     ]
    },
    {
     "name": "stdout",
     "output_type": "stream",
     "text": [
      "24049 8.194077380592262\n"
     ]
    },
    {
     "name": "stderr",
     "output_type": "stream",
     "text": [
      "100%|██████████| 10000001/10000001 [00:22<00:00, 450416.61it/s]\n",
      "  0%|          | 41277/10000001 [00:00<00:24, 412765.47it/s]"
     ]
    },
    {
     "name": "stdout",
     "output_type": "stream",
     "text": [
      "6547 16.610355238964477\n"
     ]
    },
    {
     "name": "stderr",
     "output_type": "stream",
     "text": [
      "100%|██████████| 10000001/10000001 [00:22<00:00, 451980.51it/s]\n",
      "  0%|          | 41284/10000001 [00:00<00:24, 412835.47it/s]"
     ]
    },
    {
     "name": "stdout",
     "output_type": "stream",
     "text": [
      "2972 25.20286187971381\n"
     ]
    },
    {
     "name": "stderr",
     "output_type": "stream",
     "text": [
      "100%|██████████| 10000001/10000001 [00:22<00:00, 453063.85it/s]\n",
      "  0%|          | 41430/10000001 [00:00<00:24, 414298.42it/s]"
     ]
    },
    {
     "name": "stdout",
     "output_type": "stream",
     "text": [
      "1689 33.75878142412186\n"
     ]
    },
    {
     "name": "stderr",
     "output_type": "stream",
     "text": [
      "100%|██████████| 10000001/10000001 [00:22<00:00, 451117.79it/s]\n",
      "  0%|          | 41479/10000001 [00:00<00:24, 414782.48it/s]"
     ]
    },
    {
     "name": "stdout",
     "output_type": "stream",
     "text": [
      "1094 42.10469148953085\n"
     ]
    },
    {
     "name": "stderr",
     "output_type": "stream",
     "text": [
      "100%|██████████| 10000001/10000001 [00:22<00:00, 452243.70it/s]\n",
      "  0%|          | 41604/10000001 [00:00<00:23, 416032.46it/s]"
     ]
    },
    {
     "name": "stdout",
     "output_type": "stream",
     "text": [
      "745 50.53634774636522\n"
     ]
    },
    {
     "name": "stderr",
     "output_type": "stream",
     "text": [
      "100%|██████████| 10000001/10000001 [00:22<00:00, 452991.94it/s]\n",
      "  0%|          | 42349/10000001 [00:00<00:23, 423486.37it/s]"
     ]
    },
    {
     "name": "stdout",
     "output_type": "stream",
     "text": [
      "537 58.56906724309327\n"
     ]
    },
    {
     "name": "stderr",
     "output_type": "stream",
     "text": [
      "100%|██████████| 10000001/10000001 [00:22<00:00, 453720.53it/s]\n",
      "  0%|          | 40218/10000001 [00:00<00:24, 402175.59it/s]"
     ]
    },
    {
     "name": "stdout",
     "output_type": "stream",
     "text": [
      "422 64.26376027362397\n"
     ]
    },
    {
     "name": "stderr",
     "output_type": "stream",
     "text": [
      "100%|██████████| 10000001/10000001 [00:22<00:00, 452632.28it/s]\n",
      "  0%|          | 38791/10000001 [00:00<00:25, 387905.75it/s]"
     ]
    },
    {
     "name": "stdout",
     "output_type": "stream",
     "text": [
      "377 75.83156161684384\n"
     ]
    },
    {
     "name": "stderr",
     "output_type": "stream",
     "text": [
      "100%|██████████| 10000001/10000001 [00:22<00:00, 451923.86it/s]\n",
      "  0%|          | 41170/10000001 [00:00<00:24, 411691.56it/s]"
     ]
    },
    {
     "name": "stdout",
     "output_type": "stream",
     "text": [
      "271 84.45627565437243\n"
     ]
    },
    {
     "name": "stderr",
     "output_type": "stream",
     "text": [
      "100%|██████████| 10000001/10000001 [00:22<00:00, 452976.77it/s]\n",
      "  0%|          | 34223/10000001 [00:00<00:29, 342229.51it/s]"
     ]
    },
    {
     "name": "stdout",
     "output_type": "stream",
     "text": [
      "226 90.40273355972664\n"
     ]
    },
    {
     "name": "stderr",
     "output_type": "stream",
     "text": [
      "100%|██████████| 10000001/10000001 [00:22<00:00, 439085.46it/s]\n",
      "  0%|          | 41037/10000001 [00:00<00:24, 410366.48it/s]"
     ]
    },
    {
     "name": "stdout",
     "output_type": "stream",
     "text": [
      "198 102.3102568689743\n"
     ]
    },
    {
     "name": "stderr",
     "output_type": "stream",
     "text": [
      "100%|██████████| 10000001/10000001 [00:22<00:00, 451153.45it/s]\n",
      "  0%|          | 42186/10000001 [00:00<00:23, 421851.35it/s]"
     ]
    },
    {
     "name": "stdout",
     "output_type": "stream",
     "text": [
      "176 108.63160073683993\n"
     ]
    },
    {
     "name": "stderr",
     "output_type": "stream",
     "text": [
      "100%|██████████| 10000001/10000001 [00:22<00:00, 452862.56it/s]\n",
      "  0%|          | 40238/10000001 [00:00<00:24, 402375.59it/s]"
     ]
    },
    {
     "name": "stdout",
     "output_type": "stream",
     "text": [
      "150 119.65741473425852\n"
     ]
    },
    {
     "name": "stderr",
     "output_type": "stream",
     "text": [
      "100%|██████████| 10000001/10000001 [00:22<00:00, 452039.13it/s]"
     ]
    },
    {
     "name": "stdout",
     "output_type": "stream",
     "text": [
      "128 127.25406277459372\n"
     ]
    },
    {
     "name": "stderr",
     "output_type": "stream",
     "text": [
      "\n"
     ]
    }
   ],
   "source": [
    "epsilon_list = list(range(25,400,25))\n",
    "MET_Index_seg_num = []\n",
    "MET_Index_mae = []\n",
    "MET_Index_mean_seg_err = []\n",
    "for i in range(len(epsilon_list)):\n",
    "    epsilon = epsilon_list[i]\n",
    "    MET_Index = MET(epsilon)\n",
    "    MET_Index.learn_index(data)\n",
    "    MET_Index_seg_num.append(MET_Index.seg_num)\n",
    "    MET_Index_mae.append(MET_Index.mae)\n",
    "    MET_Index_mean_seg_err.append(np.mean(MET_Index.seg_err))"
   ]
  },
  {
   "cell_type": "code",
   "execution_count": 30,
   "metadata": {
    "scrolled": true
   },
   "outputs": [
    {
     "name": "stderr",
     "output_type": "stream",
     "text": [
      "100%|██████████| 10000001/10000001 [00:26<00:00, 380978.46it/s]\n",
      "  0%|          | 36004/10000001 [00:00<00:27, 359677.60it/s]"
     ]
    },
    {
     "name": "stdout",
     "output_type": "stream",
     "text": [
      "20655 6.1076274892372515\n"
     ]
    },
    {
     "name": "stderr",
     "output_type": "stream",
     "text": [
      "100%|██████████| 10000001/10000001 [00:26<00:00, 384123.66it/s]\n",
      "  0%|          | 35917/10000001 [00:00<00:27, 359169.49it/s]"
     ]
    },
    {
     "name": "stdout",
     "output_type": "stream",
     "text": [
      "5728 12.071947992805201\n"
     ]
    },
    {
     "name": "stderr",
     "output_type": "stream",
     "text": [
      "100%|██████████| 10000001/10000001 [00:25<00:00, 389025.18it/s]\n",
      "  0%|          | 35299/10000001 [00:00<00:28, 352985.29it/s]"
     ]
    },
    {
     "name": "stdout",
     "output_type": "stream",
     "text": [
      "2631 17.844221715577827\n"
     ]
    },
    {
     "name": "stderr",
     "output_type": "stream",
     "text": [
      "100%|██████████| 10000001/10000001 [00:25<00:00, 390073.90it/s]\n",
      "  0%|          | 37041/10000001 [00:00<00:26, 370404.17it/s]"
     ]
    },
    {
     "name": "stdout",
     "output_type": "stream",
     "text": [
      "1526 23.77066352293365\n"
     ]
    },
    {
     "name": "stderr",
     "output_type": "stream",
     "text": [
      "100%|██████████| 10000001/10000001 [00:25<00:00, 390031.59it/s]\n",
      "  0%|          | 37598/10000001 [00:00<00:27, 364442.25it/s]"
     ]
    },
    {
     "name": "stdout",
     "output_type": "stream",
     "text": [
      "957 29.419158558084145\n"
     ]
    },
    {
     "name": "stderr",
     "output_type": "stream",
     "text": [
      "100%|██████████| 10000001/10000001 [00:25<00:00, 390870.30it/s]\n",
      "  0%|          | 23515/10000001 [00:00<00:42, 235142.38it/s]"
     ]
    },
    {
     "name": "stdout",
     "output_type": "stream",
     "text": [
      "672 35.243819175618086\n"
     ]
    },
    {
     "name": "stderr",
     "output_type": "stream",
     "text": [
      "100%|██████████| 10000001/10000001 [00:25<00:00, 388916.16it/s]\n",
      "  0%|          | 23634/10000001 [00:00<00:42, 236339.10it/s]"
     ]
    },
    {
     "name": "stdout",
     "output_type": "stream",
     "text": [
      "492 41.318383468161656\n"
     ]
    },
    {
     "name": "stderr",
     "output_type": "stream",
     "text": [
      "100%|██████████| 10000001/10000001 [00:25<00:00, 388534.76it/s]\n",
      "  0%|          | 37572/10000001 [00:00<00:26, 375716.78it/s]"
     ]
    },
    {
     "name": "stdout",
     "output_type": "stream",
     "text": [
      "376 47.290719370928066\n"
     ]
    },
    {
     "name": "stderr",
     "output_type": "stream",
     "text": [
      "100%|██████████| 10000001/10000001 [00:25<00:00, 391707.69it/s]\n",
      "  0%|          | 23834/10000001 [00:00<00:41, 238339.09it/s]"
     ]
    },
    {
     "name": "stdout",
     "output_type": "stream",
     "text": [
      "310 54.00700039929996\n"
     ]
    },
    {
     "name": "stderr",
     "output_type": "stream",
     "text": [
      "100%|██████████| 10000001/10000001 [00:25<00:00, 386711.64it/s]\n",
      "  0%|          | 36645/10000001 [00:00<00:27, 366444.23it/s]"
     ]
    },
    {
     "name": "stdout",
     "output_type": "stream",
     "text": [
      "250 60.211318378868164\n"
     ]
    },
    {
     "name": "stderr",
     "output_type": "stream",
     "text": [
      "100%|██████████| 10000001/10000001 [00:25<00:00, 387899.61it/s]\n",
      "  0%|          | 44005/10000001 [00:00<00:22, 440047.27it/s]"
     ]
    },
    {
     "name": "stdout",
     "output_type": "stream",
     "text": [
      "208 64.54898254510175\n"
     ]
    },
    {
     "name": "stderr",
     "output_type": "stream",
     "text": [
      "100%|██████████| 10000001/10000001 [00:26<00:00, 383862.24it/s]\n",
      "  0%|          | 44397/10000001 [00:00<00:22, 443963.01it/s]"
     ]
    },
    {
     "name": "stdout",
     "output_type": "stream",
     "text": [
      "173 69.63125213687479\n"
     ]
    },
    {
     "name": "stderr",
     "output_type": "stream",
     "text": [
      "100%|██████████| 10000001/10000001 [00:25<00:00, 386588.41it/s]\n",
      "  0%|          | 44499/10000001 [00:00<00:22, 444986.18it/s]"
     ]
    },
    {
     "name": "stdout",
     "output_type": "stream",
     "text": [
      "147 76.3281760671824\n"
     ]
    },
    {
     "name": "stderr",
     "output_type": "stream",
     "text": [
      "100%|██████████| 10000001/10000001 [00:25<00:00, 385839.26it/s]\n",
      "  0%|          | 43985/10000001 [00:00<00:22, 439848.32it/s]"
     ]
    },
    {
     "name": "stdout",
     "output_type": "stream",
     "text": [
      "128 80.07166169283383\n"
     ]
    },
    {
     "name": "stderr",
     "output_type": "stream",
     "text": [
      "100%|██████████| 10000001/10000001 [00:25<00:00, 387280.19it/s]"
     ]
    },
    {
     "name": "stdout",
     "output_type": "stream",
     "text": [
      "109 87.10040718995928\n"
     ]
    },
    {
     "name": "stderr",
     "output_type": "stream",
     "text": [
      "\n"
     ]
    }
   ],
   "source": [
    "FT_Index_seg_num = []\n",
    "FT_Index_mae = []\n",
    "FT_Index_mean_seg_err = []\n",
    "for i in range(len(epsilon_list)):\n",
    "    epsilon = epsilon_list[i]\n",
    "    FT_Index = FT(epsilon)\n",
    "    FT_Index.learn_index(data)\n",
    "    FT_Index_seg_num.append(FT_Index.seg_num)\n",
    "    FT_Index_mae.append(FT_Index.mae)\n",
    "    FT_Index_mean_seg_err.append(np.mean(FT_Index.seg_err))"
   ]
  },
  {
   "cell_type": "code",
   "execution_count": 31,
   "metadata": {
    "scrolled": true
   },
   "outputs": [
    {
     "name": "stderr",
     "output_type": "stream",
     "text": [
      "100%|██████████| 10000001/10000001 [00:47<00:00, 210523.71it/s]\n",
      "  0%|          | 11096/10000001 [00:00<01:30, 110952.43it/s]"
     ]
    },
    {
     "name": "stdout",
     "output_type": "stream",
     "text": [
      "25 21785 9.335190966480903\n"
     ]
    },
    {
     "name": "stderr",
     "output_type": "stream",
     "text": [
      "100%|██████████| 10000001/10000001 [00:46<00:00, 215737.66it/s]\n",
      "  0%|          | 10896/10000001 [00:00<01:31, 108955.17it/s]"
     ]
    },
    {
     "name": "stdout",
     "output_type": "stream",
     "text": [
      "50 5845 19.174578482542152\n"
     ]
    },
    {
     "name": "stderr",
     "output_type": "stream",
     "text": [
      "100%|██████████| 10000001/10000001 [00:46<00:00, 217336.61it/s]\n",
      "  0%|          | 11190/10000001 [00:00<01:31, 109396.48it/s]"
     ]
    },
    {
     "name": "stdout",
     "output_type": "stream",
     "text": [
      "75 2674 28.695382030461797\n"
     ]
    },
    {
     "name": "stderr",
     "output_type": "stream",
     "text": [
      "100%|██████████| 10000001/10000001 [00:45<00:00, 217581.53it/s]\n",
      "  0%|          | 22219/10000001 [00:00<00:44, 222185.44it/s]"
     ]
    },
    {
     "name": "stdout",
     "output_type": "stream",
     "text": [
      "100 1534 38.475204552479546\n"
     ]
    },
    {
     "name": "stderr",
     "output_type": "stream",
     "text": [
      "100%|██████████| 10000001/10000001 [00:45<00:00, 218482.62it/s]\n",
      "  0%|          | 21617/10000001 [00:00<00:46, 216168.14it/s]"
     ]
    },
    {
     "name": "stdout",
     "output_type": "stream",
     "text": [
      "125 975 47.891592010840796\n"
     ]
    },
    {
     "name": "stderr",
     "output_type": "stream",
     "text": [
      "100%|██████████| 10000001/10000001 [00:45<00:00, 218138.83it/s]\n",
      "  0%|          | 23426/10000001 [00:00<00:42, 234257.99it/s]"
     ]
    },
    {
     "name": "stdout",
     "output_type": "stream",
     "text": [
      "150 676 58.12483328751667\n"
     ]
    },
    {
     "name": "stderr",
     "output_type": "stream",
     "text": [
      "100%|██████████| 10000001/10000001 [00:45<00:00, 217841.71it/s]\n",
      "  0%|          | 12820/10000001 [00:00<01:17, 128196.45it/s]"
     ]
    },
    {
     "name": "stdout",
     "output_type": "stream",
     "text": [
      "175 495 67.7497989250201\n"
     ]
    },
    {
     "name": "stderr",
     "output_type": "stream",
     "text": [
      "100%|██████████| 10000001/10000001 [00:46<00:00, 216530.75it/s]\n",
      "  0%|          | 24259/10000001 [00:00<00:41, 242582.13it/s]"
     ]
    },
    {
     "name": "stdout",
     "output_type": "stream",
     "text": [
      "200 377 78.809439919056\n"
     ]
    },
    {
     "name": "stderr",
     "output_type": "stream",
     "text": [
      "100%|██████████| 10000001/10000001 [00:46<00:00, 217225.42it/s]\n",
      "  0%|          | 24029/10000001 [00:00<00:41, 240286.79it/s]"
     ]
    },
    {
     "name": "stdout",
     "output_type": "stream",
     "text": [
      "225 305 89.9585620041438\n"
     ]
    },
    {
     "name": "stderr",
     "output_type": "stream",
     "text": [
      "100%|██████████| 10000001/10000001 [00:45<00:00, 217427.20it/s]\n",
      "  0%|          | 13988/10000001 [00:00<01:11, 139879.47it/s]"
     ]
    },
    {
     "name": "stdout",
     "output_type": "stream",
     "text": [
      "250 255 100.25211857478814\n"
     ]
    },
    {
     "name": "stderr",
     "output_type": "stream",
     "text": [
      "100%|██████████| 10000001/10000001 [00:46<00:00, 217293.34it/s]\n",
      "  0%|          | 12931/10000001 [00:00<01:17, 129303.65it/s]"
     ]
    },
    {
     "name": "stdout",
     "output_type": "stream",
     "text": [
      "275 208 105.25324887467511\n"
     ]
    },
    {
     "name": "stderr",
     "output_type": "stream",
     "text": [
      "100%|██████████| 10000001/10000001 [00:46<00:00, 217226.50it/s]\n",
      "  0%|          | 12987/10000001 [00:00<01:16, 129864.86it/s]"
     ]
    },
    {
     "name": "stdout",
     "output_type": "stream",
     "text": [
      "300 172 116.00490749950924\n"
     ]
    },
    {
     "name": "stderr",
     "output_type": "stream",
     "text": [
      "100%|██████████| 10000001/10000001 [00:46<00:00, 217141.70it/s]\n",
      "  0%|          | 23928/10000001 [00:00<00:41, 239271.10it/s]"
     ]
    },
    {
     "name": "stdout",
     "output_type": "stream",
     "text": [
      "325 148 127.18582978141703\n"
     ]
    },
    {
     "name": "stderr",
     "output_type": "stream",
     "text": [
      "100%|██████████| 10000001/10000001 [00:46<00:00, 217037.65it/s]\n",
      "  0%|          | 24053/10000001 [00:00<00:41, 240525.07it/s]"
     ]
    },
    {
     "name": "stdout",
     "output_type": "stream",
     "text": [
      "350 131 136.11834938816506\n"
     ]
    },
    {
     "name": "stderr",
     "output_type": "stream",
     "text": [
      "100%|██████████| 10000001/10000001 [00:46<00:00, 217011.53it/s]"
     ]
    },
    {
     "name": "stdout",
     "output_type": "stream",
     "text": [
      "375 109 146.0831209916879\n"
     ]
    },
    {
     "name": "stderr",
     "output_type": "stream",
     "text": [
      "\n"
     ]
    }
   ],
   "source": [
    "RS_Index_seg_num = []\n",
    "RS_Index_mae = []\n",
    "RS_Index_mean_seg_err = []\n",
    "for i in range(len(epsilon_list)):\n",
    "    epsilon = epsilon_list[i]\n",
    "    RS_Index = RadixSpline(epsilon)\n",
    "    RS_Index.learn_index(data)\n",
    "    RS_Index_seg_num.append(RS_Index.seg_num)\n",
    "    RS_Index_mae.append(RS_Index.mae)\n",
    "    RS_Index_mean_seg_err.append(np.mean(RS_Index.seg_err))"
   ]
  },
  {
   "cell_type": "code",
   "execution_count": 32,
   "metadata": {
    "scrolled": true
   },
   "outputs": [
    {
     "name": "stderr",
     "output_type": "stream",
     "text": [
      "100%|██████████| 10000001/10000001 [01:57<00:00, 85200.83it/s]\n",
      "  0%|          | 5138/10000001 [00:00<03:14, 51377.48it/s]"
     ]
    },
    {
     "name": "stdout",
     "output_type": "stream",
     "text": [
      "25 6047 11.697007130299287\n"
     ]
    },
    {
     "name": "stderr",
     "output_type": "stream",
     "text": [
      "100%|██████████| 10000001/10000001 [01:49<00:00, 91164.17it/s]\n",
      "  0%|          | 9215/10000001 [00:00<01:48, 92134.27it/s]"
     ]
    },
    {
     "name": "stdout",
     "output_type": "stream",
     "text": [
      "50 1558 23.361003163899685\n"
     ]
    },
    {
     "name": "stderr",
     "output_type": "stream",
     "text": [
      "100%|██████████| 10000001/10000001 [01:46<00:00, 93782.57it/s]\n",
      "  0%|          | 4583/10000001 [00:00<03:38, 45818.57it/s]"
     ]
    },
    {
     "name": "stdout",
     "output_type": "stream",
     "text": [
      "75 684 35.04261729573827\n"
     ]
    },
    {
     "name": "stderr",
     "output_type": "stream",
     "text": [
      "100%|██████████| 10000001/10000001 [01:44<00:00, 95641.78it/s]\n",
      "  0%|          | 8738/10000001 [00:00<01:54, 87374.67it/s]"
     ]
    },
    {
     "name": "stdout",
     "output_type": "stream",
     "text": [
      "100 381 47.04469839553016\n"
     ]
    },
    {
     "name": "stderr",
     "output_type": "stream",
     "text": [
      "100%|██████████| 10000001/10000001 [01:43<00:00, 97077.71it/s]\n",
      "  0%|          | 4108/10000001 [00:00<04:03, 41078.57it/s]"
     ]
    },
    {
     "name": "stdout",
     "output_type": "stream",
     "text": [
      "125 254 59.895746310425366\n"
     ]
    },
    {
     "name": "stderr",
     "output_type": "stream",
     "text": [
      "100%|██████████| 10000001/10000001 [01:43<00:00, 96722.63it/s]\n",
      "  0%|          | 7784/10000001 [00:00<02:08, 77827.64it/s]"
     ]
    },
    {
     "name": "stdout",
     "output_type": "stream",
     "text": [
      "150 175 69.28639627136037\n"
     ]
    },
    {
     "name": "stderr",
     "output_type": "stream",
     "text": [
      "100%|██████████| 10000001/10000001 [01:42<00:00, 97783.06it/s]\n",
      "  0%|          | 7771/10000001 [00:00<02:08, 77708.59it/s]"
     ]
    },
    {
     "name": "stdout",
     "output_type": "stream",
     "text": [
      "175 130 79.73628762637124\n"
     ]
    },
    {
     "name": "stderr",
     "output_type": "stream",
     "text": [
      "100%|██████████| 10000001/10000001 [01:41<00:00, 98111.18it/s]\n",
      "  0%|          | 6342/10000001 [00:00<02:37, 63415.52it/s]"
     ]
    },
    {
     "name": "stdout",
     "output_type": "stream",
     "text": [
      "200 101 94.85781461421854\n"
     ]
    },
    {
     "name": "stderr",
     "output_type": "stream",
     "text": [
      "100%|██████████| 10000001/10000001 [01:42<00:00, 98018.98it/s]\n",
      "  0%|          | 7301/10000001 [00:00<02:16, 73007.81it/s]"
     ]
    },
    {
     "name": "stdout",
     "output_type": "stream",
     "text": [
      "225 81 103.04002049599795\n"
     ]
    },
    {
     "name": "stderr",
     "output_type": "stream",
     "text": [
      "100%|██████████| 10000001/10000001 [01:41<00:00, 98175.47it/s]\n",
      "  0%|          | 6982/10000001 [00:00<02:23, 69818.90it/s]"
     ]
    },
    {
     "name": "stdout",
     "output_type": "stream",
     "text": [
      "250 64 112.94762480523752\n"
     ]
    },
    {
     "name": "stderr",
     "output_type": "stream",
     "text": [
      "100%|██████████| 10000001/10000001 [01:41<00:00, 98746.67it/s]\n",
      "  0%|          | 623/10000001 [00:00<30:12, 5517.32it/s]"
     ]
    },
    {
     "name": "stdout",
     "output_type": "stream",
     "text": [
      "275 53 127.04306719569328\n"
     ]
    },
    {
     "name": "stderr",
     "output_type": "stream",
     "text": [
      "100%|██████████| 10000001/10000001 [01:42<00:00, 97861.60it/s]\n",
      "  0%|          | 6575/10000001 [00:00<02:32, 65737.52it/s]"
     ]
    },
    {
     "name": "stdout",
     "output_type": "stream",
     "text": [
      "300 47 144.9544142045586\n"
     ]
    },
    {
     "name": "stderr",
     "output_type": "stream",
     "text": [
      "100%|██████████| 10000001/10000001 [01:41<00:00, 98756.81it/s]\n",
      "  0%|          | 6348/10000001 [00:00<02:37, 63472.19it/s]"
     ]
    },
    {
     "name": "stdout",
     "output_type": "stream",
     "text": [
      "325 41 160.58467134153287\n"
     ]
    },
    {
     "name": "stderr",
     "output_type": "stream",
     "text": [
      "100%|██████████| 10000001/10000001 [01:42<00:00, 97967.30it/s]\n",
      "  0%|          | 6193/10000001 [00:00<02:41, 61926.66it/s]"
     ]
    },
    {
     "name": "stdout",
     "output_type": "stream",
     "text": [
      "350 37 167.95920120407987\n"
     ]
    },
    {
     "name": "stderr",
     "output_type": "stream",
     "text": [
      "100%|██████████| 10000001/10000001 [01:41<00:00, 98749.90it/s]\n"
     ]
    },
    {
     "name": "stdout",
     "output_type": "stream",
     "text": [
      "375 27 179.69674253032574\n"
     ]
    }
   ],
   "source": [
    "PGM_Index_seg_num = []\n",
    "PGM_Index_mae = []\n",
    "PGM_Index_mean_seg_err = []\n",
    "for i in range(len(epsilon_list)):\n",
    "    epsilon = epsilon_list[i]\n",
    "    PGM_Index = PGM(epsilon)\n",
    "    PGM_Index.learn_index(data)\n",
    "    PGM_Index_seg_num.append(PGM_Index.seg_num)\n",
    "    PGM_Index_mae.append(PGM_Index.mae)\n",
    "    PGM_Index_mean_seg_err.append(np.mean(PGM_Index.seg_err))"
   ]
  },
  {
   "cell_type": "code",
   "execution_count": 34,
   "metadata": {
    "scrolled": true
   },
   "outputs": [
    {
     "data": {
      "image/png": "[encoded data removed]",
      "text/plain": [
       "<Figure size 432x288 with 1 Axes>"
      ]
     },
     "metadata": {
      "needs_background": "light"
     },
     "output_type": "display_data"
    }
   ],
   "source": [
    "import matplotlib.pylab as pylab\n",
    "label_size = 18.5\n",
    "ticks_size = 17\n",
    "title_size = 22.5\n",
    "legend_size = 12\n",
    "params = {'legend.fontsize': legend_size,\n",
    "          'axes.labelsize': label_size,\n",
    "          'axes.titlesize': title_size,\n",
    "          'xtick.labelsize': ticks_size,\n",
    "          'ytick.labelsize': ticks_size}\n",
    "pylab.rcParams.update(params)\n",
    "plt.rcParams[\"text.usetex\"] = True\n",
    "plt.rcParams['text.latex.preamble'] = [r'\\boldmath']\n",
    "markers = [\"v\", \"^\", \"o\", \"<\", \">\", \"1\", \"2\", \"3\", \"4\"]\n",
    "colors = [\"b\", \"r\", \"g\", \"purple\", \"teal\", \"tomato\", \"olive\", \"deeppink\"]\n",
    "linestyles = ['solid', 'dotted', '-.', ':', \"--\", (0, (3, 10, 1, 10)), (0, (3, 5, 1, 5, 1, 5)),\n",
    "              (0, (5, 10))]\n",
    "x = np.arange(25,400)\n",
    "def func(x,a,b):\n",
    "    return a * x**b\n",
    "p1,_ = curve_fit(func,epsilon_list,MET_Index_mean_seg_err)\n",
    "p2,_ = curve_fit(func,epsilon_list,FT_Index_mean_seg_err)\n",
    "p3,_ = curve_fit(func,epsilon_list,RS_Index_mean_seg_err)\n",
    "p4,_ = curve_fit(func,epsilon_list,PGM_Index_mean_seg_err)\n",
    "plt.title(r'$\\mathrm{Lognormal}~\\mu=1~\\sigma=1$')\n",
    "plt.xlabel('$\\epsilon$')\n",
    "plt.ylabel('$\\mathrm{Log(SegErr)}$')\n",
    "linestyles = ['solid', 'dotted', '-.', ':', \"--\", (0, (3, 10, 1, 10)), (0, (3, 5, 1, 5, 1, 5)),  (0, (5, 10))]\n",
    "plt.plot(x,np.log2(0.78 * data_feature**2 * x**3),label='$\\mathrm{MET~Upper~Bound}$',linestyle=(0, (3, 1, 1, 1, 1, 1)),color='black',linewidth=3)\n",
    "plt.plot(x,np.log2(p1[0] * x**p1[1]),label='$\\mathrm{MET}$',linestyle='solid',color=colors[1],linewidth=3)\n",
    "plt.plot(x,np.log(0.564 * data_feature**1 * x**2),label='$\\mathrm{MET~Lower~Bound}$',linestyle=(0, (3, 1, 1, 1, 1, 1)),color='g',linewidth=3)\n",
    "\n",
    "plt.plot(x,np.log2(p4[0] * x**p4[1]),label='$\\mathrm{PGM}$',linestyle='dotted',color='darkorange',linewidth=3)\n",
    "plt.plot(x,np.log2(p3[0] * x**p3[1]),label='$\\mathrm{RadixSpline}$',linestyle='--',color='y',linewidth=3)\n",
    "plt.plot(x,np.log2(p2[0] * x**p2[1]),label='$\\mathrm{FITing\\mbox{-}Tree}$',linestyle=(0, (3, 1, 1, 1)),color='c',linewidth=3)\n",
    "plt.legend(ncol=2,)\n",
    "plt.yticks(np.arange(0,41,5))\n",
    "#plt.savefig(\"{}.pdf\".format(\"results/Theorem/Lognormal_1_1_28\"), bbox_inches='tight', pad_inches=0)"
   ]
  },
  {
   "cell_type": "code",
   "execution_count": null,
   "metadata": {},
   "outputs": [],
   "source": []
  }
 ],
 "metadata": {
  "kernelspec": {
   "display_name": "Python 3",
   "language": "python",
   "name": "python3"
  },
  "language_info": {
   "codemirror_mode": {
    "name": "ipython",
    "version": 3
   },
   "file_extension": ".py",
   "mimetype": "text/x-python",
   "name": "python",
   "nbconvert_exporter": "python",
   "pygments_lexer": "ipython3",
   "version": "3.7.0"
  }
 },
 "nbformat": 4,
 "nbformat_minor": 4
}