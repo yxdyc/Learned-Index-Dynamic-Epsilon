{
 "cells": [
  {
   "cell_type": "code",
   "execution_count": 1,
   "metadata": {},
   "outputs": [],
   "source": [
    "import numpy as np\n",
    "import pandas as pd\n",
    "import matplotlib.pyplot as plt\n",
    "from tqdm import tqdm\n",
    "import struct\n",
    "import sys\n",
    "from model.pgm import *\n",
    "import time"
   ]
  },
  {
   "cell_type": "code",
   "execution_count": 2,
   "metadata": {},
   "outputs": [
    {
     "name": "stderr",
     "output_type": "stream",
     "text": [
      "100%|██████████| 31617494/31617494 [00:22<00:00, 1400295.94it/s]\n"
     ]
    }
   ],
   "source": [
    "# Real World Data\n",
    "# 'd' for double, 'l' for uint\n",
    "datafile = open('./data/weblogs_unix.uint64','rb')\n",
    "data = datafile.read(8)\n",
    "data_len, = struct.unpack('l', data)\n",
    "data_len = int(data_len)\n",
    "data=[]\n",
    "for i in tqdm(range(data_len)):\n",
    "    data_bin = datafile.read(8)\n",
    "    data_unix, = struct.unpack('l',data_bin)\n",
    "    data.append(data_unix)\n",
    "gaps = np.diff(data)"
   ]
  },
  {
   "cell_type": "code",
   "execution_count": 3,
   "metadata": {
    "scrolled": true
   },
   "outputs": [
    {
     "name": "stderr",
     "output_type": "stream",
     "text": [
      "100%|██████████| 31617494/31617494 [05:45<00:00, 91484.18it/s] \n",
      "  0%|          | 0/31617494 [00:00<?, ?it/s]"
     ]
    },
    {
     "name": "stdout",
     "output_type": "stream",
     "text": [
      "3 230 1.5329814564051154\n"
     ]
    },
    {
     "name": "stderr",
     "output_type": "stream",
     "text": [
      "100%|██████████| 31617494/31617494 [05:28<00:00, 96261.15it/s] \n",
      "  0%|          | 0/31617494 [00:00<?, ?it/s]"
     ]
    },
    {
     "name": "stdout",
     "output_type": "stream",
     "text": [
      "6 84 3.1604018332382697\n"
     ]
    },
    {
     "name": "stderr",
     "output_type": "stream",
     "text": [
      "100%|██████████| 31617494/31617494 [05:15<00:00, 100199.24it/s]\n",
      "  0%|          | 0/31617494 [00:00<?, ?it/s]"
     ]
    },
    {
     "name": "stdout",
     "output_type": "stream",
     "text": [
      "9 50 4.415837415830616\n"
     ]
    },
    {
     "name": "stderr",
     "output_type": "stream",
     "text": [
      "100%|██████████| 31617494/31617494 [05:19<00:00, 98920.88it/s] \n",
      "  0%|          | 0/31617494 [00:00<?, ?it/s]"
     ]
    },
    {
     "name": "stdout",
     "output_type": "stream",
     "text": [
      "12 35 5.999996995334292\n"
     ]
    },
    {
     "name": "stderr",
     "output_type": "stream",
     "text": [
      "100%|██████████| 31617494/31617494 [05:12<00:00, 101257.50it/s]\n",
      "  0%|          | 0/31617494 [00:00<?, ?it/s]"
     ]
    },
    {
     "name": "stdout",
     "output_type": "stream",
     "text": [
      "15 27 8.01170940366115\n"
     ]
    },
    {
     "name": "stderr",
     "output_type": "stream",
     "text": [
      "100%|██████████| 31617494/31617494 [05:13<00:00, 100766.97it/s]\n",
      "  0%|          | 0/31617494 [00:00<?, ?it/s]"
     ]
    },
    {
     "name": "stdout",
     "output_type": "stream",
     "text": [
      "18 23 10.192150459489294\n"
     ]
    },
    {
     "name": "stderr",
     "output_type": "stream",
     "text": [
      "100%|██████████| 31617494/31617494 [05:04<00:00, 103753.23it/s]\n",
      "  0%|          | 0/31617494 [00:00<?, ?it/s]"
     ]
    },
    {
     "name": "stdout",
     "output_type": "stream",
     "text": [
      "21 19 10.459352819043787\n"
     ]
    },
    {
     "name": "stderr",
     "output_type": "stream",
     "text": [
      "100%|██████████| 31617494/31617494 [05:17<00:00, 99505.97it/s] \n",
      "  0%|          | 0/31617494 [00:00<?, ?it/s]"
     ]
    },
    {
     "name": "stdout",
     "output_type": "stream",
     "text": [
      "24 17 12.412224827179536\n"
     ]
    },
    {
     "name": "stderr",
     "output_type": "stream",
     "text": [
      "100%|██████████| 31617494/31617494 [05:25<00:00, 97184.24it/s] "
     ]
    },
    {
     "name": "stdout",
     "output_type": "stream",
     "text": [
      "27 16 14.009678692435271\n"
     ]
    },
    {
     "name": "stderr",
     "output_type": "stream",
     "text": [
      "\n"
     ]
    },
    {
     "data": {
      "text/plain": [
       "322.44186632045444"
      ]
     },
     "execution_count": 3,
     "metadata": {},
     "output_type": "execute_result"
    }
   ],
   "source": [
    "epsilon_list = range(3,30,3)\n",
    "Pgm_Index_seg_num = []\n",
    "Pgm_Index_mae = []\n",
    "starttime = time.perf_counter()\n",
    "for i in range(len(epsilon_list)):\n",
    "    epsilon = epsilon_list[i]\n",
    "    Pgm_Index = Pgm(epsilon)\n",
    "    Pgm_Index.learn_index(data)\n",
    "    Pgm_Index_seg_num.append(Pgm_Index.seg_num)\n",
    "    Pgm_Index_mae.append(Pgm_Index.mae)\n",
    "endtime = time.perf_counter()\n",
    "avg_time = (endtime - starttime) / len(epsilon_list)\n",
    "avg_time"
   ]
  },
  {
   "cell_type": "code",
   "execution_count": 4,
   "metadata": {
    "scrolled": true
   },
   "outputs": [
    {
     "name": "stderr",
     "output_type": "stream",
     "text": [
      "100%|██████████| 31617494/31617494 [05:56<00:00, 88613.59it/s] \n"
     ]
    },
    {
     "name": "stdout",
     "output_type": "stream",
     "text": [
      "3 197 1.5608946743217536\n"
     ]
    },
    {
     "name": "stderr",
     "output_type": "stream",
     "text": [
      "100%|██████████| 31617494/31617494 [05:33<00:00, 94669.92it/s] \n"
     ]
    },
    {
     "name": "stdout",
     "output_type": "stream",
     "text": [
      "6 72 2.68094729455788\n"
     ]
    },
    {
     "name": "stderr",
     "output_type": "stream",
     "text": [
      "100%|██████████| 31617494/31617494 [05:24<00:00, 97540.73it/s] \n"
     ]
    },
    {
     "name": "stdout",
     "output_type": "stream",
     "text": [
      "9 43 3.8834536665050052\n"
     ]
    },
    {
     "name": "stderr",
     "output_type": "stream",
     "text": [
      "100%|██████████| 31617494/31617494 [05:13<00:00, 100846.73it/s]\n"
     ]
    },
    {
     "name": "stdout",
     "output_type": "stream",
     "text": [
      "12 32 5.115464464071694\n"
     ]
    },
    {
     "name": "stderr",
     "output_type": "stream",
     "text": [
      "100%|██████████| 31617494/31617494 [05:12<00:00, 101274.10it/s]\n"
     ]
    },
    {
     "name": "stdout",
     "output_type": "stream",
     "text": [
      "15 27 6.04220195313392\n"
     ]
    },
    {
     "name": "stderr",
     "output_type": "stream",
     "text": [
      "100%|██████████| 31617494/31617494 [05:08<00:00, 102606.64it/s]\n"
     ]
    },
    {
     "name": "stdout",
     "output_type": "stream",
     "text": [
      "18 22 7.373940958129066\n"
     ]
    },
    {
     "name": "stderr",
     "output_type": "stream",
     "text": [
      "100%|██████████| 31617494/31617494 [05:09<00:00, 102062.64it/s]\n"
     ]
    },
    {
     "name": "stdout",
     "output_type": "stream",
     "text": [
      "21 20 7.964551017231157\n"
     ]
    },
    {
     "name": "stderr",
     "output_type": "stream",
     "text": [
      "100%|██████████| 31617494/31617494 [05:09<00:00, 102253.77it/s]\n"
     ]
    },
    {
     "name": "stdout",
     "output_type": "stream",
     "text": [
      "24 19 9.496964844841909\n"
     ]
    },
    {
     "name": "stderr",
     "output_type": "stream",
     "text": [
      "100%|██████████| 31617494/31617494 [05:17<00:00, 99646.82it/s] \n"
     ]
    },
    {
     "name": "stdout",
     "output_type": "stream",
     "text": [
      "27 18 10.335097841720156\n"
     ]
    },
    {
     "data": {
      "text/plain": [
       "405.2966822634141"
      ]
     },
     "execution_count": 4,
     "metadata": {},
     "output_type": "execute_result"
    }
   ],
   "source": [
    "Pgm_Dynamic_Index_seg_num = []\n",
    "Pgm_Dynamic_Index_mae = []\n",
    "starttime = time.perf_counter()\n",
    "for i in range(len(epsilon_list)):\n",
    "    Pgm_Dynamic_Index = PgmDynamic(epsilon_list[i],init_epsilon=range(2,20,2))\n",
    "    Pgm_Dynamic_Index.learn_index_lookahead(data)\n",
    "    Pgm_Dynamic_Index_seg_num.append(Pgm_Dynamic_Index.seg_num)\n",
    "    Pgm_Dynamic_Index_mae.append(Pgm_Dynamic_Index.mae)\n",
    "endtime = time.perf_counter()\n",
    "avg_time = (endtime - starttime) / len(epsilon_list)\n",
    "avg_time"
   ]
  },
  {
   "cell_type": "code",
   "execution_count": 5,
   "metadata": {},
   "outputs": [
    {
     "data": {
      "text/plain": [
       "<matplotlib.legend.Legend at 0x7fddd2029a20>"
      ]
     },
     "execution_count": 5,
     "metadata": {},
     "output_type": "execute_result"
    },
    {
     "data": {
      "image/png": "[encoded data removed]",
      "text/plain": [
       "<Figure size 432x288 with 1 Axes>"
      ]
     },
     "metadata": {
      "needs_background": "light"
     },
     "output_type": "display_data"
    }
   ],
   "source": [
    "x = np.arange(15,250)\n",
    "import matplotlib.pylab as pylab\n",
    "label_size = 18.5\n",
    "ticks_size = 17\n",
    "title_size = 22.5\n",
    "legend_size = 17\n",
    "params = {'legend.fontsize': legend_size,\n",
    "          'axes.labelsize': label_size,\n",
    "          'axes.titlesize': title_size,\n",
    "          'xtick.labelsize': ticks_size,\n",
    "          'ytick.labelsize': ticks_size}\n",
    "pylab.rcParams.update(params)\n",
    "plt.rcParams[\"text.usetex\"] = True\n",
    "plt.rcParams['text.latex.preamble'] = [r'\\boldmath']\n",
    "markers = [\"v\", \"^\", \"o\", \"<\", \">\", \"1\", \"2\", \"3\", \"4\"]\n",
    "colors = [\"b\", \"r\", \"g\", \"purple\", \"teal\", \"tomato\", \"olive\", \"deeppink\"]\n",
    "linestyles = ['solid', 'dotted', '-.', ':', \"--\", (0, (3, 10, 1, 10)), (0, (3, 5, 1, 5, 1, 5)),\n",
    "              (0, (5, 10))]\n",
    "\n",
    "plt.title('$\\mathrm{Weblogs~Dataset}$')\n",
    "plt.xlabel('$\\mathrm{N}$')\n",
    "plt.ylabel('$\\mathrm{MAE}$')\n",
    "plt.xticks()\n",
    "plt.yticks()\n",
    "def func(x,a,b):\n",
    "    return a * x**b\n",
    "p1,_ = curve_fit(func,Pgm_Index_seg_num,Pgm_Index_mae)\n",
    "p2,_ = curve_fit(func,Pgm_Dynamic_Index_seg_num,Pgm_Dynamic_Index_mae)\n",
    "#p3,_ = curve_fit(func,Pgm_Index_seg_num,Pgm_Index_mae)\n",
    "#p4,_ = curve_fit(func,Pgm_Dynamic_Index_seg_num,Pgm_Dynamic_Index_mae)\n",
    "plt.plot(x,p1[0]*x**p1[1],c=colors[0], linestyle=linestyles[0], label='$\\mathrm{PGM,~Original}$')\n",
    "#plt.scatter(Pgm_Index_seg_num, Pgm_Index_mae,c=colors[0],marker=markers[0])\n",
    "plt.plot(x,p2[0]*x**p2[1],c=colors[1], linestyle=linestyles[1], label='$\\mathrm{PGM,~Dynamic~\\epsilon}$')\n",
    "#plt.scatter(Pgm_Dynamic_Index_seg_num, Pgm_Dynamic_Index_mae,c=colors[1],marker=markers[1])\n",
    "plt.legend()\n",
    "#plt.savefig(\"{}.pdf\".format(\"results/PGM/Weblogs_tradeoff_30\"), bbox_inches='tight', pad_inches=0)"
   ]
  },
  {
   "cell_type": "code",
   "execution_count": 7,
   "metadata": {},
   "outputs": [
    {
     "data": {
      "text/plain": [
       "(651.3692669174231, 470.57353027815907, 0.2775625836553083)"
      ]
     },
     "execution_count": 7,
     "metadata": {},
     "output_type": "execute_result"
    }
   ],
   "source": [
    "def calc_AUC(x,y):\n",
    "    area=0\n",
    "    for i in range(len(x)-1):\n",
    "        area += (y[i]+y[i+1])*(x[i+1]-x[i]) / 2 \n",
    "    return area\n",
    "AUC1 = calc_AUC(x,p1[0]*x**p1[1])\n",
    "AUC2 = calc_AUC(x,p2[0]*x**p2[1])\n",
    "#AUC3 = calc_AUC(x,p3[0]*x**p3[1])\n",
    "AUC1,AUC2,1-AUC2/AUC1"
   ]
  },
  {
   "cell_type": "code",
   "execution_count": null,
   "metadata": {},
   "outputs": [],
   "source": []
  }
 ],
 "metadata": {
  "kernelspec": {
   "display_name": "Python 3",
   "language": "python",
   "name": "python3"
  },
  "language_info": {
   "codemirror_mode": {
    "name": "ipython",
    "version": 3
   },
   "file_extension": ".py",
   "mimetype": "text/x-python",
   "name": "python",
   "nbconvert_exporter": "python",
   "pygments_lexer": "ipython3",
   "version": "3.7.0"
  }
 },
 "nbformat": 4,
 "nbformat_minor": 5
}
